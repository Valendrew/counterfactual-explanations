{
  "cells": [
    {
      "cell_type": "code",
      "execution_count": 1,
      "metadata": {
        "id": "3H8oNyn5hxDj"
      },
      "outputs": [],
      "source": [
        "%load_ext autoreload\n",
        "%autoreload 2"
      ]
    },
    {
      "cell_type": "markdown",
      "metadata": {
        "id": "-O4QQW-h6uY2"
      },
      "source": [
        "# Counterfactual explanations for the GSMarena dataset"
      ]
    },
    {
      "cell_type": "markdown",
      "metadata": {
        "id": "_ENFpSBw6uY4"
      },
      "source": [
        "## Installations and imports"
      ]
    },
    {
      "cell_type": "code",
      "execution_count": 2,
      "metadata": {
        "colab": {
          "base_uri": "https://localhost:8080/"
        },
        "id": "8J8V1hcZiJNi",
        "outputId": "2cf46fb4-4ea6-4ae5-deea-82bde367b254"
      },
      "outputs": [
        {
          "name": "stdout",
          "output_type": "stream",
          "text": [
            "Currently not running in a Colab environment\n"
          ]
        }
      ],
      "source": [
        "COLAB_ENV = \"google.colab\" in str(get_ipython()) if hasattr(__builtins__, \"__IPYTHON__\") else False\n",
        "print(f\"Currently {'not ' if not COLAB_ENV else ''}running in a Colab environment\")"
      ]
    },
    {
      "cell_type": "markdown",
      "metadata": {
        "id": "iIZ2YuAA6uY4"
      },
      "source": [
        "### Installations\n",
        "\n",
        "Run the following cells to download the repository and install the required packages.\n",
        "\n",
        "This is needed only on Google Colab, if you are running this notebook locally, you can skip this step."
      ]
    },
    {
      "cell_type": "code",
      "execution_count": 3,
      "metadata": {
        "id": "PLpL1sS_Wbg8"
      },
      "outputs": [],
      "source": [
        "if COLAB_ENV:\n",
        "    !mkdir my_repo\n",
        "    !git clone https://github.com/Valendrew/counterfactual-explanations.git my_repo\n",
        "    %cd my_repo\n",
        "    !pip install -r requirements.txt -q"
      ]
    },
    {
      "cell_type": "markdown",
      "metadata": {
        "id": "rezIflwQ6uY7"
      },
      "source": [
        "### Import of the libraries"
      ]
    },
    {
      "cell_type": "code",
      "execution_count": 4,
      "metadata": {
        "id": "fqG7WfA9WQmV"
      },
      "outputs": [],
      "source": [
        "import math\n",
        "import os\n",
        "import os.path\n",
        "import pickle\n",
        "\n",
        "import matplotlib.pyplot as plt\n",
        "import numpy as np\n",
        "import pandas as pd\n",
        "import seaborn as sns\n",
        "from sklearn.model_selection import train_test_split\n",
        "from sklearn.metrics import accuracy_score, classification_report, confusion_matrix\n",
        "from sklearn.utils import class_weight\n",
        "\n",
        "\n",
        "from utils import util_data, util_models, util_plot"
      ]
    },
    {
      "cell_type": "code",
      "execution_count": 5,
      "metadata": {},
      "outputs": [],
      "source": [
        "def set_default_randomness(seed: int):\n",
        "    rng = np.random.RandomState(seed)\n",
        "    return rng\n",
        "\n",
        "\n",
        "SEED = 42\n",
        "rng = set_default_randomness(SEED)"
      ]
    },
    {
      "cell_type": "markdown",
      "metadata": {
        "id": "pEIHV80N6uY7"
      },
      "source": [
        "## Load the dataset\n",
        "\n",
        "Laod the processed dataset from the repository."
      ]
    },
    {
      "cell_type": "code",
      "execution_count": 6,
      "metadata": {
        "colab": {
          "base_uri": "https://localhost:8080/",
          "height": 207
        },
        "id": "pIdNHIdYWQmb",
        "outputId": "b8f57720-dac4-4eec-dc15-8d1d0b07d249"
      },
      "outputs": [
        {
          "data": {
            "text/html": [
              "<div>\n",
              "<style scoped>\n",
              "    .dataframe tbody tr th:only-of-type {\n",
              "        vertical-align: middle;\n",
              "    }\n",
              "\n",
              "    .dataframe tbody tr th {\n",
              "        vertical-align: top;\n",
              "    }\n",
              "\n",
              "    .dataframe thead th {\n",
              "        text-align: right;\n",
              "    }\n",
              "</style>\n",
              "<table border=\"1\" class=\"dataframe\">\n",
              "  <thead>\n",
              "    <tr style=\"text-align: right;\">\n",
              "      <th></th>\n",
              "      <th>misc_price</th>\n",
              "      <th>display_size</th>\n",
              "      <th>battery</th>\n",
              "      <th>memory_ram_gb</th>\n",
              "      <th>memory_rom_gb</th>\n",
              "      <th>main_camera_resolution</th>\n",
              "      <th>selfie_camera_resolution</th>\n",
              "      <th>display_resolution</th>\n",
              "      <th>network_technology</th>\n",
              "      <th>num_main_camera</th>\n",
              "      <th>has_oled_display</th>\n",
              "      <th>has_memory_card_slot</th>\n",
              "      <th>has_stereo_speakers</th>\n",
              "      <th>has_3.5mm_jack</th>\n",
              "      <th>has_wlan_5ghz</th>\n",
              "      <th>has_nfc</th>\n",
              "      <th>has_wireless_charging</th>\n",
              "      <th>is_waterproof</th>\n",
              "    </tr>\n",
              "  </thead>\n",
              "  <tbody>\n",
              "    <tr>\n",
              "      <th>1501</th>\n",
              "      <td>0</td>\n",
              "      <td>0.840703</td>\n",
              "      <td>0.923432</td>\n",
              "      <td>-0.759706</td>\n",
              "      <td>-0.667155</td>\n",
              "      <td>0.000000</td>\n",
              "      <td>0.000000</td>\n",
              "      <td>1.0</td>\n",
              "      <td>1.0</td>\n",
              "      <td>0.0</td>\n",
              "      <td>0</td>\n",
              "      <td>1</td>\n",
              "      <td>0</td>\n",
              "      <td>1</td>\n",
              "      <td>0</td>\n",
              "      <td>0</td>\n",
              "      <td>0</td>\n",
              "      <td>0</td>\n",
              "    </tr>\n",
              "    <tr>\n",
              "      <th>1193</th>\n",
              "      <td>1</td>\n",
              "      <td>0.928887</td>\n",
              "      <td>0.427140</td>\n",
              "      <td>0.589274</td>\n",
              "      <td>1.371239</td>\n",
              "      <td>0.976324</td>\n",
              "      <td>1.012555</td>\n",
              "      <td>2.0</td>\n",
              "      <td>1.0</td>\n",
              "      <td>1.0</td>\n",
              "      <td>0</td>\n",
              "      <td>1</td>\n",
              "      <td>0</td>\n",
              "      <td>1</td>\n",
              "      <td>1</td>\n",
              "      <td>0</td>\n",
              "      <td>0</td>\n",
              "      <td>0</td>\n",
              "    </tr>\n",
              "    <tr>\n",
              "      <th>477</th>\n",
              "      <td>1</td>\n",
              "      <td>0.242524</td>\n",
              "      <td>1.009706</td>\n",
              "      <td>-0.759706</td>\n",
              "      <td>-0.667155</td>\n",
              "      <td>0.976324</td>\n",
              "      <td>0.000000</td>\n",
              "      <td>2.0</td>\n",
              "      <td>1.0</td>\n",
              "      <td>1.0</td>\n",
              "      <td>0</td>\n",
              "      <td>1</td>\n",
              "      <td>0</td>\n",
              "      <td>1</td>\n",
              "      <td>0</td>\n",
              "      <td>0</td>\n",
              "      <td>0</td>\n",
              "      <td>0</td>\n",
              "    </tr>\n",
              "  </tbody>\n",
              "</table>\n",
              "</div>"
            ],
            "text/plain": [
              "      misc_price  display_size   battery  memory_ram_gb  memory_rom_gb  \\\n",
              "1501           0      0.840703  0.923432      -0.759706      -0.667155   \n",
              "1193           1      0.928887  0.427140       0.589274       1.371239   \n",
              "477            1      0.242524  1.009706      -0.759706      -0.667155   \n",
              "\n",
              "      main_camera_resolution  selfie_camera_resolution  display_resolution  \\\n",
              "1501                0.000000                  0.000000                 1.0   \n",
              "1193                0.976324                  1.012555                 2.0   \n",
              "477                 0.976324                  0.000000                 2.0   \n",
              "\n",
              "      network_technology  num_main_camera  has_oled_display  \\\n",
              "1501                 1.0              0.0                 0   \n",
              "1193                 1.0              1.0                 0   \n",
              "477                  1.0              1.0                 0   \n",
              "\n",
              "      has_memory_card_slot  has_stereo_speakers  has_3.5mm_jack  \\\n",
              "1501                     1                    0               1   \n",
              "1193                     1                    0               1   \n",
              "477                      1                    0               1   \n",
              "\n",
              "      has_wlan_5ghz  has_nfc  has_wireless_charging  is_waterproof  \n",
              "1501              0        0                      0              0  \n",
              "1193              1        0                      0              0  \n",
              "477               0        0                      0              0  "
            ]
          },
          "execution_count": 6,
          "metadata": {},
          "output_type": "execute_result"
        }
      ],
      "source": [
        "df_train = pd.read_csv(\"data/model/gsm_train.csv\", index_col=0)\n",
        "df_test = pd.read_csv(\"data/model/gsm_test.csv\", index_col=0)\n",
        "\n",
        "df_train.head(3)"
      ]
    },
    {
      "cell_type": "markdown",
      "metadata": {
        "id": "f70fu-A26uY8"
      },
      "source": [
        "The dataset doesn't contain duplicates, and it is already preprocessed."
      ]
    },
    {
      "cell_type": "code",
      "execution_count": 7,
      "metadata": {
        "colab": {
          "base_uri": "https://localhost:8080/",
          "height": 113
        },
        "id": "24PklCDlWQmf",
        "outputId": "8f44c9f7-ad5b-4c52-d9ac-4210db13389e"
      },
      "outputs": [
        {
          "data": {
            "text/html": [
              "<div>\n",
              "<style scoped>\n",
              "    .dataframe tbody tr th:only-of-type {\n",
              "        vertical-align: middle;\n",
              "    }\n",
              "\n",
              "    .dataframe tbody tr th {\n",
              "        vertical-align: top;\n",
              "    }\n",
              "\n",
              "    .dataframe thead th {\n",
              "        text-align: right;\n",
              "    }\n",
              "</style>\n",
              "<table border=\"1\" class=\"dataframe\">\n",
              "  <thead>\n",
              "    <tr style=\"text-align: right;\">\n",
              "      <th></th>\n",
              "      <th>misc_price</th>\n",
              "      <th>display_size</th>\n",
              "      <th>battery</th>\n",
              "      <th>memory_ram_gb</th>\n",
              "      <th>memory_rom_gb</th>\n",
              "      <th>main_camera_resolution</th>\n",
              "      <th>selfie_camera_resolution</th>\n",
              "      <th>display_resolution</th>\n",
              "      <th>network_technology</th>\n",
              "      <th>num_main_camera</th>\n",
              "      <th>has_oled_display</th>\n",
              "      <th>has_memory_card_slot</th>\n",
              "      <th>has_stereo_speakers</th>\n",
              "      <th>has_3.5mm_jack</th>\n",
              "      <th>has_wlan_5ghz</th>\n",
              "      <th>has_nfc</th>\n",
              "      <th>has_wireless_charging</th>\n",
              "      <th>is_waterproof</th>\n",
              "    </tr>\n",
              "  </thead>\n",
              "  <tbody>\n",
              "  </tbody>\n",
              "</table>\n",
              "</div>"
            ],
            "text/plain": [
              "Empty DataFrame\n",
              "Columns: [misc_price, display_size, battery, memory_ram_gb, memory_rom_gb, main_camera_resolution, selfie_camera_resolution, display_resolution, network_technology, num_main_camera, has_oled_display, has_memory_card_slot, has_stereo_speakers, has_3.5mm_jack, has_wlan_5ghz, has_nfc, has_wireless_charging, is_waterproof]\n",
              "Index: []"
            ]
          },
          "execution_count": 7,
          "metadata": {},
          "output_type": "execute_result"
        }
      ],
      "source": [
        "# Show duplicated rows\n",
        "def get_dup_rows(df, drop_cols):\n",
        "    dup_rows = df[df.duplicated(subset=df.columns.drop(drop_cols), keep=False)]\n",
        "    return dup_rows\n",
        "\n",
        "get_dup_rows(df_train, [\"misc_price\"])"
      ]
    },
    {
      "cell_type": "markdown",
      "metadata": {
        "id": "uveeAiW26uY9"
      },
      "source": [
        "The dataset doesn't contain null values. The total number of rows is n (TODO: write at the end of the work), splitted in training and test datasets."
      ]
    },
    {
      "cell_type": "code",
      "execution_count": 8,
      "metadata": {
        "colab": {
          "base_uri": "https://localhost:8080/"
        },
        "id": "u49KUQ0yWQmi",
        "outputId": "f9d14b47-d8f6-4a2c-8b04-727e66dbf799"
      },
      "outputs": [
        {
          "name": "stdout",
          "output_type": "stream",
          "text": [
            "Null values:0\n",
            "Number of duplicated rows: 0\n",
            "Number of rows: 1521\n"
          ]
        }
      ],
      "source": [
        "print(f\"Null values:{df_train.isna().sum().sum()}\")\n",
        "print(f\"Number of duplicated rows: {df_train.duplicated().sum()}\")\n",
        "print(f\"Number of rows: {df_train.shape[0]}\")"
      ]
    },
    {
      "cell_type": "code",
      "execution_count": 9,
      "metadata": {
        "colab": {
          "base_uri": "https://localhost:8080/",
          "height": 175
        },
        "id": "BhsOqo4uWQm2",
        "outputId": "64ceca52-7bad-4ffd-d614-ccc4d21a1d5a"
      },
      "outputs": [
        {
          "data": {
            "text/html": [
              "<div>\n",
              "<style scoped>\n",
              "    .dataframe tbody tr th:only-of-type {\n",
              "        vertical-align: middle;\n",
              "    }\n",
              "\n",
              "    .dataframe tbody tr th {\n",
              "        vertical-align: top;\n",
              "    }\n",
              "\n",
              "    .dataframe thead th {\n",
              "        text-align: right;\n",
              "    }\n",
              "</style>\n",
              "<table border=\"1\" class=\"dataframe\">\n",
              "  <thead>\n",
              "    <tr style=\"text-align: right;\">\n",
              "      <th></th>\n",
              "      <th>Frequency</th>\n",
              "      <th>Count</th>\n",
              "    </tr>\n",
              "  </thead>\n",
              "  <tbody>\n",
              "    <tr>\n",
              "      <th>0</th>\n",
              "      <td>48.72%</td>\n",
              "      <td>741</td>\n",
              "    </tr>\n",
              "    <tr>\n",
              "      <th>1</th>\n",
              "      <td>37.28%</td>\n",
              "      <td>567</td>\n",
              "    </tr>\n",
              "    <tr>\n",
              "      <th>2</th>\n",
              "      <td>14.00%</td>\n",
              "      <td>213</td>\n",
              "    </tr>\n",
              "  </tbody>\n",
              "</table>\n",
              "</div>"
            ],
            "text/plain": [
              "  Frequency  Count\n",
              "0    48.72%    741\n",
              "1    37.28%    567\n",
              "2    14.00%    213"
            ]
          },
          "execution_count": 9,
          "metadata": {},
          "output_type": "execute_result"
        }
      ],
      "source": [
        "util_data.count_frequency_labels(df_train.misc_price).sort_index()"
      ]
    },
    {
      "cell_type": "markdown",
      "metadata": {
        "id": "YePq6HG36uZF"
      },
      "source": [
        "### Train, validation, test split for the model"
      ]
    },
    {
      "cell_type": "code",
      "execution_count": 10,
      "metadata": {
        "colab": {
          "base_uri": "https://localhost:8080/"
        },
        "id": "iZfYW09zWQm9",
        "outputId": "1ca733c9-fbc4-4e65-e1a7-df01a47bd27c"
      },
      "outputs": [
        {
          "name": "stdout",
          "output_type": "stream",
          "text": [
            "Train dataset: (1521, 18), Test dataset: (383, 18)\n"
          ]
        }
      ],
      "source": [
        "print(f\"Train dataset: {df_train.shape}, Test dataset: {df_test.shape}\")"
      ]
    },
    {
      "cell_type": "code",
      "execution_count": 11,
      "metadata": {
        "id": "bpSBNw6GhxDu"
      },
      "outputs": [
        {
          "name": "stdout",
          "output_type": "stream",
          "text": [
            "X_train_val: (1521, 17), y_train_val: (1521,)\n",
            "X_test: (383, 17), y_test: (383,)\n"
          ]
        }
      ],
      "source": [
        "X_train_val, y_train_val = df_train.drop(\"misc_price\", axis=1), df_train.misc_price\n",
        "X_test, y_test = df_test.drop(\"misc_price\", axis=1), df_test.misc_price\n",
        "\n",
        "print(f\"X_train_val: {X_train_val.shape}, y_train_val: {y_train_val.shape}\")\n",
        "print(f\"X_test: {X_test.shape}, y_test: {y_test.shape}\")"
      ]
    },
    {
      "cell_type": "code",
      "execution_count": 12,
      "metadata": {
        "colab": {
          "base_uri": "https://localhost:8080/"
        },
        "id": "iF1LJxzRWQm-",
        "outputId": "548dbda6-e88c-4543-a360-74f96dba42cf"
      },
      "outputs": [
        {
          "name": "stdout",
          "output_type": "stream",
          "text": [
            "X_train: (1216, 17), y_train: (1216,)\n",
            "X_val: (305, 17), y_val: (305,)\n"
          ]
        }
      ],
      "source": [
        "# split train set into train and validation\n",
        "X_train, X_val, y_train, y_val = train_test_split(X_train_val, y_train_val, test_size=0.2, random_state=rng)\n",
        "print(f\"X_train: {X_train.shape}, y_train: {y_train.shape}\")\n",
        "print(f\"X_val: {X_val.shape}, y_val: {y_val.shape}\")"
      ]
    },
    {
      "cell_type": "code",
      "execution_count": 13,
      "metadata": {},
      "outputs": [],
      "source": [
        "# pd.concat([X_train, y_train], axis=1).to_csv(\"data/model/gsm_train_split.csv\", index=True)\n",
        "# pd.concat([X_val, y_val], axis=1).to_csv(\"data/model/gsm_val_split.csv\", index=True)"
      ]
    },
    {
      "attachments": {},
      "cell_type": "markdown",
      "metadata": {
        "id": "3XEiDTkhCP3h"
      },
      "source": [
        "## Neural network"
      ]
    },
    {
      "attachments": {},
      "cell_type": "markdown",
      "metadata": {
        "id": "ap_Ap07uGjQ-"
      },
      "source": [
        "### Initialize model"
      ]
    },
    {
      "cell_type": "code",
      "execution_count": 14,
      "metadata": {
        "id": "pxpwFAG-GnC4"
      },
      "outputs": [],
      "source": [
        "import torch\n",
        "import torchsummary"
      ]
    },
    {
      "cell_type": "code",
      "execution_count": 279,
      "metadata": {},
      "outputs": [
        {
          "name": "stdout",
          "output_type": "stream",
          "text": [
            "Device: cpu\n",
            "==========================================================================================\n",
            "Layer (type:depth-idx)                   Output Shape              Param #\n",
            "==========================================================================================\n",
            "├─Linear: 1-1                            [-1, 512, 64]             1,152\n",
            "├─ReLU: 1-2                              [-1, 512, 64]             --\n",
            "├─ModuleList: 1                          []                        --\n",
            "|    └─Linear: 2-1                       [-1, 512, 64]             4,160\n",
            "├─ModuleList: 1                          []                        --\n",
            "|    └─Dropout: 2-2                      [-1, 512, 64]             --\n",
            "├─ReLU: 1-3                              [-1, 512, 64]             --\n",
            "├─ModuleList: 1                          []                        --\n",
            "|    └─Linear: 2-3                       [-1, 512, 64]             4,160\n",
            "├─ModuleList: 1                          []                        --\n",
            "|    └─Dropout: 2-4                      [-1, 512, 64]             --\n",
            "├─ReLU: 1-4                              [-1, 512, 64]             --\n",
            "├─Linear: 1-5                            [-1, 512, 3]              195\n",
            "==========================================================================================\n",
            "Total params: 9,667\n",
            "Trainable params: 9,667\n",
            "Non-trainable params: 0\n",
            "Total mult-adds (M): 0.01\n",
            "==========================================================================================\n",
            "Input size (MB): 0.03\n",
            "Forward/backward pass size (MB): 0.76\n",
            "Params size (MB): 0.04\n",
            "Estimated Total Size (MB): 0.83\n",
            "==========================================================================================\n",
            "Train weights: tensor([0.6842, 0.8942, 2.3803])\n"
          ]
        }
      ],
      "source": [
        "EPOCHS = 60\n",
        "BATCH_SIZE = 512\n",
        "LR = 0.008\n",
        "N_SPLITS = 5\n",
        "DROPOUT_RATE = 0.1\n",
        "\n",
        "device = torch.device(\"cuda:0\" if torch.cuda.is_available() else \"cpu\")\n",
        "print(f\"Device: {device}\")\n",
        "\n",
        "num_features = X_train_val.shape[1]\n",
        "num_class = len(np.unique(y_train_val))\n",
        "hidden_layers = [64, 64, 64]\n",
        "\n",
        "nn_model = util_models.NNClassification(hidden_layers, num_features, num_class=num_class, dropout_rate=DROPOUT_RATE).to(device)\n",
        "torchsummary.summary(nn_model, (BATCH_SIZE, num_features))\n",
        "\n",
        "train_test = util_models.TrainTestNetwork(nn_model, util_models.multi_acc, device, SEED)\n",
        "# weights = util_models.compute_inverse_class_frequency(y_train_val.values, device)\n",
        "weights = class_weight.compute_class_weight(\"balanced\", classes=np.unique(y_train_val), y=y_train_val)\n",
        "weights = torch.tensor(weights, dtype=torch.float).to(device)\n",
        "\n",
        "path_save_model = \"models/nn_model.pt\"\n",
        "\n",
        "print(f\"Train weights: {weights}\")"
      ]
    },
    {
      "cell_type": "code",
      "execution_count": 284,
      "metadata": {},
      "outputs": [
        {
          "data": {
            "text/plain": [
              "<All keys matched successfully>"
            ]
          },
          "execution_count": 284,
          "metadata": {},
          "output_type": "execute_result"
        }
      ],
      "source": [
        "# path_save_model = \"best_model.pt\"\n",
        "path_save_model = \"models/nn_model.pt\"\n",
        "\n",
        "checkpoint = torch.load(path_save_model)\n",
        "nn_model.load_state_dict(checkpoint[\"model_state_dict\"])"
      ]
    },
    {
      "attachments": {},
      "cell_type": "markdown",
      "metadata": {},
      "source": [
        "### Train model"
      ]
    },
    {
      "cell_type": "markdown",
      "metadata": {
        "id": "qWXzuBcXV5sC"
      },
      "source": [
        "#### Holdout"
      ]
    },
    {
      "cell_type": "code",
      "execution_count": 280,
      "metadata": {
        "colab": {
          "base_uri": "https://localhost:8080/"
        },
        "id": "P-i-qrgvmmSi",
        "outputId": "c0157eb2-5fe0-4fa8-cc3d-e346d664682b"
      },
      "outputs": [
        {
          "name": "stdout",
          "output_type": "stream",
          "text": [
            "Model saved with accuracy: 0.755 at epoch 41\n",
            "Model saved with accuracy: 0.758 at epoch 43\n",
            "Model saved with accuracy: 0.760 at epoch 50\n",
            "Model saved with accuracy: 0.762 at epoch 58\n",
            "Epoch 060: | Loss: 0.32638 | Acc: 0.871 | Val loss: 0.80073 | Acc: 0.738\n",
            "\n",
            "Max accuracy 0.762 at epoch 58\n"
          ]
        }
      ],
      "source": [
        "train_data = (X_train.values, y_train.values)\n",
        "val_data = (X_val.values, y_val.values)\n",
        "\n",
        "losses, accuracies = train_test.train_model(\n",
        "    train_data,\n",
        "    val_data,\n",
        "    epochs=EPOCHS,\n",
        "    batch_size=BATCH_SIZE,\n",
        "    lr=LR,\n",
        "    print_every=EPOCHS,\n",
        "    reset_weights=True,\n",
        "    ce_weights=weights,\n",
        "    max_metric=0.75,\n",
        "    weight_decay=0.04,\n",
        "    reduce_lr=False,\n",
        "    cosine_annealing=True,\n",
        "    cosine_t0=20,\n",
        "    cosine_tmult=3,\n",
        "    name_model=path_save_model,\n",
        ")\n",
        "\n",
        "max_i, max_acc = np.argmax(accuracies[\"val\"]), np.max(accuracies[\"val\"])\n",
        "print(f\"\\nMax accuracy {max_acc:.3f} at epoch {max_i+1}\")"
      ]
    },
    {
      "cell_type": "code",
      "execution_count": 281,
      "metadata": {},
      "outputs": [
        {
          "data": {
            "image/png": "[encoded data removed]",
            "text/plain": [
              "<Figure size 600x800 with 2 Axes>"
            ]
          },
          "metadata": {},
          "output_type": "display_data"
        }
      ],
      "source": [
        "fig, axs = plt.subplots(2, figsize=(6, 4 * 2))\n",
        "\n",
        "fig.suptitle(\"Hold-out results\", fontsize=14)\n",
        "util_plot.plot_model_results(axs[0], EPOCHS, losses, f\"Loss\")\n",
        "axs[0].scatter(max_i + 1, losses[\"val\"][max_i], marker=\"x\", color=\"red\", s=100, label=f\"Min loss {losses['val'][max_i]:.3f} at epoch {max_i+1}\")\n",
        "util_plot.plot_model_results(axs[1], EPOCHS, accuracies, f\"Accuracy\")\n",
        "axs[1].scatter(max_i + 1, max_acc, marker=\"x\", color=\"red\", s=100, label=f\"Max accuracy {max_acc:.3f} at epoch {max_i+1}\")\n",
        "\n",
        "fig.tight_layout()"
      ]
    },
    {
      "cell_type": "markdown",
      "metadata": {
        "id": "kUK6ZFgIJeDN"
      },
      "source": [
        "#### K-FOLD"
      ]
    },
    {
      "cell_type": "code",
      "execution_count": 265,
      "metadata": {
        "colab": {
          "base_uri": "https://localhost:8080/"
        },
        "id": "315JdTmZISDZ",
        "outputId": "ca3a03df-8d7f-46ee-e439-64a5fd67e609"
      },
      "outputs": [
        {
          "name": "stdout",
          "output_type": "stream",
          "text": [
            "Epoch 100: | Loss: 0.26124 | Acc: 0.898 | Val loss: 1.24626 | Acc: 0.699\n",
            "kfold on group 1 accuracy:  0.6989\n",
            "\n",
            "Epoch 100: | Loss: 0.29904 | Acc: 0.885 | Val loss: 1.28012 | Acc: 0.707\n",
            "kfold on group 2 accuracy:  0.7072\n",
            "\n",
            "Max accuracy so far: 0.753 at epoch 11\n",
            "Max accuracy so far: 0.764 at epoch 13\n",
            "Epoch 100: | Loss: 0.29464 | Acc: 0.881 | Val loss: 0.84408 | Acc: 0.705\n",
            "kfold on group 3 accuracy:  0.7055\n",
            "\n",
            "Max accuracy so far: 0.778 at epoch 10\n",
            "Max accuracy so far: 0.779 at epoch 11\n",
            "Model saved with accuracy: 0.789 at epoch 38\n",
            "Model saved with accuracy: 0.805 at epoch 42\n",
            "Epoch 100: | Loss: 0.38467 | Acc: 0.831 | Val loss: 0.72510 | Acc: 0.738\n",
            "kfold on group 4 accuracy:  0.7377\n",
            "\n",
            "Epoch 100: | Loss: 0.27320 | Acc: 0.898 | Val loss: 1.16118 | Acc: 0.724\n",
            "kfold on group 5 accuracy:  0.7236\n",
            "\n",
            "Fold 1: Max accuracy 0.749 at epoch 36\n",
            "Fold 2: Max accuracy 0.749 at epoch 22\n",
            "Fold 3: Max accuracy 0.764 at epoch 12\n",
            "Fold 4: Max accuracy 0.805 at epoch 41\n",
            "Fold 5: Max accuracy 0.761 at epoch 34\n"
          ]
        }
      ],
      "source": [
        "n_losses, n_accuracies = train_test.kfold_train_model(\n",
        "    X_train_val.values,\n",
        "    y_train_val.values,\n",
        "    N_SPLITS,\n",
        "    epochs=EPOCHS,\n",
        "    batch_size=BATCH_SIZE,\n",
        "    lr=LR,\n",
        "    print_every=EPOCHS,\n",
        "    reset_weights=True,\n",
        "    ce_weights=weights,\n",
        "    max_metric=0.75,\n",
        "    weight_decay=0.04,\n",
        "    reduce_lr=False,\n",
        "    cosine_annealing=True,\n",
        "    cosine_t0=20,\n",
        "    cosine_tmult=2,\n",
        ")\n",
        "\n",
        "for i, acc in enumerate(n_accuracies):\n",
        "    max_i, max_acc = np.argmax(acc[\"val\"]), np.max(acc[\"val\"])\n",
        "    print(f\"Fold {i+1}: Max accuracy {max_acc:.3f} at epoch {max_i}\")\n"
      ]
    },
    {
      "cell_type": "code",
      "execution_count": 230,
      "metadata": {
        "colab": {
          "base_uri": "https://localhost:8080/",
          "height": 1000
        },
        "id": "O1VNkEnAIToE",
        "outputId": "6cc59455-b2c5-4a52-9d89-90e55ac02c8a"
      },
      "outputs": [
        {
          "data": {
            "image/png": "[encoded data removed]",
            "text/plain": [
              "<Figure size 1200x1200 with 6 Axes>"
            ]
          },
          "metadata": {},
          "output_type": "display_data"
        }
      ],
      "source": [
        "n_cols = 2\n",
        "n_rows = math.ceil(N_SPLITS/2)\n",
        "fig, axs = plt.subplots(nrows=n_rows, ncols=n_cols, figsize=(6 * n_cols, 4 * n_rows))\n",
        "faxs = axs.ravel()\n",
        "\n",
        "fig.suptitle(\"Loss results on K-fold\", fontsize=14)\n",
        "for i, losses in enumerate(n_losses):\n",
        "    util_plot.plot_model_results(faxs[i], EPOCHS, losses, f\"Fold {i+1}\")\n",
        "\n",
        "for i in range(1, faxs.size - N_SPLITS + 1):\n",
        "    faxs[-i].set_visible(False)\n",
        "\n",
        "fig.tight_layout()"
      ]
    },
    {
      "cell_type": "code",
      "execution_count": 231,
      "metadata": {
        "colab": {
          "base_uri": "https://localhost:8080/",
          "height": 1000
        },
        "id": "dJnSgTolIWua",
        "outputId": "abacccac-995c-4c8a-fb67-ddb8d70b1aa7"
      },
      "outputs": [
        {
          "data": {
            "image/png": "[encoded data removed]",
            "text/plain": [
              "<Figure size 1200x1200 with 6 Axes>"
            ]
          },
          "metadata": {},
          "output_type": "display_data"
        }
      ],
      "source": [
        "n_cols = 2\n",
        "n_rows = math.ceil(N_SPLITS/2)\n",
        "fig, axs = plt.subplots(nrows=n_rows, ncols=n_cols, figsize=(6 * n_cols, 4 * n_rows))\n",
        "faxs = axs.ravel()\n",
        "\n",
        "fig.suptitle(\"Accuracy results on K-fold\", fontsize=14)\n",
        "for i, accuracies in enumerate(n_accuracies):\n",
        "    util_plot.plot_model_results(faxs[i], EPOCHS, accuracies, f\"Fold {i+1}\")\n",
        "\n",
        "for i in range(1, faxs.size - N_SPLITS + 1):\n",
        "    faxs[-i].set_visible(False)\n",
        "\n",
        "plt.tight_layout()"
      ]
    },
    {
      "attachments": {},
      "cell_type": "markdown",
      "metadata": {},
      "source": [
        "#### Random search"
      ]
    },
    {
      "cell_type": "code",
      "execution_count": 254,
      "metadata": {},
      "outputs": [
        {
          "name": "stdout",
          "output_type": "stream",
          "text": [
            "\n",
            "\n",
            "Iteration 1\n",
            "Learning rate: 0.009000000000000001\n",
            "Batch size: 512\n",
            "Dropout: 0.0\n",
            "Hidden layers: [64, 64]\n",
            "Cosine t0: 10\n",
            "Cosine tmult: 1\n",
            "Weight decay: 0.020000000000000004\n",
            "Epoch 060: | Loss: 0.39009 | Acc: 0.846 | Val loss: 0.75385 | Acc: 0.705\n",
            "Max accuracy 0.727 at epoch 42\n",
            "\n",
            "\n",
            "Iteration 2\n",
            "Learning rate: 0.009000000000000001\n",
            "Batch size: 1024\n",
            "Dropout: 0.3\n",
            "Hidden layers: [64, 64, 64]\n",
            "Cosine t0: 20\n",
            "Cosine tmult: 2\n",
            "Weight decay: 0.07\n",
            "Epoch 060: | Loss: 0.46726 | Acc: 0.803 | Val loss: 0.69962 | Acc: 0.700\n",
            "Max accuracy 0.729 at epoch 16\n",
            "\n",
            "\n",
            "Iteration 3\n",
            "Learning rate: 0.005\n",
            "Batch size: 512\n",
            "Dropout: 0.1\n",
            "Hidden layers: [64, 64]\n",
            "Cosine t0: 20\n",
            "Cosine tmult: 3\n",
            "Weight decay: 0.09000000000000001\n",
            "Epoch 060: | Loss: 0.42483 | Acc: 0.827 | Val loss: 0.71109 | Acc: 0.715\n",
            "Max accuracy 0.732 at epoch 45\n",
            "\n",
            "\n",
            "Iteration 4\n",
            "Learning rate: 0.007\n",
            "Batch size: 2048\n",
            "Dropout: 0.1\n",
            "Hidden layers: [64, 64, 64]\n",
            "Cosine t0: 15\n",
            "Cosine tmult: 1\n",
            "Weight decay: 0.020000000000000004\n",
            "Epoch 060: | Loss: 0.51834 | Acc: 0.773 | Val loss: 0.64134 | Acc: 0.707\n",
            "Max accuracy 0.728 at epoch 31\n",
            "\n",
            "\n",
            "Iteration 5\n",
            "Learning rate: 0.006\n",
            "Batch size: 512\n",
            "Dropout: 0.0\n",
            "Hidden layers: [64, 64, 64]\n",
            "Cosine t0: 10\n",
            "Cosine tmult: 2\n",
            "Weight decay: 0.04000000000000001\n",
            "Model saved with accuracy: 0.750 at epoch 57\n",
            "Epoch 060: | Loss: 0.39094 | Acc: 0.836 | Val loss: 0.77643 | Acc: 0.713\n",
            "Max accuracy 0.750 at epoch 57\n",
            "\n",
            "\n",
            "Iteration 6\n",
            "Learning rate: 0.007\n",
            "Batch size: 1024\n",
            "Dropout: 0.1\n",
            "Hidden layers: [64, 64]\n",
            "Cosine t0: 15\n",
            "Cosine tmult: 1\n",
            "Weight decay: 0.07\n",
            "Epoch 060: | Loss: 0.48974 | Acc: 0.776 | Val loss: 0.64979 | Acc: 0.714\n",
            "Max accuracy 0.734 at epoch 57\n",
            "\n",
            "\n",
            "Iteration 7\n",
            "Learning rate: 0.001\n",
            "Batch size: 1024\n",
            "Dropout: 0.0\n",
            "Hidden layers: [64, 64, 64]\n",
            "Cosine t0: 20\n",
            "Cosine tmult: 3\n",
            "Weight decay: 0.030000000000000006\n",
            "Epoch 060: | Loss: 0.56962 | Acc: 0.761 | Val loss: 0.64746 | Acc: 0.722\n",
            "Max accuracy 0.742 at epoch 58\n",
            "\n",
            "\n",
            "Iteration 8\n",
            "Learning rate: 0.005\n",
            "Batch size: 2048\n",
            "Dropout: 0.0\n",
            "Hidden layers: [64, 64]\n",
            "Cosine t0: 5\n",
            "Cosine tmult: 3\n",
            "Weight decay: 0.04000000000000001\n",
            "Epoch 060: | Loss: 0.53272 | Acc: 0.763 | Val loss: 0.64019 | Acc: 0.725\n",
            "Max accuracy 0.728 at epoch 56\n",
            "\n",
            "\n",
            "Iteration 9\n",
            "Learning rate: 0.009000000000000001\n",
            "Batch size: 512\n",
            "Dropout: 0.1\n",
            "Hidden layers: [64, 64, 64]\n",
            "Cosine t0: 20\n",
            "Cosine tmult: 1\n",
            "Weight decay: 0.08\n",
            "Model saved with accuracy: 0.758 at epoch 44\n",
            "Epoch 060: | Loss: 0.36235 | Acc: 0.854 | Val loss: 0.80573 | Acc: 0.703\n",
            "Max accuracy 0.758 at epoch 44\n",
            "\n",
            "\n",
            "Iteration 10\n",
            "Learning rate: 0.004\n",
            "Batch size: 2048\n",
            "Dropout: 0.1\n",
            "Hidden layers: [64, 64]\n",
            "Cosine t0: 20\n",
            "Cosine tmult: 2\n",
            "Weight decay: 0.020000000000000004\n",
            "Epoch 060: | Loss: 0.55637 | Acc: 0.757 | Val loss: 0.65402 | Acc: 0.693\n",
            "Max accuracy 0.717 at epoch 28\n",
            "\n",
            "\n",
            "Iteration 11\n",
            "Learning rate: 0.001\n",
            "Batch size: 512\n",
            "Dropout: 0.0\n",
            "Hidden layers: [64, 64, 64]\n",
            "Cosine t0: 20\n",
            "Cosine tmult: 1\n",
            "Weight decay: 0.030000000000000006\n",
            "Epoch 060: | Loss: 0.55194 | Acc: 0.762 | Val loss: 0.64052 | Acc: 0.719\n",
            "Max accuracy 0.737 at epoch 41\n",
            "\n",
            "\n",
            "Iteration 12\n",
            "Learning rate: 0.008\n",
            "Batch size: 512\n",
            "Dropout: 0.1\n",
            "Hidden layers: [64, 64, 64]\n",
            "Cosine t0: 10\n",
            "Cosine tmult: 2\n",
            "Weight decay: 0.09000000000000001\n",
            "Model saved with accuracy: 0.752 at epoch 43\n",
            "Model saved with accuracy: 0.753 at epoch 49\n",
            "Epoch 060: | Loss: 0.37615 | Acc: 0.845 | Val loss: 0.77113 | Acc: 0.740\n",
            "Max accuracy 0.753 at epoch 49\n",
            "\n",
            "\n",
            "Iteration 13\n",
            "Learning rate: 0.004\n",
            "Batch size: 1024\n",
            "Dropout: 0.3\n",
            "Hidden layers: [64, 64, 64]\n",
            "Cosine t0: 10\n",
            "Cosine tmult: 2\n",
            "Weight decay: 0.06000000000000001\n",
            "Epoch 060: | Loss: 0.51044 | Acc: 0.770 | Val loss: 0.66600 | Acc: 0.714\n",
            "Max accuracy 0.728 at epoch 26\n",
            "\n",
            "\n",
            "Iteration 14\n",
            "Learning rate: 0.004\n",
            "Batch size: 512\n",
            "Dropout: 0.1\n",
            "Hidden layers: [64, 64]\n",
            "Cosine t0: 5\n",
            "Cosine tmult: 3\n",
            "Weight decay: 0.030000000000000006\n",
            "Epoch 060: | Loss: 0.46181 | Acc: 0.797 | Val loss: 0.66938 | Acc: 0.707\n",
            "Max accuracy 0.729 at epoch 30\n",
            "\n",
            "\n",
            "Iteration 15\n",
            "Learning rate: 0.009000000000000001\n",
            "Batch size: 1024\n",
            "Dropout: 0.3\n",
            "Hidden layers: [64, 64]\n",
            "Cosine t0: 20\n",
            "Cosine tmult: 2\n",
            "Weight decay: 0.06000000000000001\n",
            "Epoch 060: | Loss: 0.49044 | Acc: 0.793 | Val loss: 0.65654 | Acc: 0.706\n",
            "Max accuracy 0.741 at epoch 31\n",
            "\n",
            "\n",
            "Iteration 16\n",
            "Learning rate: 0.004\n",
            "Batch size: 1024\n",
            "Dropout: 0.2\n",
            "Hidden layers: [64, 64]\n",
            "Cosine t0: 10\n",
            "Cosine tmult: 2\n",
            "Weight decay: 0.030000000000000006\n",
            "Epoch 060: | Loss: 0.53526 | Acc: 0.758 | Val loss: 0.63879 | Acc: 0.708\n",
            "Max accuracy 0.732 at epoch 49\n",
            "\n",
            "\n",
            "Iteration 17\n",
            "Learning rate: 0.001\n",
            "Batch size: 1024\n",
            "Dropout: 0.2\n",
            "Hidden layers: [64, 64, 64]\n",
            "Cosine t0: 15\n",
            "Cosine tmult: 1\n",
            "Weight decay: 0.08\n",
            "Epoch 060: | Loss: 0.59124 | Acc: 0.733 | Val loss: 0.66566 | Acc: 0.723\n",
            "Max accuracy 0.726 at epoch 57\n",
            "\n",
            "\n",
            "Iteration 18\n",
            "Learning rate: 0.01\n",
            "Batch size: 1024\n",
            "Dropout: 0.2\n",
            "Hidden layers: [64, 64]\n",
            "Cosine t0: 5\n",
            "Cosine tmult: 2\n",
            "Weight decay: 0.08\n",
            "Epoch 060: | Loss: 0.46292 | Acc: 0.805 | Val loss: 0.68569 | Acc: 0.723\n",
            "Max accuracy 0.729 at epoch 47\n",
            "\n",
            "\n",
            "Iteration 19\n",
            "Learning rate: 0.003\n",
            "Batch size: 1024\n",
            "Dropout: 0.2\n",
            "Hidden layers: [64, 64, 64]\n",
            "Cosine t0: 15\n",
            "Cosine tmult: 3\n",
            "Weight decay: 0.1\n",
            "Epoch 060: | Loss: 0.53347 | Acc: 0.745 | Val loss: 0.64619 | Acc: 0.703\n",
            "Max accuracy 0.737 at epoch 31\n",
            "\n",
            "\n",
            "Iteration 20\n",
            "Learning rate: 0.004\n",
            "Batch size: 512\n",
            "Dropout: 0.2\n",
            "Hidden layers: [64, 64]\n",
            "Cosine t0: 10\n",
            "Cosine tmult: 2\n",
            "Weight decay: 0.030000000000000006\n",
            "Epoch 060: | Loss: 0.46373 | Acc: 0.797 | Val loss: 0.67146 | Acc: 0.715\n",
            "Max accuracy 0.725 at epoch 43\n",
            "\n",
            "\n",
            "Iteration 21\n",
            "Learning rate: 0.007\n",
            "Batch size: 2048\n",
            "Dropout: 0.0\n",
            "Hidden layers: [64, 64, 64]\n",
            "Cosine t0: 10\n",
            "Cosine tmult: 2\n",
            "Weight decay: 0.08\n",
            "Epoch 060: | Loss: 0.49062 | Acc: 0.784 | Val loss: 0.64610 | Acc: 0.711\n",
            "Max accuracy 0.723 at epoch 32\n",
            "\n",
            "\n",
            "Iteration 22\n",
            "Learning rate: 0.001\n",
            "Batch size: 1024\n",
            "Dropout: 0.2\n",
            "Hidden layers: [64, 64, 64]\n",
            "Cosine t0: 15\n",
            "Cosine tmult: 1\n",
            "Weight decay: 0.06000000000000001\n",
            "Epoch 060: | Loss: 0.59124 | Acc: 0.733 | Val loss: 0.66573 | Acc: 0.723\n",
            "Max accuracy 0.726 at epoch 57\n",
            "\n",
            "\n",
            "Iteration 23\n",
            "Learning rate: 0.007\n",
            "Batch size: 512\n",
            "Dropout: 0.0\n",
            "Hidden layers: [64, 64]\n",
            "Cosine t0: 20\n",
            "Cosine tmult: 3\n",
            "Weight decay: 0.1\n",
            "Epoch 060: | Loss: 0.40388 | Acc: 0.836 | Val loss: 0.70793 | Acc: 0.738\n",
            "Max accuracy 0.738 at epoch 60\n",
            "\n",
            "\n",
            "Iteration 24\n",
            "Learning rate: 0.002\n",
            "Batch size: 1024\n",
            "Dropout: 0.3\n",
            "Hidden layers: [64, 64]\n",
            "Cosine t0: 15\n",
            "Cosine tmult: 3\n",
            "Weight decay: 0.06000000000000001\n",
            "Epoch 060: | Loss: 0.58970 | Acc: 0.722 | Val loss: 0.64635 | Acc: 0.703\n",
            "Max accuracy 0.721 at epoch 31\n",
            "\n",
            "\n",
            "Iteration 25\n",
            "Learning rate: 0.008\n",
            "Batch size: 512\n",
            "Dropout: 0.1\n",
            "Hidden layers: [64, 64, 64]\n",
            "Cosine t0: 10\n",
            "Cosine tmult: 3\n",
            "Weight decay: 0.04000000000000001\n",
            "Model saved with accuracy: 0.752 at epoch 57\n",
            "Epoch 060: | Loss: 0.39498 | Acc: 0.838 | Val loss: 0.88215 | Acc: 0.681\n",
            "Max accuracy 0.752 at epoch 57\n",
            "\n",
            "\n",
            "Iteration 26\n",
            "Learning rate: 0.002\n",
            "Batch size: 512\n",
            "Dropout: 0.2\n",
            "Hidden layers: [64, 64]\n",
            "Cosine t0: 15\n",
            "Cosine tmult: 2\n",
            "Weight decay: 0.06000000000000001\n",
            "Epoch 060: | Loss: 0.51828 | Acc: 0.783 | Val loss: 0.64378 | Acc: 0.715\n",
            "Max accuracy 0.718 at epoch 53\n",
            "\n",
            "\n",
            "Iteration 27\n",
            "Learning rate: 0.004\n",
            "Batch size: 1024\n",
            "Dropout: 0.1\n",
            "Hidden layers: [64, 64, 64]\n",
            "Cosine t0: 15\n",
            "Cosine tmult: 2\n",
            "Weight decay: 0.05000000000000001\n",
            "Epoch 060: | Loss: 0.50131 | Acc: 0.764 | Val loss: 0.64928 | Acc: 0.723\n",
            "Max accuracy 0.742 at epoch 25\n",
            "\n",
            "\n",
            "Iteration 28\n",
            "Learning rate: 0.007\n",
            "Batch size: 1024\n",
            "Dropout: 0.1\n",
            "Hidden layers: [64, 64]\n",
            "Cosine t0: 5\n",
            "Cosine tmult: 3\n",
            "Weight decay: 0.01\n",
            "Epoch 060: | Loss: 0.48305 | Acc: 0.795 | Val loss: 0.66639 | Acc: 0.704\n",
            "Max accuracy 0.735 at epoch 30\n",
            "\n",
            "\n",
            "Iteration 29\n",
            "Learning rate: 0.001\n",
            "Batch size: 2048\n",
            "Dropout: 0.3\n",
            "Hidden layers: [64, 64, 64]\n",
            "Cosine t0: 20\n",
            "Cosine tmult: 2\n",
            "Weight decay: 0.1\n",
            "Epoch 060: | Loss: 0.74903 | Acc: 0.683 | Val loss: 0.76258 | Acc: 0.690\n",
            "Max accuracy 0.690 at epoch 58\n",
            "\n",
            "\n",
            "Iteration 30\n",
            "Learning rate: 0.001\n",
            "Batch size: 2048\n",
            "Dropout: 0.3\n",
            "Hidden layers: [64, 64, 64]\n",
            "Cosine t0: 10\n",
            "Cosine tmult: 3\n",
            "Weight decay: 0.04000000000000001\n",
            "Epoch 060: | Loss: 0.66075 | Acc: 0.702 | Val loss: 0.69899 | Acc: 0.704\n",
            "Max accuracy 0.711 at epoch 54\n",
            "\n",
            "\n",
            "Iteration 31\n",
            "Learning rate: 0.01\n",
            "Batch size: 1024\n",
            "Dropout: 0.3\n",
            "Hidden layers: [64, 64]\n",
            "Cosine t0: 20\n",
            "Cosine tmult: 1\n",
            "Weight decay: 0.020000000000000004\n",
            "Epoch 060: | Loss: 0.48511 | Acc: 0.795 | Val loss: 0.65268 | Acc: 0.700\n",
            "Max accuracy 0.735 at epoch 42\n",
            "\n",
            "\n",
            "Iteration 32\n",
            "Learning rate: 0.003\n",
            "Batch size: 1024\n",
            "Dropout: 0.1\n",
            "Hidden layers: [64, 64]\n",
            "Cosine t0: 15\n",
            "Cosine tmult: 3\n",
            "Weight decay: 0.06000000000000001\n",
            "Epoch 060: | Loss: 0.55552 | Acc: 0.751 | Val loss: 0.63802 | Acc: 0.713\n",
            "Max accuracy 0.724 at epoch 34\n",
            "\n",
            "\n",
            "Iteration 33\n",
            "Learning rate: 0.006\n",
            "Batch size: 512\n",
            "Dropout: 0.1\n",
            "Hidden layers: [64, 64, 64]\n",
            "Cosine t0: 15\n",
            "Cosine tmult: 1\n",
            "Weight decay: 0.06000000000000001\n",
            "Epoch 060: | Loss: 0.41851 | Acc: 0.836 | Val loss: 0.70469 | Acc: 0.709\n",
            "Max accuracy 0.742 at epoch 46\n",
            "\n",
            "\n",
            "Iteration 34\n",
            "Learning rate: 0.002\n",
            "Batch size: 1024\n",
            "Dropout: 0.3\n",
            "Hidden layers: [64, 64]\n",
            "Cosine t0: 10\n",
            "Cosine tmult: 1\n",
            "Weight decay: 0.05000000000000001\n",
            "Epoch 060: | Loss: 0.58656 | Acc: 0.719 | Val loss: 0.64590 | Acc: 0.695\n",
            "Max accuracy 0.725 at epoch 51\n",
            "\n",
            "\n",
            "Iteration 35\n",
            "Learning rate: 0.007\n",
            "Batch size: 1024\n",
            "Dropout: 0.0\n",
            "Hidden layers: [64, 64, 64]\n",
            "Cosine t0: 10\n",
            "Cosine tmult: 3\n",
            "Weight decay: 0.09000000000000001\n",
            "Epoch 060: | Loss: 0.46006 | Acc: 0.806 | Val loss: 0.69736 | Acc: 0.741\n",
            "Max accuracy 0.741 at epoch 60\n",
            "\n",
            "\n",
            "Iteration 36\n",
            "Learning rate: 0.008\n",
            "Batch size: 512\n",
            "Dropout: 0.1\n",
            "Hidden layers: [64, 64, 64]\n",
            "Cosine t0: 20\n",
            "Cosine tmult: 3\n",
            "Weight decay: 0.04000000000000001\n",
            "Model saved with accuracy: 0.755 at epoch 41\n",
            "Model saved with accuracy: 0.758 at epoch 43\n",
            "Model saved with accuracy: 0.760 at epoch 50\n",
            "Model saved with accuracy: 0.762 at epoch 58\n",
            "Epoch 060: | Loss: 0.32638 | Acc: 0.871 | Val loss: 0.80073 | Acc: 0.738\n",
            "Max accuracy 0.762 at epoch 58\n",
            "\n",
            "\n",
            "Iteration 37\n",
            "Learning rate: 0.004\n",
            "Batch size: 512\n",
            "Dropout: 0.1\n",
            "Hidden layers: [64, 64, 64]\n",
            "Cosine t0: 15\n",
            "Cosine tmult: 2\n",
            "Weight decay: 0.020000000000000004\n",
            "Epoch 060: | Loss: 0.49435 | Acc: 0.782 | Val loss: 0.69722 | Acc: 0.740\n",
            "Max accuracy 0.746 at epoch 59\n",
            "\n",
            "\n",
            "Iteration 38\n",
            "Learning rate: 0.005\n",
            "Batch size: 512\n",
            "Dropout: 0.0\n",
            "Hidden layers: [64, 64, 64]\n",
            "Cosine t0: 5\n",
            "Cosine tmult: 1\n",
            "Weight decay: 0.030000000000000006\n",
            "Epoch 060: | Loss: 0.42806 | Acc: 0.819 | Val loss: 0.73171 | Acc: 0.719\n",
            "Max accuracy 0.733 at epoch 11\n",
            "\n",
            "\n",
            "Iteration 39\n",
            "Learning rate: 0.01\n",
            "Batch size: 512\n",
            "Dropout: 0.0\n",
            "Hidden layers: [64, 64]\n",
            "Cosine t0: 15\n",
            "Cosine tmult: 1\n",
            "Weight decay: 0.01\n",
            "Epoch 060: | Loss: 0.37774 | Acc: 0.847 | Val loss: 0.77638 | Acc: 0.719\n",
            "Max accuracy 0.730 at epoch 52\n",
            "\n",
            "\n",
            "Iteration 40\n",
            "Learning rate: 0.009000000000000001\n",
            "Batch size: 512\n",
            "Dropout: 0.3\n",
            "Hidden layers: [64, 64, 64]\n",
            "Cosine t0: 20\n",
            "Cosine tmult: 3\n",
            "Weight decay: 0.07\n",
            "Model saved with accuracy: 0.754 at epoch 43\n",
            "Epoch 060: | Loss: 0.35291 | Acc: 0.868 | Val loss: 0.84602 | Acc: 0.732\n",
            "Max accuracy 0.754 at epoch 43\n"
          ]
        }
      ],
      "source": [
        "# Random values\n",
        "# lr_int = [0.005]\n",
        "lr_int = np.linspace(0.001, 0.01, num=10)\n",
        "batch_int = [512, 1024, 2048]\n",
        "# batch_int = [512, 1024, 2048]\n",
        "dropout = [0, 0.1, 0.2, 0.3]\n",
        "hidden_dim = [64]\n",
        "num_layers = [2, 3]\n",
        "cosine_t0 = np.arange(5, 21, step=5)\n",
        "cosine_tmult = np.arange(1, 4, step=1)\n",
        "weight_decay = np.linspace(0.01, 0.1, num=10)\n",
        "\n",
        "# Fixed values\n",
        "epochs = 60\n",
        "num_features = X_train_val.shape[1]\n",
        "num_class = len(np.unique(y_train_val))\n",
        "\n",
        "device = torch.device(\"cuda:0\" if torch.cuda.is_available() else \"cpu\")\n",
        "\n",
        "weights = class_weight.compute_class_weight(\"balanced\", classes=np.unique(y_train_val), y=y_train_val)\n",
        "weights = torch.tensor(weights, dtype=torch.float).to(device)\n",
        "\n",
        "train_data = (X_train.values, y_train.values)\n",
        "val_data = (X_val.values, y_val.values)\n",
        "\n",
        "for i in range(40):\n",
        "    lr_value = np.random.choice(lr_int)\n",
        "    batch_value = int(np.random.choice(batch_int))\n",
        "    dropout_value = np.random.choice(dropout)\n",
        "    hidden_value = np.random.choice(hidden_dim)\n",
        "    num_layers_value = np.random.choice(num_layers)\n",
        "    cosine_t0_value = int(np.random.choice(cosine_t0))\n",
        "    cosine_tmult_value = int(np.random.choice(cosine_tmult))\n",
        "    weight_decay_value = np.random.choice(weight_decay)\n",
        "\n",
        "    hidden_layers = [hidden_value] * num_layers_value\n",
        "\n",
        "    print(f\"\\n\\nIteration {i+1}\")\n",
        "    print(f\"Learning rate: {lr_value}\")\n",
        "    print(f\"Batch size: {batch_value}\")\n",
        "    print(f\"Dropout: {dropout_value}\")\n",
        "    print(f\"Hidden layers: {hidden_layers}\")\n",
        "    print(f\"Cosine t0: {cosine_t0_value}\")\n",
        "    print(f\"Cosine tmult: {cosine_tmult_value}\")\n",
        "    print(f\"Weight decay: {weight_decay_value}\")\n",
        "\n",
        "    nn_model = util_models.NNClassification(hidden_layers, num_features, num_class=num_class, dropout_rate=dropout_value).to(device)\n",
        "\n",
        "    train_test = util_models.TrainTestNetwork(nn_model, util_models.multi_acc, device, SEED)\n",
        "\n",
        "\n",
        "    losses, accuracies = train_test.train_model(\n",
        "        train_data,\n",
        "        val_data,\n",
        "        epochs,\n",
        "        batch_value,\n",
        "        lr_value,\n",
        "        print_every=epochs,\n",
        "        reset_weights=True,\n",
        "        ce_weights=weights,\n",
        "        max_metric=0.75,\n",
        "        weight_decay=weight_decay_value,\n",
        "        reduce_lr=False,\n",
        "        cosine_annealing=True,\n",
        "        cosine_t0=cosine_t0_value,\n",
        "        cosine_tmult=cosine_tmult_value,\n",
        "    )\n",
        "\n",
        "    max_i, max_acc = np.argmax(accuracies[\"val\"]), np.max(accuracies[\"val\"])\n",
        "    print(f\"Max accuracy {max_acc:.3f} at epoch {max_i+1}\")"
      ]
    },
    {
      "attachments": {},
      "cell_type": "markdown",
      "metadata": {
        "id": "L0Y24oXzhxDx"
      },
      "source": [
        "### Test the model"
      ]
    },
    {
      "attachments": {},
      "cell_type": "markdown",
      "metadata": {},
      "source": [
        "#### Evaluate performance on test set"
      ]
    },
    {
      "cell_type": "code",
      "execution_count": 285,
      "metadata": {},
      "outputs": [
        {
          "name": "stdout",
          "output_type": "stream",
          "text": [
            "              precision    recall  f1-score   support\n",
            "\n",
            "         low       0.83      0.80      0.82       187\n",
            "      medium       0.66      0.62      0.64       145\n",
            "        high       0.58      0.75      0.65        51\n",
            "\n",
            "    accuracy                           0.73       383\n",
            "   macro avg       0.69      0.72      0.70       383\n",
            "weighted avg       0.73      0.73      0.73       383\n",
            "\n"
          ]
        },
        {
          "data": {
            "image/png": "[encoded data removed]",
            "text/plain": [
              "<Figure size 640x480 with 2 Axes>"
            ]
          },
          "metadata": {},
          "output_type": "display_data"
        }
      ],
      "source": [
        "y_pred = train_test.test_model(X_test.values, 64)\n",
        "\n",
        "count_labels, name_labels = [0,1, 2], [\"low\", \"medium\", \"high\"]\n",
        "print(classification_report(y_test, y_pred, labels=count_labels, target_names=name_labels))\n",
        "\n",
        "cm = confusion_matrix(y_test, y_pred, labels=count_labels, normalize=\"true\")\n",
        "sns.heatmap(cm, annot=True, fmt=\".2f\", cmap=\"Blues\", xticklabels=name_labels,\n",
        "            yticklabels=name_labels)\n",
        "plt.tight_layout()"
      ]
    },
    {
      "cell_type": "code",
      "execution_count": 286,
      "metadata": {},
      "outputs": [
        {
          "data": {
            "text/plain": [
              "0.7226422439404184"
            ]
          },
          "execution_count": 286,
          "metadata": {},
          "output_type": "execute_result"
        }
      ],
      "source": [
        "from sklearn.metrics import balanced_accuracy_score\n",
        "\n",
        "balanced_accuracy_score(y_test, y_pred)"
      ]
    },
    {
      "cell_type": "code",
      "execution_count": 287,
      "metadata": {
        "colab": {
          "base_uri": "https://localhost:8080/"
        },
        "id": "UrFP7vQuIiE6",
        "outputId": "f1c61998-0bb5-493c-93d2-3dab33c01179"
      },
      "outputs": [
        {
          "name": "stdout",
          "output_type": "stream",
          "text": [
            "Accuracy on test: 72.585\n"
          ]
        }
      ],
      "source": [
        "def evaluate_predictions(y_test, y_pred):\n",
        "    accuracy = sum([yp == yt for yp, yt in zip(y_pred, y_test)]) * 100 / len(y_test)\n",
        "    return accuracy\n",
        "\n",
        "\n",
        "accuracy = evaluate_predictions(y_test, y_pred)\n",
        "print(f\"Accuracy on test: {accuracy:.3f}\")"
      ]
    },
    {
      "cell_type": "code",
      "execution_count": 391,
      "metadata": {},
      "outputs": [],
      "source": [
        "df_raw = pd.read_csv(\"data/processed/gsm_test.csv\", index_col=0)\n",
        "\n",
        "y_df = pd.DataFrame({\"true\": y_test, \"pred\": y_pred}, dtype=int, index=X_test.index)"
      ]
    },
    {
      "cell_type": "code",
      "execution_count": 331,
      "metadata": {},
      "outputs": [
        {
          "name": "stdout",
          "output_type": "stream",
          "text": [
            "Number of rows: 145\n",
            "Number of rows: 23\n",
            "Ratio: 15.86%\n"
          ]
        },
        {
          "data": {
            "text/plain": [
              "count     23.000000\n",
              "mean     348.235948\n",
              "std       47.251075\n",
              "min      250.000000\n",
              "25%      305.000000\n",
              "50%      360.000000\n",
              "75%      395.000000\n",
              "max      410.000000\n",
              "Name: misc_price, dtype: float64"
            ]
          },
          "execution_count": 331,
          "metadata": {},
          "output_type": "execute_result"
        }
      ],
      "source": [
        "gt_label = 1\n",
        "p_label = 2\n",
        "\n",
        "y_single = y_df[y_df.true == gt_label]\n",
        "print(f\"Number of rows: {len(y_single)}\")\n",
        "\n",
        "y_wrong = y_single[(y_single.pred == p_label)]\n",
        "print(f\"Number of rows: {len(y_wrong)}\")\n",
        "\n",
        "print(f\"Ratio: {len(y_wrong)/len(y_single) * 100:.2f}%\")\n",
        "\n",
        "df_raw.loc[y_wrong.index].misc_price.describe()"
      ]
    },
    {
      "cell_type": "code",
      "execution_count": 332,
      "metadata": {},
      "outputs": [
        {
          "data": {
            "image/png": "[encoded data removed]",
            "text/plain": [
              "<Figure size 640x480 with 1 Axes>"
            ]
          },
          "metadata": {},
          "output_type": "display_data"
        }
      ],
      "source": [
        "df_raw.loc[y_wrong.index].misc_price.hist(bins=100)\n",
        "plt.tight_layout()"
      ]
    },
    {
      "cell_type": "code",
      "execution_count": 333,
      "metadata": {},
      "outputs": [
        {
          "data": {
            "text/plain": [
              "2018.0    6\n",
              "2019.0    5\n",
              "2017.0    4\n",
              "2016.0    3\n",
              "2020.0    3\n",
              "2015.0    1\n",
              "2014.0    1\n",
              "Name: launch_announced, dtype: int64"
            ]
          },
          "execution_count": 333,
          "metadata": {},
          "output_type": "execute_result"
        }
      ],
      "source": [
        "tmp_df = df_raw.loc[y_wrong.index]\n",
        "# tmp_df[tmp_df.misc_price < 220].launch_announced.value_counts()\n",
        "tmp_df.launch_announced.value_counts()"
      ]
    },
    {
      "attachments": {},
      "cell_type": "markdown",
      "metadata": {},
      "source": [
        "#### Evaluate performance on training set"
      ]
    },
    {
      "cell_type": "code",
      "execution_count": 425,
      "metadata": {},
      "outputs": [
        {
          "name": "stdout",
          "output_type": "stream",
          "text": [
            "              precision    recall  f1-score   support\n",
            "\n",
            "         low       0.83      0.85      0.84       716\n",
            "      medium       0.72      0.71      0.72       593\n",
            " medium-high       0.77      0.71      0.74       213\n",
            "\n",
            "    accuracy                           0.78      1522\n",
            "   macro avg       0.77      0.76      0.76      1522\n",
            "weighted avg       0.78      0.78      0.78      1522\n",
            "\n"
          ]
        },
        {
          "data": {
            "image/png": "[encoded data removed]",
            "text/plain": [
              "<Figure size 640x480 with 2 Axes>"
            ]
          },
          "metadata": {},
          "output_type": "display_data"
        }
      ],
      "source": [
        "y_pred = train_test.test_model(X_train_val.values, 2048)\n",
        "\n",
        "count_labels, name_labels = [0,1, 2], [\"low\", \"medium\", \"medium-high\"]\n",
        "print(classification_report(y_train_val, y_pred, labels=count_labels, target_names=name_labels))\n",
        "\n",
        "cm = confusion_matrix(y_train_val, y_pred, labels=count_labels, normalize=\"true\")\n",
        "sns.heatmap(cm, annot=True, fmt=\".2f\", cmap=\"Blues\", xticklabels=name_labels,\n",
        "            yticklabels=name_labels)\n",
        "plt.tight_layout()"
      ]
    },
    {
      "cell_type": "code",
      "execution_count": 402,
      "metadata": {},
      "outputs": [],
      "source": [
        "df_raw = pd.read_csv(\"data/processed/gsm_train.csv\", index_col=0)\n",
        "df_raw.head(n=3)\n",
        "\n",
        "y_df = pd.DataFrame({\"true\": y_train_val, \"pred\": y_pred}, dtype=int, index=X_train_val.index)"
      ]
    },
    {
      "cell_type": "code",
      "execution_count": 403,
      "metadata": {},
      "outputs": [
        {
          "name": "stdout",
          "output_type": "stream",
          "text": [
            "Number of rows: 213\n",
            "Number of rows: 52\n",
            "Ratio: 24.41%\n"
          ]
        }
      ],
      "source": [
        "gt_label = 2\n",
        "p_label = 1\n",
        "\n",
        "y_single = y_df[y_df.true == gt_label]\n",
        "print(f\"Number of rows: {len(y_single)}\")\n",
        "\n",
        "y_wrong = y_single[(y_single.pred == p_label)]\n",
        "print(f\"Number of rows: {len(y_wrong)}\")\n",
        "\n",
        "print(f\"Ratio: {len(y_wrong)/len(y_single) * 100:.2f}%\")"
      ]
    },
    {
      "cell_type": "code",
      "execution_count": 404,
      "metadata": {},
      "outputs": [
        {
          "data": {
            "text/plain": [
              "count     52.000000\n",
              "mean     466.581994\n",
              "std       44.568688\n",
              "min      420.000000\n",
              "25%      437.500000\n",
              "50%      450.000000\n",
              "75%      499.250000\n",
              "max      580.000000\n",
              "Name: misc_price, dtype: float64"
            ]
          },
          "execution_count": 404,
          "metadata": {},
          "output_type": "execute_result"
        }
      ],
      "source": [
        "df_raw.loc[y_wrong.index].misc_price.describe()"
      ]
    },
    {
      "cell_type": "code",
      "execution_count": 405,
      "metadata": {},
      "outputs": [
        {
          "data": {
            "text/plain": [
              "<Axes: >"
            ]
          },
          "execution_count": 405,
          "metadata": {},
          "output_type": "execute_result"
        },
        {
          "data": {
            "image/png": "[encoded data removed]",
            "text/plain": [
              "<Figure size 640x480 with 1 Axes>"
            ]
          },
          "metadata": {},
          "output_type": "display_data"
        }
      ],
      "source": [
        "df_raw.loc[y_wrong.index].misc_price.hist(bins=100)"
      ]
    },
    {
      "cell_type": "code",
      "execution_count": 419,
      "metadata": {},
      "outputs": [],
      "source": [
        "df_raw.loc[y_wrong.index].to_csv(\"tmp.csv\")"
      ]
    },
    {
      "cell_type": "markdown",
      "metadata": {
        "id": "LHO85BN-2TlM"
      },
      "source": [
        "## Counterfactual explanation"
      ]
    },
    {
      "cell_type": "markdown",
      "metadata": {
        "id": "Z2lYfjnVBrkL"
      },
      "source": [
        "We have found two different libraries that allow to perform counterfactual explanation, the first one is OMLT and the second one is DICE."
      ]
    },
    {
      "cell_type": "code",
      "execution_count": 17,
      "metadata": {
        "id": "GBouPArJZfqR"
      },
      "outputs": [],
      "source": [
        "from utils import util_counterfactual"
      ]
    },
    {
      "attachments": {},
      "cell_type": "markdown",
      "metadata": {},
      "source": [
        "Import the pipeline from the pickle to compute the inverse transformation of the features."
      ]
    },
    {
      "cell_type": "code",
      "execution_count": 18,
      "metadata": {},
      "outputs": [],
      "source": [
        "cols_pipeline = pickle.load(open(\"config/pipeline.pkl\", \"rb\"))"
      ]
    },
    {
      "attachments": {},
      "cell_type": "markdown",
      "metadata": {},
      "source": [
        "### Generic pipeline"
      ]
    },
    {
      "attachments": {},
      "cell_type": "markdown",
      "metadata": {},
      "source": [
        "Using the following function you're allowed to generate a counterfactual simply passing the model, the counterfactual class (Omlt or Dice), the parameters to run the counterfactual generation and the sample for which to create a counterfactual."
      ]
    },
    {
      "cell_type": "code",
      "execution_count": 245,
      "metadata": {},
      "outputs": [],
      "source": [
        "from utils.util_models import evaluate_sample, get_correct_wrong_predictions\n",
        "from utils.util_counterfactual import generate_counterfactual_from_sample, generate_counterfactuals_from_sample_list"
      ]
    },
    {
      "attachments": {},
      "cell_type": "markdown",
      "metadata": {},
      "source": [
        "First of all we compute the indexes of the correctly predicted samples and the ones of the wrongly predicted samples such that we can perform two different analyses."
      ]
    },
    {
      "cell_type": "code",
      "execution_count": 288,
      "metadata": {},
      "outputs": [
        {
          "name": "stdout",
          "output_type": "stream",
          "text": [
            "The correctly predicted samples are 278/383.\n"
          ]
        }
      ],
      "source": [
        "corr_ind, wrong_ind = get_correct_wrong_predictions(nn_model, X_test, y_test)\n",
        "print(f\"The correctly predicted samples are {len(corr_ind)}/{len(corr_ind)+len(wrong_ind)}.\")"
      ]
    },
    {
      "cell_type": "code",
      "execution_count": 289,
      "metadata": {},
      "outputs": [
        {
          "name": "stdout",
          "output_type": "stream",
          "text": [
            "Continuous features: [(0, 'display_size'), (1, 'battery'), (2, 'memory_ram_gb'), (3, 'memory_rom_gb'), (4, 'main_camera_resolution'), (5, 'selfie_camera_resolution')]\n",
            "Categorical features: [(6, 'display_resolution'), (7, 'network_technology'), (8, 'num_main_camera'), (9, 'has_oled_display'), (10, 'has_memory_card_slot'), (11, 'has_stereo_speakers'), (12, 'has_3.5mm_jack'), (13, 'has_wlan_5ghz'), (14, 'has_nfc'), (15, 'has_wireless_charging'), (16, 'is_waterproof')]\n",
            "Sum of weights: 17 with 17 weights.\n",
            "Feature props: {'display_size': {'weight': 1, 'type': 'continuous', 'bounds': (-1.7857441705467187, 1.859276110710436)}, 'battery': {'weight': 1, 'type': 'continuous', 'bounds': (-2.1141834634173127, 3.7516502995481913)}, 'memory_ram_gb': {'weight': 1, 'type': 'continuous', 'bounds': (-1.8304511242731525, 3.1125717938300848), 'discrete': [-1.8304511242731525, -1.2411774810514655, -0.759705857170477, 0.0, 0.5892736432216864, 1.4778237247678043, 2.1414905342053507, 2.671418247134428, 3.1125717938300848]}, 'memory_rom_gb': {'weight': 1, 'type': 'continuous', 'bounds': (-1.8980523132103475, 2.064514383936137), 'discrete': [-1.8980523132103475, -1.3068447552043527, -0.6671545612214954, 0.0, 0.6818249391706681, 1.3712392184331543, 2.064514383936137]}, 'main_camera_resolution': {'weight': 1, 'type': 'continuous', 'bounds': (-7.746208531740669, 10.320050482614963), 'discrete': [-7.746208531740669, -6.299584170066166, -5.177495140567095, -4.260681647572101, -2.8140572858975985, -2.221779125078034, -1.212696027700216, -0.372655817577366, 0.0, 0.3469342660955395, 0.9763236828147972, 1.5356276117036518, 1.793558627770042, 2.038902522494067, 2.272830856468353, 2.4963588716355725, 2.710372120765037, 2.915647657269113, 3.112871066591203, 4.311733378962417, 5.403253607024236, 6.299584170066168, 6.500753089477431, 7.720486980258841, 10.320050482614963]}, 'selfie_camera_resolution': {'weight': 1, 'type': 'continuous', 'bounds': (-2.394635546851485, 2.5623795981679884), 'discrete': [-2.394635546851485, -1.7490961863339791, -1.291078721035012, -0.9358127744999698, -0.645539360517506, -0.4001166859418159, -0.1875218952185385, 0.0, 0.3194870035245623, 0.5854531368090309, 0.7034401398746575, 1.01255514606505, 1.3489795003921634, 1.6265668236680193, 1.6890099626255044, 2.068583189858541, 2.414170711695059, 2.5623795981679884]}, 'display_resolution': {'weight': 1, 'type': 'categorical', 'bounds': (0, 3)}, 'network_technology': {'weight': 1, 'type': 'categorical', 'bounds': (0, 2)}, 'num_main_camera': {'weight': 1, 'type': 'categorical', 'bounds': (0, 3)}, 'has_oled_display': {'weight': 1, 'type': 'categorical', 'bounds': (0, 1)}, 'has_memory_card_slot': {'weight': 1, 'type': 'categorical', 'bounds': (0, 1)}, 'has_stereo_speakers': {'weight': 1, 'type': 'categorical', 'bounds': (0, 1)}, 'has_3.5mm_jack': {'weight': 1, 'type': 'categorical', 'bounds': (0, 1)}, 'has_wlan_5ghz': {'weight': 1, 'type': 'categorical', 'bounds': (0, 1)}, 'has_nfc': {'weight': 1, 'type': 'categorical', 'bounds': (0, 1)}, 'has_wireless_charging': {'weight': 1, 'type': 'categorical', 'bounds': (0, 1)}, 'is_waterproof': {'weight': 1, 'type': 'categorical', 'bounds': (0, 1)}}\n"
          ]
        }
      ],
      "source": [
        "kwargs_cf_omlt = {\n",
        "    \"min_probability\" : 0.6, \n",
        "    \"obj_weights\" : [0.7, 0.8, 0.5],\n",
        "    # \"solver\": \"multistart\",\n",
        "    \"solver\": \"mindtpy\",\n",
        "    \"solver_options\" : {\"timelimit\": 120, \"strategy\": \"rand_guess_and_bound\"},\n",
        "    \"verbose\": True\n",
        "}\n",
        "\n",
        "kwargs_cf_dice = {\n",
        "    \"target\" : \"misc_price\",\n",
        "    \"n_cf\" : 1\n",
        "}\n",
        "\n",
        "\n",
        "def create_feature_props(df, cont_feat, cat_feat, weights):\n",
        "    feature_props = {}\n",
        "    for idx, feat in cont_feat:\n",
        "        if df[feat].unique().shape[0] < 30:\n",
        "            feature_props[feat] = {\n",
        "                \"weight\": weights[idx],\n",
        "                \"type\": \"continuous\",\n",
        "                \"bounds\": (df[feat].min(), df[feat].max()),\n",
        "                \"discrete\": list(np.sort(df[feat].unique()))\n",
        "            }\n",
        "        else:\n",
        "            feature_props[feat] = {\n",
        "                \"weight\": weights[idx],\n",
        "                \"type\": \"continuous\",\n",
        "                \"bounds\": (df[feat].min(), df[feat].max()),\n",
        "            }\n",
        "    for idx, feat in cat_feat:\n",
        "        feature_props[feat] = {\n",
        "            \"weight\": weights[idx],\n",
        "            \"type\": \"categorical\",\n",
        "            \"bounds\": (int(df[feat].min()), int(df[feat].max()))\n",
        "        }\n",
        "    return feature_props\n",
        "\n",
        "cont_feat = [\n",
        "    \"display_size\", \"battery\", \"memory_ram_gb\", \n",
        "    \"memory_rom_gb\", \"main_camera_resolution\", \"selfie_camera_resolution\"]\n",
        "cat_feat = X_train_val.columns.drop(cont_feat).tolist()\n",
        "\n",
        "cont_feat = [(X_train_val.columns.get_loc(feat), feat) for feat in cont_feat]\n",
        "cat_feat = [(X_train_val.columns.get_loc(feat), feat) for feat in cat_feat]\n",
        "\n",
        "print(f\"Continuous features: {cont_feat}\")\n",
        "print(f\"Categorical features: {cat_feat}\")\n",
        "\n",
        "weights = np.repeat(1, len(cont_feat) + len(cat_feat))\n",
        "# weights[X_train_val.columns.get_loc(\"memory_ram_gb\")] = 1\n",
        "# weights[X_train_val.columns.get_loc(\"memory_rom_gb\")] = 1\n",
        "# weights[X_train_val.columns.get_loc(\"display_resolution\")] = 1\n",
        "# weights[X_train_val.columns.get_loc(\"network_technology\")] = 1\n",
        "print(f\"Sum of weights: {np.sum(weights)} with {len(weights)} weights.\")\n",
        "\n",
        "feature_props = create_feature_props(X_train_val, cont_feat, cat_feat, weights)\n",
        "print(f\"Feature props: {feature_props}\")"
      ]
    },
    {
      "attachments": {},
      "cell_type": "markdown",
      "metadata": {},
      "source": [
        "#### Test one sample"
      ]
    },
    {
      "cell_type": "code",
      "execution_count": 166,
      "metadata": {},
      "outputs": [
        {
          "name": "stdout",
          "output_type": "stream",
          "text": [
            "Logits: tensor([-1.4408,  0.8576, -0.2199])\n",
            "Softmax: tensor([0.0697, 0.6940, 0.2363])\n",
            "Predicted class 1 with probability: 0.694 and logit: 0.858\n",
            "Marginal softmax: 0.365\n",
            "\n",
            "The predicted class for the sample is equal to the groundtruth.\n"
          ]
        }
      ],
      "source": [
        "idx = corr_ind[11]\n",
        "\n",
        "orig_sample = X_test.loc[[idx]].copy()\n",
        "label_sample = int(y_test.loc[idx])\n",
        "\n",
        "_ = evaluate_sample(nn_model, orig_sample, label_sample, device)"
      ]
    },
    {
      "attachments": {},
      "cell_type": "markdown",
      "metadata": {},
      "source": [
        "As you can see the sample with that index is predicted correctly by our model, therefore we can use it for the counterfactual without any problem.\n",
        "\n",
        "At this point we need to initialize some variables to pass the correct parameters to the class and the correct parameters for the counterfactual generation. If we use the ***'multistart'*** solver we can also pass as parameter in 'solver_options' the restart strategy that we want to follow between:\n",
        "- **\"rand\"**: random choice between variable bounds\n",
        "- **\"midpoint_guess_and_bound\"**: midpoint between current value and farthest bound\n",
        "- **\"rand_guess_and_bound\"**: random choice between current value and farthest bound\n",
        "- **\"rand_distributed\"**: random choice among evenly distributed values\n",
        "- **\"midpoint\"**: exact midpoint between the bounds. If using this option, multiple iterations are useless."
      ]
    },
    {
      "cell_type": "code",
      "execution_count": 86,
      "metadata": {},
      "outputs": [
        {
          "name": "stdout",
          "output_type": "stream",
          "text": [
            "display_size: (89,)\n",
            "battery: (184,)\n",
            "memory_ram_gb: (9,)\n",
            "memory_rom_gb: (7,)\n",
            "main_camera_resolution: (25,)\n",
            "selfie_camera_resolution: (18,)\n"
          ]
        }
      ],
      "source": [
        "for f in cont_feat:\n",
        "    print(f\"{f}: {np.sort(X_train_val[f].unique()).shape}\")"
      ]
    },
    {
      "cell_type": "code",
      "execution_count": 175,
      "metadata": {},
      "outputs": [
        {
          "name": "stdout",
          "output_type": "stream",
          "text": [
            "================ Diagnostic Run torch.onnx.export version 2.0.0 ================\n",
            "verbose: False, log level: Level.ERROR\n",
            "======================= 0 NONE 0 NOTE 0 WARNING 0 ERROR ========================\n",
            "\n",
            "Length: 4\n",
            "Sum of lengths: 59\n",
            "Start indexes: [0, 9, 16, 41]\n",
            "Objective 3 is set to 0, so the number of changed features is not minimized.\n"
          ]
        },
        {
          "name": "stderr",
          "output_type": "stream",
          "text": [
            "Starting MindtPy version 0.1.0 using OA algorithm\n",
            "iteration_limit: 50\n",
            "stalling_limit: 15\n",
            "time_limit: 120\n",
            "strategy: OA\n",
            "add_regularization: None\n",
            "call_after_main_solve: <pyomo.contrib.gdpopt.util._DoNothing object at 0x000001CBF6B52190>\n",
            "call_after_subproblem_solve: <pyomo.contrib.gdpopt.util._DoNothing object at 0x000001CBF6B521C0>\n",
            "call_after_subproblem_feasible: <pyomo.contrib.gdpopt.util._DoNothing object at 0x000001CBF6B521F0>\n",
            "tee: true\n",
            "logger: <Logger pyomo.contrib.mindtpy (INFO)>\n",
            "logging_level: 20\n",
            "integer_to_binary: false\n",
            "add_no_good_cuts: false\n",
            "use_tabu_list: false\n",
            "single_tree: false\n",
            "solution_pool: false\n",
            "num_solution_iteration: 5\n",
            "cycling_check: true\n",
            "feasibility_norm: L_infinity\n",
            "differentiate_mode: reverse_symbolic\n",
            "use_mcpp: false\n",
            "calculate_dual_at_solution: false\n",
            "use_fbbt: false\n",
            "use_dual_bound: true\n",
            "partition_obj_nonlinear_terms: true\n",
            "quadratic_strategy: 0\n",
            "move_objective: false\n",
            "add_cuts_at_incumbent: false\n",
            "heuristic_nonconvex: false\n",
            "init_strategy: rNLP\n",
            "level_coef: 0.5\n",
            "solution_limit: 10\n",
            "reduce_level_coef: false\n",
            "use_bb_tree_incumbent: false\n",
            "sqp_lag_scaling_coef: fixed\n",
            "fp_cutoffdecr: 0.1\n",
            "fp_iteration_limit: 20\n",
            "fp_projcuts: true\n",
            "fp_transfercuts: true\n",
            "fp_projzerotol: 0.0001\n",
            "fp_mipgap: 0.01\n",
            "fp_discrete_only: true\n",
            "fp_main_norm: L1\n",
            "fp_norm_constraint: true\n",
            "fp_norm_constraint_coef: 1.0\n",
            "add_slack: false\n",
            "max_slack: 1000.0\n",
            "OA_penalty_factor: 1000.0\n",
            "equality_relaxation: false\n",
            "linearize_inactive: false\n",
            "nlp_solver: ipopt\n",
            "nlp_solver_args:\n",
            "mip_solver: cplex\n",
            "mip_solver_args:\n",
            "mip_solver_mipgap: 0.0001\n",
            "threads: 0\n",
            "regularization_mip_threads: 0\n",
            "solver_tee: false\n",
            "mip_solver_tee: false\n",
            "nlp_solver_tee: false\n",
            "mip_regularization_solver: None\n",
            "absolute_bound_tolerance: 0.0001\n",
            "relative_bound_tolerance: 0.001\n",
            "small_dual_tolerance: 1.0e-08\n",
            "integer_tolerance: 1.0e-05\n",
            "constraint_tolerance: 1.0e-06\n",
            "variable_tolerance: 1.0e-08\n",
            "zero_tolerance: 1.0e-08\n",
            "obj_bound: 1000000000000000.0\n",
            "continuous_var_bound: 10000000000.0\n",
            "integer_var_bound: 1000000000.0\n",
            "initial_bound_coef: 0.1\n",
            "\n",
            "-----------------------------------------------------------------------------------------------\n",
            "               Mixed-Integer Nonlinear Decomposition Toolbox in Pyomo (MindtPy)                \n",
            "-----------------------------------------------------------------------------------------------\n",
            "For more information, please visit \n",
            "https://pyomo.readthedocs.io/en/stable/contributed_packages/mindtpy.html\n",
            "If you use this software, please cite the following:\n",
            "Bernal, David E., et al. Mixed-integer nonlinear decomposition toolbox for Pyomo (MindtPy).\n",
            "Computer Aided Chemical Engineering. Vol. 44. Elsevier, 2018. 895-900.\n",
            "\n",
            "Original model has 701 constraints (2 nonlinear) and 0 disjunctions, with 511 variables, of which 188 are binary, 11 are integer, and 312 are continuous.\n",
            "rNLP is the initial strategy being used.\n",
            "\n",
            " ===============================================================================================\n",
            " Iteration | Subproblem Type | Objective Value | Primal Bound |   Dual Bound |   Gap   | Time(s)\n",
            "\n"
          ]
        },
        {
          "name": "stdout",
          "output_type": "stream",
          "text": [
            "ERROR: Unable to clone Pyomo component attribute. Component\n",
            "    'nn.layer[1973605021056]._big_m_lb_relu_index' contains an uncopyable\n",
            "    field '_init_dimen' (<class\n",
            "    'pyomo.core.base.initializer.ConstantInitializer'>).  Setting field to\n",
            "    `None` on new object\n",
            "ERROR: Unable to clone Pyomo component attribute. Component\n",
            "    'nn.layer[1973605021056]._big_m_lb_relu_index' contains an uncopyable\n",
            "    field '_init_values' (<class\n",
            "    'pyomo.core.base.set.TuplizeValuesInitializer'>).  Setting field to `None`\n",
            "    on new object\n"
          ]
        },
        {
          "name": "stderr",
          "output_type": "stream",
          "text": [
            "         -       Relaxed NLP       0.000557848            inf    0.000557848      nan%      1.18\n",
            "Unable to optimize MILP main problem within time limit. Using current solver feasible solution.\n",
            "         1              MILP       0.000629013            inf    0.000570426      nan%    119.82\n",
            "*        1         Fixed NLP          0.129153       0.129153    0.000570426    99.56%    121.72\n",
            "MindtPy unable to converge bounds before time limit of 120 seconds. Elapsed: 121.72583049999957 seconds\n",
            "Final bound values: Primal Bound: 0.12915268939859695  Dual Bound: 0.00057042601004\n",
            " ===============================================================================================\n",
            " Primal integral          :    0.0000 \n",
            " Dual integral            :    0.0000 \n",
            " Primal-dual gap integral :    0.0000 \n"
          ]
        },
        {
          "name": "stdout",
          "output_type": "stream",
          "text": [
            "Counterfactual sample: [0.9999999182889181, 0.999999985888448, 0.5892736432216839, 0.6818249391706669, -0.3726558175773658, 0.5854531368090313, 1.0, 1.0, 0.0, 0.0, 1.0, 1.0, 1.0, 1.0, 0.0, 1.0, 0.0]\n",
            "Logits: tensor([-2.3524,  0.3376,  0.5955])\n",
            "Softmax: tensor([0.0287, 0.4234, 0.5479])\n",
            "Predicted class 2 with probability: 0.548 and logit: 0.596\n",
            "Marginal softmax: 0.602\n",
            "\n",
            "The predicted class for the sample is equal to the groundtruth.\n",
            "Counterfactual predicted class: 2\n"
          ]
        }
      ],
      "source": [
        "cfs = generate_counterfactual_from_sample(\n",
        "        model=nn_model, cf_type=\"omlt\", X_train=X_train_val, y_train=y_train_val,\n",
        "        sample=orig_sample, sample_label=label_sample, feature_props=feature_props,\n",
        "        type_cf=\"increase\", pipeline=cols_pipeline, **kwargs_cf_omlt)\n",
        "\n",
        "# Example for Dice\n",
        "# cfs = generate_counterfactual_from_sample(\n",
        "#         nn_model, \"dice\", X_train, y_train, orig_sample, label_sample, \n",
        "#         type_cf=\"lower\", backend=\"PYT\", target_dice=\"misc_price\", dice_method='genetic', \n",
        "#         pipeline=cols_pipeline, **kwargs_cf_dice\n",
        "# )"
      ]
    },
    {
      "cell_type": "code",
      "execution_count": 169,
      "metadata": {},
      "outputs": [
        {
          "data": {
            "text/html": [
              "<div>\n",
              "<style scoped>\n",
              "    .dataframe tbody tr th:only-of-type {\n",
              "        vertical-align: middle;\n",
              "    }\n",
              "\n",
              "    .dataframe tbody tr th {\n",
              "        vertical-align: top;\n",
              "    }\n",
              "\n",
              "    .dataframe thead th {\n",
              "        text-align: right;\n",
              "    }\n",
              "</style>\n",
              "<table border=\"1\" class=\"dataframe\">\n",
              "  <thead>\n",
              "    <tr style=\"text-align: right;\">\n",
              "      <th></th>\n",
              "      <th>Original sample</th>\n",
              "      <th>Counterfactual_0</th>\n",
              "    </tr>\n",
              "  </thead>\n",
              "  <tbody>\n",
              "    <tr>\n",
              "      <th>misc_price_min</th>\n",
              "      <td>215.0</td>\n",
              "      <td>420.0</td>\n",
              "    </tr>\n",
              "    <tr>\n",
              "      <th>misc_price_max</th>\n",
              "      <td>420.0</td>\n",
              "      <td>1600.0</td>\n",
              "    </tr>\n",
              "    <tr>\n",
              "      <th>display_size</th>\n",
              "      <td>5.5</td>\n",
              "      <td>5.548626</td>\n",
              "    </tr>\n",
              "    <tr>\n",
              "      <th>battery</th>\n",
              "      <td>5000.0</td>\n",
              "      <td>4118.623235</td>\n",
              "    </tr>\n",
              "    <tr>\n",
              "      <th>memory_ram_gb</th>\n",
              "      <td>4.0</td>\n",
              "      <td>4.0</td>\n",
              "    </tr>\n",
              "    <tr>\n",
              "      <th>memory_rom_gb</th>\n",
              "      <td>64.0</td>\n",
              "      <td>64.0</td>\n",
              "    </tr>\n",
              "    <tr>\n",
              "      <th>main_camera_resolution</th>\n",
              "      <td>13.0</td>\n",
              "      <td>12.0</td>\n",
              "    </tr>\n",
              "    <tr>\n",
              "      <th>selfie_camera_resolution</th>\n",
              "      <td>16.0</td>\n",
              "      <td>13.0</td>\n",
              "    </tr>\n",
              "    <tr>\n",
              "      <th>display_resolution</th>\n",
              "      <td>HD</td>\n",
              "      <td>HD</td>\n",
              "    </tr>\n",
              "    <tr>\n",
              "      <th>network_technology</th>\n",
              "      <td>4G</td>\n",
              "      <td>4G</td>\n",
              "    </tr>\n",
              "    <tr>\n",
              "      <th>num_main_camera</th>\n",
              "      <td>1.0</td>\n",
              "      <td>1.0</td>\n",
              "    </tr>\n",
              "    <tr>\n",
              "      <th>has_oled_display</th>\n",
              "      <td>1.0</td>\n",
              "      <td>1.0</td>\n",
              "    </tr>\n",
              "    <tr>\n",
              "      <th>has_memory_card_slot</th>\n",
              "      <td>1.0</td>\n",
              "      <td>1.0</td>\n",
              "    </tr>\n",
              "    <tr>\n",
              "      <th>has_stereo_speakers</th>\n",
              "      <td>0.0</td>\n",
              "      <td>1.0</td>\n",
              "    </tr>\n",
              "    <tr>\n",
              "      <th>has_3.5mm_jack</th>\n",
              "      <td>1.0</td>\n",
              "      <td>1.0</td>\n",
              "    </tr>\n",
              "    <tr>\n",
              "      <th>has_wlan_5ghz</th>\n",
              "      <td>1.0</td>\n",
              "      <td>1.0</td>\n",
              "    </tr>\n",
              "    <tr>\n",
              "      <th>has_nfc</th>\n",
              "      <td>0.0</td>\n",
              "      <td>0.0</td>\n",
              "    </tr>\n",
              "    <tr>\n",
              "      <th>has_wireless_charging</th>\n",
              "      <td>0.0</td>\n",
              "      <td>0.0</td>\n",
              "    </tr>\n",
              "    <tr>\n",
              "      <th>is_waterproof</th>\n",
              "      <td>0.0</td>\n",
              "      <td>1.0</td>\n",
              "    </tr>\n",
              "  </tbody>\n",
              "</table>\n",
              "</div>"
            ],
            "text/plain": [
              "                         Original sample Counterfactual_0\n",
              "misc_price_min                     215.0            420.0\n",
              "misc_price_max                     420.0           1600.0\n",
              "display_size                         5.5         5.548626\n",
              "battery                           5000.0      4118.623235\n",
              "memory_ram_gb                        4.0              4.0\n",
              "memory_rom_gb                       64.0             64.0\n",
              "main_camera_resolution              13.0             12.0\n",
              "selfie_camera_resolution            16.0             13.0\n",
              "display_resolution                    HD               HD\n",
              "network_technology                    4G               4G\n",
              "num_main_camera                      1.0              1.0\n",
              "has_oled_display                     1.0              1.0\n",
              "has_memory_card_slot                 1.0              1.0\n",
              "has_stereo_speakers                  0.0              1.0\n",
              "has_3.5mm_jack                       1.0              1.0\n",
              "has_wlan_5ghz                        1.0              1.0\n",
              "has_nfc                              0.0              0.0\n",
              "has_wireless_charging                0.0              0.0\n",
              "is_waterproof                        0.0              1.0"
            ]
          },
          "execution_count": 169,
          "metadata": {},
          "output_type": "execute_result"
        }
      ],
      "source": [
        "cfs[0]"
      ]
    },
    {
      "attachments": {},
      "cell_type": "markdown",
      "metadata": {},
      "source": [
        "#### Test multiple samples"
      ]
    },
    {
      "cell_type": "code",
      "execution_count": 83,
      "metadata": {},
      "outputs": [],
      "source": [
        "low_test_idx = y_test[y_test == 0].index.intersection(corr_ind)\n",
        "medium_test_idx = y_test[y_test == 1].index.intersection(corr_ind)\n",
        "high_test_idx = y_test[y_test == 2].index.intersection(corr_ind)"
      ]
    },
    {
      "cell_type": "code",
      "execution_count": 293,
      "metadata": {},
      "outputs": [
        {
          "name": "stdout",
          "output_type": "stream",
          "text": [
            "================ Diagnostic Run torch.onnx.export version 2.0.0 ================\n",
            "verbose: False, log level: Level.ERROR\n",
            "======================= 0 NONE 0 NOTE 0 WARNING 0 ERROR ========================\n",
            "\n",
            "[0] Generating counterfactual for sample 314.\n"
          ]
        },
        {
          "name": "stderr",
          "output_type": "stream",
          "text": [
            "Starting MindtPy version 0.1.0 using OA algorithm\n",
            "iteration_limit: 50\n",
            "stalling_limit: 15\n",
            "time_limit: 120\n",
            "strategy: OA\n",
            "add_regularization: None\n",
            "call_after_main_solve: <pyomo.contrib.gdpopt.util._DoNothing object at 0x00000251E30F1970>\n",
            "call_after_subproblem_solve: <pyomo.contrib.gdpopt.util._DoNothing object at 0x00000251E30F19A0>\n",
            "call_after_subproblem_feasible: <pyomo.contrib.gdpopt.util._DoNothing object at 0x00000251E30F19D0>\n",
            "tee: true\n",
            "logger: <Logger pyomo.contrib.mindtpy (INFO)>\n",
            "logging_level: 20\n",
            "integer_to_binary: false\n",
            "add_no_good_cuts: false\n",
            "use_tabu_list: false\n",
            "single_tree: false\n",
            "solution_pool: false\n",
            "num_solution_iteration: 5\n",
            "cycling_check: true\n",
            "feasibility_norm: L_infinity\n",
            "differentiate_mode: reverse_symbolic\n",
            "use_mcpp: false\n",
            "calculate_dual_at_solution: false\n",
            "use_fbbt: false\n",
            "use_dual_bound: true\n",
            "partition_obj_nonlinear_terms: true\n",
            "quadratic_strategy: 0\n",
            "move_objective: false\n",
            "add_cuts_at_incumbent: false\n",
            "heuristic_nonconvex: false\n",
            "init_strategy: rNLP\n",
            "level_coef: 0.5\n",
            "solution_limit: 10\n",
            "reduce_level_coef: false\n",
            "use_bb_tree_incumbent: false\n",
            "sqp_lag_scaling_coef: fixed\n",
            "fp_cutoffdecr: 0.1\n",
            "fp_iteration_limit: 20\n",
            "fp_projcuts: true\n",
            "fp_transfercuts: true\n",
            "fp_projzerotol: 0.0001\n",
            "fp_mipgap: 0.01\n",
            "fp_discrete_only: true\n",
            "fp_main_norm: L1\n",
            "fp_norm_constraint: true\n",
            "fp_norm_constraint_coef: 1.0\n",
            "add_slack: false\n",
            "max_slack: 1000.0\n",
            "OA_penalty_factor: 1000.0\n",
            "equality_relaxation: false\n",
            "linearize_inactive: false\n",
            "nlp_solver: ipopt\n",
            "nlp_solver_args:\n",
            "mip_solver: cplex\n",
            "mip_solver_args:\n",
            "mip_solver_mipgap: 0.0001\n",
            "threads: 0\n",
            "regularization_mip_threads: 0\n",
            "solver_tee: false\n",
            "mip_solver_tee: false\n",
            "nlp_solver_tee: false\n",
            "mip_regularization_solver: None\n",
            "absolute_bound_tolerance: 0.0001\n",
            "relative_bound_tolerance: 0.001\n",
            "small_dual_tolerance: 1.0e-08\n",
            "integer_tolerance: 1.0e-05\n",
            "constraint_tolerance: 1.0e-06\n",
            "variable_tolerance: 1.0e-08\n",
            "zero_tolerance: 1.0e-08\n",
            "obj_bound: 1000000000000000.0\n",
            "continuous_var_bound: 10000000000.0\n",
            "integer_var_bound: 1000000000.0\n",
            "initial_bound_coef: 0.1\n",
            "\n",
            "-----------------------------------------------------------------------------------------------\n",
            "               Mixed-Integer Nonlinear Decomposition Toolbox in Pyomo (MindtPy)                \n",
            "-----------------------------------------------------------------------------------------------\n",
            "For more information, please visit \n",
            "https://pyomo.readthedocs.io/en/stable/contributed_packages/mindtpy.html\n",
            "If you use this software, please cite the following:\n",
            "Bernal, David E., et al. Mixed-integer nonlinear decomposition toolbox for Pyomo (MindtPy).\n",
            "Computer Aided Chemical Engineering. Vol. 44. Elsevier, 2018. 895-900.\n",
            "\n",
            "Original model has 1051 constraints (18 nonlinear) and 0 disjunctions, with 738 variables, of which 269 are binary, 11 are integer, and 458 are continuous.\n",
            "rNLP is the initial strategy being used.\n",
            "\n",
            " ===============================================================================================\n",
            " Iteration | Subproblem Type | Objective Value | Primal Bound |   Dual Bound |   Gap   | Time(s)\n",
            "\n",
            "         -       Relaxed NLP        0.00587376            inf     0.00587376      nan%      2.67\n",
            "         1              MILP          0.124956            inf       0.124956      nan%     71.66\n",
            "*        1         Fixed NLP          0.530034       0.530034       0.124956    76.42%     74.23\n",
            "MILP main problem is infeasible. Problem may have no more feasible binary configurations.\n",
            "MindtPy exiting due to MILP main problem infeasibility.\n",
            " ===============================================================================================\n",
            " Primal integral          :    0.0000 \n",
            " Dual integral            :    0.3185 \n",
            " Primal-dual gap integral :    0.3185 \n"
          ]
        },
        {
          "name": "stdout",
          "output_type": "stream",
          "text": [
            "Time elapsed: 75.54556274414062\n",
            "Solver status: ok\n",
            "Logits: tensor([-3.7116,  1.0963,  1.2892])\n",
            "Softmax: tensor([0.0037, 0.4503, 0.5460])\n",
            "Predicted class 2 with probability: 0.546 and logit: 1.289\n",
            "Marginal softmax: 0.605\n",
            "\n",
            "The predicted class for the sample is equal to the groundtruth.\n",
            "Counterfactual predicted class: 2\n"
          ]
        }
      ],
      "source": [
        "try:\n",
        "    sub_idx = medium_test_idx[:1]\n",
        "            \n",
        "    cfs_list = generate_counterfactuals_from_sample_list(\n",
        "        nn_model, \"omlt\", X_train_val, y_train_val, X_test.loc[sub_idx], \n",
        "        y_test.loc[sub_idx], feature_props, type_cf=\"increase\", \n",
        "        target_column=\"misc_price\", pipeline=cols_pipeline, **kwargs_cf_omlt)\n",
        "except AssertionError as e:\n",
        "    print(f\"{type(e).__name__} - Check the passed arguments: {e}\")\n",
        "except ValueError as e:\n",
        "    print(f\"{type(e).__name__} Check the passed arguments: {e}\")"
      ]
    },
    {
      "cell_type": "code",
      "execution_count": 294,
      "metadata": {},
      "outputs": [
        {
          "data": {
            "text/html": [
              "<div>\n",
              "<style scoped>\n",
              "    .dataframe tbody tr th:only-of-type {\n",
              "        vertical-align: middle;\n",
              "    }\n",
              "\n",
              "    .dataframe tbody tr th {\n",
              "        vertical-align: top;\n",
              "    }\n",
              "\n",
              "    .dataframe thead th {\n",
              "        text-align: right;\n",
              "    }\n",
              "</style>\n",
              "<table border=\"1\" class=\"dataframe\">\n",
              "  <thead>\n",
              "    <tr style=\"text-align: right;\">\n",
              "      <th></th>\n",
              "      <th>misc_price_min</th>\n",
              "      <th>misc_price_max</th>\n",
              "      <th>display_size</th>\n",
              "      <th>battery</th>\n",
              "      <th>memory_ram_gb</th>\n",
              "      <th>memory_rom_gb</th>\n",
              "      <th>main_camera_resolution</th>\n",
              "      <th>selfie_camera_resolution</th>\n",
              "      <th>display_resolution</th>\n",
              "      <th>network_technology</th>\n",
              "      <th>num_main_camera</th>\n",
              "      <th>has_oled_display</th>\n",
              "      <th>has_memory_card_slot</th>\n",
              "      <th>has_stereo_speakers</th>\n",
              "      <th>has_3.5mm_jack</th>\n",
              "      <th>has_wlan_5ghz</th>\n",
              "      <th>has_nfc</th>\n",
              "      <th>has_wireless_charging</th>\n",
              "      <th>is_waterproof</th>\n",
              "    </tr>\n",
              "  </thead>\n",
              "  <tbody>\n",
              "    <tr>\n",
              "      <th>314</th>\n",
              "      <td>215.0</td>\n",
              "      <td>420.0</td>\n",
              "      <td>6.3</td>\n",
              "      <td>4050.0</td>\n",
              "      <td>4.0</td>\n",
              "      <td>64.0</td>\n",
              "      <td>26.0</td>\n",
              "      <td>13.0</td>\n",
              "      <td>FHD</td>\n",
              "      <td>4G</td>\n",
              "      <td>2.0</td>\n",
              "      <td>0</td>\n",
              "      <td>1</td>\n",
              "      <td>0</td>\n",
              "      <td>1</td>\n",
              "      <td>1</td>\n",
              "      <td>1</td>\n",
              "      <td>0</td>\n",
              "      <td>1</td>\n",
              "    </tr>\n",
              "  </tbody>\n",
              "</table>\n",
              "</div>"
            ],
            "text/plain": [
              "     misc_price_min  misc_price_max  display_size  battery  memory_ram_gb  \\\n",
              "314           215.0           420.0           6.3   4050.0            4.0   \n",
              "\n",
              "     memory_rom_gb  main_camera_resolution  selfie_camera_resolution  \\\n",
              "314           64.0                    26.0                      13.0   \n",
              "\n",
              "    display_resolution network_technology num_main_camera  has_oled_display  \\\n",
              "314                FHD                 4G             2.0                 0   \n",
              "\n",
              "     has_memory_card_slot  has_stereo_speakers  has_3.5mm_jack  has_wlan_5ghz  \\\n",
              "314                     1                    0               1              1   \n",
              "\n",
              "     has_nfc  has_wireless_charging  is_waterproof  \n",
              "314        1                      0              1  "
            ]
          },
          "execution_count": 294,
          "metadata": {},
          "output_type": "execute_result"
        }
      ],
      "source": [
        "from utils.util_base_cf import inverse_pipeline\n",
        "\n",
        "dummy = X_test.loc[sub_idx]\n",
        "dummy[\"misc_price\"] = y_test.loc[sub_idx]\n",
        "inverse_pipeline(cols_pipeline, dummy)"
      ]
    },
    {
      "cell_type": "code",
      "execution_count": 295,
      "metadata": {},
      "outputs": [
        {
          "data": {
            "text/html": [
              "<div>\n",
              "<style scoped>\n",
              "    .dataframe tbody tr th:only-of-type {\n",
              "        vertical-align: middle;\n",
              "    }\n",
              "\n",
              "    .dataframe tbody tr th {\n",
              "        vertical-align: top;\n",
              "    }\n",
              "\n",
              "    .dataframe thead th {\n",
              "        text-align: right;\n",
              "    }\n",
              "</style>\n",
              "<table border=\"1\" class=\"dataframe\">\n",
              "  <thead>\n",
              "    <tr style=\"text-align: right;\">\n",
              "      <th></th>\n",
              "      <th>misc_price_min</th>\n",
              "      <th>misc_price_max</th>\n",
              "      <th>display_size</th>\n",
              "      <th>battery</th>\n",
              "      <th>memory_ram_gb</th>\n",
              "      <th>memory_rom_gb</th>\n",
              "      <th>main_camera_resolution</th>\n",
              "      <th>selfie_camera_resolution</th>\n",
              "      <th>display_resolution</th>\n",
              "      <th>network_technology</th>\n",
              "      <th>num_main_camera</th>\n",
              "      <th>has_oled_display</th>\n",
              "      <th>has_memory_card_slot</th>\n",
              "      <th>has_stereo_speakers</th>\n",
              "      <th>has_3.5mm_jack</th>\n",
              "      <th>has_wlan_5ghz</th>\n",
              "      <th>has_nfc</th>\n",
              "      <th>has_wireless_charging</th>\n",
              "      <th>is_waterproof</th>\n",
              "    </tr>\n",
              "  </thead>\n",
              "  <tbody>\n",
              "    <tr>\n",
              "      <th>314</th>\n",
              "      <td>420.0</td>\n",
              "      <td>1600.0</td>\n",
              "      <td>6.3</td>\n",
              "      <td>4050.0</td>\n",
              "      <td>3.0</td>\n",
              "      <td>16.0</td>\n",
              "      <td>12.0</td>\n",
              "      <td>6.0</td>\n",
              "      <td>HD</td>\n",
              "      <td>3G</td>\n",
              "      <td>1.0</td>\n",
              "      <td>1.0</td>\n",
              "      <td>0.0</td>\n",
              "      <td>1.0</td>\n",
              "      <td>0.0</td>\n",
              "      <td>0.0</td>\n",
              "      <td>0.0</td>\n",
              "      <td>1.0</td>\n",
              "      <td>0.0</td>\n",
              "    </tr>\n",
              "  </tbody>\n",
              "</table>\n",
              "</div>"
            ],
            "text/plain": [
              "    misc_price_min misc_price_max display_size battery memory_ram_gb  \\\n",
              "314          420.0         1600.0          6.3  4050.0           3.0   \n",
              "\n",
              "    memory_rom_gb main_camera_resolution selfie_camera_resolution  \\\n",
              "314          16.0                   12.0                      6.0   \n",
              "\n",
              "    display_resolution network_technology num_main_camera has_oled_display  \\\n",
              "314                 HD                 3G             1.0              1.0   \n",
              "\n",
              "    has_memory_card_slot has_stereo_speakers has_3.5mm_jack has_wlan_5ghz  \\\n",
              "314                  0.0                 1.0            0.0           0.0   \n",
              "\n",
              "    has_nfc has_wireless_charging is_waterproof  \n",
              "314     0.0                   1.0           0.0  "
            ]
          },
          "execution_count": 295,
          "metadata": {},
          "output_type": "execute_result"
        }
      ],
      "source": [
        "cfs_list"
      ]
    },
    {
      "attachments": {},
      "cell_type": "markdown",
      "metadata": {
        "id": "qqAXHn-6ZboV"
      },
      "source": [
        "### OMLT"
      ]
    },
    {
      "attachments": {},
      "cell_type": "markdown",
      "metadata": {},
      "source": [
        "Working with OMLT as framework, we need to encode ourselves all the constraints and the variables in order to compute a counterfactual sample. We use different domains (integers and reals) and bounds for the features, computed considering the distribution of the data.\n",
        "\n",
        "We read a paper in which 3 different counterfactual objective functions are used, in order to meet respectively the proximity, sparsity and ... conditions.\n",
        "Therefore we decided to implement this objectives doing some changes, for example we use a slightly different Gower distance and also the marginal softmax."
      ]
    },
    {
      "attachments": {},
      "cell_type": "markdown",
      "metadata": {},
      "source": [
        "A marginal softmax computation is performed to compute the probability of the target class with log-linear complexity. However, instead of giving a probability distribution over the target class, it is more similar to a loss, which is minimized.\n",
        "\n",
        "The minimum value of the marginal softmax for misclassified samples is approximately 0.70, thus a threshold of 0.70 or lower is used to find the counterfactuals."
      ]
    },
    {
      "cell_type": "code",
      "execution_count": 24,
      "metadata": {},
      "outputs": [
        {
          "name": "stdout",
          "output_type": "stream",
          "text": [
            "Number of samples 1404\n",
            "Minimum value of misclassified samples: 0.696\n"
          ]
        },
        {
          "data": {
            "image/png": "[encoded data removed]",
            "text/plain": [
              "<Figure size 640x480 with 1 Axes>"
            ]
          },
          "metadata": {},
          "output_type": "display_data"
        }
      ],
      "source": [
        "def difference_log_softmax(model, X, y, device):\n",
        "    print(f\"Number of samples {X.shape[0]}\")\n",
        "    model.eval()\n",
        "    with torch.no_grad():\n",
        "        correct_diff = []\n",
        "        wrong_diff = []\n",
        "        for i in range(X.shape[0]):\n",
        "            X_i = torch.tensor(X[i], dtype=torch.float).view(1, -1).to(device)\n",
        "            y_i = round(y[i])\n",
        "\n",
        "            output = model(X_i)\n",
        "            y_prob = torch.softmax(output, dim=1)\n",
        "            y_pred = torch.argmax(y_prob, dim=1).item()\n",
        "\n",
        "            marginal_softmax = torch.log(torch.sum(torch.exp(output))) - output.squeeze()[y_i].item()\n",
        "\n",
        "            if y_pred == y_i:\n",
        "                correct_diff.append(marginal_softmax)\n",
        "            else:\n",
        "                wrong_diff.append(marginal_softmax)\n",
        "\n",
        "\n",
        "    return np.array(correct_diff), np.array(wrong_diff)\n",
        "\n",
        "# compute marginal softmax\n",
        "correct_diff, wrong_diff = difference_log_softmax(nn_model, X_train.values, y_train.values, device)\n",
        "print(f\"Minimum value of misclassified samples: {np.min(wrong_diff):.3f}\")\n",
        "\n",
        "# plot histogram\n",
        "pd.Series(correct_diff).hist(bins=100, label=\"correct\")\n",
        "pd.Series(wrong_diff).hist(bins=100, label=\"wrong\")\n",
        "plt.legend()\n",
        "plt.tight_layout()"
      ]
    },
    {
      "attachments": {},
      "cell_type": "markdown",
      "metadata": {},
      "source": [
        "TODO: add explanation about other parts of the objective functions?"
      ]
    },
    {
      "attachments": {},
      "cell_type": "markdown",
      "metadata": {},
      "source": [
        "We can test the OMLT model on a sample that we know is predicted correctly from our model. "
      ]
    },
    {
      "cell_type": "code",
      "execution_count": 60,
      "metadata": {},
      "outputs": [
        {
          "name": "stdout",
          "output_type": "stream",
          "text": [
            "Logits: tensor([ 4.9388,  1.5019, -7.9698])\n",
            "Softmax: tensor([9.6884e-01, 3.1160e-02, 2.3994e-06])\n",
            "Predicted class 0 with probability: 0.969 and logit: 4.939\n",
            "Marginal softmax: 0.032\n",
            "\n",
            "The predicted class for the sample is equal to the groundtruth.\n"
          ]
        }
      ],
      "source": [
        "idx = 17\n",
        "sample_idx = X_test.values[idx]\n",
        "label_idx = y_test.values[idx]\n",
        "\n",
        "_ = evaluate_sample(nn_model, sample_idx, label_idx, verbose=True)"
      ]
    },
    {
      "attachments": {},
      "cell_type": "markdown",
      "metadata": {},
      "source": [
        "When we initialize the OMLT class we need to specify which are the continuous features, such that it can set the correct domains and bounds for the Pyomo variables."
      ]
    },
    {
      "cell_type": "code",
      "execution_count": 61,
      "metadata": {
        "colab": {
          "base_uri": "https://localhost:8080/"
        },
        "id": "H5-5hBeDZl_y",
        "outputId": "80b5f86c-9341-4915-fa05-604119ff9b82"
      },
      "outputs": [],
      "source": [
        "continuous_feat = [\n",
        "    \"display_size\", \"battery\", \"memory_ram_gb\", \"memory_rom_gb\", \n",
        "    \"main_camera_resolution\", \"selfie_camera_resolution\"\n",
        "]\n",
        "\n",
        "omlt_count = util_counterfactual.OmltCounterfactual(\n",
        "    X_train, y_train, nn_model, continuous_feat=continuous_feat\n",
        ")"
      ]
    },
    {
      "attachments": {},
      "cell_type": "markdown",
      "metadata": {},
      "source": [
        "We can pass different parameters to generate a counterfactual, such as the minimum probability required for the counterfactual, the weights for the objective functions, the weights for the features, because some features are more expensive to be changed than the others. As last thing, we can tell the model not to change some features of the original sample."
      ]
    },
    {
      "cell_type": "code",
      "execution_count": 65,
      "metadata": {},
      "outputs": [
        {
          "name": "stdout",
          "output_type": "stream",
          "text": [
            "WARNING: the desired value was out of range, hence the opposite operation has been performed.\n"
          ]
        }
      ],
      "source": [
        "cf_class = util_counterfactual.get_counterfactual_class(label_idx, 3, lower=True)\n",
        "\n",
        "kwargs_cf_omlt = {\n",
        "    \"min_probability\" : 0.6, \n",
        "    \"obj_weights\" : [1, 0.5, 0.8],\n",
        "    \"solver\": \"multistart\", # 'mindtpy'\n",
        "    \"solver_options\" : {\"timelimit\": 100, \"strategy\": \"rand_guess_and_bound\"},\n",
        "    \"verbose\": False\n",
        "}"
      ]
    },
    {
      "cell_type": "code",
      "execution_count": 63,
      "metadata": {},
      "outputs": [],
      "source": [
        "complete_sample = np.append(sample_idx, label_idx)"
      ]
    },
    {
      "attachments": {},
      "cell_type": "markdown",
      "metadata": {},
      "source": [
        "The search may require some time (~ 60s) because the algorithm for the search is not optimized. We have to pass to the Omlt model the sample with the 'misc_price' as last value. "
      ]
    },
    {
      "cell_type": "code",
      "execution_count": 30,
      "metadata": {},
      "outputs": [
        {
          "name": "stderr",
          "output_type": "stream",
          "text": [
            "Starting MindtPy version 0.1.0 using OA algorithm\n",
            "iteration_limit: 50\n",
            "stalling_limit: 15\n",
            "time_limit: 120\n",
            "strategy: OA\n",
            "add_regularization: None\n",
            "call_after_main_solve: <pyomo.contrib.gdpopt.util._DoNothing object at 0x000002499F6E5040>\n",
            "call_after_subproblem_solve: <pyomo.contrib.gdpopt.util._DoNothing object at 0x000002499F6E5070>\n",
            "call_after_subproblem_feasible: <pyomo.contrib.gdpopt.util._DoNothing object at 0x000002499F6E50A0>\n",
            "tee: true\n",
            "logger: <Logger pyomo.contrib.mindtpy (INFO)>\n",
            "logging_level: 20\n",
            "integer_to_binary: false\n",
            "add_no_good_cuts: false\n",
            "use_tabu_list: false\n",
            "single_tree: false\n",
            "solution_pool: false\n",
            "num_solution_iteration: 5\n",
            "cycling_check: true\n",
            "feasibility_norm: L_infinity\n",
            "differentiate_mode: reverse_symbolic\n",
            "use_mcpp: false\n",
            "calculate_dual_at_solution: false\n",
            "use_fbbt: false\n",
            "use_dual_bound: true\n",
            "partition_obj_nonlinear_terms: true\n",
            "quadratic_strategy: 0\n",
            "move_objective: false\n",
            "add_cuts_at_incumbent: false\n",
            "heuristic_nonconvex: false\n",
            "init_strategy: rNLP\n",
            "level_coef: 0.5\n",
            "solution_limit: 10\n",
            "reduce_level_coef: false\n",
            "use_bb_tree_incumbent: false\n",
            "sqp_lag_scaling_coef: fixed\n",
            "fp_cutoffdecr: 0.1\n",
            "fp_iteration_limit: 20\n",
            "fp_projcuts: true\n",
            "fp_transfercuts: true\n",
            "fp_projzerotol: 0.0001\n",
            "fp_mipgap: 0.01\n",
            "fp_discrete_only: true\n",
            "fp_main_norm: L1\n",
            "fp_norm_constraint: true\n",
            "fp_norm_constraint_coef: 1.0\n",
            "add_slack: false\n",
            "max_slack: 1000.0\n",
            "OA_penalty_factor: 1000.0\n",
            "equality_relaxation: false\n",
            "linearize_inactive: false\n",
            "nlp_solver: ipopt\n",
            "nlp_solver_args:\n",
            "mip_solver: cplex\n",
            "mip_solver_args:\n",
            "mip_solver_mipgap: 0.0001\n",
            "threads: 0\n",
            "regularization_mip_threads: 0\n",
            "solver_tee: false\n",
            "mip_solver_tee: false\n",
            "nlp_solver_tee: false\n",
            "mip_regularization_solver: None\n",
            "absolute_bound_tolerance: 0.0001\n",
            "relative_bound_tolerance: 0.001\n",
            "small_dual_tolerance: 1.0e-08\n",
            "integer_tolerance: 1.0e-05\n",
            "constraint_tolerance: 1.0e-06\n",
            "variable_tolerance: 1.0e-08\n",
            "zero_tolerance: 1.0e-08\n",
            "obj_bound: 1000000000000000.0\n",
            "continuous_var_bound: 10000000000.0\n",
            "integer_var_bound: 1000000000.0\n",
            "initial_bound_coef: 0.1\n",
            "\n",
            "-----------------------------------------------------------------------------------------------\n",
            "               Mixed-Integer Nonlinear Decomposition Toolbox in Pyomo (MindtPy)                \n",
            "-----------------------------------------------------------------------------------------------\n",
            "For more information, please visit \n",
            "https://pyomo.readthedocs.io/en/stable/contributed_packages/mindtpy.html\n",
            "If you use this software, please cite the following:\n",
            "Bernal, David E., et al. Mixed-integer nonlinear decomposition toolbox for Pyomo (MindtPy).\n",
            "Computer Aided Chemical Engineering. Vol. 44. Elsevier, 2018. 895-900.\n",
            "\n",
            "Original model has 1391 constraints (21 nonlinear) and 0 disjunctions, with 877 variables, of which 275 are binary, 13 are integer, and 589 are continuous.\n",
            "rNLP is the initial strategy being used.\n",
            "\n",
            " ===============================================================================================\n",
            " Iteration | Subproblem Type | Objective Value | Primal Bound |   Dual Bound |   Gap   | Time(s)\n",
            "\n"
          ]
        },
        {
          "name": "stdout",
          "output_type": "stream",
          "text": [
            "ERROR: Unable to clone Pyomo component attribute. Component\n",
            "    'nn.layer[2515306537840].linear_activation_index' contains an uncopyable\n",
            "    field '_init_dimen' (<class\n",
            "    'pyomo.core.base.initializer.ConstantInitializer'>).  Setting field to\n",
            "    `None` on new object\n",
            "ERROR: Unable to clone Pyomo component attribute. Component\n",
            "    'nn.layer[2515306537840].linear_activation_index' contains an uncopyable\n",
            "    field '_init_values' (<class\n",
            "    'pyomo.core.base.set.TuplizeValuesInitializer'>).  Setting field to `None`\n",
            "    on new object\n"
          ]
        },
        {
          "name": "stderr",
          "output_type": "stream",
          "text": [
            "         -       Relaxed NLP          0.262287            inf       0.262287      nan%      1.98\n",
            "         1              MILP           5.60931            inf        5.60931      nan%      7.88\n",
            "*        1         Fixed NLP           5.61002        5.61002        5.60931     0.01%      9.10\n",
            "MindtPy exiting on bound convergence. Relative gap : 0.00012672537960432595 <= relative tolerance: 0.001 \n",
            "\n",
            " ===============================================================================================\n",
            " Primal integral          :    0.0000 \n",
            " Dual integral            :   10.5773 \n",
            " Primal-dual gap integral :   10.5773 \n"
          ]
        }
      ],
      "source": [
        "cf = omlt_count.generate_counterfactuals(\n",
        "    complete_sample, cf_class, **kwargs_cf_omlt\n",
        ")"
      ]
    },
    {
      "attachments": {},
      "cell_type": "markdown",
      "metadata": {},
      "source": [
        "At the end we need to transform the values of the features in order to check the real value of the generated device."
      ]
    },
    {
      "cell_type": "code",
      "execution_count": 33,
      "metadata": {},
      "outputs": [],
      "source": [
        "pairs = omlt_count.destandardize_cfs_orig(cols_pipeline)"
      ]
    },
    {
      "cell_type": "code",
      "execution_count": 34,
      "metadata": {},
      "outputs": [
        {
          "data": {
            "text/html": [
              "<style type=\"text/css\">\n",
              "#T_8714d_row0_col0, #T_8714d_row0_col1, #T_8714d_row1_col0, #T_8714d_row1_col1, #T_8714d_row2_col0, #T_8714d_row2_col1, #T_8714d_row3_col0, #T_8714d_row3_col1, #T_8714d_row4_col0, #T_8714d_row4_col1, #T_8714d_row5_col0, #T_8714d_row5_col1, #T_8714d_row6_col0, #T_8714d_row6_col1, #T_8714d_row7_col0, #T_8714d_row7_col1, #T_8714d_row17_col0, #T_8714d_row17_col1, #T_8714d_row19_col0, #T_8714d_row19_col1 {\n",
              "  border: 1px solid red;\n",
              "}\n",
              "</style>\n",
              "<table id=\"T_8714d\">\n",
              "  <thead>\n",
              "    <tr>\n",
              "      <th class=\"blank level0\" >&nbsp;</th>\n",
              "      <th id=\"T_8714d_level0_col0\" class=\"col_heading level0 col0\" >Original sample</th>\n",
              "      <th id=\"T_8714d_level0_col1\" class=\"col_heading level0 col1\" >Counterfactual_0</th>\n",
              "    </tr>\n",
              "  </thead>\n",
              "  <tbody>\n",
              "    <tr>\n",
              "      <th id=\"T_8714d_level0_row0\" class=\"row_heading level0 row0\" >price_min</th>\n",
              "      <td id=\"T_8714d_row0_col0\" class=\"data row0 col0\" >375.633</td>\n",
              "      <td id=\"T_8714d_row0_col1\" class=\"data row0 col1\" >184.060</td>\n",
              "    </tr>\n",
              "    <tr>\n",
              "      <th id=\"T_8714d_level0_row1\" class=\"row_heading level0 row1\" >price_max</th>\n",
              "      <td id=\"T_8714d_row1_col0\" class=\"data row1 col0\" >1500.000</td>\n",
              "      <td id=\"T_8714d_row1_col1\" class=\"data row1 col1\" >375.633</td>\n",
              "    </tr>\n",
              "    <tr>\n",
              "      <th id=\"T_8714d_level0_row2\" class=\"row_heading level0 row2\" >display_size</th>\n",
              "      <td id=\"T_8714d_row2_col0\" class=\"data row2 col0\" >7.200</td>\n",
              "      <td id=\"T_8714d_row2_col1\" class=\"data row2 col1\" >6.246</td>\n",
              "    </tr>\n",
              "    <tr>\n",
              "      <th id=\"T_8714d_level0_row3\" class=\"row_heading level0 row3\" >battery</th>\n",
              "      <td id=\"T_8714d_row3_col0\" class=\"data row3 col0\" >5000.000</td>\n",
              "      <td id=\"T_8714d_row3_col1\" class=\"data row3 col1\" >4050.627</td>\n",
              "    </tr>\n",
              "    <tr>\n",
              "      <th id=\"T_8714d_level0_row4\" class=\"row_heading level0 row4\" >memory_ram_gb</th>\n",
              "      <td id=\"T_8714d_row4_col0\" class=\"data row4 col0\" >6.000</td>\n",
              "      <td id=\"T_8714d_row4_col1\" class=\"data row4 col1\" >6.000</td>\n",
              "    </tr>\n",
              "    <tr>\n",
              "      <th id=\"T_8714d_level0_row5\" class=\"row_heading level0 row5\" >memory_rom_gb</th>\n",
              "      <td id=\"T_8714d_row5_col0\" class=\"data row5 col0\" >128.000</td>\n",
              "      <td id=\"T_8714d_row5_col1\" class=\"data row5 col1\" >19.595</td>\n",
              "    </tr>\n",
              "    <tr>\n",
              "      <th id=\"T_8714d_level0_row6\" class=\"row_heading level0 row6\" >main_camera_resolution</th>\n",
              "      <td id=\"T_8714d_row6_col0\" class=\"data row6 col0\" >40.000</td>\n",
              "      <td id=\"T_8714d_row6_col1\" class=\"data row6 col1\" >27.968</td>\n",
              "    </tr>\n",
              "    <tr>\n",
              "      <th id=\"T_8714d_level0_row7\" class=\"row_heading level0 row7\" >selfie_camera_resolution</th>\n",
              "      <td id=\"T_8714d_row7_col0\" class=\"data row7 col0\" >24.000</td>\n",
              "      <td id=\"T_8714d_row7_col1\" class=\"data row7 col1\" >15.879</td>\n",
              "    </tr>\n",
              "    <tr>\n",
              "      <th id=\"T_8714d_level0_row8\" class=\"row_heading level0 row8\" >has_oled_display</th>\n",
              "      <td id=\"T_8714d_row8_col0\" class=\"data row8 col0\" >1.000</td>\n",
              "      <td id=\"T_8714d_row8_col1\" class=\"data row8 col1\" >1.000</td>\n",
              "    </tr>\n",
              "    <tr>\n",
              "      <th id=\"T_8714d_level0_row9\" class=\"row_heading level0 row9\" >has_memory_card_slot</th>\n",
              "      <td id=\"T_8714d_row9_col0\" class=\"data row9 col0\" >0.000</td>\n",
              "      <td id=\"T_8714d_row9_col1\" class=\"data row9 col1\" >0.000</td>\n",
              "    </tr>\n",
              "    <tr>\n",
              "      <th id=\"T_8714d_level0_row10\" class=\"row_heading level0 row10\" >has_stereo_speakers</th>\n",
              "      <td id=\"T_8714d_row10_col0\" class=\"data row10 col0\" >1.000</td>\n",
              "      <td id=\"T_8714d_row10_col1\" class=\"data row10 col1\" >1.000</td>\n",
              "    </tr>\n",
              "    <tr>\n",
              "      <th id=\"T_8714d_level0_row11\" class=\"row_heading level0 row11\" >has_3.5mm_jack</th>\n",
              "      <td id=\"T_8714d_row11_col0\" class=\"data row11 col0\" >1.000</td>\n",
              "      <td id=\"T_8714d_row11_col1\" class=\"data row11 col1\" >1.000</td>\n",
              "    </tr>\n",
              "    <tr>\n",
              "      <th id=\"T_8714d_level0_row12\" class=\"row_heading level0 row12\" >has_wlan_5ghz</th>\n",
              "      <td id=\"T_8714d_row12_col0\" class=\"data row12 col0\" >1.000</td>\n",
              "      <td id=\"T_8714d_row12_col1\" class=\"data row12 col1\" >1.000</td>\n",
              "    </tr>\n",
              "    <tr>\n",
              "      <th id=\"T_8714d_level0_row13\" class=\"row_heading level0 row13\" >has_nfc</th>\n",
              "      <td id=\"T_8714d_row13_col0\" class=\"data row13 col0\" >1.000</td>\n",
              "      <td id=\"T_8714d_row13_col1\" class=\"data row13 col1\" >1.000</td>\n",
              "    </tr>\n",
              "    <tr>\n",
              "      <th id=\"T_8714d_level0_row14\" class=\"row_heading level0 row14\" >has_wireless_charging</th>\n",
              "      <td id=\"T_8714d_row14_col0\" class=\"data row14 col0\" >0.000</td>\n",
              "      <td id=\"T_8714d_row14_col1\" class=\"data row14 col1\" >0.000</td>\n",
              "    </tr>\n",
              "    <tr>\n",
              "      <th id=\"T_8714d_level0_row15\" class=\"row_heading level0 row15\" >is_waterproof</th>\n",
              "      <td id=\"T_8714d_row15_col0\" class=\"data row15 col0\" >1.000</td>\n",
              "      <td id=\"T_8714d_row15_col1\" class=\"data row15 col1\" >1.000</td>\n",
              "    </tr>\n",
              "    <tr>\n",
              "      <th id=\"T_8714d_level0_row16\" class=\"row_heading level0 row16\" >network_technology</th>\n",
              "      <td id=\"T_8714d_row16_col0\" class=\"data row16 col0\" >4G</td>\n",
              "      <td id=\"T_8714d_row16_col1\" class=\"data row16 col1\" >4G</td>\n",
              "    </tr>\n",
              "    <tr>\n",
              "      <th id=\"T_8714d_level0_row17\" class=\"row_heading level0 row17\" >num_main_camera</th>\n",
              "      <td id=\"T_8714d_row17_col0\" class=\"data row17 col0\" >3.000</td>\n",
              "      <td id=\"T_8714d_row17_col1\" class=\"data row17 col1\" >2.000</td>\n",
              "    </tr>\n",
              "    <tr>\n",
              "      <th id=\"T_8714d_level0_row18\" class=\"row_heading level0 row18\" >num_selfie_camera</th>\n",
              "      <td id=\"T_8714d_row18_col0\" class=\"data row18 col0\" >1.000</td>\n",
              "      <td id=\"T_8714d_row18_col1\" class=\"data row18 col1\" >1.000</td>\n",
              "    </tr>\n",
              "    <tr>\n",
              "      <th id=\"T_8714d_level0_row19\" class=\"row_heading level0 row19\" >display_resolution</th>\n",
              "      <td id=\"T_8714d_row19_col0\" class=\"data row19 col0\" >FHD</td>\n",
              "      <td id=\"T_8714d_row19_col1\" class=\"data row19 col1\" >HD</td>\n",
              "    </tr>\n",
              "  </tbody>\n",
              "</table>\n"
            ],
            "text/plain": [
              "<pandas.io.formats.style.Styler at 0x249a4ae7700>"
            ]
          },
          "execution_count": 34,
          "metadata": {},
          "output_type": "execute_result"
        }
      ],
      "source": [
        "comp_df = omlt_count.compare_sample_cf(pairs)\n",
        "comp_df[0]"
      ]
    },
    {
      "attachments": {},
      "cell_type": "markdown",
      "metadata": {},
      "source": [
        "#### PCA of features"
      ]
    },
    {
      "attachments": {},
      "cell_type": "markdown",
      "metadata": {},
      "source": [
        "TODO: find a way to check the computed counterfactuals visually."
      ]
    },
    {
      "cell_type": "code",
      "execution_count": 115,
      "metadata": {},
      "outputs": [
        {
          "data": {
            "text/plain": [
              "<Axes: xlabel='PC1', ylabel='PC2'>"
            ]
          },
          "execution_count": 115,
          "metadata": {},
          "output_type": "execute_result"
        },
        {
          "data": {
            "image/png": "[encoded data removed]",
            "text/plain": [
              "<Figure size 640x480 with 2 Axes>"
            ]
          },
          "metadata": {},
          "output_type": "display_data"
        }
      ],
      "source": [
        "from sklearn.decomposition import PCA\n",
        "\n",
        "pca = PCA(n_components=2, random_state=42)\n",
        "pca.fit(X_train)\n",
        "X_train_pca = pca.transform(X_train)\n",
        "\n",
        "train_pca = pd.DataFrame(X_train_pca, columns=[\"PC1\", \"PC2\"], index=X_train.index)\n",
        "train_pca[\"misc_price\"] = y_train\n",
        "\n",
        "fig, axs = plt.subplots()\n",
        "train_pca.plot.scatter(x=\"PC1\", y=\"PC2\", c=\"misc_price\", colormap=\"viridis\", ax=axs, s=10)\n",
        "\n",
        "X_new_sample_pca = pca.transform(new_sample)\n",
        "new_sample_pca = pd.DataFrame(X_new_sample_pca, columns=[\"PC1\", \"PC2\"], index=new_sample.index)\n",
        "new_sample_pca.plot.scatter(x=\"PC1\", y=\"PC2\", c=\"red\", s=20, ax=axs)"
      ]
    },
    {
      "cell_type": "code",
      "execution_count": 133,
      "metadata": {},
      "outputs": [
        {
          "name": "stdout",
          "output_type": "stream",
          "text": [
            "Distance to the closest sample: [0.05524922]\n",
            "\n",
            "Price of the closest sample: 1.0\n",
            "\n",
            "Features of the closest sample:\n",
            "display_size                0.824933\n",
            "battery                     0.817902\n",
            "memory_ram_gb               0.616541\n",
            "memory_rom_gb               0.716839\n",
            "main_camera_resolution     -0.443149\n",
            "selfie_camera_resolution    0.360172\n",
            "has_oled_display            0.000000\n",
            "has_memory_card_slot        1.000000\n",
            "has_stereo_speakers         0.000000\n",
            "has_3.5mm_jack              1.000000\n",
            "has_wlan_5ghz               1.000000\n",
            "has_nfc                     0.000000\n",
            "has_wireless_charging       0.000000\n",
            "is_waterproof               0.000000\n",
            "network_technology          1.000000\n",
            "num_main_camera             2.000000\n",
            "num_selfie_camera           0.000000\n",
            "display_resolution          2.000000\n",
            "Name: 1559, dtype: float64\n"
          ]
        }
      ],
      "source": [
        "def compute_distance(x, y):\n",
        "    return np.linalg.norm(x - y, ord=2, axis=1)\n",
        "\n",
        "same_label_train = train_pca[train_pca.misc_price == cf_class]\n",
        "counterfactual_distance = same_label_train.apply(lambda x: compute_distance(x[[\"PC1\", \"PC2\"]], new_sample_pca), axis=1)\n",
        "counterfactual_distance = counterfactual_distance.sort_values()\n",
        "\n",
        "min_index = counterfactual_distance.index[0]\n",
        "closer_sample = X.loc[min_index]\n",
        "\n",
        "# closer_sample\n",
        "print(f\"Distance to the closest sample: {counterfactual_distance.iloc[0]}\\n\")\n",
        "print(f\"Price of the closest sample: {y_train.loc[min_index]}\\n\")\n",
        "print(f\"Features of the closest sample:\\n{closer_sample}\")"
      ]
    },
    {
      "cell_type": "code",
      "execution_count": 134,
      "metadata": {},
      "outputs": [
        {
          "data": {
            "text/html": [
              "<div>\n",
              "<style scoped>\n",
              "    .dataframe tbody tr th:only-of-type {\n",
              "        vertical-align: middle;\n",
              "    }\n",
              "\n",
              "    .dataframe tbody tr th {\n",
              "        vertical-align: top;\n",
              "    }\n",
              "\n",
              "    .dataframe thead th {\n",
              "        text-align: right;\n",
              "    }\n",
              "</style>\n",
              "<table border=\"1\" class=\"dataframe\">\n",
              "  <thead>\n",
              "    <tr style=\"text-align: right;\">\n",
              "      <th></th>\n",
              "      <th>price_min</th>\n",
              "      <th>price_max</th>\n",
              "      <th>display_size</th>\n",
              "      <th>battery</th>\n",
              "      <th>memory_ram_gb</th>\n",
              "      <th>memory_rom_gb</th>\n",
              "      <th>main_camera_resolution</th>\n",
              "      <th>selfie_camera_resolution</th>\n",
              "      <th>has_oled_display</th>\n",
              "      <th>has_memory_card_slot</th>\n",
              "      <th>has_stereo_speakers</th>\n",
              "      <th>has_3.5mm_jack</th>\n",
              "      <th>has_wlan_5ghz</th>\n",
              "      <th>has_nfc</th>\n",
              "      <th>has_wireless_charging</th>\n",
              "      <th>is_waterproof</th>\n",
              "      <th>network_technology</th>\n",
              "      <th>num_main_camera</th>\n",
              "      <th>num_selfie_camera</th>\n",
              "      <th>display_resolution</th>\n",
              "    </tr>\n",
              "  </thead>\n",
              "  <tbody>\n",
              "    <tr>\n",
              "      <th>Counterfactual</th>\n",
              "      <td>184.060285</td>\n",
              "      <td>375.632818</td>\n",
              "      <td>6.39</td>\n",
              "      <td>4000.0</td>\n",
              "      <td>4.0</td>\n",
              "      <td>32.0</td>\n",
              "      <td>16.0</td>\n",
              "      <td>16.0</td>\n",
              "      <td>1.0</td>\n",
              "      <td>0.0</td>\n",
              "      <td>1.0</td>\n",
              "      <td>1.0</td>\n",
              "      <td>1.0</td>\n",
              "      <td>1.0</td>\n",
              "      <td>0.0</td>\n",
              "      <td>1.0</td>\n",
              "      <td>4G</td>\n",
              "      <td>2.0</td>\n",
              "      <td>1.0</td>\n",
              "      <td>HD</td>\n",
              "    </tr>\n",
              "    <tr>\n",
              "      <th>Closer sample</th>\n",
              "      <td>184.060285</td>\n",
              "      <td>375.632818</td>\n",
              "      <td>6.26</td>\n",
              "      <td>4000.0</td>\n",
              "      <td>4.0</td>\n",
              "      <td>64.0</td>\n",
              "      <td>12.0</td>\n",
              "      <td>8.0</td>\n",
              "      <td>0.0</td>\n",
              "      <td>1.0</td>\n",
              "      <td>0.0</td>\n",
              "      <td>1.0</td>\n",
              "      <td>1.0</td>\n",
              "      <td>0.0</td>\n",
              "      <td>0.0</td>\n",
              "      <td>0.0</td>\n",
              "      <td>4G</td>\n",
              "      <td>3.0</td>\n",
              "      <td>1.0</td>\n",
              "      <td>FHD</td>\n",
              "    </tr>\n",
              "  </tbody>\n",
              "</table>\n",
              "</div>"
            ],
            "text/plain": [
              "                 price_min   price_max  display_size  battery  memory_ram_gb  \\\n",
              "Counterfactual  184.060285  375.632818          6.39   4000.0            4.0   \n",
              "Closer sample   184.060285  375.632818          6.26   4000.0            4.0   \n",
              "\n",
              "                memory_rom_gb  main_camera_resolution  \\\n",
              "Counterfactual           32.0                    16.0   \n",
              "Closer sample            64.0                    12.0   \n",
              "\n",
              "                selfie_camera_resolution  has_oled_display  \\\n",
              "Counterfactual                      16.0               1.0   \n",
              "Closer sample                        8.0               0.0   \n",
              "\n",
              "                has_memory_card_slot  has_stereo_speakers  has_3.5mm_jack  \\\n",
              "Counterfactual                   0.0                  1.0             1.0   \n",
              "Closer sample                    1.0                  0.0             1.0   \n",
              "\n",
              "                has_wlan_5ghz  has_nfc  has_wireless_charging  is_waterproof  \\\n",
              "Counterfactual            1.0      1.0                    0.0            1.0   \n",
              "Closer sample             1.0      0.0                    0.0            0.0   \n",
              "\n",
              "               network_technology num_main_camera num_selfie_camera  \\\n",
              "Counterfactual                 4G             2.0               1.0   \n",
              "Closer sample                  4G             3.0               1.0   \n",
              "\n",
              "               display_resolution  \n",
              "Counterfactual                 HD  \n",
              "Closer sample                 FHD  "
            ]
          },
          "execution_count": 134,
          "metadata": {},
          "output_type": "execute_result"
        }
      ],
      "source": [
        "df_closer_sample = pd.DataFrame(closer_sample.to_numpy().reshape(1, -1), columns=X.columns, index=[\"Closer sample\"])\n",
        "features_df = pd.concat([new_sample, df_closer_sample], axis=0)\n",
        "\n",
        "label_df = pd.Series([cf_class, y_train.loc[min_index]], name=\"misc_price\", index=features_df.index).to_frame()\n",
        "comp_df = pd.concat([features_df, label_df], axis=1)\n",
        "\n",
        "inverse_pipeline(cols_pipeline, comp_df)\n"
      ]
    },
    {
      "cell_type": "markdown",
      "metadata": {
        "id": "JeQBu6o4Yd8H"
      },
      "source": [
        "### Dice"
      ]
    },
    {
      "cell_type": "markdown",
      "metadata": {
        "id": "ZsllMhjz6WCz"
      },
      "source": [
        "We concatenate the X with the labels because Dice expects a unique dataframe and then you specify which column is the target one."
      ]
    },
    {
      "cell_type": "code",
      "execution_count": 35,
      "metadata": {
        "colab": {
          "base_uri": "https://localhost:8080/",
          "height": 299
        },
        "id": "UJXwbd5L473H",
        "outputId": "0b6e03eb-694b-4d24-f6ce-32ea77a095d5"
      },
      "outputs": [
        {
          "data": {
            "text/html": [
              "<div>\n",
              "<style scoped>\n",
              "    .dataframe tbody tr th:only-of-type {\n",
              "        vertical-align: middle;\n",
              "    }\n",
              "\n",
              "    .dataframe tbody tr th {\n",
              "        vertical-align: top;\n",
              "    }\n",
              "\n",
              "    .dataframe thead th {\n",
              "        text-align: right;\n",
              "    }\n",
              "</style>\n",
              "<table border=\"1\" class=\"dataframe\">\n",
              "  <thead>\n",
              "    <tr style=\"text-align: right;\">\n",
              "      <th></th>\n",
              "      <th>display_size</th>\n",
              "      <th>battery</th>\n",
              "      <th>memory_ram_gb</th>\n",
              "      <th>memory_rom_gb</th>\n",
              "      <th>main_camera_resolution</th>\n",
              "      <th>selfie_camera_resolution</th>\n",
              "      <th>has_oled_display</th>\n",
              "      <th>has_memory_card_slot</th>\n",
              "      <th>has_stereo_speakers</th>\n",
              "      <th>has_3.5mm_jack</th>\n",
              "      <th>has_wlan_5ghz</th>\n",
              "      <th>has_nfc</th>\n",
              "      <th>has_wireless_charging</th>\n",
              "      <th>is_waterproof</th>\n",
              "      <th>network_technology</th>\n",
              "      <th>num_main_camera</th>\n",
              "      <th>num_selfie_camera</th>\n",
              "      <th>display_resolution</th>\n",
              "      <th>misc_price</th>\n",
              "    </tr>\n",
              "  </thead>\n",
              "  <tbody>\n",
              "    <tr>\n",
              "      <th>199</th>\n",
              "      <td>-0.840250</td>\n",
              "      <td>-0.899056</td>\n",
              "      <td>-0.701774</td>\n",
              "      <td>-0.794924</td>\n",
              "      <td>-0.601733</td>\n",
              "      <td>-1.079298</td>\n",
              "      <td>0</td>\n",
              "      <td>1</td>\n",
              "      <td>0</td>\n",
              "      <td>1</td>\n",
              "      <td>0</td>\n",
              "      <td>0</td>\n",
              "      <td>0</td>\n",
              "      <td>0</td>\n",
              "      <td>0.0</td>\n",
              "      <td>0.0</td>\n",
              "      <td>0.0</td>\n",
              "      <td>0.0</td>\n",
              "      <td>1.0</td>\n",
              "    </tr>\n",
              "    <tr>\n",
              "      <th>1377</th>\n",
              "      <td>1.375952</td>\n",
              "      <td>0.931330</td>\n",
              "      <td>0.200752</td>\n",
              "      <td>1.545659</td>\n",
              "      <td>-0.218609</td>\n",
              "      <td>1.016146</td>\n",
              "      <td>0</td>\n",
              "      <td>1</td>\n",
              "      <td>0</td>\n",
              "      <td>1</td>\n",
              "      <td>1</td>\n",
              "      <td>0</td>\n",
              "      <td>0</td>\n",
              "      <td>0</td>\n",
              "      <td>1.0</td>\n",
              "      <td>1.0</td>\n",
              "      <td>1.0</td>\n",
              "      <td>2.0</td>\n",
              "      <td>1.0</td>\n",
              "    </tr>\n",
              "    <tr>\n",
              "      <th>798</th>\n",
              "      <td>-0.840250</td>\n",
              "      <td>-1.046851</td>\n",
              "      <td>-0.400932</td>\n",
              "      <td>-0.568416</td>\n",
              "      <td>-0.218609</td>\n",
              "      <td>-0.452000</td>\n",
              "      <td>1</td>\n",
              "      <td>1</td>\n",
              "      <td>0</td>\n",
              "      <td>1</td>\n",
              "      <td>0</td>\n",
              "      <td>0</td>\n",
              "      <td>0</td>\n",
              "      <td>0</td>\n",
              "      <td>1.0</td>\n",
              "      <td>0.0</td>\n",
              "      <td>0.0</td>\n",
              "      <td>1.0</td>\n",
              "      <td>1.0</td>\n",
              "    </tr>\n",
              "    <tr>\n",
              "      <th>1235</th>\n",
              "      <td>-0.840250</td>\n",
              "      <td>-0.148712</td>\n",
              "      <td>-0.100090</td>\n",
              "      <td>-0.266406</td>\n",
              "      <td>0.011265</td>\n",
              "      <td>-0.452000</td>\n",
              "      <td>0</td>\n",
              "      <td>1</td>\n",
              "      <td>0</td>\n",
              "      <td>1</td>\n",
              "      <td>0</td>\n",
              "      <td>0</td>\n",
              "      <td>0</td>\n",
              "      <td>0</td>\n",
              "      <td>1.0</td>\n",
              "      <td>0.0</td>\n",
              "      <td>0.0</td>\n",
              "      <td>1.0</td>\n",
              "      <td>1.0</td>\n",
              "    </tr>\n",
              "    <tr>\n",
              "      <th>1589</th>\n",
              "      <td>1.154332</td>\n",
              "      <td>2.068216</td>\n",
              "      <td>0.200752</td>\n",
              "      <td>1.545659</td>\n",
              "      <td>-0.218609</td>\n",
              "      <td>1.550017</td>\n",
              "      <td>0</td>\n",
              "      <td>1</td>\n",
              "      <td>0</td>\n",
              "      <td>1</td>\n",
              "      <td>0</td>\n",
              "      <td>0</td>\n",
              "      <td>0</td>\n",
              "      <td>0</td>\n",
              "      <td>1.0</td>\n",
              "      <td>2.0</td>\n",
              "      <td>0.0</td>\n",
              "      <td>1.0</td>\n",
              "      <td>1.0</td>\n",
              "    </tr>\n",
              "  </tbody>\n",
              "</table>\n",
              "</div>"
            ],
            "text/plain": [
              "      display_size   battery  memory_ram_gb  memory_rom_gb  \\\n",
              "199      -0.840250 -0.899056      -0.701774      -0.794924   \n",
              "1377      1.375952  0.931330       0.200752       1.545659   \n",
              "798      -0.840250 -1.046851      -0.400932      -0.568416   \n",
              "1235     -0.840250 -0.148712      -0.100090      -0.266406   \n",
              "1589      1.154332  2.068216       0.200752       1.545659   \n",
              "\n",
              "      main_camera_resolution  selfie_camera_resolution  has_oled_display  \\\n",
              "199                -0.601733                 -1.079298                 0   \n",
              "1377               -0.218609                  1.016146                 0   \n",
              "798                -0.218609                 -0.452000                 1   \n",
              "1235                0.011265                 -0.452000                 0   \n",
              "1589               -0.218609                  1.550017                 0   \n",
              "\n",
              "      has_memory_card_slot  has_stereo_speakers  has_3.5mm_jack  \\\n",
              "199                      1                    0               1   \n",
              "1377                     1                    0               1   \n",
              "798                      1                    0               1   \n",
              "1235                     1                    0               1   \n",
              "1589                     1                    0               1   \n",
              "\n",
              "      has_wlan_5ghz  has_nfc  has_wireless_charging  is_waterproof  \\\n",
              "199               0        0                      0              0   \n",
              "1377              1        0                      0              0   \n",
              "798               0        0                      0              0   \n",
              "1235              0        0                      0              0   \n",
              "1589              0        0                      0              0   \n",
              "\n",
              "      network_technology  num_main_camera  num_selfie_camera  \\\n",
              "199                  0.0              0.0                0.0   \n",
              "1377                 1.0              1.0                1.0   \n",
              "798                  1.0              0.0                0.0   \n",
              "1235                 1.0              0.0                0.0   \n",
              "1589                 1.0              2.0                0.0   \n",
              "\n",
              "      display_resolution  misc_price  \n",
              "199                  0.0         1.0  \n",
              "1377                 2.0         1.0  \n",
              "798                  1.0         1.0  \n",
              "1235                 1.0         1.0  \n",
              "1589                 1.0         1.0  "
            ]
          },
          "execution_count": 35,
          "metadata": {},
          "output_type": "execute_result"
        }
      ],
      "source": [
        "df_dice = pd.concat([X_train, y_train], axis=1)\n",
        "df_dice.head()"
      ]
    },
    {
      "attachments": {},
      "cell_type": "markdown",
      "metadata": {
        "id": "ixGP17jdk1C0"
      },
      "source": [
        "We initialize an instance of the class that we created for dealing with Dice and generating counterfactuals. In this case we need to pass as continuous features all the numerical ones (all the features), otherwise Dice will convert the values to strings."
      ]
    },
    {
      "cell_type": "code",
      "execution_count": 36,
      "metadata": {
        "id": "PbrMZQ2-_dg7"
      },
      "outputs": [],
      "source": [
        "cont_features = list(df_dice.columns) \n",
        "cont_features.remove(\"misc_price\")\n",
        "\n",
        "dice_cf = util_counterfactual.DiceCounterfactual(nn_model, 'PYT', df_dice, cont_features, target=\"misc_price\")"
      ]
    },
    {
      "attachments": {},
      "cell_type": "markdown",
      "metadata": {
        "id": "a7A1nTomk_HQ"
      },
      "source": [
        "In the first example we only choose one sample, that originally has label 2 (medium-high price) and we want to produce a counterfactual that has label 1 to check which features we can change to decrease the price."
      ]
    },
    {
      "cell_type": "code",
      "execution_count": 37,
      "metadata": {
        "id": "g0H0LvQrcHTo"
      },
      "outputs": [],
      "source": [
        "idx = 17\n",
        "orig_sample = X_test.iloc[[idx]].copy()\n",
        "orig_sample_lab = y_test.iloc[[idx]].copy()\n",
        "\n",
        "count_class = util_counterfactual.get_counterfactual_class(orig_sample_lab.values[0], 3, lower=True)\n",
        "\n",
        "orig_sample.loc[:,'misc_price'] = orig_sample_lab"
      ]
    },
    {
      "attachments": {},
      "cell_type": "markdown",
      "metadata": {
        "id": "Z0x7vmI3lckP"
      },
      "source": [
        "We may use the genetic method to generate the counterfactuals because is the fastest one available in Dice."
      ]
    },
    {
      "cell_type": "code",
      "execution_count": 38,
      "metadata": {
        "colab": {
          "base_uri": "https://localhost:8080/"
        },
        "id": "TPc1kqCAkg4a",
        "outputId": "c85e59b5-7b31-4239-d69c-70ac99a29232"
      },
      "outputs": [
        {
          "name": "stderr",
          "output_type": "stream",
          "text": [
            "100%|██████████| 1/1 [00:00<00:00,  8.89it/s]\n"
          ]
        }
      ],
      "source": [
        "dice_cf.create_explanation_instance(method=\"genetic\")\n",
        "\n",
        "cfs = dice_cf.generate_counterfactuals(orig_sample, new_class=count_class, target=\"misc_price\", n_cf=1)"
      ]
    },
    {
      "cell_type": "markdown",
      "metadata": {
        "id": "4JjuhZphO3QO"
      },
      "source": [
        "We standardize the original samples and the counterfactuals to get real values for the devices."
      ]
    },
    {
      "cell_type": "code",
      "execution_count": 39,
      "metadata": {
        "id": "emIfzCaPLPLq"
      },
      "outputs": [],
      "source": [
        "pairs = dice_cf.destandardize_cfs_orig(pipeline=cols_pipeline)"
      ]
    },
    {
      "cell_type": "markdown",
      "metadata": {
        "id": "8Ybld2FjhCOK"
      },
      "source": [
        "After that we got the sample - counterfactuals pairs we can pass them to a function in order to compare the differences in the features that allow to classify the sample as the desired class."
      ]
    },
    {
      "cell_type": "code",
      "execution_count": 40,
      "metadata": {
        "id": "U6ripnYmb5V-"
      },
      "outputs": [],
      "source": [
        "compare_dfs = dice_cf.compare_sample_cf(pairs)"
      ]
    },
    {
      "cell_type": "markdown",
      "metadata": {
        "id": "SdjCrl69hR04"
      },
      "source": [
        "At the end we can print the comparison for all the samples for which we generated the counterfactuals simply retrieving the dataframe from the list."
      ]
    },
    {
      "cell_type": "code",
      "execution_count": 41,
      "metadata": {
        "colab": {
          "base_uri": "https://localhost:8080/",
          "height": 750
        },
        "id": "L8ILuGHsfDNM",
        "outputId": "d5e2f12e-eebe-48fb-e40e-2f014c158f46"
      },
      "outputs": [
        {
          "data": {
            "text/html": [
              "<style type=\"text/css\">\n",
              "#T_97d84_row0_col0, #T_97d84_row0_col1, #T_97d84_row1_col0, #T_97d84_row1_col1, #T_97d84_row2_col0, #T_97d84_row2_col1, #T_97d84_row3_col0, #T_97d84_row3_col1, #T_97d84_row4_col0, #T_97d84_row4_col1, #T_97d84_row5_col0, #T_97d84_row5_col1, #T_97d84_row6_col0, #T_97d84_row6_col1, #T_97d84_row7_col0, #T_97d84_row7_col1, #T_97d84_row15_col0, #T_97d84_row15_col1, #T_97d84_row17_col0, #T_97d84_row17_col1 {\n",
              "  border: 1px solid red;\n",
              "}\n",
              "</style>\n",
              "<table id=\"T_97d84\">\n",
              "  <thead>\n",
              "    <tr>\n",
              "      <th class=\"blank level0\" >&nbsp;</th>\n",
              "      <th id=\"T_97d84_level0_col0\" class=\"col_heading level0 col0\" >Original sample</th>\n",
              "      <th id=\"T_97d84_level0_col1\" class=\"col_heading level0 col1\" >Counterfactual_0</th>\n",
              "    </tr>\n",
              "  </thead>\n",
              "  <tbody>\n",
              "    <tr>\n",
              "      <th id=\"T_97d84_level0_row0\" class=\"row_heading level0 row0\" >price_min</th>\n",
              "      <td id=\"T_97d84_row0_col0\" class=\"data row0 col0\" >375.633</td>\n",
              "      <td id=\"T_97d84_row0_col1\" class=\"data row0 col1\" >184.060</td>\n",
              "    </tr>\n",
              "    <tr>\n",
              "      <th id=\"T_97d84_level0_row1\" class=\"row_heading level0 row1\" >price_max</th>\n",
              "      <td id=\"T_97d84_row1_col0\" class=\"data row1 col0\" >1500.000</td>\n",
              "      <td id=\"T_97d84_row1_col1\" class=\"data row1 col1\" >375.633</td>\n",
              "    </tr>\n",
              "    <tr>\n",
              "      <th id=\"T_97d84_level0_row2\" class=\"row_heading level0 row2\" >display_size</th>\n",
              "      <td id=\"T_97d84_row2_col0\" class=\"data row2 col0\" >7.200</td>\n",
              "      <td id=\"T_97d84_row2_col1\" class=\"data row2 col1\" >6.400</td>\n",
              "    </tr>\n",
              "    <tr>\n",
              "      <th id=\"T_97d84_level0_row3\" class=\"row_heading level0 row3\" >battery</th>\n",
              "      <td id=\"T_97d84_row3_col0\" class=\"data row3 col0\" >5000.000</td>\n",
              "      <td id=\"T_97d84_row3_col1\" class=\"data row3 col1\" >4035.000</td>\n",
              "    </tr>\n",
              "    <tr>\n",
              "      <th id=\"T_97d84_level0_row4\" class=\"row_heading level0 row4\" >memory_ram_gb</th>\n",
              "      <td id=\"T_97d84_row4_col0\" class=\"data row4 col0\" >6.000</td>\n",
              "      <td id=\"T_97d84_row4_col1\" class=\"data row4 col1\" >4.000</td>\n",
              "    </tr>\n",
              "    <tr>\n",
              "      <th id=\"T_97d84_level0_row5\" class=\"row_heading level0 row5\" >memory_rom_gb</th>\n",
              "      <td id=\"T_97d84_row5_col0\" class=\"data row5 col0\" >128.000</td>\n",
              "      <td id=\"T_97d84_row5_col1\" class=\"data row5 col1\" >128.000</td>\n",
              "    </tr>\n",
              "    <tr>\n",
              "      <th id=\"T_97d84_level0_row6\" class=\"row_heading level0 row6\" >main_camera_resolution</th>\n",
              "      <td id=\"T_97d84_row6_col0\" class=\"data row6 col0\" >40.000</td>\n",
              "      <td id=\"T_97d84_row6_col1\" class=\"data row6 col1\" >48.000</td>\n",
              "    </tr>\n",
              "    <tr>\n",
              "      <th id=\"T_97d84_level0_row7\" class=\"row_heading level0 row7\" >selfie_camera_resolution</th>\n",
              "      <td id=\"T_97d84_row7_col0\" class=\"data row7 col0\" >24.000</td>\n",
              "      <td id=\"T_97d84_row7_col1\" class=\"data row7 col1\" >32.000</td>\n",
              "    </tr>\n",
              "    <tr>\n",
              "      <th id=\"T_97d84_level0_row8\" class=\"row_heading level0 row8\" >has_oled_display</th>\n",
              "      <td id=\"T_97d84_row8_col0\" class=\"data row8 col0\" >1</td>\n",
              "      <td id=\"T_97d84_row8_col1\" class=\"data row8 col1\" >1.000</td>\n",
              "    </tr>\n",
              "    <tr>\n",
              "      <th id=\"T_97d84_level0_row9\" class=\"row_heading level0 row9\" >has_memory_card_slot</th>\n",
              "      <td id=\"T_97d84_row9_col0\" class=\"data row9 col0\" >0</td>\n",
              "      <td id=\"T_97d84_row9_col1\" class=\"data row9 col1\" >0.000</td>\n",
              "    </tr>\n",
              "    <tr>\n",
              "      <th id=\"T_97d84_level0_row10\" class=\"row_heading level0 row10\" >has_stereo_speakers</th>\n",
              "      <td id=\"T_97d84_row10_col0\" class=\"data row10 col0\" >1</td>\n",
              "      <td id=\"T_97d84_row10_col1\" class=\"data row10 col1\" >1.000</td>\n",
              "    </tr>\n",
              "    <tr>\n",
              "      <th id=\"T_97d84_level0_row11\" class=\"row_heading level0 row11\" >has_3.5mm_jack</th>\n",
              "      <td id=\"T_97d84_row11_col0\" class=\"data row11 col0\" >1</td>\n",
              "      <td id=\"T_97d84_row11_col1\" class=\"data row11 col1\" >1.000</td>\n",
              "    </tr>\n",
              "    <tr>\n",
              "      <th id=\"T_97d84_level0_row12\" class=\"row_heading level0 row12\" >has_wlan_5ghz</th>\n",
              "      <td id=\"T_97d84_row12_col0\" class=\"data row12 col0\" >1</td>\n",
              "      <td id=\"T_97d84_row12_col1\" class=\"data row12 col1\" >1.000</td>\n",
              "    </tr>\n",
              "    <tr>\n",
              "      <th id=\"T_97d84_level0_row13\" class=\"row_heading level0 row13\" >has_nfc</th>\n",
              "      <td id=\"T_97d84_row13_col0\" class=\"data row13 col0\" >1</td>\n",
              "      <td id=\"T_97d84_row13_col1\" class=\"data row13 col1\" >1.000</td>\n",
              "    </tr>\n",
              "    <tr>\n",
              "      <th id=\"T_97d84_level0_row14\" class=\"row_heading level0 row14\" >has_wireless_charging</th>\n",
              "      <td id=\"T_97d84_row14_col0\" class=\"data row14 col0\" >0</td>\n",
              "      <td id=\"T_97d84_row14_col1\" class=\"data row14 col1\" >0.000</td>\n",
              "    </tr>\n",
              "    <tr>\n",
              "      <th id=\"T_97d84_level0_row15\" class=\"row_heading level0 row15\" >is_waterproof</th>\n",
              "      <td id=\"T_97d84_row15_col0\" class=\"data row15 col0\" >1</td>\n",
              "      <td id=\"T_97d84_row15_col1\" class=\"data row15 col1\" >0.000</td>\n",
              "    </tr>\n",
              "    <tr>\n",
              "      <th id=\"T_97d84_level0_row16\" class=\"row_heading level0 row16\" >network_technology</th>\n",
              "      <td id=\"T_97d84_row16_col0\" class=\"data row16 col0\" >4G</td>\n",
              "      <td id=\"T_97d84_row16_col1\" class=\"data row16 col1\" >4G</td>\n",
              "    </tr>\n",
              "    <tr>\n",
              "      <th id=\"T_97d84_level0_row17\" class=\"row_heading level0 row17\" >num_main_camera</th>\n",
              "      <td id=\"T_97d84_row17_col0\" class=\"data row17 col0\" >3.000</td>\n",
              "      <td id=\"T_97d84_row17_col1\" class=\"data row17 col1\" >2.000</td>\n",
              "    </tr>\n",
              "    <tr>\n",
              "      <th id=\"T_97d84_level0_row18\" class=\"row_heading level0 row18\" >num_selfie_camera</th>\n",
              "      <td id=\"T_97d84_row18_col0\" class=\"data row18 col0\" >1.000</td>\n",
              "      <td id=\"T_97d84_row18_col1\" class=\"data row18 col1\" >1.000</td>\n",
              "    </tr>\n",
              "    <tr>\n",
              "      <th id=\"T_97d84_level0_row19\" class=\"row_heading level0 row19\" >display_resolution</th>\n",
              "      <td id=\"T_97d84_row19_col0\" class=\"data row19 col0\" >FHD</td>\n",
              "      <td id=\"T_97d84_row19_col1\" class=\"data row19 col1\" >FHD</td>\n",
              "    </tr>\n",
              "  </tbody>\n",
              "</table>\n"
            ],
            "text/plain": [
              "<pandas.io.formats.style.Styler at 0x249a4f9d100>"
            ]
          },
          "execution_count": 41,
          "metadata": {},
          "output_type": "execute_result"
        }
      ],
      "source": [
        "compare_dfs[0]"
      ]
    }
  ],
  "metadata": {
    "colab": {
      "collapsed_sections": [
        "kUK6ZFgIJeDN",
        "rjaMX7NFB0kD"
      ],
      "provenance": []
    },
    "kernelspec": {
      "display_name": "master-aiii",
      "language": "python",
      "name": "python3"
    },
    "language_info": {
      "codemirror_mode": {
        "name": "ipython",
        "version": 3
      },
      "file_extension": ".py",
      "mimetype": "text/x-python",
      "name": "python",
      "nbconvert_exporter": "python",
      "pygments_lexer": "ipython3",
      "version": "3.9.16"
    },
    "orig_nbformat": 4
  },
  "nbformat": 4,
  "nbformat_minor": 0
}
