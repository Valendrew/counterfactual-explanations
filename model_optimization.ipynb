{
  "cells": [
    {
      "cell_type": "code",
      "execution_count": null,
      "metadata": {
        "id": "3H8oNyn5hxDj"
      },
      "outputs": [],
      "source": [
        "%load_ext autoreload\n",
        "%autoreload 2"
      ]
    },
    {
      "cell_type": "markdown",
      "metadata": {
        "id": "-O4QQW-h6uY2"
      },
      "source": [
        "# Counterfactual explanations for the GSMarena dataset"
      ]
    },
    {
      "cell_type": "markdown",
      "metadata": {
        "id": "_ENFpSBw6uY4"
      },
      "source": [
        "## Installations and imports"
      ]
    },
    {
      "cell_type": "code",
      "source": [
        "COLAB_ENV = \"google.colab\" in str(get_ipython()) if hasattr(__builtins__, \"__IPYTHON__\") else False\n",
        "print(f\"Currently {'not ' if not COLAB_ENV else ''}running in a Colab environment\")"
      ],
      "metadata": {
        "id": "8J8V1hcZiJNi"
      },
      "execution_count": null,
      "outputs": []
    },
    {
      "cell_type": "markdown",
      "metadata": {
        "id": "iIZ2YuAA6uY4"
      },
      "source": [
        "### Installations\n",
        "\n",
        "Run the following cells to download the repository and install the required packages.\n",
        "\n",
        "This is needed only on Google Colab, if you are running this notebook locally, you can skip this step."
      ]
    },
    {
      "cell_type": "code",
      "execution_count": null,
      "metadata": {
        "colab": {
          "base_uri": "https://localhost:8080/"
        },
        "id": "PLpL1sS_Wbg8",
        "outputId": "0d0588ee-cddc-4f85-d710-7a80e2404bd1"
      },
      "outputs": [
        {
          "output_type": "stream",
          "name": "stdout",
          "text": [
            "Cloning into 'my_repo'...\n",
            "remote: Enumerating objects: 290, done.\u001b[K\n",
            "remote: Counting objects: 100% (10/10), done.\u001b[K\n",
            "remote: Compressing objects: 100% (9/9), done.\u001b[K\n",
            "remote: Total 290 (delta 1), reused 7 (delta 1), pack-reused 280\u001b[K\n",
            "Receiving objects: 100% (290/290), 13.05 MiB | 9.30 MiB/s, done.\n",
            "Resolving deltas: 100% (135/135), done.\n",
            "/content/my_repo\n",
            "\u001b[2K     \u001b[90m━━━━━━━━━━━━━━━━━━━━━━━━━━━━━━━━━━━━━━━\u001b[0m \u001b[32m322.5/322.5 kB\u001b[0m \u001b[31m8.6 MB/s\u001b[0m eta \u001b[36m0:00:00\u001b[0m\n",
            "\u001b[2K     \u001b[90m━━━━━━━━━━━━━━━━━━━━━━━━━━━━━━━━━━━━━━━━\u001b[0m \u001b[32m2.6/2.6 MB\u001b[0m \u001b[31m44.1 MB/s\u001b[0m eta \u001b[36m0:00:00\u001b[0m\n",
            "\u001b[2K     \u001b[90m━━━━━━━━━━━━━━━━━━━━━━━━━━━━━━━━━━━━━━━━\u001b[0m \u001b[32m11.0/11.0 MB\u001b[0m \u001b[31m84.7 MB/s\u001b[0m eta \u001b[36m0:00:00\u001b[0m\n",
            "\u001b[2K     \u001b[90m━━━━━━━━━━━━━━━━━━━━━━━━━━━━━━━━━━━━━━\u001b[0m \u001b[32m294.0/294.0 kB\u001b[0m \u001b[31m25.8 MB/s\u001b[0m eta \u001b[36m0:00:00\u001b[0m\n",
            "\u001b[2K     \u001b[90m━━━━━━━━━━━━━━━━━━━━━━━━━━━━━━━━━━━━━━━━\u001b[0m \u001b[32m13.5/13.5 MB\u001b[0m \u001b[31m78.2 MB/s\u001b[0m eta \u001b[36m0:00:00\u001b[0m\n",
            "\u001b[2K     \u001b[90m━━━━━━━━━━━━━━━━━━━━━━━━━━━━━━━━━━━━━━━━\u001b[0m \u001b[32m49.6/49.6 kB\u001b[0m \u001b[31m4.8 MB/s\u001b[0m eta \u001b[36m0:00:00\u001b[0m\n",
            "\u001b[2K     \u001b[90m━━━━━━━━━━━━━━━━━━━━━━━━━━━━━━━━━━━━━━━━\u001b[0m \u001b[32m83.8/83.8 kB\u001b[0m \u001b[31m8.6 MB/s\u001b[0m eta \u001b[36m0:00:00\u001b[0m\n",
            "\u001b[?25h"
          ]
        }
      ],
      "source": [
        "if COLAB_ENV:\n",
        "    !mkdir my_repo\n",
        "    !git clone https://github.com/Valendrew/counterfactual-explanations.git my_repo\n",
        "    %cd my_repo\n",
        "    !pip install -r requirements.txt -q"
      ]
    },
    {
      "cell_type": "markdown",
      "metadata": {
        "id": "rezIflwQ6uY7"
      },
      "source": [
        "### Import of the libraries"
      ]
    },
    {
      "cell_type": "code",
      "execution_count": null,
      "metadata": {
        "id": "fqG7WfA9WQmV",
        "colab": {
          "base_uri": "https://localhost:8080/"
        },
        "outputId": "822ce4a4-b614-4fd1-e9c1-20f143889a0d"
      },
      "outputs": [
        {
          "output_type": "stream",
          "name": "stdout",
          "text": [
            "kaggle.json not found, you cannot use kaggle module.\n"
          ]
        }
      ],
      "source": [
        "import matplotlib.pyplot as plt\n",
        "import numpy as np\n",
        "import pandas as pd\n",
        "import seaborn as sns\n",
        "from sklearn.model_selection import train_test_split\n",
        "from sklearn.preprocessing import LabelBinarizer, StandardScaler, OneHotEncoder\n",
        "from sklearn.metrics import accuracy_score, confusion_matrix\n",
        "\n",
        "from utils import util_data"
      ]
    },
    {
      "cell_type": "markdown",
      "metadata": {
        "id": "pEIHV80N6uY7"
      },
      "source": [
        "## Load the dataset\n",
        "\n",
        "Laod the processed dataset from the repository."
      ]
    },
    {
      "cell_type": "code",
      "execution_count": null,
      "metadata": {
        "colab": {
          "base_uri": "https://localhost:8080/",
          "height": 207
        },
        "id": "pIdNHIdYWQmb",
        "outputId": "03f922b0-6a37-4eee-d7a5-ca15dfb9c69e"
      },
      "outputs": [
        {
          "output_type": "execute_result",
          "data": {
            "text/plain": [
              "   misc_price  display_size   battery  memory_ram_gb  memory_rom_gb  \\\n",
              "0         1.0      0.000000  0.896591      -0.759706       0.000000   \n",
              "1         1.0     -0.349620 -0.270677       0.589274       0.681825   \n",
              "2         1.0     -0.592228 -0.762559      -1.830451      -1.306845   \n",
              "\n",
              "   main_camera_resolution  selfie_camera_resolution  has_oled_display  \\\n",
              "0                0.411819                  0.572431                 0   \n",
              "1                0.000000                  1.196205                 0   \n",
              "2                0.000000                  0.000000                 0   \n",
              "\n",
              "   has_memory_card_slot  has_stereo_speakers  has_3.5mm_jack  has_wlan_5ghz  \\\n",
              "0                     1                    0               1              0   \n",
              "1                     1                    0               1              0   \n",
              "2                     1                    0               1              0   \n",
              "\n",
              "   has_nfc  has_wireless_charging  is_waterproof  network_technology  \\\n",
              "0        0                      0              0                 1.0   \n",
              "1        0                      0              0                 1.0   \n",
              "2        0                      0              0                 1.0   \n",
              "\n",
              "   num_main_camera  num_selfie_camera  display_resolution  \n",
              "0              0.0                0.0                 2.0  \n",
              "1              0.0                0.0                 2.0  \n",
              "2              0.0                0.0                 1.0  "
            ],
            "text/html": [
              "\n",
              "  <div id=\"df-25618739-d1fd-42a4-b738-77b5b497635d\">\n",
              "    <div class=\"colab-df-container\">\n",
              "      <div>\n",
              "<style scoped>\n",
              "    .dataframe tbody tr th:only-of-type {\n",
              "        vertical-align: middle;\n",
              "    }\n",
              "\n",
              "    .dataframe tbody tr th {\n",
              "        vertical-align: top;\n",
              "    }\n",
              "\n",
              "    .dataframe thead th {\n",
              "        text-align: right;\n",
              "    }\n",
              "</style>\n",
              "<table border=\"1\" class=\"dataframe\">\n",
              "  <thead>\n",
              "    <tr style=\"text-align: right;\">\n",
              "      <th></th>\n",
              "      <th>misc_price</th>\n",
              "      <th>display_size</th>\n",
              "      <th>battery</th>\n",
              "      <th>memory_ram_gb</th>\n",
              "      <th>memory_rom_gb</th>\n",
              "      <th>main_camera_resolution</th>\n",
              "      <th>selfie_camera_resolution</th>\n",
              "      <th>has_oled_display</th>\n",
              "      <th>has_memory_card_slot</th>\n",
              "      <th>has_stereo_speakers</th>\n",
              "      <th>has_3.5mm_jack</th>\n",
              "      <th>has_wlan_5ghz</th>\n",
              "      <th>has_nfc</th>\n",
              "      <th>has_wireless_charging</th>\n",
              "      <th>is_waterproof</th>\n",
              "      <th>network_technology</th>\n",
              "      <th>num_main_camera</th>\n",
              "      <th>num_selfie_camera</th>\n",
              "      <th>display_resolution</th>\n",
              "    </tr>\n",
              "  </thead>\n",
              "  <tbody>\n",
              "    <tr>\n",
              "      <th>0</th>\n",
              "      <td>1.0</td>\n",
              "      <td>0.000000</td>\n",
              "      <td>0.896591</td>\n",
              "      <td>-0.759706</td>\n",
              "      <td>0.000000</td>\n",
              "      <td>0.411819</td>\n",
              "      <td>0.572431</td>\n",
              "      <td>0</td>\n",
              "      <td>1</td>\n",
              "      <td>0</td>\n",
              "      <td>1</td>\n",
              "      <td>0</td>\n",
              "      <td>0</td>\n",
              "      <td>0</td>\n",
              "      <td>0</td>\n",
              "      <td>1.0</td>\n",
              "      <td>0.0</td>\n",
              "      <td>0.0</td>\n",
              "      <td>2.0</td>\n",
              "    </tr>\n",
              "    <tr>\n",
              "      <th>1</th>\n",
              "      <td>1.0</td>\n",
              "      <td>-0.349620</td>\n",
              "      <td>-0.270677</td>\n",
              "      <td>0.589274</td>\n",
              "      <td>0.681825</td>\n",
              "      <td>0.000000</td>\n",
              "      <td>1.196205</td>\n",
              "      <td>0</td>\n",
              "      <td>1</td>\n",
              "      <td>0</td>\n",
              "      <td>1</td>\n",
              "      <td>0</td>\n",
              "      <td>0</td>\n",
              "      <td>0</td>\n",
              "      <td>0</td>\n",
              "      <td>1.0</td>\n",
              "      <td>0.0</td>\n",
              "      <td>0.0</td>\n",
              "      <td>2.0</td>\n",
              "    </tr>\n",
              "    <tr>\n",
              "      <th>2</th>\n",
              "      <td>1.0</td>\n",
              "      <td>-0.592228</td>\n",
              "      <td>-0.762559</td>\n",
              "      <td>-1.830451</td>\n",
              "      <td>-1.306845</td>\n",
              "      <td>0.000000</td>\n",
              "      <td>0.000000</td>\n",
              "      <td>0</td>\n",
              "      <td>1</td>\n",
              "      <td>0</td>\n",
              "      <td>1</td>\n",
              "      <td>0</td>\n",
              "      <td>0</td>\n",
              "      <td>0</td>\n",
              "      <td>0</td>\n",
              "      <td>1.0</td>\n",
              "      <td>0.0</td>\n",
              "      <td>0.0</td>\n",
              "      <td>1.0</td>\n",
              "    </tr>\n",
              "  </tbody>\n",
              "</table>\n",
              "</div>\n",
              "      <button class=\"colab-df-convert\" onclick=\"convertToInteractive('df-25618739-d1fd-42a4-b738-77b5b497635d')\"\n",
              "              title=\"Convert this dataframe to an interactive table.\"\n",
              "              style=\"display:none;\">\n",
              "        \n",
              "  <svg xmlns=\"http://www.w3.org/2000/svg\" height=\"24px\"viewBox=\"0 0 24 24\"\n",
              "       width=\"24px\">\n",
              "    <path d=\"M0 0h24v24H0V0z\" fill=\"none\"/>\n",
              "    <path d=\"M18.56 5.44l.94 2.06.94-2.06 2.06-.94-2.06-.94-.94-2.06-.94 2.06-2.06.94zm-11 1L8.5 8.5l.94-2.06 2.06-.94-2.06-.94L8.5 2.5l-.94 2.06-2.06.94zm10 10l.94 2.06.94-2.06 2.06-.94-2.06-.94-.94-2.06-.94 2.06-2.06.94z\"/><path d=\"M17.41 7.96l-1.37-1.37c-.4-.4-.92-.59-1.43-.59-.52 0-1.04.2-1.43.59L10.3 9.45l-7.72 7.72c-.78.78-.78 2.05 0 2.83L4 21.41c.39.39.9.59 1.41.59.51 0 1.02-.2 1.41-.59l7.78-7.78 2.81-2.81c.8-.78.8-2.07 0-2.86zM5.41 20L4 18.59l7.72-7.72 1.47 1.35L5.41 20z\"/>\n",
              "  </svg>\n",
              "      </button>\n",
              "      \n",
              "  <style>\n",
              "    .colab-df-container {\n",
              "      display:flex;\n",
              "      flex-wrap:wrap;\n",
              "      gap: 12px;\n",
              "    }\n",
              "\n",
              "    .colab-df-convert {\n",
              "      background-color: #E8F0FE;\n",
              "      border: none;\n",
              "      border-radius: 50%;\n",
              "      cursor: pointer;\n",
              "      display: none;\n",
              "      fill: #1967D2;\n",
              "      height: 32px;\n",
              "      padding: 0 0 0 0;\n",
              "      width: 32px;\n",
              "    }\n",
              "\n",
              "    .colab-df-convert:hover {\n",
              "      background-color: #E2EBFA;\n",
              "      box-shadow: 0px 1px 2px rgba(60, 64, 67, 0.3), 0px 1px 3px 1px rgba(60, 64, 67, 0.15);\n",
              "      fill: #174EA6;\n",
              "    }\n",
              "\n",
              "    [theme=dark] .colab-df-convert {\n",
              "      background-color: #3B4455;\n",
              "      fill: #D2E3FC;\n",
              "    }\n",
              "\n",
              "    [theme=dark] .colab-df-convert:hover {\n",
              "      background-color: #434B5C;\n",
              "      box-shadow: 0px 1px 3px 1px rgba(0, 0, 0, 0.15);\n",
              "      filter: drop-shadow(0px 1px 2px rgba(0, 0, 0, 0.3));\n",
              "      fill: #FFFFFF;\n",
              "    }\n",
              "  </style>\n",
              "\n",
              "      <script>\n",
              "        const buttonEl =\n",
              "          document.querySelector('#df-25618739-d1fd-42a4-b738-77b5b497635d button.colab-df-convert');\n",
              "        buttonEl.style.display =\n",
              "          google.colab.kernel.accessAllowed ? 'block' : 'none';\n",
              "\n",
              "        async function convertToInteractive(key) {\n",
              "          const element = document.querySelector('#df-25618739-d1fd-42a4-b738-77b5b497635d');\n",
              "          const dataTable =\n",
              "            await google.colab.kernel.invokeFunction('convertToInteractive',\n",
              "                                                     [key], {});\n",
              "          if (!dataTable) return;\n",
              "\n",
              "          const docLinkHtml = 'Like what you see? Visit the ' +\n",
              "            '<a target=\"_blank\" href=https://colab.research.google.com/notebooks/data_table.ipynb>data table notebook</a>'\n",
              "            + ' to learn more about interactive tables.';\n",
              "          element.innerHTML = '';\n",
              "          dataTable['output_type'] = 'display_data';\n",
              "          await google.colab.output.renderOutput(dataTable, element);\n",
              "          const docLink = document.createElement('div');\n",
              "          docLink.innerHTML = docLinkHtml;\n",
              "          element.appendChild(docLink);\n",
              "        }\n",
              "      </script>\n",
              "    </div>\n",
              "  </div>\n",
              "  "
            ]
          },
          "metadata": {},
          "execution_count": 60
        }
      ],
      "source": [
        "df_train = pd.read_csv(\"data/model/gsm_train.csv\")\n",
        "df_test = pd.read_csv(\"data/model/gsm_test.csv\")\n",
        "\n",
        "df_train.head(3)"
      ]
    },
    {
      "cell_type": "markdown",
      "metadata": {
        "id": "f70fu-A26uY8"
      },
      "source": [
        "The dataset doesn't contain duplicates, and it is already preprocessed."
      ]
    },
    {
      "cell_type": "code",
      "execution_count": null,
      "metadata": {
        "colab": {
          "base_uri": "https://localhost:8080/",
          "height": 113
        },
        "id": "24PklCDlWQmf",
        "outputId": "4c9f0efd-c3f9-44e1-bd19-190a8dedc9ab"
      },
      "outputs": [
        {
          "output_type": "execute_result",
          "data": {
            "text/plain": [
              "Empty DataFrame\n",
              "Columns: [misc_price, display_size, battery, memory_ram_gb, memory_rom_gb, main_camera_resolution, selfie_camera_resolution, has_oled_display, has_memory_card_slot, has_stereo_speakers, has_3.5mm_jack, has_wlan_5ghz, has_nfc, has_wireless_charging, is_waterproof, network_technology, num_main_camera, num_selfie_camera, display_resolution]\n",
              "Index: []"
            ],
            "text/html": [
              "\n",
              "  <div id=\"df-fdd70eb1-ae0f-4b14-9a70-0b13cf597c22\">\n",
              "    <div class=\"colab-df-container\">\n",
              "      <div>\n",
              "<style scoped>\n",
              "    .dataframe tbody tr th:only-of-type {\n",
              "        vertical-align: middle;\n",
              "    }\n",
              "\n",
              "    .dataframe tbody tr th {\n",
              "        vertical-align: top;\n",
              "    }\n",
              "\n",
              "    .dataframe thead th {\n",
              "        text-align: right;\n",
              "    }\n",
              "</style>\n",
              "<table border=\"1\" class=\"dataframe\">\n",
              "  <thead>\n",
              "    <tr style=\"text-align: right;\">\n",
              "      <th></th>\n",
              "      <th>misc_price</th>\n",
              "      <th>display_size</th>\n",
              "      <th>battery</th>\n",
              "      <th>memory_ram_gb</th>\n",
              "      <th>memory_rom_gb</th>\n",
              "      <th>main_camera_resolution</th>\n",
              "      <th>selfie_camera_resolution</th>\n",
              "      <th>has_oled_display</th>\n",
              "      <th>has_memory_card_slot</th>\n",
              "      <th>has_stereo_speakers</th>\n",
              "      <th>has_3.5mm_jack</th>\n",
              "      <th>has_wlan_5ghz</th>\n",
              "      <th>has_nfc</th>\n",
              "      <th>has_wireless_charging</th>\n",
              "      <th>is_waterproof</th>\n",
              "      <th>network_technology</th>\n",
              "      <th>num_main_camera</th>\n",
              "      <th>num_selfie_camera</th>\n",
              "      <th>display_resolution</th>\n",
              "    </tr>\n",
              "  </thead>\n",
              "  <tbody>\n",
              "  </tbody>\n",
              "</table>\n",
              "</div>\n",
              "      <button class=\"colab-df-convert\" onclick=\"convertToInteractive('df-fdd70eb1-ae0f-4b14-9a70-0b13cf597c22')\"\n",
              "              title=\"Convert this dataframe to an interactive table.\"\n",
              "              style=\"display:none;\">\n",
              "        \n",
              "  <svg xmlns=\"http://www.w3.org/2000/svg\" height=\"24px\"viewBox=\"0 0 24 24\"\n",
              "       width=\"24px\">\n",
              "    <path d=\"M0 0h24v24H0V0z\" fill=\"none\"/>\n",
              "    <path d=\"M18.56 5.44l.94 2.06.94-2.06 2.06-.94-2.06-.94-.94-2.06-.94 2.06-2.06.94zm-11 1L8.5 8.5l.94-2.06 2.06-.94-2.06-.94L8.5 2.5l-.94 2.06-2.06.94zm10 10l.94 2.06.94-2.06 2.06-.94-2.06-.94-.94-2.06-.94 2.06-2.06.94z\"/><path d=\"M17.41 7.96l-1.37-1.37c-.4-.4-.92-.59-1.43-.59-.52 0-1.04.2-1.43.59L10.3 9.45l-7.72 7.72c-.78.78-.78 2.05 0 2.83L4 21.41c.39.39.9.59 1.41.59.51 0 1.02-.2 1.41-.59l7.78-7.78 2.81-2.81c.8-.78.8-2.07 0-2.86zM5.41 20L4 18.59l7.72-7.72 1.47 1.35L5.41 20z\"/>\n",
              "  </svg>\n",
              "      </button>\n",
              "      \n",
              "  <style>\n",
              "    .colab-df-container {\n",
              "      display:flex;\n",
              "      flex-wrap:wrap;\n",
              "      gap: 12px;\n",
              "    }\n",
              "\n",
              "    .colab-df-convert {\n",
              "      background-color: #E8F0FE;\n",
              "      border: none;\n",
              "      border-radius: 50%;\n",
              "      cursor: pointer;\n",
              "      display: none;\n",
              "      fill: #1967D2;\n",
              "      height: 32px;\n",
              "      padding: 0 0 0 0;\n",
              "      width: 32px;\n",
              "    }\n",
              "\n",
              "    .colab-df-convert:hover {\n",
              "      background-color: #E2EBFA;\n",
              "      box-shadow: 0px 1px 2px rgba(60, 64, 67, 0.3), 0px 1px 3px 1px rgba(60, 64, 67, 0.15);\n",
              "      fill: #174EA6;\n",
              "    }\n",
              "\n",
              "    [theme=dark] .colab-df-convert {\n",
              "      background-color: #3B4455;\n",
              "      fill: #D2E3FC;\n",
              "    }\n",
              "\n",
              "    [theme=dark] .colab-df-convert:hover {\n",
              "      background-color: #434B5C;\n",
              "      box-shadow: 0px 1px 3px 1px rgba(0, 0, 0, 0.15);\n",
              "      filter: drop-shadow(0px 1px 2px rgba(0, 0, 0, 0.3));\n",
              "      fill: #FFFFFF;\n",
              "    }\n",
              "  </style>\n",
              "\n",
              "      <script>\n",
              "        const buttonEl =\n",
              "          document.querySelector('#df-fdd70eb1-ae0f-4b14-9a70-0b13cf597c22 button.colab-df-convert');\n",
              "        buttonEl.style.display =\n",
              "          google.colab.kernel.accessAllowed ? 'block' : 'none';\n",
              "\n",
              "        async function convertToInteractive(key) {\n",
              "          const element = document.querySelector('#df-fdd70eb1-ae0f-4b14-9a70-0b13cf597c22');\n",
              "          const dataTable =\n",
              "            await google.colab.kernel.invokeFunction('convertToInteractive',\n",
              "                                                     [key], {});\n",
              "          if (!dataTable) return;\n",
              "\n",
              "          const docLinkHtml = 'Like what you see? Visit the ' +\n",
              "            '<a target=\"_blank\" href=https://colab.research.google.com/notebooks/data_table.ipynb>data table notebook</a>'\n",
              "            + ' to learn more about interactive tables.';\n",
              "          element.innerHTML = '';\n",
              "          dataTable['output_type'] = 'display_data';\n",
              "          await google.colab.output.renderOutput(dataTable, element);\n",
              "          const docLink = document.createElement('div');\n",
              "          docLink.innerHTML = docLinkHtml;\n",
              "          element.appendChild(docLink);\n",
              "        }\n",
              "      </script>\n",
              "    </div>\n",
              "  </div>\n",
              "  "
            ]
          },
          "metadata": {},
          "execution_count": 61
        }
      ],
      "source": [
        "# Show duplicated rows\n",
        "def get_dup_rows(df, drop_cols):\n",
        "    dup_rows = df[df.duplicated(subset=df.columns.drop(drop_cols), keep=False)]\n",
        "    return dup_rows\n",
        "\n",
        "get_dup_rows(df_train, [\"misc_price\"])"
      ]
    },
    {
      "cell_type": "markdown",
      "metadata": {
        "id": "uveeAiW26uY9"
      },
      "source": [
        "The dataset doesn't contain null values. The total number of rows is 2205."
      ]
    },
    {
      "cell_type": "code",
      "execution_count": null,
      "metadata": {
        "colab": {
          "base_uri": "https://localhost:8080/"
        },
        "id": "u49KUQ0yWQmi",
        "outputId": "cca6588a-6727-47d3-fca0-b812bfa5d8de"
      },
      "outputs": [
        {
          "output_type": "stream",
          "name": "stdout",
          "text": [
            "Null values:0\n",
            "Number of duplicated rows: 0\n",
            "Number of rows: 1757\n"
          ]
        }
      ],
      "source": [
        "print(f\"Null values:{df_train.isna().sum().sum()}\")\n",
        "print(f\"Number of duplicated rows: {df_train.duplicated().sum()}\")\n",
        "print(f\"Number of rows: {df_train.shape[0]}\")"
      ]
    },
    {
      "cell_type": "code",
      "execution_count": null,
      "metadata": {
        "colab": {
          "base_uri": "https://localhost:8080/",
          "height": 175
        },
        "id": "BhsOqo4uWQm2",
        "outputId": "2e24d574-465a-495f-e21b-3c2ce356085b"
      },
      "outputs": [
        {
          "output_type": "execute_result",
          "data": {
            "text/plain": [
              "    Frequency  Count\n",
              "0.0    24.59%    432\n",
              "1.0    30.45%    535\n",
              "2.0    28.00%    492\n",
              "3.0    16.96%    298"
            ],
            "text/html": [
              "\n",
              "  <div id=\"df-9353dd45-a9da-4c38-8cd9-cf2ed6228fad\">\n",
              "    <div class=\"colab-df-container\">\n",
              "      <div>\n",
              "<style scoped>\n",
              "    .dataframe tbody tr th:only-of-type {\n",
              "        vertical-align: middle;\n",
              "    }\n",
              "\n",
              "    .dataframe tbody tr th {\n",
              "        vertical-align: top;\n",
              "    }\n",
              "\n",
              "    .dataframe thead th {\n",
              "        text-align: right;\n",
              "    }\n",
              "</style>\n",
              "<table border=\"1\" class=\"dataframe\">\n",
              "  <thead>\n",
              "    <tr style=\"text-align: right;\">\n",
              "      <th></th>\n",
              "      <th>Frequency</th>\n",
              "      <th>Count</th>\n",
              "    </tr>\n",
              "  </thead>\n",
              "  <tbody>\n",
              "    <tr>\n",
              "      <th>0.0</th>\n",
              "      <td>24.59%</td>\n",
              "      <td>432</td>\n",
              "    </tr>\n",
              "    <tr>\n",
              "      <th>1.0</th>\n",
              "      <td>30.45%</td>\n",
              "      <td>535</td>\n",
              "    </tr>\n",
              "    <tr>\n",
              "      <th>2.0</th>\n",
              "      <td>28.00%</td>\n",
              "      <td>492</td>\n",
              "    </tr>\n",
              "    <tr>\n",
              "      <th>3.0</th>\n",
              "      <td>16.96%</td>\n",
              "      <td>298</td>\n",
              "    </tr>\n",
              "  </tbody>\n",
              "</table>\n",
              "</div>\n",
              "      <button class=\"colab-df-convert\" onclick=\"convertToInteractive('df-9353dd45-a9da-4c38-8cd9-cf2ed6228fad')\"\n",
              "              title=\"Convert this dataframe to an interactive table.\"\n",
              "              style=\"display:none;\">\n",
              "        \n",
              "  <svg xmlns=\"http://www.w3.org/2000/svg\" height=\"24px\"viewBox=\"0 0 24 24\"\n",
              "       width=\"24px\">\n",
              "    <path d=\"M0 0h24v24H0V0z\" fill=\"none\"/>\n",
              "    <path d=\"M18.56 5.44l.94 2.06.94-2.06 2.06-.94-2.06-.94-.94-2.06-.94 2.06-2.06.94zm-11 1L8.5 8.5l.94-2.06 2.06-.94-2.06-.94L8.5 2.5l-.94 2.06-2.06.94zm10 10l.94 2.06.94-2.06 2.06-.94-2.06-.94-.94-2.06-.94 2.06-2.06.94z\"/><path d=\"M17.41 7.96l-1.37-1.37c-.4-.4-.92-.59-1.43-.59-.52 0-1.04.2-1.43.59L10.3 9.45l-7.72 7.72c-.78.78-.78 2.05 0 2.83L4 21.41c.39.39.9.59 1.41.59.51 0 1.02-.2 1.41-.59l7.78-7.78 2.81-2.81c.8-.78.8-2.07 0-2.86zM5.41 20L4 18.59l7.72-7.72 1.47 1.35L5.41 20z\"/>\n",
              "  </svg>\n",
              "      </button>\n",
              "      \n",
              "  <style>\n",
              "    .colab-df-container {\n",
              "      display:flex;\n",
              "      flex-wrap:wrap;\n",
              "      gap: 12px;\n",
              "    }\n",
              "\n",
              "    .colab-df-convert {\n",
              "      background-color: #E8F0FE;\n",
              "      border: none;\n",
              "      border-radius: 50%;\n",
              "      cursor: pointer;\n",
              "      display: none;\n",
              "      fill: #1967D2;\n",
              "      height: 32px;\n",
              "      padding: 0 0 0 0;\n",
              "      width: 32px;\n",
              "    }\n",
              "\n",
              "    .colab-df-convert:hover {\n",
              "      background-color: #E2EBFA;\n",
              "      box-shadow: 0px 1px 2px rgba(60, 64, 67, 0.3), 0px 1px 3px 1px rgba(60, 64, 67, 0.15);\n",
              "      fill: #174EA6;\n",
              "    }\n",
              "\n",
              "    [theme=dark] .colab-df-convert {\n",
              "      background-color: #3B4455;\n",
              "      fill: #D2E3FC;\n",
              "    }\n",
              "\n",
              "    [theme=dark] .colab-df-convert:hover {\n",
              "      background-color: #434B5C;\n",
              "      box-shadow: 0px 1px 3px 1px rgba(0, 0, 0, 0.15);\n",
              "      filter: drop-shadow(0px 1px 2px rgba(0, 0, 0, 0.3));\n",
              "      fill: #FFFFFF;\n",
              "    }\n",
              "  </style>\n",
              "\n",
              "      <script>\n",
              "        const buttonEl =\n",
              "          document.querySelector('#df-9353dd45-a9da-4c38-8cd9-cf2ed6228fad button.colab-df-convert');\n",
              "        buttonEl.style.display =\n",
              "          google.colab.kernel.accessAllowed ? 'block' : 'none';\n",
              "\n",
              "        async function convertToInteractive(key) {\n",
              "          const element = document.querySelector('#df-9353dd45-a9da-4c38-8cd9-cf2ed6228fad');\n",
              "          const dataTable =\n",
              "            await google.colab.kernel.invokeFunction('convertToInteractive',\n",
              "                                                     [key], {});\n",
              "          if (!dataTable) return;\n",
              "\n",
              "          const docLinkHtml = 'Like what you see? Visit the ' +\n",
              "            '<a target=\"_blank\" href=https://colab.research.google.com/notebooks/data_table.ipynb>data table notebook</a>'\n",
              "            + ' to learn more about interactive tables.';\n",
              "          element.innerHTML = '';\n",
              "          dataTable['output_type'] = 'display_data';\n",
              "          await google.colab.output.renderOutput(dataTable, element);\n",
              "          const docLink = document.createElement('div');\n",
              "          docLink.innerHTML = docLinkHtml;\n",
              "          element.appendChild(docLink);\n",
              "        }\n",
              "      </script>\n",
              "    </div>\n",
              "  </div>\n",
              "  "
            ]
          },
          "metadata": {},
          "execution_count": 63
        }
      ],
      "source": [
        "util_data.count_frequency_labels(df_train.misc_price).sort_index()"
      ]
    },
    {
      "cell_type": "markdown",
      "metadata": {
        "id": "YePq6HG36uZF"
      },
      "source": [
        "### Train test split for the model"
      ]
    },
    {
      "cell_type": "code",
      "execution_count": null,
      "metadata": {
        "colab": {
          "base_uri": "https://localhost:8080/"
        },
        "id": "iZfYW09zWQm9",
        "outputId": "e4e31bf9-9b1b-40e4-bfe0-5ae5c887b368"
      },
      "outputs": [
        {
          "output_type": "stream",
          "name": "stdout",
          "text": [
            "Train dataset: (1757, 19), Test dataset: (440, 19)\n"
          ]
        }
      ],
      "source": [
        "print(f\"Train dataset: {df_train.shape}, Test dataset: {df_test.shape}\")"
      ]
    },
    {
      "cell_type": "code",
      "execution_count": null,
      "metadata": {
        "id": "bpSBNw6GhxDu"
      },
      "outputs": [],
      "source": [
        "X_train, y_train = df_train.drop(\"misc_price\", axis=1), df_train.misc_price\n",
        "X_test, y_test = df_test.drop(\"misc_price\", axis=1), df_test.misc_price"
      ]
    },
    {
      "cell_type": "code",
      "execution_count": null,
      "metadata": {
        "colab": {
          "base_uri": "https://localhost:8080/"
        },
        "id": "iF1LJxzRWQm-",
        "outputId": "d9d80034-f72e-44ce-ec30-b79578a532d4"
      },
      "outputs": [
        {
          "output_type": "stream",
          "name": "stdout",
          "text": [
            "X_train: (1405, 18), X_val: (352, 18), y_train: (1405,), y_val: (352,)\n"
          ]
        }
      ],
      "source": [
        "# split train set into train and validation\n",
        "X_train, X_val, y_train, y_val = train_test_split(X_train, y_train, test_size=0.2, random_state=42)\n",
        "print(f\"X_train: {X_train.shape}, X_val: {X_val.shape}, y_train: {y_train.shape}, y_val: {y_val.shape}\")"
      ]
    },
    {
      "cell_type": "markdown",
      "metadata": {
        "id": "3XEiDTkhCP3h"
      },
      "source": [
        "## Models"
      ]
    },
    {
      "cell_type": "markdown",
      "metadata": {
        "id": "ap_Ap07uGjQ-"
      },
      "source": [
        "### Neural network"
      ]
    },
    {
      "cell_type": "code",
      "execution_count": null,
      "metadata": {
        "id": "pxpwFAG-GnC4"
      },
      "outputs": [],
      "source": [
        "import torch\n",
        "from torch.utils.data import DataLoader\n",
        "import torchsummary\n",
        "\n",
        "import math\n",
        "\n",
        "from utils import util_models \n",
        "from utils import util_plot "
      ]
    },
    {
      "cell_type": "code",
      "execution_count": null,
      "metadata": {
        "id": "9ylY7CuSHYuX"
      },
      "outputs": [],
      "source": [
        "EPOCHS = 70\n",
        "BATCH_SIZE = 256\n",
        "LR = 0.001\n",
        "N_SPLITS = 5\n",
        "SEED = 42\n",
        "\n",
        "device = torch.device(\"cuda:0\" if torch.cuda.is_available() else \"cpu\")"
      ]
    },
    {
      "cell_type": "code",
      "execution_count": null,
      "metadata": {
        "colab": {
          "base_uri": "https://localhost:8080/"
        },
        "id": "Q7ODvMAiINrj",
        "outputId": "81adca77-34ee-43ec-8ef1-4fabd52f85b8"
      },
      "outputs": [
        {
          "output_type": "stream",
          "name": "stdout",
          "text": [
            "==========================================================================================\n",
            "Layer (type:depth-idx)                   Output Shape              Param #\n",
            "==========================================================================================\n",
            "├─Linear: 1-1                            [-1, 256, 64]             1,216\n",
            "├─ReLU: 1-2                              [-1, 256, 64]             --\n",
            "├─ModuleList: 1                          []                        --\n",
            "|    └─Linear: 2-1                       [-1, 256, 256]            16,640\n",
            "├─ReLU: 1-3                              [-1, 256, 256]            --\n",
            "├─ModuleList: 1                          []                        --\n",
            "|    └─Linear: 2-2                       [-1, 256, 64]             16,448\n",
            "├─ReLU: 1-4                              [-1, 256, 64]             --\n",
            "├─Linear: 1-5                            [-1, 256, 4]              260\n",
            "==========================================================================================\n",
            "Total params: 34,564\n",
            "Trainable params: 34,564\n",
            "Non-trainable params: 0\n",
            "Total mult-adds (M): 0.03\n",
            "==========================================================================================\n",
            "Input size (MB): 0.02\n",
            "Forward/backward pass size (MB): 0.76\n",
            "Params size (MB): 0.13\n",
            "Estimated Total Size (MB): 0.91\n",
            "==========================================================================================\n"
          ]
        }
      ],
      "source": [
        "num_features = X_train.shape[1]\n",
        "hidden_layers = [64, 256, 64]\n",
        "\n",
        "nn_model = util_models.NNClassification(hidden_layers, num_features, num_class=4).to(device)\n",
        "torchsummary.summary(nn_model, (BATCH_SIZE, num_features));"
      ]
    },
    {
      "cell_type": "code",
      "source": [
        "test_data = util_models.TestData(X_test.values)\n",
        "test_loader = DataLoader(dataset=test_data, batch_size=BATCH_SIZE)"
      ],
      "metadata": {
        "id": "m8GXDfix1M7q"
      },
      "execution_count": null,
      "outputs": []
    },
    {
      "cell_type": "markdown",
      "metadata": {
        "id": "qWXzuBcXV5sC"
      },
      "source": [
        "#### Holdout"
      ]
    },
    {
      "cell_type": "code",
      "execution_count": null,
      "metadata": {
        "id": "fFy3Zvvoazim"
      },
      "outputs": [],
      "source": [
        "train_data = util_models.TrainData(X_train.values, y_train.values)\n",
        "val_data = util_models.TrainData(X_val.values, y_val.values)\n",
        "\n",
        "train_loader = DataLoader(dataset=train_data, batch_size=BATCH_SIZE, shuffle=True)\n",
        "val_loader = DataLoader(dataset=val_data, batch_size=BATCH_SIZE)"
      ]
    },
    {
      "cell_type": "code",
      "execution_count": null,
      "metadata": {
        "colab": {
          "base_uri": "https://localhost:8080/"
        },
        "id": "P-i-qrgvmmSi",
        "outputId": "c7412891-4983-4441-dd7b-847ac45f67f8"
      },
      "outputs": [
        {
          "output_type": "stream",
          "name": "stdout",
          "text": [
            "Epoch 001: | Loss: 1.36887 | Acc: 32.028 | Val loss: 1.33869 | Acc: 44.318\n",
            "Epoch 002: | Loss: 1.31290 | Acc: 46.762 | Val loss: 1.27840 | Acc: 47.727\n",
            "Epoch 003: | Loss: 1.24394 | Acc: 48.470 | Val loss: 1.20234 | Acc: 46.591\n",
            "Epoch 004: | Loss: 1.16380 | Acc: 48.897 | Val loss: 1.13357 | Acc: 49.716\n",
            "Epoch 005: | Loss: 1.08534 | Acc: 51.957 | Val loss: 1.06907 | Acc: 51.705\n",
            "Epoch 006: | Loss: 1.02911 | Acc: 52.883 | Val loss: 1.03376 | Acc: 52.557\n",
            "Epoch 007: | Loss: 1.01161 | Acc: 53.381 | Val loss: 1.00637 | Acc: 55.682\n",
            "Epoch 008: | Loss: 1.00029 | Acc: 53.950 | Val loss: 0.99515 | Acc: 54.261\n",
            "Epoch 009: | Loss: 0.97497 | Acc: 54.875 | Val loss: 0.97941 | Acc: 56.250\n",
            "Epoch 010: | Loss: 0.96654 | Acc: 55.374 | Val loss: 0.96480 | Acc: 55.682\n",
            "Epoch 011: | Loss: 0.95166 | Acc: 56.441 | Val loss: 0.97433 | Acc: 55.966\n",
            "Epoch 012: | Loss: 0.93966 | Acc: 56.868 | Val loss: 0.95772 | Acc: 57.386\n",
            "Epoch 013: | Loss: 0.94379 | Acc: 56.940 | Val loss: 0.96963 | Acc: 55.114\n",
            "Epoch 014: | Loss: 0.92530 | Acc: 57.224 | Val loss: 0.96010 | Acc: 56.818\n",
            "Epoch 015: | Loss: 0.92732 | Acc: 57.224 | Val loss: 0.96720 | Acc: 54.830\n",
            "Epoch 016: | Loss: 0.92672 | Acc: 57.509 | Val loss: 0.96251 | Acc: 55.966\n",
            "Epoch 017: | Loss: 0.91631 | Acc: 58.292 | Val loss: 0.96207 | Acc: 56.818\n",
            "Epoch 018: | Loss: 0.90406 | Acc: 59.288 | Val loss: 0.96926 | Acc: 55.682\n",
            "Epoch 019: | Loss: 0.91317 | Acc: 58.932 | Val loss: 0.96346 | Acc: 54.830\n",
            "Epoch 020: | Loss: 0.90007 | Acc: 57.865 | Val loss: 0.96446 | Acc: 56.818\n",
            "Epoch 021: | Loss: 0.90193 | Acc: 59.288 | Val loss: 0.96584 | Acc: 55.682\n",
            "Epoch 022: | Loss: 0.89586 | Acc: 59.573 | Val loss: 0.98107 | Acc: 56.250\n",
            "Epoch 023: | Loss: 0.88693 | Acc: 59.644 | Val loss: 0.97412 | Acc: 55.398\n",
            "Epoch 024: | Loss: 0.88561 | Acc: 60.071 | Val loss: 0.99159 | Acc: 53.125\n",
            "Epoch 025: | Loss: 0.88780 | Acc: 60.000 | Val loss: 0.98007 | Acc: 55.398\n",
            "Epoch 026: | Loss: 0.88081 | Acc: 60.854 | Val loss: 1.00797 | Acc: 52.557\n",
            "Epoch 027: | Loss: 0.88713 | Acc: 59.929 | Val loss: 0.98199 | Acc: 57.102\n",
            "Epoch 028: | Loss: 0.87685 | Acc: 61.851 | Val loss: 0.99787 | Acc: 54.261\n",
            "Epoch 029: | Loss: 0.86592 | Acc: 60.569 | Val loss: 0.98666 | Acc: 56.534\n",
            "Epoch 030: | Loss: 0.86783 | Acc: 62.491 | Val loss: 1.00117 | Acc: 54.261\n",
            "Epoch 031: | Loss: 0.86058 | Acc: 61.495 | Val loss: 0.99287 | Acc: 55.682\n",
            "Epoch 032: | Loss: 0.84678 | Acc: 63.416 | Val loss: 1.00338 | Acc: 54.545\n",
            "Epoch 033: | Loss: 0.84657 | Acc: 61.993 | Val loss: 0.99666 | Acc: 56.250\n",
            "Epoch 034: | Loss: 0.84282 | Acc: 63.559 | Val loss: 1.00438 | Acc: 56.250\n",
            "Epoch 035: | Loss: 0.83607 | Acc: 63.274 | Val loss: 1.00497 | Acc: 56.250\n",
            "Epoch 036: | Loss: 0.83259 | Acc: 63.559 | Val loss: 1.01492 | Acc: 55.114\n",
            "Epoch 037: | Loss: 0.82687 | Acc: 64.982 | Val loss: 1.01444 | Acc: 55.114\n",
            "Epoch 038: | Loss: 0.84215 | Acc: 63.416 | Val loss: 1.02126 | Acc: 55.682\n",
            "Epoch 039: | Loss: 0.81582 | Acc: 65.125 | Val loss: 1.02526 | Acc: 55.114\n",
            "Epoch 040: | Loss: 0.81473 | Acc: 64.128 | Val loss: 1.02334 | Acc: 55.398\n",
            "Epoch 041: | Loss: 0.81661 | Acc: 65.765 | Val loss: 1.03366 | Acc: 55.114\n",
            "Epoch 042: | Loss: 0.80876 | Acc: 65.125 | Val loss: 1.03880 | Acc: 55.398\n",
            "Epoch 043: | Loss: 0.81839 | Acc: 65.694 | Val loss: 1.03340 | Acc: 54.545\n",
            "Epoch 044: | Loss: 0.80396 | Acc: 65.694 | Val loss: 1.04815 | Acc: 53.977\n",
            "Epoch 045: | Loss: 0.79318 | Acc: 66.121 | Val loss: 1.03989 | Acc: 54.830\n",
            "Epoch 046: | Loss: 0.78555 | Acc: 65.836 | Val loss: 1.05302 | Acc: 54.830\n",
            "Epoch 047: | Loss: 0.78927 | Acc: 67.544 | Val loss: 1.04797 | Acc: 54.830\n",
            "Epoch 048: | Loss: 0.77430 | Acc: 65.694 | Val loss: 1.06148 | Acc: 54.545\n",
            "Epoch 049: | Loss: 0.78495 | Acc: 66.548 | Val loss: 1.06459 | Acc: 54.830\n",
            "Epoch 050: | Loss: 0.78555 | Acc: 67.046 | Val loss: 1.06263 | Acc: 54.545\n",
            "Epoch 051: | Loss: 0.76969 | Acc: 67.331 | Val loss: 1.08134 | Acc: 53.409\n",
            "Epoch 052: | Loss: 0.76947 | Acc: 68.399 | Val loss: 1.07509 | Acc: 55.682\n",
            "Epoch 053: | Loss: 0.76344 | Acc: 67.331 | Val loss: 1.10649 | Acc: 53.125\n",
            "Epoch 054: | Loss: 0.75765 | Acc: 68.256 | Val loss: 1.07995 | Acc: 54.830\n",
            "Epoch 055: | Loss: 0.75789 | Acc: 68.968 | Val loss: 1.08431 | Acc: 55.682\n",
            "Epoch 056: | Loss: 0.76055 | Acc: 68.043 | Val loss: 1.09945 | Acc: 53.125\n",
            "Epoch 057: | Loss: 0.75719 | Acc: 69.466 | Val loss: 1.09199 | Acc: 55.682\n",
            "Epoch 058: | Loss: 0.73599 | Acc: 68.256 | Val loss: 1.10599 | Acc: 53.693\n",
            "Epoch 059: | Loss: 0.73509 | Acc: 68.399 | Val loss: 1.10017 | Acc: 53.977\n",
            "Epoch 060: | Loss: 0.73467 | Acc: 69.253 | Val loss: 1.11333 | Acc: 54.261\n",
            "Epoch 061: | Loss: 0.73299 | Acc: 69.395 | Val loss: 1.13461 | Acc: 53.125\n",
            "Epoch 062: | Loss: 0.74205 | Acc: 69.110 | Val loss: 1.12012 | Acc: 55.114\n",
            "Epoch 063: | Loss: 0.72425 | Acc: 69.395 | Val loss: 1.11576 | Acc: 55.682\n",
            "Epoch 064: | Loss: 0.71034 | Acc: 70.249 | Val loss: 1.13252 | Acc: 52.841\n",
            "Epoch 065: | Loss: 0.70663 | Acc: 70.249 | Val loss: 1.12203 | Acc: 55.398\n",
            "Epoch 066: | Loss: 0.71394 | Acc: 70.320 | Val loss: 1.14269 | Acc: 53.977\n",
            "Epoch 067: | Loss: 0.70412 | Acc: 70.534 | Val loss: 1.15312 | Acc: 53.693\n",
            "Epoch 068: | Loss: 0.70332 | Acc: 69.680 | Val loss: 1.14226 | Acc: 54.830\n",
            "Epoch 069: | Loss: 0.69866 | Acc: 71.246 | Val loss: 1.16047 | Acc: 53.125\n",
            "Epoch 070: | Loss: 0.69496 | Acc: 71.388 | Val loss: 1.16689 | Acc: 53.125\n"
          ]
        }
      ],
      "source": [
        "losses, accuracies = util_models.train_model(train_loader, val_loader, nn_model, device, LR, EPOCHS, print_every=1)"
      ]
    },
    {
      "cell_type": "markdown",
      "metadata": {
        "id": "kUK6ZFgIJeDN"
      },
      "source": [
        "#### K-FOLD"
      ]
    },
    {
      "cell_type": "code",
      "execution_count": null,
      "metadata": {
        "colab": {
          "base_uri": "https://localhost:8080/"
        },
        "id": "315JdTmZISDZ",
        "outputId": "ca3a03df-8d7f-46ee-e439-64a5fd67e609"
      },
      "outputs": [
        {
          "output_type": "stream",
          "name": "stdout",
          "text": [
            "Epoch 005: | Loss: 1.03758 | Acc: 52.028 | Val loss: 1.06601 | Acc: 50.568\n",
            "Epoch 010: | Loss: 0.88759 | Acc: 58.719 | Val loss: 1.01104 | Acc: 52.557\n",
            "Epoch 015: | Loss: 0.86257 | Acc: 59.359 | Val loss: 0.98401 | Acc: 54.545\n",
            "Epoch 020: | Loss: 0.83495 | Acc: 61.637 | Val loss: 0.97650 | Acc: 53.409\n",
            "Epoch 025: | Loss: 0.82895 | Acc: 61.779 | Val loss: 0.97932 | Acc: 55.682\n",
            "Epoch 030: | Loss: 0.81240 | Acc: 62.562 | Val loss: 0.98378 | Acc: 55.966\n",
            "Epoch 035: | Loss: 0.77877 | Acc: 63.630 | Val loss: 0.97711 | Acc: 55.398\n",
            "Epoch 040: | Loss: 0.76920 | Acc: 64.911 | Val loss: 0.98119 | Acc: 55.966\n",
            "Epoch 045: | Loss: 0.74702 | Acc: 65.765 | Val loss: 0.98574 | Acc: 56.250\n",
            "Epoch 050: | Loss: 0.74338 | Acc: 66.121 | Val loss: 1.00857 | Acc: 54.261\n",
            "Epoch 055: | Loss: 0.73769 | Acc: 65.694 | Val loss: 1.01412 | Acc: 53.693\n",
            "Epoch 060: | Loss: 0.70198 | Acc: 68.612 | Val loss: 1.03125 | Acc: 53.693\n",
            "Epoch 065: | Loss: 0.68100 | Acc: 68.754 | Val loss: 1.03318 | Acc: 55.114\n",
            "Epoch 070: | Loss: 0.65911 | Acc: 69.537 | Val loss: 1.06068 | Acc: 55.966\n",
            "kfold on group 1 accuracy:  55.97\n",
            "\n",
            "Epoch 005: | Loss: 1.04386 | Acc: 52.811 | Val loss: 0.99344 | Acc: 55.398\n",
            "Epoch 010: | Loss: 0.90457 | Acc: 58.221 | Val loss: 0.91342 | Acc: 57.955\n",
            "Epoch 015: | Loss: 0.88210 | Acc: 59.502 | Val loss: 0.90270 | Acc: 57.386\n",
            "Epoch 020: | Loss: 0.86583 | Acc: 61.637 | Val loss: 0.89811 | Acc: 57.670\n",
            "Epoch 025: | Loss: 0.84261 | Acc: 61.566 | Val loss: 0.90487 | Acc: 59.943\n",
            "Epoch 030: | Loss: 0.82742 | Acc: 62.135 | Val loss: 0.89434 | Acc: 56.250\n",
            "Epoch 035: | Loss: 0.80891 | Acc: 61.779 | Val loss: 0.90339 | Acc: 59.659\n",
            "Epoch 040: | Loss: 0.79127 | Acc: 64.128 | Val loss: 0.89625 | Acc: 58.239\n",
            "Epoch 045: | Loss: 0.77896 | Acc: 63.488 | Val loss: 0.90030 | Acc: 61.080\n",
            "Epoch 050: | Loss: 0.75024 | Acc: 65.979 | Val loss: 0.90814 | Acc: 58.807\n",
            "Epoch 055: | Loss: 0.74011 | Acc: 66.192 | Val loss: 0.91954 | Acc: 53.693\n",
            "Epoch 060: | Loss: 0.72739 | Acc: 66.548 | Val loss: 0.93971 | Acc: 59.659\n",
            "Epoch 065: | Loss: 0.70321 | Acc: 68.114 | Val loss: 0.94157 | Acc: 53.693\n",
            "Epoch 070: | Loss: 0.68032 | Acc: 69.751 | Val loss: 0.93710 | Acc: 56.250\n",
            "kfold on group 2 accuracy:  56.25\n",
            "\n",
            "Epoch 005: | Loss: 1.02900 | Acc: 52.276 | Val loss: 0.97223 | Acc: 58.120\n",
            "Epoch 010: | Loss: 0.91460 | Acc: 58.962 | Val loss: 0.90900 | Acc: 58.689\n",
            "Epoch 015: | Loss: 0.87539 | Acc: 60.953 | Val loss: 0.89077 | Acc: 57.835\n",
            "Epoch 020: | Loss: 0.84767 | Acc: 60.669 | Val loss: 0.88406 | Acc: 57.835\n",
            "Epoch 025: | Loss: 0.82329 | Acc: 63.442 | Val loss: 0.88915 | Acc: 57.835\n",
            "Epoch 030: | Loss: 0.80907 | Acc: 64.011 | Val loss: 0.88943 | Acc: 58.974\n",
            "Epoch 035: | Loss: 0.80522 | Acc: 64.651 | Val loss: 0.89591 | Acc: 56.695\n",
            "Epoch 040: | Loss: 0.76336 | Acc: 66.999 | Val loss: 0.88899 | Acc: 55.840\n",
            "Epoch 045: | Loss: 0.74986 | Acc: 66.927 | Val loss: 0.91089 | Acc: 55.840\n",
            "Epoch 050: | Loss: 0.73669 | Acc: 67.994 | Val loss: 0.90454 | Acc: 54.986\n",
            "Epoch 055: | Loss: 0.71188 | Acc: 69.488 | Val loss: 0.92612 | Acc: 55.556\n",
            "Epoch 060: | Loss: 0.69512 | Acc: 70.413 | Val loss: 0.92381 | Acc: 55.556\n",
            "Epoch 065: | Loss: 0.68974 | Acc: 70.982 | Val loss: 0.93492 | Acc: 56.410\n",
            "Epoch 070: | Loss: 0.66960 | Acc: 70.697 | Val loss: 0.95197 | Acc: 55.556\n",
            "kfold on group 3 accuracy:  55.56\n",
            "\n",
            "Epoch 005: | Loss: 1.04475 | Acc: 51.565 | Val loss: 1.01530 | Acc: 53.846\n",
            "Epoch 010: | Loss: 0.90197 | Acc: 57.468 | Val loss: 0.91198 | Acc: 58.974\n",
            "Epoch 015: | Loss: 0.88299 | Acc: 59.602 | Val loss: 0.90720 | Acc: 58.405\n",
            "Epoch 020: | Loss: 0.87033 | Acc: 60.811 | Val loss: 0.90273 | Acc: 59.259\n",
            "Epoch 025: | Loss: 0.84673 | Acc: 61.878 | Val loss: 0.91333 | Acc: 58.974\n",
            "Epoch 030: | Loss: 0.83380 | Acc: 62.660 | Val loss: 0.91737 | Acc: 58.689\n",
            "Epoch 035: | Loss: 0.80791 | Acc: 62.802 | Val loss: 0.92841 | Acc: 57.265\n",
            "Epoch 040: | Loss: 0.79967 | Acc: 62.802 | Val loss: 0.93786 | Acc: 58.689\n",
            "Epoch 045: | Loss: 0.78431 | Acc: 64.580 | Val loss: 0.94755 | Acc: 57.550\n",
            "Epoch 050: | Loss: 0.75919 | Acc: 65.789 | Val loss: 0.95169 | Acc: 56.410\n",
            "Epoch 055: | Loss: 0.75029 | Acc: 66.358 | Val loss: 0.96440 | Acc: 56.980\n",
            "Epoch 060: | Loss: 0.72982 | Acc: 68.137 | Val loss: 0.97887 | Acc: 56.410\n",
            "Epoch 065: | Loss: 0.70364 | Acc: 68.563 | Val loss: 0.98924 | Acc: 56.695\n",
            "Epoch 070: | Loss: 0.69192 | Acc: 69.772 | Val loss: 1.00584 | Acc: 56.695\n",
            "kfold on group 4 accuracy:  56.70\n",
            "\n",
            "Epoch 005: | Loss: 1.07440 | Acc: 51.636 | Val loss: 1.07080 | Acc: 56.125\n",
            "Epoch 010: | Loss: 0.91250 | Acc: 58.393 | Val loss: 0.93883 | Acc: 57.835\n",
            "Epoch 015: | Loss: 0.87272 | Acc: 60.313 | Val loss: 0.92533 | Acc: 57.835\n",
            "Epoch 020: | Loss: 0.85515 | Acc: 61.807 | Val loss: 0.91532 | Acc: 58.405\n",
            "Epoch 025: | Loss: 0.83441 | Acc: 61.309 | Val loss: 0.91303 | Acc: 55.840\n",
            "Epoch 030: | Loss: 0.81098 | Acc: 62.873 | Val loss: 0.90983 | Acc: 60.969\n",
            "Epoch 035: | Loss: 0.81087 | Acc: 62.589 | Val loss: 0.90570 | Acc: 59.259\n",
            "Epoch 040: | Loss: 0.77997 | Acc: 63.940 | Val loss: 0.90517 | Acc: 58.405\n",
            "Epoch 045: | Loss: 0.76109 | Acc: 65.576 | Val loss: 0.91292 | Acc: 57.265\n",
            "Epoch 050: | Loss: 0.74580 | Acc: 67.354 | Val loss: 0.92437 | Acc: 56.410\n",
            "Epoch 055: | Loss: 0.71530 | Acc: 67.994 | Val loss: 0.92914 | Acc: 56.125\n",
            "Epoch 060: | Loss: 0.70926 | Acc: 68.421 | Val loss: 0.95788 | Acc: 56.125\n",
            "Epoch 065: | Loss: 0.68941 | Acc: 69.346 | Val loss: 0.95188 | Acc: 56.695\n",
            "Epoch 070: | Loss: 0.65254 | Acc: 71.835 | Val loss: 0.97165 | Acc: 56.980\n",
            "kfold on group 5 accuracy:  56.98\n",
            "\n"
          ]
        }
      ],
      "source": [
        "n_losses, n_accuracies = util_models.kfold_train_model(X_train.values, y_train.values,\n",
        "                                                       N_SPLITS,SEED, BATCH_SIZE, nn_model,\n",
        "                                                       device, LR, EPOCHS, print_every=5)"
      ]
    },
    {
      "cell_type": "code",
      "execution_count": null,
      "metadata": {
        "colab": {
          "base_uri": "https://localhost:8080/",
          "height": 1000
        },
        "id": "O1VNkEnAIToE",
        "outputId": "6cc59455-b2c5-4a52-9d89-90e55ac02c8a"
      },
      "outputs": [
        {
          "name": "stderr",
          "output_type": "stream",
          "text": [
            "C:\\Users\\andre\\AppData\\Local\\Temp\\ipykernel_3308\\616765924.py:13: UserWarning: Matplotlib is currently using module://matplotlib_inline.backend_inline, which is a non-GUI backend, so cannot show the figure.\n",
            "  fig.show()\n"
          ]
        },
        {
          "data": {
            "image/png": "[encoded data removed]",
            "text/plain": [
              "<Figure size 1200x1200 with 6 Axes>"
            ]
          },
          "metadata": {},
          "output_type": "display_data"
        }
      ],
      "source": [
        "n_cols = 2\n",
        "n_rows = math.ceil(N_SPLITS/2)\n",
        "fig, axs = plt.subplots(nrows=n_rows, ncols=n_cols, figsize=(6 * n_cols, 4 * n_rows))\n",
        "faxs = axs.ravel()\n",
        "\n",
        "fig.suptitle(\"Loss results on K-fold\", fontsize=14)\n",
        "for i, losses in enumerate(n_losses):\n",
        "    util_plot.plot_model_results(faxs[i], EPOCHS, losses, f\"Fold {i+1}\")\n",
        "\n",
        "for i in range(1, faxs.size - N_SPLITS + 1):\n",
        "    faxs[-i].set_visible(False)\n",
        "\n",
        "fig.show()"
      ]
    },
    {
      "cell_type": "code",
      "execution_count": null,
      "metadata": {
        "colab": {
          "base_uri": "https://localhost:8080/",
          "height": 1000
        },
        "id": "dJnSgTolIWua",
        "outputId": "abacccac-995c-4c8a-fb67-ddb8d70b1aa7"
      },
      "outputs": [
        {
          "name": "stderr",
          "output_type": "stream",
          "text": [
            "C:\\Users\\andre\\AppData\\Local\\Temp\\ipykernel_3308\\998926134.py:13: UserWarning: Matplotlib is currently using module://matplotlib_inline.backend_inline, which is a non-GUI backend, so cannot show the figure.\n",
            "  fig.show()\n"
          ]
        },
        {
          "data": {
            "image/png": "[encoded data removed]",
            "text/plain": [
              "<Figure size 1200x1200 with 6 Axes>"
            ]
          },
          "metadata": {},
          "output_type": "display_data"
        }
      ],
      "source": [
        "n_cols = 2\n",
        "n_rows = math.ceil(N_SPLITS/2)\n",
        "fig, axs = plt.subplots(nrows=n_rows, ncols=n_cols, figsize=(6 * n_cols, 4 * n_rows))\n",
        "faxs = axs.ravel()\n",
        "\n",
        "fig.suptitle(\"Accuracy results on K-fold\", fontsize=14)\n",
        "for i, accuracies in enumerate(n_accuracies):\n",
        "    util_plot.plot_model_results(faxs[i], EPOCHS, accuracies, f\"Fold {i+1}\")\n",
        "\n",
        "for i in range(1, faxs.size - N_SPLITS + 1):\n",
        "    faxs[-i].set_visible(False)\n",
        "\n",
        "fig.show()"
      ]
    },
    {
      "cell_type": "markdown",
      "metadata": {
        "id": "L0Y24oXzhxDx"
      },
      "source": [
        "#### Test the model"
      ]
    },
    {
      "cell_type": "code",
      "execution_count": null,
      "metadata": {
        "id": "bReCPrPRhxDx"
      },
      "outputs": [],
      "source": [
        "y_pred = util_models.test_model(test_loader, nn_model, device)"
      ]
    },
    {
      "cell_type": "code",
      "execution_count": null,
      "metadata": {
        "id": "JXIH-gGZhxDx",
        "outputId": "ce958688-eba4-409c-ef9e-faf7d94969a0",
        "colab": {
          "base_uri": "https://localhost:8080/"
        }
      },
      "outputs": [
        {
          "output_type": "stream",
          "name": "stdout",
          "text": [
            "Lenght of y_pred: 440\n",
            "Lenght of y_test: 440\n"
          ]
        }
      ],
      "source": [
        "print(f\"Lenght of y_pred: {len(y_pred)}\")\n",
        "print(f\"Lenght of y_test: {len(y_test)}\")"
      ]
    },
    {
      "cell_type": "code",
      "execution_count": null,
      "metadata": {
        "id": "gMdeNsd4hxDx"
      },
      "outputs": [],
      "source": [
        "from sklearn.metrics import accuracy_score, classification_report, confusion_matrix"
      ]
    },
    {
      "cell_type": "code",
      "execution_count": null,
      "metadata": {
        "id": "Atr-r2EChxDy",
        "outputId": "5222a798-fa8c-42ba-b92d-73c4eed376e2",
        "colab": {
          "base_uri": "https://localhost:8080/"
        }
      },
      "outputs": [
        {
          "output_type": "stream",
          "name": "stdout",
          "text": [
            "              precision    recall  f1-score   support\n",
            "\n",
            "         low       0.57      0.70      0.63       108\n",
            "      medium       0.45      0.38      0.41       136\n",
            " medium-high       0.55      0.59      0.56       123\n",
            "        high       0.74      0.59      0.66        73\n",
            "\n",
            "    accuracy                           0.55       440\n",
            "   macro avg       0.58      0.57      0.57       440\n",
            "weighted avg       0.55      0.55      0.55       440\n",
            "\n"
          ]
        }
      ],
      "source": [
        "print(classification_report(y_test, y_pred, labels=[0,1,2,3], target_names=[\"low\", \"medium\", \"medium-high\", \"high\"]))"
      ]
    },
    {
      "cell_type": "code",
      "execution_count": null,
      "metadata": {
        "id": "KzE4UrBLhxDy",
        "outputId": "00a3d6ef-eb15-400b-8eb8-5f2738643d0a",
        "colab": {
          "base_uri": "https://localhost:8080/",
          "height": 450
        }
      },
      "outputs": [
        {
          "output_type": "execute_result",
          "data": {
            "text/plain": [
              "<Axes: >"
            ]
          },
          "metadata": {},
          "execution_count": 76
        },
        {
          "output_type": "display_data",
          "data": {
            "text/plain": [
              "<Figure size 640x480 with 2 Axes>"
            ],
            "image/png": "[encoded data removed]"
          },
          "metadata": {}
        }
      ],
      "source": [
        "# display confusion matrix with seaborn\n",
        "import seaborn as sns\n",
        "\n",
        "cm = confusion_matrix(y_test, y_pred, labels=[0,1,2,3], normalize=\"true\")\n",
        "sns.heatmap(cm, annot=True, fmt=\".2f\", cmap=\"Blues\", xticklabels=[\"low\", \"medium\", \"medium-high\", \"high\"],\n",
        "            yticklabels=[\"low\", \"medium\", \"medium-high\", \"high\"])"
      ]
    },
    {
      "cell_type": "code",
      "execution_count": null,
      "metadata": {
        "colab": {
          "base_uri": "https://localhost:8080/",
          "height": 756
        },
        "id": "MgCViCEKIgih",
        "outputId": "5a047d25-35f3-431d-fe9b-42c42af7e767"
      },
      "outputs": [
        {
          "data": {
            "image/png": "[encoded data removed]",
            "text/plain": [
              "<Figure size 600x800 with 2 Axes>"
            ]
          },
          "metadata": {},
          "output_type": "display_data"
        }
      ],
      "source": [
        "fig, axs = plt.subplots(2, figsize=(6, 4 * 2))\n",
        "\n",
        "fig.suptitle(\"Hold-out results\", fontsize=14)\n",
        "util_plot.plot_model_results(axs[0], EPOCHS, losses, f\"Loss\")\n",
        "util_plot.plot_model_results(axs[1], EPOCHS, accuracies, f\"Accuracy\")\n",
        "\n",
        "fig.show()"
      ]
    },
    {
      "cell_type": "code",
      "execution_count": null,
      "metadata": {
        "colab": {
          "base_uri": "https://localhost:8080/"
        },
        "id": "UrFP7vQuIiE6",
        "outputId": "76ab963f-8ec7-41fb-d8c5-70372664846f"
      },
      "outputs": [
        {
          "name": "stdout",
          "output_type": "stream",
          "text": [
            "Accuracy on test: 63.74622356495468\n"
          ]
        }
      ],
      "source": [
        "def evaluate_predictions(y_test, y_pred):\n",
        "    accuracy = sum([yp == yt for yp, yt in zip(y_pred, y_test)]) * 100 / len(y_test)\n",
        "    return accuracy\n",
        "\n",
        "\n",
        "y_preds = util_models.test_model(test_loader, nn_model, device)\n",
        "accuracy = evaluate_predictions(y_test, y_preds)\n",
        "print(f\"Accuracy on test: {accuracy}\")"
      ]
    },
    {
      "cell_type": "markdown",
      "metadata": {
        "id": "LHO85BN-2TlM"
      },
      "source": [
        "## Counterfactual explanation"
      ]
    },
    {
      "cell_type": "markdown",
      "metadata": {
        "id": "Z2lYfjnVBrkL"
      },
      "source": [
        "We have found two different libraries that allow to perform counterfactual explanation, the first one is OMLT and the second one is DICE."
      ]
    },
    {
      "cell_type": "markdown",
      "metadata": {
        "id": "rjaMX7NFB0kD"
      },
      "source": [
        "### OMLT"
      ]
    },
    {
      "cell_type": "code",
      "execution_count": null,
      "metadata": {
        "id": "OfUOcZXGrQ3a"
      },
      "outputs": [],
      "source": [
        "import tempfile\n",
        "\n",
        "#pyomo for optimization\n",
        "import pyomo.environ as pyo\n",
        "\n",
        "#omlt for interfacing our neural network with pyomo\n",
        "from omlt import OmltBlock\n",
        "from omlt.neuralnet import FullSpaceNNFormulation\n",
        "from omlt.io.onnx import write_onnx_model_with_bounds, load_onnx_neural_network_with_bounds\n",
        "\n",
        "import onnx"
      ]
    },
    {
      "cell_type": "markdown",
      "metadata": {
        "id": "nXkEMHf91BqY"
      },
      "source": [
        "We need to declare the bounds for the variables that we are considering."
      ]
    },
    {
      "cell_type": "code",
      "execution_count": null,
      "metadata": {
        "id": "_3o4xcA130l1"
      },
      "outputs": [],
      "source": [
        "x_test_np = X_test.values\n",
        "y_test_np = y_test.values"
      ]
    },
    {
      "cell_type": "code",
      "execution_count": null,
      "metadata": {
        "id": "cmDnUTadDbn3"
      },
      "outputs": [],
      "source": [
        "idx = 3\n",
        "sample_idx = x_test_np[idx]\n",
        "label_idx = y_test_np[idx]\n",
        "\n",
        "#define dummy input tensor    \n",
        "dummy_sample = torch.tensor(x_test_np[idx].reshape((1, -1))).type(torch.float)\n",
        "\n",
        "# Define input region defined by infinity norm\n",
        "# epsilon_infty = 5e-1\n",
        "lb = np.repeat(-1, len(sample_idx))\n",
        "# lb = np.maximum(-1, sample_idx - epsilon_infty)\n",
        "ub = np.repeat(1, len(sample_idx))\n",
        "# ub = np.minimum(1, sample_idx + epsilon_infty)\n",
        "\n",
        "#save input bounds as dictionary\n",
        "input_bounds = {}\n",
        "for i in range(x_test_np.shape[1]):\n",
        "    input_bounds[i] = (float(lb[i]), float(ub[i])) "
      ]
    },
    {
      "cell_type": "code",
      "execution_count": null,
      "metadata": {
        "colab": {
          "base_uri": "https://localhost:8080/"
        },
        "id": "CbtFlQHk6uZS",
        "outputId": "045a9a68-b637-4a79-e918-537e0182ac56"
      },
      "outputs": [
        {
          "name": "stdout",
          "output_type": "stream",
          "text": [
            "Label of sample 3 is: 2.0\n"
          ]
        }
      ],
      "source": [
        "print(f\"Label of sample {idx} is: {label_idx}\")"
      ]
    },
    {
      "cell_type": "markdown",
      "metadata": {
        "id": "1Wf_pZWo2Zz9"
      },
      "source": [
        "We also export the torch model to an onnx model using the relative function, then we build the formulation of the model that will be used by OMLT to create the optimization model."
      ]
    },
    {
      "cell_type": "code",
      "execution_count": null,
      "metadata": {
        "colab": {
          "base_uri": "https://localhost:8080/"
        },
        "id": "nk5CEBZz04gg",
        "outputId": "b7bad78e-3c92-456f-fe98-bf2e0c7dbcee"
      },
      "outputs": [
        {
          "name": "stdout",
          "output_type": "stream",
          "text": [
            "================ Diagnostic Run torch.onnx.export version 2.0.0 ================\n",
            "verbose: False, log level: Level.ERROR\n",
            "======================= 0 NONE 0 NOTE 0 WARNING 0 ERROR ========================\n",
            "\n"
          ]
        }
      ],
      "source": [
        "with tempfile.NamedTemporaryFile(suffix='.onnx', delete=False) as f:\n",
        "    # Export neural network to ONNX\n",
        "    torch.onnx.export(\n",
        "        nn_model,\n",
        "        dummy_sample,\n",
        "        f,\n",
        "        input_names=['input'],\n",
        "        output_names=['output'],\n",
        "        dynamic_axes={\n",
        "            'input': {0: 'batch_size'},\n",
        "            'output': {0: 'batch_size'}\n",
        "        }\n",
        "    )\n",
        "    # Write ONNX model and its bounds using OMLT\n",
        "    write_onnx_model_with_bounds(f.name, None, input_bounds)\n",
        "    # Load the network definition from the ONNX model\n",
        "    network_definition = load_onnx_neural_network_with_bounds(f.name)"
      ]
    },
    {
      "cell_type": "code",
      "execution_count": null,
      "metadata": {
        "id": "PJ5TU9-S2Nrf"
      },
      "outputs": [],
      "source": [
        "formulation = FullSpaceNNFormulation(network_definition)"
      ]
    },
    {
      "cell_type": "markdown",
      "metadata": {
        "id": "Ww-bLsdm3Eeu"
      },
      "source": [
        "We can now encode the neural network in a Pyomo model."
      ]
    },
    {
      "cell_type": "code",
      "execution_count": null,
      "metadata": {
        "id": "LxCOjxD83K_0"
      },
      "outputs": [],
      "source": [
        "# Create pyomo model\n",
        "pyo_model = pyo.ConcreteModel()\n",
        "\n",
        "# Create an OMLT block for the neural network and build its formulation\n",
        "pyo_model.nn = OmltBlock()\n",
        "pyo_model.nn.build_formulation(formulation) "
      ]
    },
    {
      "cell_type": "code",
      "execution_count": null,
      "metadata": {
        "cellView": "form",
        "colab": {
          "base_uri": "https://localhost:8080/"
        },
        "id": "TTAsNgKp13YB",
        "outputId": "9fdc8577-f20e-446b-872e-fbaec5bd8a58"
      },
      "outputs": [
        {
          "name": "stdout",
          "output_type": "stream",
          "text": [
            "The minimum probability for a correctly predicted sample is 0.385\n",
            "The mean probability for the correctly predicted samples is 0.743\n"
          ]
        }
      ],
      "source": [
        "#@title #### Compute the mean probability for the correctly predicted samples\n",
        "#@markdown Since in the objective function we need to take a range of probabilities for computing\n",
        "#@markdown the error (and we consider only correctly predicted samples for the counterfactual generation),\n",
        "#@markdown we compute the mean and minimum value of the probabilities of the correct class.   \n",
        "def count_correct_pred(model, X_test, y_test):\n",
        "    model.eval()\n",
        "    with torch.no_grad():\n",
        "        correct_prob = []\n",
        "        for ind in range(X_test.shape[0]):\n",
        "            sample = torch.tensor(X_test.iloc[ind].tolist(), dtype=torch.float).view(1, -1)\n",
        "            prob_pred = torch.softmax(model(sample), dim=1)\n",
        "\n",
        "            max_prob = torch.argmax(prob_pred).item()\n",
        "            if max_prob == y_test.values[ind]:\n",
        "                correct_prob.append(prob_pred[0, max_prob])\n",
        "    return torch.tensor(correct_prob)\n",
        "\n",
        "\n",
        "correct_probs = count_correct_pred(nn_model, X_test, y_test)\n",
        "print(f\"The minimum probability for a correctly predicted sample is {torch.min(correct_probs):.3f}\")\n",
        "print(f\"The mean probability for the correctly predicted samples is {torch.mean(correct_probs):.3f}\")"
      ]
    },
    {
      "cell_type": "markdown",
      "metadata": {
        "id": "p-GGjvqnCjp3"
      },
      "source": [
        "We looked for a multi-objective function and we found this interesting [paper](https://arxiv.org/pdf/2004.11165.pdf) in which the authors proposed different objectives to optimize."
      ]
    },
    {
      "cell_type": "markdown",
      "metadata": {
        "id": "BDR7a4g_YFd8"
      },
      "source": [
        "TODO: check the upper bound we set, because 20 may be wrong given that we use the squared difference instead of the absolute value of the difference."
      ]
    },
    {
      "cell_type": "code",
      "execution_count": null,
      "metadata": {
        "cellView": "form",
        "id": "PQTn3l6O19In"
      },
      "outputs": [],
      "source": [
        "#@title #### Functions to create objectives\n",
        "def my_softmax(input, n_class, real_class):\n",
        "    '''\n",
        "        It returns the probability of the desired class after having computed the\n",
        "        softmax for the input array.\n",
        "    '''\n",
        "    exps = [pyo.exp(input[i]) for i in range(n_class)]\n",
        "    probs = []\n",
        "    for exp in exps:\n",
        "        res = exp/sum(exps)\n",
        "        probs.append(res)\n",
        "    return probs[real_class]\n",
        "\n",
        "\n",
        "def features_constraints(pyo_model, feat_info):\n",
        "    '''\n",
        "        Set the bounds and the domain for each features given a dictionary that\n",
        "        contains the bounds as a tuple, the domain as a pyomo domain and the position\n",
        "        of the feature in the columns.\n",
        "    '''\n",
        "    for feat, info in feat_info.items():\n",
        "        bounds = info[\"bounds\"]\n",
        "        domain = info[\"domain\"]\n",
        "        idx = info[\"index\"]\n",
        "\n",
        "        pyo_model.nn.inputs[idx].domain = domain\n",
        "        pyo_model.nn.inputs[idx].bounds = bounds\n",
        "\n",
        "\n",
        "def create_cat_constraints_obj_2(pyo_model, bounds, idx_cat, sample, feat_network):\n",
        "    '''\n",
        "        It creates the sum value for the categorical features of the second \n",
        "        objective function.\n",
        "\n",
        "        Parameters:\n",
        "            - pyo_model\n",
        "                The model in which the variables and the constraints will be added.\n",
        "            - bounds: tuple(int)\n",
        "                The lower and upper value for the constraints.\n",
        "            - idx_cat: list[int]\n",
        "                The indexes of the categorical features that we need to compare.\n",
        "            - sample: np.ndarray\n",
        "                The values for the categorical features of the original sample \n",
        "                for which the counterfactual is generated.\n",
        "            - feat_network: list[int]\n",
        "                The indexes of the connectivity features for which we need to add\n",
        "                exclusive or constraints.\n",
        "    '''\n",
        "    L, U = bounds\n",
        "    # Set of indexes for the features\n",
        "    feat_set = pyo.Set(initialize=range(0, len(idx_cat)))\n",
        "\n",
        "    pyo_model.b_o2 = pyo.Var(feat_set, domain=pyo.Binary)\n",
        "    pyo_model.diff_o2 = pyo.Var(feat_set, domain=pyo.Integers)\n",
        "    pyo_model.constr_less_o2 = pyo.Constraint(feat_set)\n",
        "    pyo_model.constr_great_o2 = pyo.Constraint(feat_set)\n",
        "\n",
        "    # Limit ohe features (network_connectivity)\n",
        "    for idx in feat_network:\n",
        "        pyo_model.nn.inputs[idx].domain = pyo.Binary\n",
        "\n",
        "    pyo_model.xor_conn = pyo.Constraint()\n",
        "    pyo_model.xor_conn = sum([pyo_model.nn.inputs[idx] for idx in feat_network]) == 1\n",
        "\n",
        "    cat_dist = 0\n",
        "    for i, idx in enumerate(idx_cat):\n",
        "        pyo_model.diff_o2[i] = (sample[i] - pyo_model.nn.inputs[idx])**2\n",
        "\n",
        "        pyo_model.constr_less_o2[i] = pyo_model.diff_o2[i] >= (pyo_model.b_o2[i]*(-L+1))+L\n",
        "        # Add a +1 at the end because pyomo needs <= and not <\n",
        "        pyo_model.constr_great_o2[i] = pyo_model.diff_o2[i] <= (pyo_model.b_o2[i]*(U-1) + 1)+1\n",
        "        cat_dist += pyo_model.b_o2[i]\n",
        "\n",
        "    return cat_dist\n",
        "\n",
        "\n",
        "def gower_distance(x, cat, num, ranges, pyo_model, feat_network, feat_info):\n",
        "    '''\n",
        "        It computes the Gower distance.\n",
        "\n",
        "        Parameters: \n",
        "            - x: np.ndarray\n",
        "                The array of features of the original sample.\n",
        "            - cat: list[int]\n",
        "                The indexes of the categorical features.\n",
        "            - num: list[int]\n",
        "                The indexes of the continuous features.\n",
        "            - ranges: np.ndarray\n",
        "                The list of ranges for the continuous features.\n",
        "            - feat_network: list[int]\n",
        "                The indexes of the positions of the network connectivity features\n",
        "                to set exclusive or.\n",
        "            - feat_info: dict\n",
        "                It contains the information about the features to set the bounds\n",
        "                and domain for each one.\n",
        "    '''\n",
        "    features_constraints(pyo_model, feat_info)\n",
        "\n",
        "    num_dist = 0\n",
        "    for i, idx in enumerate(num):\n",
        "        num_dist += (1/ranges[i])*((x[idx]-pyo_model.nn.inputs[idx])**2)\n",
        "    \n",
        "    cat_dist = create_cat_constraints_obj_2(pyo_model, (0, 20), cat, x[cat], feat_network)\n",
        "\n",
        "    return (cat_dist+num_dist)/len(x)\n",
        "\n",
        "\n",
        "def compute_obj_3(pyo_model, bounds, n_feat, sample):\n",
        "    '''\n",
        "        It creates the third objective function, that limits the number of features\n",
        "        changed during counterfactual.\n",
        "\n",
        "        Parameters:\n",
        "            - pyo_model\n",
        "                The model in which the variables and the constraints will be added.\n",
        "            - bounds: tuple[int]\n",
        "                The bounds to use for the constraints.\n",
        "            - n_feat: int\n",
        "                The number of features of the sample.\n",
        "            - sample: np.ndarray\n",
        "                The original sample for which the counterfactual is created.\n",
        "    '''\n",
        "    L, U = bounds\n",
        "    # Set of indexes for the features\n",
        "    feat_set = pyo.Set(initialize=range(0, n_feat))\n",
        "\n",
        "    pyo_model.b_o3 = pyo.Var(feat_set, domain=pyo.Binary)\n",
        "    pyo_model.diff_o3 = pyo.Var(feat_set, domain=pyo.Reals)\n",
        "    pyo_model.constr_less_o3 = pyo.Constraint(feat_set)\n",
        "    pyo_model.constr_great_o3 = pyo.Constraint(feat_set)\n",
        "\n",
        "    changed = 0\n",
        "    for i in range(n_feat):\n",
        "        pyo_model.diff_o3[i] = (sample[i] - pyo_model.nn.inputs[i])**2\n",
        "\n",
        "        pyo_model.constr_less_o3[i] = pyo_model.diff_o3[i] >= (pyo_model.b_o3[i]*(-L+1))+L\n",
        "        # Add a +1 at the end because pyomo needs <= and not <\n",
        "        pyo_model.constr_great_o3[i] = pyo_model.diff_o3[i] <= (pyo_model.b_o3[i]*(U-1) + 1)+1\n",
        "        changed += pyo_model.b_o3[i]\n",
        "\n",
        "    return changed\n",
        "\n",
        "\n",
        "\n",
        "def get_counterfactual_class(initial_class, num_classes, lower=True):\n",
        "    \"\"\"\n",
        "        It returns the counterfactual class given the initial class, the number\n",
        "        of classes and if the counterfactual needs to be lower or higher. The \n",
        "        function considers only counterfactuals that differs by 1 from the original\n",
        "        class.\n",
        "    \"\"\" \n",
        "    if initial_class >= num_classes or initial_class < 0:\n",
        "        print(\"ERROR: the initial class has not a valid value.\")\n",
        "        return None\n",
        "    initial_class = round(initial_class)\n",
        "    idx_check = 0 if lower else num_classes - 1\n",
        "    counterfactual_op = -1 if lower else 1\n",
        "    if initial_class == idx_check:\n",
        "        print(\"WARNING: the desired value was out of range, hence the opposite operation has been performed.\")\n",
        "        return initial_class - counterfactual_op\n",
        "    return initial_class + counterfactual_op"
      ]
    },
    {
      "cell_type": "markdown",
      "metadata": {
        "id": "PUH8BJj3gX8R"
      },
      "source": [
        "We need to restrict the range of values that the categorical features can assume, we set the Integers domain for all the ones that are not binary and we use as bounds the maximum and minimum value of the feature."
      ]
    },
    {
      "cell_type": "code",
      "execution_count": null,
      "metadata": {
        "id": "N5BI23SFb0Dp"
      },
      "outputs": [],
      "source": [
        "def create_feature_pyomo_data(X_test, num_cols):\n",
        "    feat_info = {}\n",
        "    binary_var = lambda x: 0 if \"camera\" in x else 1\n",
        "    \n",
        "    categorical_features = X_test.columns[~X_test.columns.isin(num_cols)]\n",
        "    # Categorical features\n",
        "    for col in categorical_features:\n",
        "        feat_info[col] = {}\n",
        "        if not binary_var(col):\n",
        "            feat_info[col][\"domain\"] = pyo.Integers\n",
        "            # Set the 2 extremes as bounds for the feature\n",
        "            bounds = tuple(X_test[col].unique()[[0, -1]])\n",
        "            feat_info[col][\"bounds\"] = bounds\n",
        "        else:\n",
        "            feat_info[col][\"domain\"] = pyo.Binary\n",
        "            feat_info[col][\"bounds\"] = (0, 1)\n",
        "        feat_info[col][\"index\"] = X_test.columns.tolist().index(col)\n",
        "\n",
        "    return feat_info\n",
        "\n",
        "\n",
        "num_cols = [\"display_size\", \"battery\", \"memory_ram_gb\", \"memory_rom_gb\", \"main_camera_resolution\", \"selfie_camera_resolution\"]\n",
        "feat_info = create_feature_pyomo_data(X_test, num_cols)"
      ]
    },
    {
      "cell_type": "code",
      "execution_count": null,
      "metadata": {
        "id": "DLV2Smz7hxD5",
        "outputId": "5345959e-951c-44d5-9642-342e1e4f766d"
      },
      "outputs": [
        {
          "data": {
            "text/plain": [
              "Index(['display_size', 'battery', 'memory_ram_gb', 'memory_rom_gb',\n",
              "       'main_camera_resolution', 'selfie_camera_resolution',\n",
              "       'has_oled_display', 'has_memory_card_slot', 'has_stereo_speakers',\n",
              "       'has_3.5mm_jack', 'has_wlan_5ghz', 'has_nfc', 'has_wireless_charging',\n",
              "       'is_waterproof', 'network_technology', 'num_main_camera',\n",
              "       'num_selfie_camera', 'display_resolution'],\n",
              "      dtype='object')"
            ]
          },
          "execution_count": 39,
          "metadata": {},
          "output_type": "execute_result"
        }
      ],
      "source": [
        "X_train.columns"
      ]
    },
    {
      "cell_type": "code",
      "execution_count": null,
      "metadata": {
        "colab": {
          "base_uri": "https://localhost:8080/"
        },
        "id": "DZGOIRIlB8f4",
        "outputId": "bb6fafe9-f578-484b-f0b2-c51b02315a71"
      },
      "outputs": [
        {
          "name": "stdout",
          "output_type": "stream",
          "text": [
            "Original label: 3.0\n",
            "Counterfactual label: 2\n"
          ]
        }
      ],
      "source": [
        "cf_class = get_counterfactual_class(label_idx, 4, lower=True)\n",
        "print(f\"Original label: {label_idx}\")\n",
        "print(f\"Counterfactual label: {cf_class}\")\n",
        "original_sample = sample_idx\n",
        "\n",
        "# OBJECTIVE 1\n",
        "range_prob = 0.51\n",
        "prob_y = lambda x: my_softmax(x, 4, cf_class)\n",
        "\n",
        "# something\n",
        "pyo_model.q_relu = pyo.Var(within=pyo.Binary)\n",
        "# constraints\n",
        "pyo_model._z_lower_bound_relu = pyo.Constraint()\n",
        "pyo_model._z_lower_bound_zhat_relu = pyo.Constraint()\n",
        "pyo_model._z_upper_bound_relu = pyo.Constraint()\n",
        "pyo_model._z_upper_bound_zhat_relu = pyo.Constraint()\n",
        "\n",
        "# set dummy parameters here to avoid warning message from Pyomo\n",
        "pyo_model._big_m_lb_relu = pyo.Param(default=-1e6, mutable=True)\n",
        "pyo_model._big_m_ub_relu = pyo.Param(default=1e6, mutable=True)\n",
        "\n",
        "# define difference of the output\n",
        "lb, ub = (-1, 1)\n",
        "pyo_model.diff_prob = pyo.Var(within=pyo.Reals, bounds=(lb, ub), initialize=0)\n",
        "pyo_model.diff_prob = range_prob - prob_y(pyo_model.nn.outputs)\n",
        "\n",
        "# define variable for max(0, output)\n",
        "pyo_model.max_val = pyo.Var(within=pyo.NonNegativeReals, bounds=(0, ub))\n",
        "pyo_model._big_m_lb_relu = lb\n",
        "pyo_model._big_m_ub_relu = ub\n",
        "\n",
        "pyo_model._z_lower_bound_relu = pyo_model.max_val >= 0\n",
        "pyo_model._z_lower_bound_zhat_relu = pyo_model.max_val >= pyo_model.diff_prob\n",
        "pyo_model._z_upper_bound_relu= pyo_model.max_val <= pyo_model._big_m_ub_relu * pyo_model.q_relu\n",
        "pyo_model._z_upper_bound_zhat_relu = pyo_model.max_val <= pyo_model.diff_prob - pyo_model._big_m_lb_relu * (1.0 - pyo_model.q_relu)\n",
        "#pyo_model.obj_1 = pyo.Objective(expr=pyo_model.max_val)\n",
        "\n",
        "# ---------------------------------------------------------------- #\n",
        "# OBJECTIVE 2\n",
        "# Dataframe with continuous features only\n",
        "num_df = X_test.loc[:, X_test.columns.isin(num_cols)]\n",
        "cat_df = X_test.loc[:, ~X_test.columns.isin(num_cols)]\n",
        "# We need the index of the features to differentiate in the gower distance\n",
        "idx_cont = [X_test.columns.get_loc(col) for col in num_df.columns]\n",
        "idx_cat = [X_test.columns.get_loc(col) for col in cat_df.columns]\n",
        "\n",
        "cont_ranges = (num_df.max() - num_df.min()).values\n",
        "\n",
        "gower_dist = gower_distance(original_sample, idx_cat, idx_cont, cont_ranges, \n",
        "                            pyo_model, [0, 1, 2], feat_info)\n",
        "\n",
        "# ---------------------------------------------------------------- #\n",
        "\n",
        "# OBJECTIVE 3\n",
        "changed_feat_o3 = compute_obj_3(pyo_model, (0, 20), len(original_sample), original_sample)\n",
        "\n",
        "# Set the objective for the counterfactual as the weighted sum of the three objective functions\n",
        "pyo_model.obj = pyo.Objective(expr=pyo_model.max_val + 0.4*gower_dist + 0.6*changed_feat_o3)"
      ]
    },
    {
      "cell_type": "markdown",
      "metadata": {
        "id": "QhZvSZv2mXjR"
      },
      "source": [
        "Check what is the expression"
      ]
    },
    {
      "cell_type": "code",
      "execution_count": null,
      "metadata": {
        "colab": {
          "base_uri": "https://localhost:8080/",
          "height": 105
        },
        "id": "ZEHQ7CEzmKqU",
        "outputId": "14ce9c0d-1229-4f49-b8d8-e0a10c4c3a6a"
      },
      "outputs": [
        {
          "data": {
            "application/vnd.google.colaboratory.intrinsic+json": {
              "type": "string"
            },
            "text/plain": [
              "'max_val + 0.4*((b_o2[0] + b_o2[1] + b_o2[2] + b_o2[3] + b_o2[4] + b_o2[5] + b_o2[6] + b_o2[7] + b_o2[8] + b_o2[9] + b_o2[10] + b_o2[11] + b_o2[12] + 0.18166679836149016*(1.0566250712265286 - nn.inputs[3])**2 + 0.20023831724820834*(0.5927006978252403 - nn.inputs[4])**2 + 0.2570608104484008*(2.083264950583299 - nn.inputs[5])**2 + 0.21235950364278594*(2.541999626593002 - nn.inputs[6])**2 + 0.10826805044126127*(0.3075974846588067 - nn.inputs[7])**2 + 0.10345063849534261*(0.8256930871634225 - nn.inputs[8])**2 + 0.12588287823187003*(-0.2929567236541104 - nn.inputs[9])**2 + 0.23784756658684886*(-0.06145494365670572 - nn.inputs[10])**2)/21) + 0.4*(b_o3[0] + b_o3[1] + b_o3[2] + b_o3[3] + b_o3[4] + b_o3[5] + b_o3[6] + b_o3[7] + b_o3[8] + b_o3[9] + b_o3[10] + b_o3[11] + b_o3[12] + b_o3[13] + b_o3[14] + b_o3[15] + b_o3[16] + b_o3[17] + b_o3[18] + b_o3[19] + b_o3[20])'"
            ]
          },
          "execution_count": 101,
          "metadata": {},
          "output_type": "execute_result"
        }
      ],
      "source": [
        "pyo_model.obj.expr.to_string()"
      ]
    },
    {
      "cell_type": "code",
      "execution_count": null,
      "metadata": {
        "cellView": "form",
        "id": "rmsYoE3htSFt"
      },
      "outputs": [],
      "source": [
        "#@title ### Download cplex from drive and install it\n",
        "id_cplex_file = \"1ePJy9nsNYfkvErFuedT6mbPmTfriQ2e8\"\n",
        "gdown.download(id=id_cplex_file, output=\"cplex_binary.bin\", quiet=False)\n",
        "\n",
        "# We can use /usr/bin/cplex as installation path when requested\n",
        "!bash cplex_binary.bin"
      ]
    },
    {
      "cell_type": "code",
      "execution_count": null,
      "metadata": {
        "colab": {
          "base_uri": "https://localhost:8080/"
        },
        "id": "1nKZCBL85A22",
        "outputId": "36cfcbf4-dbe6-49b7-fcf2-67bae25c752a"
      },
      "outputs": [
        {
          "name": "stdout",
          "output_type": "stream",
          "text": [
            "\n",
            "Welcome to IBM(R) ILOG(R) CPLEX(R) Interactive Optimizer 12.8.0.0\n",
            "  with Simplex, Mixed Integer & Barrier Optimizers\n",
            "5725-A06 5725-A29 5724-Y48 5724-Y49 5724-Y54 5724-Y55 5655-Y21\n",
            "Copyright IBM Corp. 1988, 2017.  All Rights Reserved.\n",
            "\n",
            "Type 'help' for a list of available commands.\n",
            "Type 'help' followed by a command name for more\n",
            "information on commands.\n",
            "\n",
            "CPLEX> Logfile 'cplex.log' closed.\n",
            "Logfile '/tmp/tmpc5oiccfl.cplex.log' open.\n",
            "CPLEX> Problem '/tmp/tmp5wpk5v6z.pyomo.lp' read.\n",
            "Read time = 0.01 sec. (0.15 ticks)\n",
            "CPLEX> Problem name         : /tmp/tmp5wpk5v6z.pyomo.lp\n",
            "Objective sense      : Minimize\n",
            "Variables            :     535  [Nneg: 1,  Box: 316,  Free: 29,  Binary: 174,\n",
            "                                 General Integer: 15,  Qobj: 8]\n",
            "Objective nonzeros   :      44\n",
            "Objective Q nonzeros :       8\n",
            "Linear constraints   :     772  [Less: 455,  Greater: 129,  Equal: 188]\n",
            "  Nonzeros           :    7108\n",
            "  RHS nonzeros       :     297\n",
            "\n",
            "Variables            : Min LB: -190.3791        Max UB: 127.2929       \n",
            "Objective nonzeros   : Min   : 0.0005568346     Max   : 1.000000       \n",
            "Objective Q nonzeros : Min   : 0.003940977      Max   : 0.009792793    \n",
            "Linear constraints   :\n",
            "  Nonzeros           : Min   : 9.454816e-06     Max   : 27.21635       \n",
            "  RHS nonzeros       : Min   : 0.0009717047     Max   : 26.97840       \n",
            "CPLEX> Tried aggregator 2 times.\n",
            "MIQP Presolve eliminated 208 rows and 81 columns.\n",
            "MIQP Presolve modified 668 coefficients.\n",
            "Aggregator did 51 substitutions.\n",
            "Reduced MIQP has 513 rows, 403 columns, and 6275 nonzeros.\n",
            "Reduced MIQP has 139 binaries, 0 generals, 0 SOSs, and 0 indicators.\n",
            "Reduced MIQP objective Q matrix has 8 nonzeros.\n",
            "Presolve time = 0.01 sec. (5.71 ticks)\n",
            "Probing fixed 0 vars, tightened 193 bounds.\n",
            "Probing time = 0.01 sec. (5.56 ticks)\n",
            "Tried aggregator 1 time.\n",
            "MIQP Presolve modified 186 coefficients.\n",
            "Reduced MIQP has 513 rows, 403 columns, and 6275 nonzeros.\n",
            "Reduced MIQP has 139 binaries, 0 generals, 0 SOSs, and 0 indicators.\n",
            "Reduced MIQP objective Q matrix has 8 nonzeros.\n",
            "Presolve time = 0.00 sec. (2.18 ticks)\n",
            "Probing time = 0.01 sec. (2.76 ticks)\n",
            "Clique table members: 1.\n",
            "MIP emphasis: balance optimality and feasibility.\n",
            "MIP search method: dynamic search.\n",
            "Parallel mode: deterministic, using up to 2 threads.\n",
            "Root relaxation solution time = 0.03 sec. (26.67 ticks)\n",
            "\n",
            "        Nodes                                         Cuts/\n",
            "   Node  Left     Objective  IInf  Best Integer    Best Bound    ItCnt     Gap\n",
            "\n",
            "      0     0        0.0154    96                      0.0154       10         \n",
            "      0     0        0.0154    97                   Cuts: 138      321         \n",
            "      0     0        0.0154   106                   Cuts: 173      630         \n",
            "*     0+    0                            0.0154        0.0154             0.00%\n",
            "      0     0        cutoff              0.0154        0.0154      630    0.00%\n",
            "Elapsed time = 0.75 sec. (566.09 ticks, tree = 0.01 MB, solutions = 1)\n",
            "\n",
            "Flow cuts applied:  17\n",
            "Mixed integer rounding cuts applied:  38\n",
            "\n",
            "Root node processing (before b&c):\n",
            "  Real time             =    0.75 sec. (566.17 ticks)\n",
            "Parallel b&c, 2 threads:\n",
            "  Real time             =    0.00 sec. (0.00 ticks)\n",
            "  Sync time (average)   =    0.00 sec.\n",
            "  Wait time (average)   =    0.00 sec.\n",
            "                          ------------\n",
            "Total (root+branch&cut) =    0.75 sec. (566.17 ticks)\n",
            "\n",
            "Solution pool: 1 solution saved.\n",
            "\n",
            "MIP - Integer optimal solution:  Objective =  1.5374749947e-02\n",
            "Solution time =    0.75 sec.  Iterations = 630  Nodes = 0\n",
            "Deterministic time = 566.18 ticks  (754.60 ticks/sec)\n",
            "\n",
            "CPLEX> Incumbent solution written to file '/tmp/tmpxw52omqd.cplex.sol'.\n",
            "CPLEX> "
          ]
        }
      ],
      "source": [
        "# If we use as installation folder '/usr/bin'\n",
        "pyo_solution = pyo.SolverFactory('cplex', executable='/usr/bin/cplex/bin/x86-64_linux/cplex').solve(pyo_model, tee=True)"
      ]
    },
    {
      "cell_type": "code",
      "execution_count": null,
      "metadata": {
        "cellView": "form",
        "id": "ygssN3Ys2gym"
      },
      "outputs": [],
      "source": [
        "#@title ### Install cbc solver and run it\n",
        "!apt-get install -y -qq coinor-cbc\n",
        "pyo_solution = pyo.SolverFactory('cbc', executable='/usr/bin/cbc').solve(pyo_model, tee=True)"
      ]
    },
    {
      "cell_type": "markdown",
      "metadata": {
        "id": "iX4fUmIPxUsi"
      },
      "source": [
        "Extract the values of the found sample and test if the label is actually changed as desired."
      ]
    },
    {
      "cell_type": "code",
      "execution_count": null,
      "metadata": {
        "colab": {
          "base_uri": "https://localhost:8080/"
        },
        "id": "hqtkikg4MtYU",
        "outputId": "886af48c-1d8a-47e3-ac16-76df15507b97"
      },
      "outputs": [
        {
          "name": "stdout",
          "output_type": "stream",
          "text": [
            "The predicted class for the original sample is 3, while the predicted sample for the counterfactual is 2.\n"
          ]
        }
      ],
      "source": [
        "def evaluate_sample(model, sample_idx):\n",
        "    model.eval()\n",
        "    with torch.no_grad():\n",
        "        model = model.to(device)\n",
        "        sample_idx = torch.tensor(sample_idx, dtype=torch.float).view(1, -1).to(device)\n",
        "        # inference\n",
        "        y_prob = torch.softmax(model(sample_idx), dim=1)\n",
        "        y_pred = torch.argmax(y_prob, dim=1)\n",
        "\n",
        "    return y_pred.item()\n",
        "\n",
        "y_pred_orig = evaluate_sample(nn_model, sample_idx)\n",
        "counter_idx = list(pyo_model.nn.inputs.get_values().values())\n",
        "y_pred_count = evaluate_sample(nn_model, counter_idx)\n",
        "\n",
        "print(f\"The predicted class for the original sample is {y_pred_orig}, while the predicted sample for the counterfactual is {y_pred_count}.\")"
      ]
    },
    {
      "cell_type": "markdown",
      "metadata": {
        "id": "KMz1PAxciX28"
      },
      "source": [
        "If we print the values of the original sample and the counterfactual we can see that the changes are in the allowed set of values."
      ]
    },
    {
      "cell_type": "code",
      "execution_count": null,
      "metadata": {
        "colab": {
          "base_uri": "https://localhost:8080/",
          "height": 205
        },
        "id": "DXur1LMI6bFE",
        "outputId": "02cf97b2-eb9e-42e2-8460-634a59dfae36"
      },
      "outputs": [
        {
          "data": {
            "text/html": [
              "\n",
              "  <div id=\"df-0268c0cc-176c-4f6c-a464-9c4d3b889b1f\">\n",
              "    <div class=\"colab-df-container\">\n",
              "      <div>\n",
              "<style scoped>\n",
              "    .dataframe tbody tr th:only-of-type {\n",
              "        vertical-align: middle;\n",
              "    }\n",
              "\n",
              "    .dataframe tbody tr th {\n",
              "        vertical-align: top;\n",
              "    }\n",
              "\n",
              "    .dataframe thead th {\n",
              "        text-align: right;\n",
              "    }\n",
              "</style>\n",
              "<table border=\"1\" class=\"dataframe\">\n",
              "  <thead>\n",
              "    <tr style=\"text-align: right;\">\n",
              "      <th></th>\n",
              "      <th>network_technology_3G</th>\n",
              "      <th>network_technology_4G</th>\n",
              "      <th>network_technology_5G</th>\n",
              "      <th>display_size</th>\n",
              "      <th>battery</th>\n",
              "      <th>display_width</th>\n",
              "      <th>display_height</th>\n",
              "      <th>memory_rom_gb</th>\n",
              "      <th>memory_ram_gb</th>\n",
              "      <th>main_camera_resolution</th>\n",
              "      <th>...</th>\n",
              "      <th>has_oled_display</th>\n",
              "      <th>has_memory_card_slot</th>\n",
              "      <th>has_stereo_speakers</th>\n",
              "      <th>has_3.5mm_jack</th>\n",
              "      <th>has_wlan_5ghz</th>\n",
              "      <th>has_nfc</th>\n",
              "      <th>has_wireless_charging</th>\n",
              "      <th>is_waterproof</th>\n",
              "      <th>num_main_camera</th>\n",
              "      <th>num_selfie_camera</th>\n",
              "    </tr>\n",
              "  </thead>\n",
              "  <tbody>\n",
              "    <tr>\n",
              "      <th>Counterfactual</th>\n",
              "      <td>0.0</td>\n",
              "      <td>0.0</td>\n",
              "      <td>1.0</td>\n",
              "      <td>1.000000</td>\n",
              "      <td>0.592701</td>\n",
              "      <td>1.000000</td>\n",
              "      <td>1.000</td>\n",
              "      <td>0.307597</td>\n",
              "      <td>0.825693</td>\n",
              "      <td>-0.292957</td>\n",
              "      <td>...</td>\n",
              "      <td>1.0</td>\n",
              "      <td>0.0</td>\n",
              "      <td>0.0</td>\n",
              "      <td>1.0</td>\n",
              "      <td>1.0</td>\n",
              "      <td>1.0</td>\n",
              "      <td>0.0</td>\n",
              "      <td>1.0</td>\n",
              "      <td>1.0</td>\n",
              "      <td>1.0</td>\n",
              "    </tr>\n",
              "    <tr>\n",
              "      <th>Orig sample</th>\n",
              "      <td>0.0</td>\n",
              "      <td>1.0</td>\n",
              "      <td>0.0</td>\n",
              "      <td>1.056625</td>\n",
              "      <td>0.592701</td>\n",
              "      <td>2.083265</td>\n",
              "      <td>2.542</td>\n",
              "      <td>0.307597</td>\n",
              "      <td>0.825693</td>\n",
              "      <td>-0.292957</td>\n",
              "      <td>...</td>\n",
              "      <td>1.0</td>\n",
              "      <td>0.0</td>\n",
              "      <td>1.0</td>\n",
              "      <td>0.0</td>\n",
              "      <td>1.0</td>\n",
              "      <td>1.0</td>\n",
              "      <td>1.0</td>\n",
              "      <td>1.0</td>\n",
              "      <td>2.0</td>\n",
              "      <td>2.0</td>\n",
              "    </tr>\n",
              "  </tbody>\n",
              "</table>\n",
              "<p>2 rows × 21 columns</p>\n",
              "</div>\n",
              "      <button class=\"colab-df-convert\" onclick=\"convertToInteractive('df-0268c0cc-176c-4f6c-a464-9c4d3b889b1f')\"\n",
              "              title=\"Convert this dataframe to an interactive table.\"\n",
              "              style=\"display:none;\">\n",
              "        \n",
              "  <svg xmlns=\"http://www.w3.org/2000/svg\" height=\"24px\"viewBox=\"0 0 24 24\"\n",
              "       width=\"24px\">\n",
              "    <path d=\"M0 0h24v24H0V0z\" fill=\"none\"/>\n",
              "    <path d=\"M18.56 5.44l.94 2.06.94-2.06 2.06-.94-2.06-.94-.94-2.06-.94 2.06-2.06.94zm-11 1L8.5 8.5l.94-2.06 2.06-.94-2.06-.94L8.5 2.5l-.94 2.06-2.06.94zm10 10l.94 2.06.94-2.06 2.06-.94-2.06-.94-.94-2.06-.94 2.06-2.06.94z\"/><path d=\"M17.41 7.96l-1.37-1.37c-.4-.4-.92-.59-1.43-.59-.52 0-1.04.2-1.43.59L10.3 9.45l-7.72 7.72c-.78.78-.78 2.05 0 2.83L4 21.41c.39.39.9.59 1.41.59.51 0 1.02-.2 1.41-.59l7.78-7.78 2.81-2.81c.8-.78.8-2.07 0-2.86zM5.41 20L4 18.59l7.72-7.72 1.47 1.35L5.41 20z\"/>\n",
              "  </svg>\n",
              "      </button>\n",
              "      \n",
              "  <style>\n",
              "    .colab-df-container {\n",
              "      display:flex;\n",
              "      flex-wrap:wrap;\n",
              "      gap: 12px;\n",
              "    }\n",
              "\n",
              "    .colab-df-convert {\n",
              "      background-color: #E8F0FE;\n",
              "      border: none;\n",
              "      border-radius: 50%;\n",
              "      cursor: pointer;\n",
              "      display: none;\n",
              "      fill: #1967D2;\n",
              "      height: 32px;\n",
              "      padding: 0 0 0 0;\n",
              "      width: 32px;\n",
              "    }\n",
              "\n",
              "    .colab-df-convert:hover {\n",
              "      background-color: #E2EBFA;\n",
              "      box-shadow: 0px 1px 2px rgba(60, 64, 67, 0.3), 0px 1px 3px 1px rgba(60, 64, 67, 0.15);\n",
              "      fill: #174EA6;\n",
              "    }\n",
              "\n",
              "    [theme=dark] .colab-df-convert {\n",
              "      background-color: #3B4455;\n",
              "      fill: #D2E3FC;\n",
              "    }\n",
              "\n",
              "    [theme=dark] .colab-df-convert:hover {\n",
              "      background-color: #434B5C;\n",
              "      box-shadow: 0px 1px 3px 1px rgba(0, 0, 0, 0.15);\n",
              "      filter: drop-shadow(0px 1px 2px rgba(0, 0, 0, 0.3));\n",
              "      fill: #FFFFFF;\n",
              "    }\n",
              "  </style>\n",
              "\n",
              "      <script>\n",
              "        const buttonEl =\n",
              "          document.querySelector('#df-0268c0cc-176c-4f6c-a464-9c4d3b889b1f button.colab-df-convert');\n",
              "        buttonEl.style.display =\n",
              "          google.colab.kernel.accessAllowed ? 'block' : 'none';\n",
              "\n",
              "        async function convertToInteractive(key) {\n",
              "          const element = document.querySelector('#df-0268c0cc-176c-4f6c-a464-9c4d3b889b1f');\n",
              "          const dataTable =\n",
              "            await google.colab.kernel.invokeFunction('convertToInteractive',\n",
              "                                                     [key], {});\n",
              "          if (!dataTable) return;\n",
              "\n",
              "          const docLinkHtml = 'Like what you see? Visit the ' +\n",
              "            '<a target=\"_blank\" href=https://colab.research.google.com/notebooks/data_table.ipynb>data table notebook</a>'\n",
              "            + ' to learn more about interactive tables.';\n",
              "          element.innerHTML = '';\n",
              "          dataTable['output_type'] = 'display_data';\n",
              "          await google.colab.output.renderOutput(dataTable, element);\n",
              "          const docLink = document.createElement('div');\n",
              "          docLink.innerHTML = docLinkHtml;\n",
              "          element.appendChild(docLink);\n",
              "        }\n",
              "      </script>\n",
              "    </div>\n",
              "  </div>\n",
              "  "
            ],
            "text/plain": [
              "                network_technology_3G  network_technology_4G  \\\n",
              "Counterfactual                    0.0                    0.0   \n",
              "Orig sample                       0.0                    1.0   \n",
              "\n",
              "                network_technology_5G  display_size   battery  display_width  \\\n",
              "Counterfactual                    1.0      1.000000  0.592701       1.000000   \n",
              "Orig sample                       0.0      1.056625  0.592701       2.083265   \n",
              "\n",
              "                display_height  memory_rom_gb  memory_ram_gb  \\\n",
              "Counterfactual           1.000       0.307597       0.825693   \n",
              "Orig sample              2.542       0.307597       0.825693   \n",
              "\n",
              "                main_camera_resolution  ...  has_oled_display  \\\n",
              "Counterfactual               -0.292957  ...               1.0   \n",
              "Orig sample                  -0.292957  ...               1.0   \n",
              "\n",
              "                has_memory_card_slot  has_stereo_speakers  has_3.5mm_jack  \\\n",
              "Counterfactual                   0.0                  0.0             1.0   \n",
              "Orig sample                      0.0                  1.0             0.0   \n",
              "\n",
              "                has_wlan_5ghz  has_nfc  has_wireless_charging  is_waterproof  \\\n",
              "Counterfactual            1.0      1.0                    0.0            1.0   \n",
              "Orig sample               1.0      1.0                    1.0            1.0   \n",
              "\n",
              "                num_main_camera  num_selfie_camera  \n",
              "Counterfactual              1.0                1.0  \n",
              "Orig sample                 2.0                2.0  \n",
              "\n",
              "[2 rows x 21 columns]"
            ]
          },
          "execution_count": 119,
          "metadata": {},
          "output_type": "execute_result"
        }
      ],
      "source": [
        "new_sample = pd.DataFrame(np.array(counter_idx, ndmin=2), columns=X_train.columns, index=[\"Counterfactual\"])\n",
        "orig_sample = pd.DataFrame(sample_idx.reshape(1, -1), columns=X_train.columns, index=[\"Orig sample\"])\n",
        "comp_df = pd.concat([new_sample, orig_sample], axis=0)\n",
        "comp_df"
      ]
    },
    {
      "cell_type": "markdown",
      "metadata": {
        "id": "JeQBu6o4Yd8H"
      },
      "source": [
        "### Dice"
      ]
    },
    {
      "cell_type": "code",
      "execution_count": null,
      "metadata": {
        "id": "cREMwcFIiW5R"
      },
      "outputs": [],
      "source": [
        "from utils.util_models import DiceCounterfactual"
      ]
    },
    {
      "cell_type": "markdown",
      "metadata": {
        "id": "ZsllMhjz6WCz"
      },
      "source": [
        "We concatenate the X with the labels because Dice expects a unique dataframe and then you specify which column is the target one."
      ]
    },
    {
      "cell_type": "code",
      "execution_count": null,
      "metadata": {
        "colab": {
          "base_uri": "https://localhost:8080/",
          "height": 299
        },
        "id": "UJXwbd5L473H",
        "outputId": "0b6e03eb-694b-4d24-f6ce-32ea77a095d5"
      },
      "outputs": [
        {
          "data": {
            "text/html": [
              "\n",
              "  <div id=\"df-b1cfef22-c7a9-4f9d-9206-d6f2a65fb278\">\n",
              "    <div class=\"colab-df-container\">\n",
              "      <div>\n",
              "<style scoped>\n",
              "    .dataframe tbody tr th:only-of-type {\n",
              "        vertical-align: middle;\n",
              "    }\n",
              "\n",
              "    .dataframe tbody tr th {\n",
              "        vertical-align: top;\n",
              "    }\n",
              "\n",
              "    .dataframe thead th {\n",
              "        text-align: right;\n",
              "    }\n",
              "</style>\n",
              "<table border=\"1\" class=\"dataframe\">\n",
              "  <thead>\n",
              "    <tr style=\"text-align: right;\">\n",
              "      <th></th>\n",
              "      <th>network_technology_3G</th>\n",
              "      <th>network_technology_4G</th>\n",
              "      <th>network_technology_5G</th>\n",
              "      <th>display_size</th>\n",
              "      <th>battery</th>\n",
              "      <th>display_width</th>\n",
              "      <th>display_height</th>\n",
              "      <th>memory_rom_gb</th>\n",
              "      <th>memory_ram_gb</th>\n",
              "      <th>main_camera_resolution</th>\n",
              "      <th>...</th>\n",
              "      <th>has_memory_card_slot</th>\n",
              "      <th>has_stereo_speakers</th>\n",
              "      <th>has_3.5mm_jack</th>\n",
              "      <th>has_wlan_5ghz</th>\n",
              "      <th>has_nfc</th>\n",
              "      <th>has_wireless_charging</th>\n",
              "      <th>is_waterproof</th>\n",
              "      <th>num_main_camera</th>\n",
              "      <th>num_selfie_camera</th>\n",
              "      <th>misc_price</th>\n",
              "    </tr>\n",
              "  </thead>\n",
              "  <tbody>\n",
              "    <tr>\n",
              "      <th>1544</th>\n",
              "      <td>0.0</td>\n",
              "      <td>1.0</td>\n",
              "      <td>0.0</td>\n",
              "      <td>-0.369077</td>\n",
              "      <td>-0.486427</td>\n",
              "      <td>1.906789</td>\n",
              "      <td>1.449594</td>\n",
              "      <td>-0.422592</td>\n",
              "      <td>0.186784</td>\n",
              "      <td>-0.347239</td>\n",
              "      <td>...</td>\n",
              "      <td>0.0</td>\n",
              "      <td>0.0</td>\n",
              "      <td>1.0</td>\n",
              "      <td>0.0</td>\n",
              "      <td>1.0</td>\n",
              "      <td>0.0</td>\n",
              "      <td>0.0</td>\n",
              "      <td>2.0</td>\n",
              "      <td>1.0</td>\n",
              "      <td>1.0</td>\n",
              "    </tr>\n",
              "    <tr>\n",
              "      <th>876</th>\n",
              "      <td>0.0</td>\n",
              "      <td>1.0</td>\n",
              "      <td>0.0</td>\n",
              "      <td>0.839438</td>\n",
              "      <td>-0.118456</td>\n",
              "      <td>0.500206</td>\n",
              "      <td>0.653849</td>\n",
              "      <td>0.159890</td>\n",
              "      <td>0.186784</td>\n",
              "      <td>-0.347239</td>\n",
              "      <td>...</td>\n",
              "      <td>1.0</td>\n",
              "      <td>0.0</td>\n",
              "      <td>1.0</td>\n",
              "      <td>0.0</td>\n",
              "      <td>1.0</td>\n",
              "      <td>0.0</td>\n",
              "      <td>1.0</td>\n",
              "      <td>1.0</td>\n",
              "      <td>1.0</td>\n",
              "      <td>1.0</td>\n",
              "    </tr>\n",
              "    <tr>\n",
              "      <th>1339</th>\n",
              "      <td>0.0</td>\n",
              "      <td>1.0</td>\n",
              "      <td>0.0</td>\n",
              "      <td>0.873967</td>\n",
              "      <td>0.776940</td>\n",
              "      <td>-0.906378</td>\n",
              "      <td>-0.619344</td>\n",
              "      <td>0.159890</td>\n",
              "      <td>0.186784</td>\n",
              "      <td>-0.347239</td>\n",
              "      <td>...</td>\n",
              "      <td>1.0</td>\n",
              "      <td>0.0</td>\n",
              "      <td>1.0</td>\n",
              "      <td>0.0</td>\n",
              "      <td>0.0</td>\n",
              "      <td>0.0</td>\n",
              "      <td>0.0</td>\n",
              "      <td>2.0</td>\n",
              "      <td>1.0</td>\n",
              "      <td>1.0</td>\n",
              "    </tr>\n",
              "    <tr>\n",
              "      <th>1424</th>\n",
              "      <td>0.0</td>\n",
              "      <td>1.0</td>\n",
              "      <td>0.0</td>\n",
              "      <td>-0.455400</td>\n",
              "      <td>-0.486427</td>\n",
              "      <td>-0.906378</td>\n",
              "      <td>-0.778493</td>\n",
              "      <td>0.159890</td>\n",
              "      <td>0.186784</td>\n",
              "      <td>-0.417016</td>\n",
              "      <td>...</td>\n",
              "      <td>1.0</td>\n",
              "      <td>0.0</td>\n",
              "      <td>1.0</td>\n",
              "      <td>0.0</td>\n",
              "      <td>0.0</td>\n",
              "      <td>0.0</td>\n",
              "      <td>0.0</td>\n",
              "      <td>2.0</td>\n",
              "      <td>1.0</td>\n",
              "      <td>0.0</td>\n",
              "    </tr>\n",
              "    <tr>\n",
              "      <th>287</th>\n",
              "      <td>0.0</td>\n",
              "      <td>1.0</td>\n",
              "      <td>0.0</td>\n",
              "      <td>-0.455400</td>\n",
              "      <td>-0.977055</td>\n",
              "      <td>-0.906378</td>\n",
              "      <td>-0.778493</td>\n",
              "      <td>-0.713833</td>\n",
              "      <td>-0.791101</td>\n",
              "      <td>-0.347239</td>\n",
              "      <td>...</td>\n",
              "      <td>1.0</td>\n",
              "      <td>0.0</td>\n",
              "      <td>1.0</td>\n",
              "      <td>0.0</td>\n",
              "      <td>0.0</td>\n",
              "      <td>0.0</td>\n",
              "      <td>0.0</td>\n",
              "      <td>1.0</td>\n",
              "      <td>1.0</td>\n",
              "      <td>0.0</td>\n",
              "    </tr>\n",
              "  </tbody>\n",
              "</table>\n",
              "<p>5 rows × 22 columns</p>\n",
              "</div>\n",
              "      <button class=\"colab-df-convert\" onclick=\"convertToInteractive('df-b1cfef22-c7a9-4f9d-9206-d6f2a65fb278')\"\n",
              "              title=\"Convert this dataframe to an interactive table.\"\n",
              "              style=\"display:none;\">\n",
              "        \n",
              "  <svg xmlns=\"http://www.w3.org/2000/svg\" height=\"24px\"viewBox=\"0 0 24 24\"\n",
              "       width=\"24px\">\n",
              "    <path d=\"M0 0h24v24H0V0z\" fill=\"none\"/>\n",
              "    <path d=\"M18.56 5.44l.94 2.06.94-2.06 2.06-.94-2.06-.94-.94-2.06-.94 2.06-2.06.94zm-11 1L8.5 8.5l.94-2.06 2.06-.94-2.06-.94L8.5 2.5l-.94 2.06-2.06.94zm10 10l.94 2.06.94-2.06 2.06-.94-2.06-.94-.94-2.06-.94 2.06-2.06.94z\"/><path d=\"M17.41 7.96l-1.37-1.37c-.4-.4-.92-.59-1.43-.59-.52 0-1.04.2-1.43.59L10.3 9.45l-7.72 7.72c-.78.78-.78 2.05 0 2.83L4 21.41c.39.39.9.59 1.41.59.51 0 1.02-.2 1.41-.59l7.78-7.78 2.81-2.81c.8-.78.8-2.07 0-2.86zM5.41 20L4 18.59l7.72-7.72 1.47 1.35L5.41 20z\"/>\n",
              "  </svg>\n",
              "      </button>\n",
              "      \n",
              "  <style>\n",
              "    .colab-df-container {\n",
              "      display:flex;\n",
              "      flex-wrap:wrap;\n",
              "      gap: 12px;\n",
              "    }\n",
              "\n",
              "    .colab-df-convert {\n",
              "      background-color: #E8F0FE;\n",
              "      border: none;\n",
              "      border-radius: 50%;\n",
              "      cursor: pointer;\n",
              "      display: none;\n",
              "      fill: #1967D2;\n",
              "      height: 32px;\n",
              "      padding: 0 0 0 0;\n",
              "      width: 32px;\n",
              "    }\n",
              "\n",
              "    .colab-df-convert:hover {\n",
              "      background-color: #E2EBFA;\n",
              "      box-shadow: 0px 1px 2px rgba(60, 64, 67, 0.3), 0px 1px 3px 1px rgba(60, 64, 67, 0.15);\n",
              "      fill: #174EA6;\n",
              "    }\n",
              "\n",
              "    [theme=dark] .colab-df-convert {\n",
              "      background-color: #3B4455;\n",
              "      fill: #D2E3FC;\n",
              "    }\n",
              "\n",
              "    [theme=dark] .colab-df-convert:hover {\n",
              "      background-color: #434B5C;\n",
              "      box-shadow: 0px 1px 3px 1px rgba(0, 0, 0, 0.15);\n",
              "      filter: drop-shadow(0px 1px 2px rgba(0, 0, 0, 0.3));\n",
              "      fill: #FFFFFF;\n",
              "    }\n",
              "  </style>\n",
              "\n",
              "      <script>\n",
              "        const buttonEl =\n",
              "          document.querySelector('#df-b1cfef22-c7a9-4f9d-9206-d6f2a65fb278 button.colab-df-convert');\n",
              "        buttonEl.style.display =\n",
              "          google.colab.kernel.accessAllowed ? 'block' : 'none';\n",
              "\n",
              "        async function convertToInteractive(key) {\n",
              "          const element = document.querySelector('#df-b1cfef22-c7a9-4f9d-9206-d6f2a65fb278');\n",
              "          const dataTable =\n",
              "            await google.colab.kernel.invokeFunction('convertToInteractive',\n",
              "                                                     [key], {});\n",
              "          if (!dataTable) return;\n",
              "\n",
              "          const docLinkHtml = 'Like what you see? Visit the ' +\n",
              "            '<a target=\"_blank\" href=https://colab.research.google.com/notebooks/data_table.ipynb>data table notebook</a>'\n",
              "            + ' to learn more about interactive tables.';\n",
              "          element.innerHTML = '';\n",
              "          dataTable['output_type'] = 'display_data';\n",
              "          await google.colab.output.renderOutput(dataTable, element);\n",
              "          const docLink = document.createElement('div');\n",
              "          docLink.innerHTML = docLinkHtml;\n",
              "          element.appendChild(docLink);\n",
              "        }\n",
              "      </script>\n",
              "    </div>\n",
              "  </div>\n",
              "  "
            ],
            "text/plain": [
              "      network_technology_3G  network_technology_4G  network_technology_5G  \\\n",
              "1544                    0.0                    1.0                    0.0   \n",
              "876                     0.0                    1.0                    0.0   \n",
              "1339                    0.0                    1.0                    0.0   \n",
              "1424                    0.0                    1.0                    0.0   \n",
              "287                     0.0                    1.0                    0.0   \n",
              "\n",
              "      display_size   battery  display_width  display_height  memory_rom_gb  \\\n",
              "1544     -0.369077 -0.486427       1.906789        1.449594      -0.422592   \n",
              "876       0.839438 -0.118456       0.500206        0.653849       0.159890   \n",
              "1339      0.873967  0.776940      -0.906378       -0.619344       0.159890   \n",
              "1424     -0.455400 -0.486427      -0.906378       -0.778493       0.159890   \n",
              "287      -0.455400 -0.977055      -0.906378       -0.778493      -0.713833   \n",
              "\n",
              "      memory_ram_gb  main_camera_resolution  ...  has_memory_card_slot  \\\n",
              "1544       0.186784               -0.347239  ...                   0.0   \n",
              "876        0.186784               -0.347239  ...                   1.0   \n",
              "1339       0.186784               -0.347239  ...                   1.0   \n",
              "1424       0.186784               -0.417016  ...                   1.0   \n",
              "287       -0.791101               -0.347239  ...                   1.0   \n",
              "\n",
              "      has_stereo_speakers  has_3.5mm_jack  has_wlan_5ghz  has_nfc  \\\n",
              "1544                  0.0             1.0            0.0      1.0   \n",
              "876                   0.0             1.0            0.0      1.0   \n",
              "1339                  0.0             1.0            0.0      0.0   \n",
              "1424                  0.0             1.0            0.0      0.0   \n",
              "287                   0.0             1.0            0.0      0.0   \n",
              "\n",
              "      has_wireless_charging  is_waterproof  num_main_camera  \\\n",
              "1544                    0.0            0.0              2.0   \n",
              "876                     0.0            1.0              1.0   \n",
              "1339                    0.0            0.0              2.0   \n",
              "1424                    0.0            0.0              2.0   \n",
              "287                     0.0            0.0              1.0   \n",
              "\n",
              "      num_selfie_camera  misc_price  \n",
              "1544                1.0         1.0  \n",
              "876                 1.0         1.0  \n",
              "1339                1.0         1.0  \n",
              "1424                1.0         0.0  \n",
              "287                 1.0         0.0  \n",
              "\n",
              "[5 rows x 22 columns]"
            ]
          },
          "execution_count": 27,
          "metadata": {},
          "output_type": "execute_result"
        }
      ],
      "source": [
        "df_dice = pd.concat([X_train, y_train], axis=1)\n",
        "df_dice.head()"
      ]
    },
    {
      "cell_type": "markdown",
      "metadata": {
        "id": "ixGP17jdk1C0"
      },
      "source": [
        "We initialize an instance of the class we created for dealing with Dice and generating counterfactuals."
      ]
    },
    {
      "cell_type": "code",
      "execution_count": null,
      "metadata": {
        "id": "PbrMZQ2-_dg7"
      },
      "outputs": [],
      "source": [
        "cont_features = list(df_dice.columns)\n",
        "cont_features.remove('misc_price')\n",
        "\n",
        "dice_cf = DiceCounterfactual(lgb_model.model, 'sklearn', df_dice, cont_features, target=\"misc_price\")"
      ]
    },
    {
      "cell_type": "markdown",
      "metadata": {
        "id": "a7A1nTomk_HQ"
      },
      "source": [
        "In the first example we only choose one sample, that originally has label 3 (high price) and we want to produce a counterfactual that has label 2 to check which features we can change to decrease the price."
      ]
    },
    {
      "cell_type": "code",
      "execution_count": null,
      "metadata": {
        "id": "g0H0LvQrcHTo"
      },
      "outputs": [],
      "source": [
        "idx = 40\n",
        "count_class = 2\n",
        "\n",
        "orig_sample = df_dice.iloc[[idx]]\n",
        "orig_sample_lab = df_dice.iloc[[idx]]['misc_price']"
      ]
    },
    {
      "cell_type": "markdown",
      "metadata": {
        "id": "Z0x7vmI3lckP"
      },
      "source": [
        "We will use the genetic method to generate the counterfactuals because is the fastest one available in Dice."
      ]
    },
    {
      "cell_type": "code",
      "execution_count": null,
      "metadata": {
        "colab": {
          "base_uri": "https://localhost:8080/"
        },
        "id": "TPc1kqCAkg4a",
        "outputId": "c85e59b5-7b31-4239-d69c-70ac99a29232"
      },
      "outputs": [
        {
          "name": "stderr",
          "output_type": "stream",
          "text": [
            "100%|██████████| 1/1 [00:00<00:00,  1.89it/s]\n"
          ]
        }
      ],
      "source": [
        "dice_cf.create_explanation_instance(method=\"genetic\")\n",
        "\n",
        "cfs = dice_cf.generate_counterfactuals(orig_sample, new_class=count_class, target=\"misc_price\", n_cf=2)"
      ]
    },
    {
      "cell_type": "markdown",
      "metadata": {
        "id": "4JjuhZphO3QO"
      },
      "source": [
        "We standardize the original samples and the counterfactuals to get real values for the devices."
      ]
    },
    {
      "cell_type": "code",
      "execution_count": null,
      "metadata": {
        "id": "emIfzCaPLPLq"
      },
      "outputs": [],
      "source": [
        "pairs = dice_cf.destandardize_cfs_orig(scaler_num=std_transf)"
      ]
    },
    {
      "cell_type": "markdown",
      "metadata": {
        "id": "8Ybld2FjhCOK"
      },
      "source": [
        "After that we got the sample - counterfactuals pairs we can pass them to a function in order to compare the differences in the features that allow to classify the sample as the desired class."
      ]
    },
    {
      "cell_type": "code",
      "execution_count": null,
      "metadata": {
        "id": "U6ripnYmb5V-"
      },
      "outputs": [],
      "source": [
        "compare_dfs = dice_cf.compare_sample_cf(pairs, color=\"red\")"
      ]
    },
    {
      "cell_type": "markdown",
      "metadata": {
        "id": "SdjCrl69hR04"
      },
      "source": [
        "At the end we can print the comparison for all the samples for which we generated the counterfactuals simply retrieving the dataframe from the list."
      ]
    },
    {
      "cell_type": "code",
      "execution_count": null,
      "metadata": {
        "colab": {
          "base_uri": "https://localhost:8080/",
          "height": 750
        },
        "id": "L8ILuGHsfDNM",
        "outputId": "d5e2f12e-eebe-48fb-e40e-2f014c158f46"
      },
      "outputs": [
        {
          "data": {
            "text/html": [
              "<style type=\"text/css\">\n",
              "#T_433a4_row3_col0, #T_433a4_row3_col1, #T_433a4_row3_col2, #T_433a4_row4_col0, #T_433a4_row4_col1, #T_433a4_row4_col2, #T_433a4_row5_col0, #T_433a4_row5_col1, #T_433a4_row5_col2, #T_433a4_row6_col0, #T_433a4_row6_col1, #T_433a4_row6_col2, #T_433a4_row10_col0, #T_433a4_row10_col1, #T_433a4_row11_col0, #T_433a4_row11_col2, #T_433a4_row12_col0, #T_433a4_row12_col2, #T_433a4_row13_col0, #T_433a4_row13_col1, #T_433a4_row19_col0, #T_433a4_row19_col1, #T_433a4_row19_col2, #T_433a4_row21_col0, #T_433a4_row21_col1, #T_433a4_row21_col2 {\n",
              "  border: 1px solid red;\n",
              "}\n",
              "</style>\n",
              "<table id=\"T_433a4\" class=\"dataframe\">\n",
              "  <thead>\n",
              "    <tr>\n",
              "      <th class=\"blank level0\" >&nbsp;</th>\n",
              "      <th id=\"T_433a4_level0_col0\" class=\"col_heading level0 col0\" >Original sample</th>\n",
              "      <th id=\"T_433a4_level0_col1\" class=\"col_heading level0 col1\" >Counterfactual_0</th>\n",
              "      <th id=\"T_433a4_level0_col2\" class=\"col_heading level0 col2\" >Counterfactual_1</th>\n",
              "    </tr>\n",
              "  </thead>\n",
              "  <tbody>\n",
              "    <tr>\n",
              "      <th id=\"T_433a4_level0_row0\" class=\"row_heading level0 row0\" >network_technology_3G</th>\n",
              "      <td id=\"T_433a4_row0_col0\" class=\"data row0 col0\" >0.000</td>\n",
              "      <td id=\"T_433a4_row0_col1\" class=\"data row0 col1\" >0.000</td>\n",
              "      <td id=\"T_433a4_row0_col2\" class=\"data row0 col2\" >0.000</td>\n",
              "    </tr>\n",
              "    <tr>\n",
              "      <th id=\"T_433a4_level0_row1\" class=\"row_heading level0 row1\" >network_technology_4G</th>\n",
              "      <td id=\"T_433a4_row1_col0\" class=\"data row1 col0\" >1.000</td>\n",
              "      <td id=\"T_433a4_row1_col1\" class=\"data row1 col1\" >1.000</td>\n",
              "      <td id=\"T_433a4_row1_col2\" class=\"data row1 col2\" >1.000</td>\n",
              "    </tr>\n",
              "    <tr>\n",
              "      <th id=\"T_433a4_level0_row2\" class=\"row_heading level0 row2\" >network_technology_5G</th>\n",
              "      <td id=\"T_433a4_row2_col0\" class=\"data row2 col0\" >0.000</td>\n",
              "      <td id=\"T_433a4_row2_col1\" class=\"data row2 col1\" >0.000</td>\n",
              "      <td id=\"T_433a4_row2_col2\" class=\"data row2 col2\" >0.000</td>\n",
              "    </tr>\n",
              "    <tr>\n",
              "      <th id=\"T_433a4_level0_row3\" class=\"row_heading level0 row3\" >display_size</th>\n",
              "      <td id=\"T_433a4_row3_col0\" class=\"data row3 col0\" >6.500</td>\n",
              "      <td id=\"T_433a4_row3_col1\" class=\"data row3 col1\" >5.500</td>\n",
              "      <td id=\"T_433a4_row3_col2\" class=\"data row3 col2\" >5.500</td>\n",
              "    </tr>\n",
              "    <tr>\n",
              "      <th id=\"T_433a4_level0_row4\" class=\"row_heading level0 row4\" >battery</th>\n",
              "      <td id=\"T_433a4_row4_col0\" class=\"data row4 col0\" >3330.000</td>\n",
              "      <td id=\"T_433a4_row4_col1\" class=\"data row4 col1\" >2730.000</td>\n",
              "      <td id=\"T_433a4_row4_col2\" class=\"data row4 col2\" >3100.000</td>\n",
              "    </tr>\n",
              "    <tr>\n",
              "      <th id=\"T_433a4_level0_row5\" class=\"row_heading level0 row5\" >display_width</th>\n",
              "      <td id=\"T_433a4_row5_col0\" class=\"data row5 col0\" >1644.000</td>\n",
              "      <td id=\"T_433a4_row5_col1\" class=\"data row5 col1\" >1440.000</td>\n",
              "      <td id=\"T_433a4_row5_col2\" class=\"data row5 col2\" >1440.000</td>\n",
              "    </tr>\n",
              "    <tr>\n",
              "      <th id=\"T_433a4_level0_row6\" class=\"row_heading level0 row6\" >display_height</th>\n",
              "      <td id=\"T_433a4_row6_col0\" class=\"data row6 col0\" >3840.000</td>\n",
              "      <td id=\"T_433a4_row6_col1\" class=\"data row6 col1\" >2560.000</td>\n",
              "      <td id=\"T_433a4_row6_col2\" class=\"data row6 col2\" >960.000</td>\n",
              "    </tr>\n",
              "    <tr>\n",
              "      <th id=\"T_433a4_level0_row7\" class=\"row_heading level0 row7\" >memory_rom_gb</th>\n",
              "      <td id=\"T_433a4_row7_col0\" class=\"data row7 col0\" >64.000</td>\n",
              "      <td id=\"T_433a4_row7_col1\" class=\"data row7 col1\" >64.000</td>\n",
              "      <td id=\"T_433a4_row7_col2\" class=\"data row7 col2\" >64.000</td>\n",
              "    </tr>\n",
              "    <tr>\n",
              "      <th id=\"T_433a4_level0_row8\" class=\"row_heading level0 row8\" >memory_ram_gb</th>\n",
              "      <td id=\"T_433a4_row8_col0\" class=\"data row8 col0\" >6.000</td>\n",
              "      <td id=\"T_433a4_row8_col1\" class=\"data row8 col1\" >6.000</td>\n",
              "      <td id=\"T_433a4_row8_col2\" class=\"data row8 col2\" >6.000</td>\n",
              "    </tr>\n",
              "    <tr>\n",
              "      <th id=\"T_433a4_level0_row9\" class=\"row_heading level0 row9\" >main_camera_resolution</th>\n",
              "      <td id=\"T_433a4_row9_col0\" class=\"data row9 col0\" >12.000</td>\n",
              "      <td id=\"T_433a4_row9_col1\" class=\"data row9 col1\" >12.000</td>\n",
              "      <td id=\"T_433a4_row9_col2\" class=\"data row9 col2\" >12.000</td>\n",
              "    </tr>\n",
              "    <tr>\n",
              "      <th id=\"T_433a4_level0_row10\" class=\"row_heading level0 row10\" >selfie_camera_resolution</th>\n",
              "      <td id=\"T_433a4_row10_col0\" class=\"data row10 col0\" >8.000</td>\n",
              "      <td id=\"T_433a4_row10_col1\" class=\"data row10 col1\" >5.000</td>\n",
              "      <td id=\"T_433a4_row10_col2\" class=\"data row10 col2\" >8.000</td>\n",
              "    </tr>\n",
              "    <tr>\n",
              "      <th id=\"T_433a4_level0_row11\" class=\"row_heading level0 row11\" >has_oled_display</th>\n",
              "      <td id=\"T_433a4_row11_col0\" class=\"data row11 col0\" >1.000</td>\n",
              "      <td id=\"T_433a4_row11_col1\" class=\"data row11 col1\" >1.000</td>\n",
              "      <td id=\"T_433a4_row11_col2\" class=\"data row11 col2\" >0.000</td>\n",
              "    </tr>\n",
              "    <tr>\n",
              "      <th id=\"T_433a4_level0_row12\" class=\"row_heading level0 row12\" >has_memory_card_slot</th>\n",
              "      <td id=\"T_433a4_row12_col0\" class=\"data row12 col0\" >1.000</td>\n",
              "      <td id=\"T_433a4_row12_col1\" class=\"data row12 col1\" >1.000</td>\n",
              "      <td id=\"T_433a4_row12_col2\" class=\"data row12 col2\" >0.000</td>\n",
              "    </tr>\n",
              "    <tr>\n",
              "      <th id=\"T_433a4_level0_row13\" class=\"row_heading level0 row13\" >has_stereo_speakers</th>\n",
              "      <td id=\"T_433a4_row13_col0\" class=\"data row13 col0\" >1.000</td>\n",
              "      <td id=\"T_433a4_row13_col1\" class=\"data row13 col1\" >0.000</td>\n",
              "      <td id=\"T_433a4_row13_col2\" class=\"data row13 col2\" >1.000</td>\n",
              "    </tr>\n",
              "    <tr>\n",
              "      <th id=\"T_433a4_level0_row14\" class=\"row_heading level0 row14\" >has_3.5mm_jack</th>\n",
              "      <td id=\"T_433a4_row14_col0\" class=\"data row14 col0\" >0.000</td>\n",
              "      <td id=\"T_433a4_row14_col1\" class=\"data row14 col1\" >0.000</td>\n",
              "      <td id=\"T_433a4_row14_col2\" class=\"data row14 col2\" >0.000</td>\n",
              "    </tr>\n",
              "    <tr>\n",
              "      <th id=\"T_433a4_level0_row15\" class=\"row_heading level0 row15\" >has_wlan_5ghz</th>\n",
              "      <td id=\"T_433a4_row15_col0\" class=\"data row15 col0\" >1.000</td>\n",
              "      <td id=\"T_433a4_row15_col1\" class=\"data row15 col1\" >1.000</td>\n",
              "      <td id=\"T_433a4_row15_col2\" class=\"data row15 col2\" >1.000</td>\n",
              "    </tr>\n",
              "    <tr>\n",
              "      <th id=\"T_433a4_level0_row16\" class=\"row_heading level0 row16\" >has_nfc</th>\n",
              "      <td id=\"T_433a4_row16_col0\" class=\"data row16 col0\" >1.000</td>\n",
              "      <td id=\"T_433a4_row16_col1\" class=\"data row16 col1\" >1.000</td>\n",
              "      <td id=\"T_433a4_row16_col2\" class=\"data row16 col2\" >1.000</td>\n",
              "    </tr>\n",
              "    <tr>\n",
              "      <th id=\"T_433a4_level0_row17\" class=\"row_heading level0 row17\" >has_wireless_charging</th>\n",
              "      <td id=\"T_433a4_row17_col0\" class=\"data row17 col0\" >0.000</td>\n",
              "      <td id=\"T_433a4_row17_col1\" class=\"data row17 col1\" >0.000</td>\n",
              "      <td id=\"T_433a4_row17_col2\" class=\"data row17 col2\" >0.000</td>\n",
              "    </tr>\n",
              "    <tr>\n",
              "      <th id=\"T_433a4_level0_row18\" class=\"row_heading level0 row18\" >is_waterproof</th>\n",
              "      <td id=\"T_433a4_row18_col0\" class=\"data row18 col0\" >1.000</td>\n",
              "      <td id=\"T_433a4_row18_col1\" class=\"data row18 col1\" >1.000</td>\n",
              "      <td id=\"T_433a4_row18_col2\" class=\"data row18 col2\" >1.000</td>\n",
              "    </tr>\n",
              "    <tr>\n",
              "      <th id=\"T_433a4_level0_row19\" class=\"row_heading level0 row19\" >num_main_camera</th>\n",
              "      <td id=\"T_433a4_row19_col0\" class=\"data row19 col0\" >3.000</td>\n",
              "      <td id=\"T_433a4_row19_col1\" class=\"data row19 col1\" >1.000</td>\n",
              "      <td id=\"T_433a4_row19_col2\" class=\"data row19 col2\" >1.000</td>\n",
              "    </tr>\n",
              "    <tr>\n",
              "      <th id=\"T_433a4_level0_row20\" class=\"row_heading level0 row20\" >num_selfie_camera</th>\n",
              "      <td id=\"T_433a4_row20_col0\" class=\"data row20 col0\" >1.000</td>\n",
              "      <td id=\"T_433a4_row20_col1\" class=\"data row20 col1\" >1.000</td>\n",
              "      <td id=\"T_433a4_row20_col2\" class=\"data row20 col2\" >1.000</td>\n",
              "    </tr>\n",
              "    <tr>\n",
              "      <th id=\"T_433a4_level0_row21\" class=\"row_heading level0 row21\" >misc_price</th>\n",
              "      <td id=\"T_433a4_row21_col0\" class=\"data row21 col0\" >3.000</td>\n",
              "      <td id=\"T_433a4_row21_col1\" class=\"data row21 col1\" >2.000</td>\n",
              "      <td id=\"T_433a4_row21_col2\" class=\"data row21 col2\" >2.000</td>\n",
              "    </tr>\n",
              "  </tbody>\n",
              "</table>\n"
            ],
            "text/plain": [
              "<pandas.io.formats.style.Styler at 0x7f930a143a30>"
            ]
          },
          "execution_count": 33,
          "metadata": {},
          "output_type": "execute_result"
        }
      ],
      "source": [
        "compare_dfs[0]"
      ]
    },
    {
      "cell_type": "markdown",
      "metadata": {
        "id": "eN_3P-o95paN"
      },
      "source": [
        "TODO\n",
        "We can explore different interesting parameters in Dice:\n",
        "- in 'generate_counterfactuals' function we can use:\n",
        "    - proximity_weight, diversity_weight;\n",
        "    - permitted_range, a dictionary with the feature names as keys and a list of the allowed values;\n",
        "    - features_to_vary;"
      ]
    }
  ],
  "metadata": {
    "colab": {
      "collapsed_sections": [
        "kUK6ZFgIJeDN",
        "JeQBu6o4Yd8H"
      ],
      "provenance": []
    },
    "kernelspec": {
      "display_name": "master-aiii",
      "language": "python",
      "name": "python3"
    },
    "language_info": {
      "codemirror_mode": {
        "name": "ipython",
        "version": 3
      },
      "file_extension": ".py",
      "mimetype": "text/x-python",
      "name": "python",
      "nbconvert_exporter": "python",
      "pygments_lexer": "ipython3",
      "version": "3.9.16"
    },
    "orig_nbformat": 4
  },
  "nbformat": 4,
  "nbformat_minor": 0
}