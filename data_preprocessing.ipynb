{
 "cells": [
  {
   "cell_type": "code",
   "execution_count": 1,
   "metadata": {},
   "outputs": [],
   "source": [
    "%load_ext autoreload\n",
    "%autoreload 2"
   ]
  },
  {
   "cell_type": "code",
   "execution_count": 3,
   "metadata": {},
   "outputs": [],
   "source": [
    "import configparser\n",
    "import os\n",
    "\n",
    "from utils import util_data, util_preprocess\n"
   ]
  },
  {
   "cell_type": "code",
   "execution_count": 4,
   "metadata": {},
   "outputs": [
    {
     "data": {
      "text/plain": [
       "['config.ini']"
      ]
     },
     "execution_count": 4,
     "metadata": {},
     "output_type": "execute_result"
    }
   ],
   "source": [
    "config = configparser.ConfigParser()\n",
    "config.read(\"config.ini\")\n"
   ]
  },
  {
   "cell_type": "code",
   "execution_count": 5,
   "metadata": {},
   "outputs": [
    {
     "name": "stdout",
     "output_type": "stream",
     "text": [
      "File gsm.csv already exists. Skip download.\n"
     ]
    }
   ],
   "source": [
    "ds_conf = config[\"GSMARENA_DS\"]\n",
    "# Download the training and test datasets\n",
    "dh = util_data.DownloadHelper(\n",
    "    ds_conf[\"url\"], ds_conf[\"name\"], ds_conf[\"mode\"], quiet=False\n",
    ")\n",
    "\n",
    "dh.download()"
   ]
  },
  {
   "cell_type": "code",
   "execution_count": 6,
   "metadata": {},
   "outputs": [],
   "source": [
    "df = dh.read_csv(low_memory=False, sep=\",\")"
   ]
  },
  {
   "cell_type": "code",
   "execution_count": 31,
   "metadata": {},
   "outputs": [
    {
     "data": {
      "text/plain": [
       "<module 'utils.util_preprocess' from 'c:\\\\Users\\\\andre\\\\Documents\\\\ai-master\\\\counterfactual-explanations\\\\utils\\\\util_preprocess.py'>"
      ]
     },
     "execution_count": 31,
     "metadata": {},
     "output_type": "execute_result"
    }
   ],
   "source": [
    "from importlib import reload\n",
    "reload(util_preprocess)"
   ]
  },
  {
   "cell_type": "code",
   "execution_count": 27,
   "metadata": {},
   "outputs": [],
   "source": [
    "preprocess = util_preprocess.GSMArenaPreprocess(df)\n",
    "df = preprocess.preprocess()"
   ]
  },
  {
   "cell_type": "code",
   "execution_count": 26,
   "metadata": {},
   "outputs": [],
   "source": [
    "df = (\n",
    "    df.pipe(util_preprocess.filter_unwanted_columns)\n",
    "    .pipe(util_preprocess.preprocess_feature, \"misc_price\")\n",
    "    .pipe(util_preprocess.preprocess_feature, \"launch_announced\")\n",
    "    .pipe(util_preprocess.preprocess_feature, \"display_size\")\n",
    "    .pipe(util_preprocess.preprocess_feature, \"display_type\")\n",
    "    .pipe(util_preprocess.preprocess_feature, \"display_resolution\")\n",
    "    .pipe(util_preprocess.preprocess_feature, \"memory_card_slot\")\n",
    "    .pipe(util_preprocess.preprocess_feature, \"sound_loudspeaker\")\n",
    "    .pipe(util_preprocess.preprocess_feature, \"sound_3.5mm_jack\")\n",
    "    .pipe(util_preprocess.preprocess_feature, \"comms_wlan\")\n",
    "    .pipe(util_preprocess.preprocess_feature, \"comms_nfc\")\n",
    "    .pipe(util_preprocess.preprocess_feature, \"memory_internal\")\n",
    "    .pipe(util_preprocess.preprocess_feature, \"network_technology\")\n",
    "    .pipe(util_preprocess.preprocess_feature, \"battery\")\n",
    "    .pipe(util_preprocess.preprocess_feature, \"battery_charging\")\n",
    "    .pipe(util_preprocess.preprocess_feature, \"body\")\n",
    "    .pipe(util_preprocess.preprocess_feature, \"main_camera_cols\")\n",
    "    .pipe(util_preprocess.preprocess_feature, \"selfie_camera_cols\")    \n",
    ")\n"
   ]
  },
  {
   "cell_type": "code",
   "execution_count": 28,
   "metadata": {},
   "outputs": [
    {
     "name": "stdout",
     "output_type": "stream",
     "text": [
      "The dataframe has 2647 rows and 21 columns.\n"
     ]
    }
   ],
   "source": [
    "print(f\"The dataframe has {df.shape[0]} rows and {df.shape[1]} columns.\")"
   ]
  },
  {
   "cell_type": "code",
   "execution_count": 33,
   "metadata": {},
   "outputs": [
    {
     "name": "stdout",
     "output_type": "stream",
     "text": [
      "misc_price: [200.0, 250.0, 150.0, 130.0, 300.0, 180.0, 120.0, 170.0, 100.0, 160.0, 220.0, 230.0, 190.0, 280.0, 110.0, 140.0, 260.0, 270.0, 350.0, 400.0, 210.0, 240.0, 80.0, 90.0, 330.0, 290.0, 320.0, 70.0, 500.0, 360.0, 450.0, 420.0, 310.0, 380.0, 390.0, 370.0, 340.0, 440.0, 550.0, 60.0, 430.0, 410.0, 480.0, 470.0, 460.0, 700.0, 600.0, 850.0, 650.0, 50.0, 880.0, 530.0, 900.0, 199.99, 620.0, 680.0, 520.0, 1000.0, 670.0, 800.0, 490.0, 1100.0, 640.0, 580.0, 299.99, 690.0, 134.99, 149.99, 1200.0, 204.75, 40.0, 599.0, 730.0, 199.0, 750.0, 145.0, 349.0, 179.99, 570.0, 510.0, 950.0, 329.0, 770.0, 1150.0, 540.0, 179.0, 279.0, 1170.45, 1165.0, 246.99, 505.99, 145.99, 289.99, 233.9, 1087.99, 807.8, 799.99, 219.0, 149.0, 229.5, 820.0, 798.14, 55.0, 92.0, 489.0, 209.9, 699.95, 308.86, 419.0, 579.99, 108.98, 474.4, 149.98, 173.86, 459.99, 112.0, 579.0, 799.0, 830.0, 119.9, 77.83, 1250.0, 960.0, 660.0, 1600.0, 1300.0, 920.0, 444.0, 1050.0, 589.0, 1750.0, 235.0, 760.0, 590.0, 125.0, 9000.0, 5440.0, 8290.0, 610.0, 94.6, 1172.27, 1290.0, 997.14, 384.38, 487.0, 501.0, 369.99, 298.74, 1020.0, 218.56, 251.99, 1590.0, 215.6, 729.0, 249.6, 922.37, 771.25, 668.56, 169.0, 87.51, 479.0, 1124.0, 1029.0, 839.99, 204.9, 789.99, 710.0, 149.9, 155.66, 526.08, 769.98, 870.0, 239.59, 190.09, 578.0, 705.99, 329.99, 154.0, 99.99, 179.89, 195.0, 249.99, 229.99, 1570.73, 93.99, 226.99, 155.97, 108.96, 165.0, 59.99, 92.99, 263.41, 189.0, 713.35, 304.0, 745.99, 582.99, 415.99, 129.99, 354.99, 399.99, 295.98, 399.0, 745.0, 94.13, 552.79, 454.39, 1400.0, 899.0, 744.99, 217.99, 237.0, 258.48, 123.5, 359.99, 1700.0, 864.99, 319.99, 199.84, 106.99, 107.46, 524.52, 1327.1, 369.0, 381.65, 211.65, 159.9, 449.99, 630.0, 641.85, 289.98, 344.98, 249.98, 297.49, 472.79, 519.99, 439.0, 180.68, 239.9, 265.0, 249.0, 248.86, 174.35, 348.99, 297.92, 331.99, 204.0, 299.89, 229.0, 167.0, 87.0, 740.0, 529.0, 587.4, 419.33, 324.38, 1010.71, 969.99, 269.98, 239.99, 607.77, 159.99, 255.55, 499.0, 464.99, 276.11, 183.05, 299.0, 749.0, 129.29, 65.0]\n",
      "launch_announced: [2015.0, 2014.0, 2016.0, 2018.0, 2017.0, 2019.0, 2013.0, 2020.0, 2012.0, 2011.0]\n",
      "display_size: [5.0, 5.5, 6.0, 4.5, 5.2, 4.7, 5.7, 8.0, 4.3, 6.4, 6.3, 6.2, 10.1, 6.5, 7.0, 4.0, 5.3, 6.53, 6.26, 5.45, 5.99, 6.39, 5.1, 6.1, 4.8, 6.22, 6.7, 6.57, 5.9, 6.21, 6.47, 4.65, 5.8, 6.01, 6.67, 6.09, 9.7, 6.44, 6.8, 6.6, 5.71, 7.9, 10.5, 6.41, 6.55, 6.38, 8.4, 5.84, 6.28, 5.6, 6.35, 5.15, 6.43, 5.65, 6.65, 4.6, 10.8, 4.55, 4.2, 12.2, 9.6, 12.9, 8.9, 6.52, 6.9, 5.46, 10.4, 5.4, 4.95, 3.1, 6.15, 3.8, 10.0, 6.18, 5.93, 5.25, 6.95, 7.12, 6.56, 5.34, 5.96, 7.7, 8.2, 6.19, 6.81, 6.58, 6.62, 5.43, 11.0, 7.2, 5.73, 7.3, 5.88, 7.85, 5.97, 5.86, 6.23, 4.77, 5.72, 5.85, 4.52, 4.4, 3.97, 3.7, 9.4, 6.24, 5.36, 6.85, 5.67, 7.1, 6.49, 5.83, 6.82, 10.2, 6.59, 6.36, 4.66, 3.5, 5.95, 8.1, 5.09, 7.86, 4.68, 6.33, 6.98, 13.3, 4.93, 8.3, 4.99]\n",
      "has_oled_display: [0, 1]\n",
      "has_memory_card_slot: [1]\n",
      "has_stereo_speakers: [0, 1]\n",
      "has_3.5mm_jack: [0]\n",
      "has_wlan_5ghz: [1, 0]\n",
      "has_nfc: [1]\n",
      "network_technology: ['4G', '3G', '5G']\n",
      "battery: [3000.0, 4000.0, 2000.0, 2500.0, 5000.0, 2600.0, 2100.0, 2300.0, 3300.0, 3500.0, 2800.0, 1800.0, 4500.0, 3100.0, 3200.0, 2200.0, 3400.0, 4100.0, 4200.0, 2400.0, 3020.0, 2700.0, 2900.0, 3600.0, 1900.0, 6000.0, 1700.0, 3260.0, 2150.0, 5100.0, 4800.0, 2540.0, 7000.0, 4030.0, 1850.0, 4050.0, 3340.0, 2350.0, 3050.0, 3750.0, 3080.0, 3140.0, 3450.0, 2050.0, 2070.0, 3800.0, 4025.0, 2840.0, 1650.0, 1750.0, 2420.0, 5020.0, 4230.0, 4300.0, 3150.0, 2460.0, 4600.0, 2550.0, 3700.0, 1830.0, 3060.0, 1780.0, 3070.0, 2250.0, 3075.0, 4450.0, 2750.0, 3430.0, 3950.0, 1620.0, 6800.0, 2950.0, 2850.0, 2620.0, 2040.0, 4010.0, 9500.0, 2110.0, 2610.0, 1600.0, 3120.0, 1500.0, 2020.0, 3410.0, 3180.0, 2930.0, 7040.0, 2470.0, 3900.0, 7250.0, 7500.0, 6100.0, 2410.0, 3130.0, 2450.0, 7300.0, 5260.0, 3630.0, 2730.0, 2870.0, 3315.0, 4080.0, 4070.0, 1730.0, 1950.0, 1810.0, 6400.0, 4680.0, 2440.0, 3010.0, 3350.0, 9000.0, 4900.0, 1860.0, 4290.0, 4250.0, 4850.0, 3760.0, 4360.0, 6660.0, 3220.0, 6600.0, 3360.0, 4400.0, 4020.0, 3580.0, 5124.0, 3230.0, 5500.0, 3930.0, 1920.0, 3240.0, 5900.0, 7812.0, 3090.0, 1300.0, 1400.0, 3960.0, 6020.0, 1910.0, 2530.0, 8827.0, 4315.0, 3160.0, 2275.0, 9720.0, 2230.0, 4150.0, 1821.0, 3250.0, 2560.0, 4160.0, 4520.0, 2390.0, 2280.0, 4350.0, 2630.0, 8220.0, 2960.0, 2330.0, 5300.0, 3850.0, 2915.0, 6470.0, 4130.0, 2080.0, 7800.0, 3550.0, 2125.0, 3030.0, 2580.0, 2060.0, 7400.0, 4035.0, 2880.0, 2320.0, 2140.0, 2520.0, 6340.0, 2910.0, 4060.0, 2820.0, 9600.0, 2760.0, 3510.0, 1930.0, 1905.0, 2860.0, 2260.0, 2705.0, 4620.0, 5830.0, 8620.0, 4380.0, 3320.0, 4015.0, 4700.0, 1980.0, 6150.0, 2210.0, 3610.0, 5870.0, 7900.0, 2430.0, 1820.0, 2030.0, 3330.0, 3540.0, 4120.0, 2525.0, 5400.0, 8120.0, 2370.0, 2990.0, 2970.0, 2120.0, 2130.0, 3425.0, 3225.0, 1785.0, 1170.0, 3570.0, 9800.0, 1715.0, 1624.0, 7306.0, 1960.0, 8134.0, 10.891, 2691.0, 2716.0, 2942.0, 2658.0, 3174.0, 3.0, 1530.0, 3110.0, 7340.0, 3046.0, 3969.0, 7600.0, 4235.0, 4780.0, 4720.0, 2920.0, 3820.0, 4045.0, 4260.0, 2510.0, 8200.0, 3590.0, 10.307, 8600.0, 3210.0, 4550.0, 1540.0, 8000.0, 1940.0, 10.2, 9300.0, 5180.0, 1670.0, 2680.0, 3650.0, 6700.0, 2965.0, 2770.0, 3520.0, 2670.0, 1560.0, 10.0, 1520.0, 3620.0, 6180.0, 4180.0, 2180.0, 2515.0, 4270.0, 3480.0, 2650.0, 1440.0, 11560.0, 1510.0, 2480.0]\n",
      "has_wireless_charging: [0, 1]\n",
      "is_waterproof: [0, 1]\n",
      "display_width: [720.0, 1080.0, 480.0, 1440.0, 540.0, 800.0, 1200.0, 768.0, 1536.0, 2560.0, 1600.0, 600.0, 1920.0, 1280.0, 640.0, 750.0, 1668.0, 1176.0, 2048.0, 1125.0, 1242.0, 3840.0, 2160.0, 828.0, 1644.0, 1620.0, 2732.0, 1152.0, 442.0, 876.0]\n",
      "display_height: [1280.0, 1920.0, 2340.0, 960.0, 2560.0, 854.0, 2160.0, 1440.0, 2400.0, 800.0, 1520.0, 1600.0, 2280.0, 1560.0, 1024.0, 2048.0, 2246.0, 1200.0, 3120.0, 2220.0, 2880.0, 2310.0, 2960.0, 1480.0, 2244.0, 3200.0, 2520.0, 3040.0, 2040.0, 1334.0, 1544.0, 2248.0, 1136.0, 1500.0, 2232.0, 720.0, 3840.0, 2300.0, 2460.0, 1620.0, 2270.0, 1512.0, 2312.0, 2732.0, 2000.0, 2436.0, 2388.0, 2240.0, 1528.0, 1792.0, 2408.0, 2640.0, 1640.0, 2688.0, 2376.0, 3168.0, 2152.0, 1352.0, 2636.0, 1680.0, 2224.0, 2142.0, 1800.0, 1570.0, 2316.0, 2992.0, 2258.0]\n",
      "memory_rom_gb: [16.0, 32.0, 64.0, 8.0, 128.0, 4.0, 256.0, 512.0, 1.0, 2.0, 3.0, 11.0, 13.0]\n",
      "memory_ram_gb: [1.0, 2.0, 4.0, 3.0, 6.0, 8.0, 12.0, 11.0, 10.0, 13.0, 16.0, 32.0, 5.0, 64.0, 26.0, 51.0, 1.45, 25.0, 1.77, 94.0]\n",
      "main_camera_resolution: ['13', '8', '16', '12', '5', '48', '64', '21', '24', '3.15', '23', '40', '20', '20.7', '4', '12.2', '108', '19', '10', '12.3', '2', '50', '32', '8.1', '13.1', '25', '6.7', '22.6', '21.2', '12.6', '21.5', '0.3', '20.1', '41', '20.2', '18', '22.5']\n",
      "num_main_camera: [1.0, 2.0, 3.0, 4.0, 5.0]\n",
      "selfie_camera_resolution: ['5', '8', '2', '16', '1.3', '13', '32', '20', '2.1', '1.2', '24', '1', '12', '1.9', '1.6', '25', '4', '10', '7', '2.2', '5.1', '3', '1.1', '3.7', '40', '44', '0.9', '16.3']\n",
      "num_selfie_camera: [1.0, 2.0, 3.0]\n"
     ]
    }
   ],
   "source": [
    "for i in df.columns:\n",
    "    print(f\"{i}: {df.loc[:, i].value_counts().index.to_list()}\")"
   ]
  },
  {
   "attachments": {},
   "cell_type": "markdown",
   "metadata": {},
   "source": [
    "Filter conditions for recent mobile phones\n",
    "\n",
    "- launch_announced >= 2014\n",
    "- display_size in (4, 7.5)\n",
    "- display_height and display_width > 512"
   ]
  },
  {
   "cell_type": "code",
   "execution_count": 521,
   "metadata": {},
   "outputs": [
    {
     "name": "stderr",
     "output_type": "stream",
     "text": [
      "Removing unwanted rows and duplicates...\n",
      "Shape before removing unwanted rows and duplicates: (2647, 21)\n",
      "Shape after removing unwanted rows and duplicates: (1973, 21)\n",
      "\n"
     ]
    }
   ],
   "source": [
    "filter_condition = {\n",
    "    \"launch_announced\": lambda x: x >= 2014,\n",
    "    \"display_size\": lambda x: x >= 4,\n",
    "    \"display_size\": lambda x: x <= 7.5,\n",
    "    \"display_height\": lambda x: x >= 512,\n",
    "    \"display_width\": lambda x: x >= 512,\n",
    "}\n",
    "df = util_preprocess.filter_unwanted_rows(df, filter_condition)"
   ]
  },
  {
   "cell_type": "code",
   "execution_count": 532,
   "metadata": {},
   "outputs": [],
   "source": [
    "out_path = os.path.join(\"data\", \"processed\", ds_conf[\"name\"])\n",
    "df.to_csv(out_path, index=False)"
   ]
  }
 ],
 "metadata": {
  "kernelspec": {
   "display_name": "master-aiii",
   "language": "python",
   "name": "python3"
  },
  "language_info": {
   "codemirror_mode": {
    "name": "ipython",
    "version": 3
   },
   "file_extension": ".py",
   "mimetype": "text/x-python",
   "name": "python",
   "nbconvert_exporter": "python",
   "pygments_lexer": "ipython3",
   "version": "3.9.16"
  },
  "orig_nbformat": 4
 },
 "nbformat": 4,
 "nbformat_minor": 2
}
