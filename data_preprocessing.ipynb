{
 "cells": [
  {
   "cell_type": "code",
   "execution_count": 1,
   "metadata": {
    "id": "BeBJWOaYHMbZ",
    "slideshow": {
     "slide_type": "skip"
    }
   },
   "outputs": [],
   "source": [
    "%load_ext autoreload\n",
    "%autoreload 2\n",
    "%matplotlib inline"
   ]
  },
  {
   "cell_type": "markdown",
   "metadata": {
    "id": "Qwnv3DBTCZZP",
    "slideshow": {
     "slide_type": "slide"
    }
   },
   "source": [
    "# Preprocessing"
   ]
  },
  {
   "cell_type": "markdown",
   "metadata": {
    "id": "ZjAmPTP1Mg6E",
    "slideshow": {
     "slide_type": "skip"
    }
   },
   "source": [
    "## Installation and import of the needed libraries\n"
   ]
  },
  {
   "cell_type": "code",
   "execution_count": 2,
   "metadata": {
    "colab": {
     "base_uri": "https://localhost:8080/"
    },
    "id": "oYnJw3nRtWjx",
    "outputId": "2771b510-ae60-4858-d747-7c73655d7b9e",
    "slideshow": {
     "slide_type": "skip"
    }
   },
   "outputs": [
    {
     "name": "stdout",
     "output_type": "stream",
     "text": [
      "Currently not running in a Colab environment\n"
     ]
    }
   ],
   "source": [
    "COLAB_ENV = (\n",
    "    \"google.colab\" in str(get_ipython())\n",
    "    if hasattr(__builtins__, \"__IPYTHON__\")\n",
    "    else False\n",
    ")\n",
    "print(f\"Currently {'not ' if not COLAB_ENV else ''}running in a Colab environment\")\n"
   ]
  },
  {
   "cell_type": "markdown",
   "metadata": {
    "id": "PlR3PcJbC84d",
    "slideshow": {
     "slide_type": "skip"
    }
   },
   "source": [
    "### Installation (mandatory on Colab)\n",
    "\n",
    "First of all we clone the Github repository in order to have all the needed files to perform our analysis.\n",
    "\n",
    "This is needed only if the current notebook isn't executed directly from the repository folder (e.g. Google Colab)\n"
   ]
  },
  {
   "cell_type": "code",
   "execution_count": 3,
   "metadata": {
    "colab": {
     "base_uri": "https://localhost:8080/"
    },
    "id": "bXnBmuobMi-Q",
    "outputId": "bc57fb44-aadb-4abb-cac6-f61156d9f607",
    "slideshow": {
     "slide_type": "skip"
    }
   },
   "outputs": [],
   "source": [
    "if COLAB_ENV:\n",
    "    !mkdir my_repo\n",
    "    !git clone https://github.com/Valendrew/counterfactual-explanations.git my_repo\n",
    "    %cd my_repo\n",
    "    !pip install -r requirements.txt -q"
   ]
  },
  {
   "cell_type": "markdown",
   "metadata": {
    "id": "YCxP1Q5-HMbi",
    "slideshow": {
     "slide_type": "skip"
    }
   },
   "source": [
    "### Import and configuration setup\n"
   ]
  },
  {
   "cell_type": "code",
   "execution_count": 4,
   "metadata": {
    "colab": {
     "base_uri": "https://localhost:8080/"
    },
    "id": "QZR9pR0LSjbE",
    "outputId": "fbdbf73e-53f4-429b-d089-1f3bb474b31f",
    "slideshow": {
     "slide_type": "skip"
    }
   },
   "outputs": [],
   "source": [
    "# python modules\n",
    "import configparser\n",
    "import re\n",
    "\n",
    "# 3rd party modules\n",
    "import numpy as np\n",
    "import pandas as pd\n",
    "import matplotlib.pyplot as plt\n",
    "from sklearn.linear_model import LinearRegression, HuberRegressor\n",
    "from sklearn.model_selection import cross_val_score\n",
    "\n",
    "# user modules\n",
    "from utils import util_data, util_preprocess, util_plot, util_models"
   ]
  },
  {
   "cell_type": "markdown",
   "metadata": {
    "id": "zmh5RLDwSRwx",
    "slideshow": {
     "slide_type": "skip"
    }
   },
   "source": [
    "In order to manage the randomness we wrote the following cell to make the experiments reproducible, check the following [link](https://scikit-learn.org/stable/common_pitfalls.html#controlling-randomness).\n",
    "\n",
    "A numpy Random Generator object is constructed for controlling randomness: necessary for robust results in estimator performance with cross-validation.\n"
   ]
  },
  {
   "cell_type": "code",
   "execution_count": 5,
   "metadata": {
    "id": "5I7sSu9aSY3D",
    "slideshow": {
     "slide_type": "skip"
    }
   },
   "outputs": [],
   "source": [
    "def set_default_randomness(seed: int):\n",
    "    rng = np.random.RandomState(seed)\n",
    "    return rng\n",
    "\n",
    "\n",
    "SEED = 42\n",
    "rng = set_default_randomness(SEED)"
   ]
  },
  {
   "cell_type": "markdown",
   "metadata": {
    "id": "CcWgPz39UFd_",
    "slideshow": {
     "slide_type": "skip"
    }
   },
   "source": [
    "Moreover we import the configuration file to have all the parameters along the notebook.\n"
   ]
  },
  {
   "cell_type": "code",
   "execution_count": 6,
   "metadata": {
    "colab": {
     "base_uri": "https://localhost:8080/"
    },
    "id": "P0trduHkUG3S",
    "outputId": "ad4aa90e-7d18-4afb-9d60-2998fc599a4a",
    "slideshow": {
     "slide_type": "skip"
    }
   },
   "outputs": [
    {
     "data": {
      "text/plain": [
       "['config.ini']"
      ]
     },
     "execution_count": 6,
     "metadata": {},
     "output_type": "execute_result"
    }
   ],
   "source": [
    "config = configparser.ConfigParser()\n",
    "config.read(\"config.ini\")"
   ]
  },
  {
   "cell_type": "code",
   "execution_count": 14,
   "metadata": {
    "colab": {
     "base_uri": "https://localhost:8080/"
    },
    "id": "-8tIL4WpMteF",
    "outputId": "e836dd86-e039-4b27-ccfa-ba3def199e2b",
    "slideshow": {
     "slide_type": "skip"
    }
   },
   "outputs": [
    {
     "name": "stdout",
     "output_type": "stream",
     "text": [
      "File gsm.csv already exists. Skip download.\n"
     ]
    }
   ],
   "source": [
    "ds_conf = config[\"GSMARENA_DS\"]\n",
    "# Download the training and test datasets\n",
    "download_helper = util_data.DownloadHelper(\n",
    "    ds_conf[\"url\"], ds_conf[\"name\"], ds_conf[\"mode\"], quiet=False\n",
    ")\n",
    "\n",
    "download_helper.download()"
   ]
  },
  {
   "cell_type": "code",
   "execution_count": 15,
   "metadata": {
    "id": "9RjANCWpOq90",
    "slideshow": {
     "slide_type": "skip"
    }
   },
   "outputs": [],
   "source": [
    "df_raw = download_helper.read_csv(low_memory=False, sep=\",\")"
   ]
  },
  {
   "cell_type": "markdown",
   "metadata": {
    "id": "tETAOV0DJV6d",
    "slideshow": {
     "slide_type": "slide"
    }
   },
   "source": [
    "## Exploration of scraped data\n",
    "\n",
    "For the project we use the following dataset from Kaggle: [dataset](https://www.kaggle.com/datasets/msainani/gsmarena-mobile-devices).\n",
    "\n",
    "It gives information about different characteristics of the smartphones (e.g. RAM, cores, ...) and the target variable is the price range of the device. The list has been scraped from the known website [GSMArena](gsmarena.com)."
   ]
  },
  {
   "cell_type": "markdown",
   "metadata": {
    "id": "BIdSFI-PtSeM",
    "slideshow": {
     "slide_type": "skip"
    }
   },
   "source": [
    "After that we downloaded the dataset we can load it as a dataframe to leverage Pandas built-in functions.\n"
   ]
  },
  {
   "cell_type": "markdown",
   "metadata": {
    "id": "8DoMLVVA4EHS",
    "slideshow": {
     "slide_type": "subslide"
    }
   },
   "source": [
    "### Preliminary exploration for preprocessing\n",
    "\n",
    "The dataset has 10679 samples, each with 86 features. However, only some of the features are necessary for the task, so we can remove the others.\n",
    "\n",
    "All the columns are text data."
   ]
  },
  {
   "cell_type": "code",
   "execution_count": 16,
   "metadata": {
    "colab": {
     "base_uri": "https://localhost:8080/",
     "height": 393
    },
    "id": "GKfO-zuZ0ykr",
    "outputId": "a73b8bea-bec0-4303-bcb6-4de338807899",
    "slideshow": {
     "slide_type": "fragment"
    }
   },
   "outputs": [
    {
     "data": {
      "text/html": [
       "<div>\n",
       "<style scoped>\n",
       "    .dataframe tbody tr th:only-of-type {\n",
       "        vertical-align: middle;\n",
       "    }\n",
       "\n",
       "    .dataframe tbody tr th {\n",
       "        vertical-align: top;\n",
       "    }\n",
       "\n",
       "    .dataframe thead th {\n",
       "        text-align: right;\n",
       "    }\n",
       "</style>\n",
       "<table border=\"1\" class=\"dataframe\">\n",
       "  <thead>\n",
       "    <tr style=\"text-align: right;\">\n",
       "      <th></th>\n",
       "      <th>oem</th>\n",
       "      <th>model</th>\n",
       "      <th>network_technology</th>\n",
       "      <th>network_2g_bands</th>\n",
       "      <th>network_gprs</th>\n",
       "      <th>network_edge</th>\n",
       "      <th>launch_announced</th>\n",
       "      <th>launch_status</th>\n",
       "      <th>body_dimensions</th>\n",
       "      <th>body_weight</th>\n",
       "      <th>...</th>\n",
       "      <th>main_camera_dual_or_triple</th>\n",
       "      <th>battery_music_play</th>\n",
       "      <th>selfie_camera_triple</th>\n",
       "      <th>main_camera_v1</th>\n",
       "      <th>selfie_camera</th>\n",
       "      <th>camera</th>\n",
       "      <th>main_camera</th>\n",
       "      <th>network</th>\n",
       "      <th>battery_talk_time</th>\n",
       "      <th>battery_stand.by</th>\n",
       "    </tr>\n",
       "  </thead>\n",
       "  <tbody>\n",
       "    <tr>\n",
       "      <th>0</th>\n",
       "      <td>Benefon</td>\n",
       "      <td>Vega</td>\n",
       "      <td>GSM</td>\n",
       "      <td>GSM 900</td>\n",
       "      <td>No</td>\n",
       "      <td>No</td>\n",
       "      <td>1999</td>\n",
       "      <td>Discontinued</td>\n",
       "      <td>145 x 56 x 23 mm (5.71 x 2.20 x 0.91 in)</td>\n",
       "      <td>190 g (6.70 oz)</td>\n",
       "      <td>...</td>\n",
       "      <td>NaN</td>\n",
       "      <td>NaN</td>\n",
       "      <td>NaN</td>\n",
       "      <td>NaN</td>\n",
       "      <td>NaN</td>\n",
       "      <td>No</td>\n",
       "      <td>NaN</td>\n",
       "      <td>NaN</td>\n",
       "      <td>4 - 10 h</td>\n",
       "      <td>3 - 6 days</td>\n",
       "    </tr>\n",
       "    <tr>\n",
       "      <th>1</th>\n",
       "      <td>Garmin-Asus</td>\n",
       "      <td>nuvifone M10</td>\n",
       "      <td>GSM / HSPA</td>\n",
       "      <td>GSM 900 / 1800 / 1900</td>\n",
       "      <td>NaN</td>\n",
       "      <td>NaN</td>\n",
       "      <td>2010, January. Released 2010, March</td>\n",
       "      <td>Discontinued</td>\n",
       "      <td>-</td>\n",
       "      <td>-</td>\n",
       "      <td>...</td>\n",
       "      <td>NaN</td>\n",
       "      <td>NaN</td>\n",
       "      <td>NaN</td>\n",
       "      <td>NaN</td>\n",
       "      <td>V2</td>\n",
       "      <td>NaN</td>\n",
       "      <td>NaN</td>\n",
       "      <td>GSM 850 / 1800 / 1900 - US version</td>\n",
       "      <td>Up to 8 h</td>\n",
       "      <td>Up to 600 h (2G) / Up to 600 h (3G)</td>\n",
       "    </tr>\n",
       "    <tr>\n",
       "      <th>2</th>\n",
       "      <td>Gigabyte</td>\n",
       "      <td>GSmart G1305 Boston</td>\n",
       "      <td>GSM / HSPA</td>\n",
       "      <td>GSM 850 / 900 / 1800 / 1900</td>\n",
       "      <td>NaN</td>\n",
       "      <td>NaN</td>\n",
       "      <td>2010, April. Released 2010, April</td>\n",
       "      <td>Discontinued</td>\n",
       "      <td>116 x 56.8 x 12.4 mm (4.57 x 2.24 x 0.49 in)</td>\n",
       "      <td>118 g (4.16 oz)</td>\n",
       "      <td>...</td>\n",
       "      <td>NaN</td>\n",
       "      <td>NaN</td>\n",
       "      <td>NaN</td>\n",
       "      <td>NaN</td>\n",
       "      <td>V2</td>\n",
       "      <td>NaN</td>\n",
       "      <td>NaN</td>\n",
       "      <td>NaN</td>\n",
       "      <td>Up to 7 h 10 min</td>\n",
       "      <td>Up to 410 h</td>\n",
       "    </tr>\n",
       "  </tbody>\n",
       "</table>\n",
       "<p>3 rows × 86 columns</p>\n",
       "</div>"
      ],
      "text/plain": [
       "           oem                model network_technology  \\\n",
       "0      Benefon                 Vega                GSM   \n",
       "1  Garmin-Asus         nuvifone M10         GSM / HSPA   \n",
       "2     Gigabyte  GSmart G1305 Boston         GSM / HSPA   \n",
       "\n",
       "              network_2g_bands network_gprs network_edge  \\\n",
       "0                      GSM 900           No           No   \n",
       "1        GSM 900 / 1800 / 1900          NaN          NaN   \n",
       "2  GSM 850 / 900 / 1800 / 1900          NaN          NaN   \n",
       "\n",
       "                      launch_announced launch_status  \\\n",
       "0                                 1999  Discontinued   \n",
       "1  2010, January. Released 2010, March  Discontinued   \n",
       "2    2010, April. Released 2010, April  Discontinued   \n",
       "\n",
       "                                body_dimensions      body_weight  ...  \\\n",
       "0      145 x 56 x 23 mm (5.71 x 2.20 x 0.91 in)  190 g (6.70 oz)  ...   \n",
       "1                                             -                -  ...   \n",
       "2  116 x 56.8 x 12.4 mm (4.57 x 2.24 x 0.49 in)  118 g (4.16 oz)  ...   \n",
       "\n",
       "  main_camera_dual_or_triple battery_music_play selfie_camera_triple  \\\n",
       "0                        NaN                NaN                  NaN   \n",
       "1                        NaN                NaN                  NaN   \n",
       "2                        NaN                NaN                  NaN   \n",
       "\n",
       "  main_camera_v1 selfie_camera camera main_camera  \\\n",
       "0            NaN           NaN     No         NaN   \n",
       "1            NaN            V2    NaN         NaN   \n",
       "2            NaN            V2    NaN         NaN   \n",
       "\n",
       "                              network battery_talk_time  \\\n",
       "0                                 NaN          4 - 10 h   \n",
       "1  GSM 850 / 1800 / 1900 - US version         Up to 8 h   \n",
       "2                                 NaN  Up to 7 h 10 min   \n",
       "\n",
       "                      battery_stand.by  \n",
       "0                           3 - 6 days  \n",
       "1  Up to 600 h (2G) / Up to 600 h (3G)  \n",
       "2                          Up to 410 h  \n",
       "\n",
       "[3 rows x 86 columns]"
      ]
     },
     "execution_count": 16,
     "metadata": {},
     "output_type": "execute_result"
    }
   ],
   "source": [
    "df_raw.head(3)"
   ]
  },
  {
   "cell_type": "code",
   "execution_count": 17,
   "metadata": {
    "colab": {
     "base_uri": "https://localhost:8080/"
    },
    "id": "atmzrDaoHMbl",
    "outputId": "df887a31-f069-48f3-d35f-3512cc2bd137",
    "slideshow": {
     "slide_type": "skip"
    }
   },
   "outputs": [
    {
     "name": "stdout",
     "output_type": "stream",
     "text": [
      "Number of rows: 10668\n",
      "Number of columns: 86\n"
     ]
    }
   ],
   "source": [
    "print(f\"Number of rows: {df_raw.shape[0]}\")\n",
    "print(f\"Number of columns: {df_raw.shape[1]}\")"
   ]
  },
  {
   "cell_type": "code",
   "execution_count": 18,
   "metadata": {
    "colab": {
     "base_uri": "https://localhost:8080/"
    },
    "id": "q583kKVEHMbl",
    "outputId": "66b6e375-692f-4c1a-8fbd-767d84af39f9",
    "slideshow": {
     "slide_type": "skip"
    }
   },
   "outputs": [
    {
     "name": "stdout",
     "output_type": "stream",
     "text": [
      "Index(['oem', 'model', 'network_technology', 'network_2g_bands',\n",
      "       'network_gprs', 'network_edge', 'launch_announced', 'launch_status',\n",
      "       'body_dimensions', 'body_weight', 'body_sim', 'display_type',\n",
      "       'display_size', 'display_resolution', 'display', 'memory_card_slot',\n",
      "       'memory_phonebook', 'memory_call_records', 'sound_loudspeaker',\n",
      "       'sound_alert_types', 'sound_3.5mm_jack', 'comms_wlan',\n",
      "       'comms_bluetooth', 'comms_gps', 'comms_radio', 'comms_usb',\n",
      "       'features_sensors', 'features_messaging', 'features_browser',\n",
      "       'features_clock', 'features_alarm', 'features_games', 'features_java',\n",
      "       'features', 'misc_colors', 'network_3g_bands', 'network_speed',\n",
      "       'platform_os', 'platform_chipset', 'platform_cpu', 'platform_gpu',\n",
      "       'memory_internal', 'main_camera_single', 'main_camera_video',\n",
      "       'misc_price', 'main_camera_features', 'body', 'network_4g_bands',\n",
      "       'body_build', 'display_protection', 'memory', 'main_camera_dual',\n",
      "       'selfie_camera_dual', 'selfie_camera_features', 'selfie_camera_video',\n",
      "       'comms_nfc', 'battery_charging', 'misc_models', 'tests_performance',\n",
      "       'tests_camera', 'tests_loudspeaker', 'tests_audio_quality',\n",
      "       'tests_battery_life', 'tests_display', 'selfie_camera_single',\n",
      "       'comms_infrared_port', 'network_5g_bands', 'main_camera_quad',\n",
      "       'main_camera_triple', 'sound', 'misc_sar_eu', 'main_camera_five',\n",
      "       'features_languages', 'body_keyboard', 'misc_sar', 'battery',\n",
      "       'main_camera_dual_or_triple', 'battery_music_play',\n",
      "       'selfie_camera_triple', 'main_camera_v1', 'selfie_camera', 'camera',\n",
      "       'main_camera', 'network', 'battery_talk_time', 'battery_stand.by'],\n",
      "      dtype='object')\n"
     ]
    }
   ],
   "source": [
    "print(df_raw.columns)"
   ]
  },
  {
   "cell_type": "code",
   "execution_count": 19,
   "metadata": {
    "colab": {
     "base_uri": "https://localhost:8080/"
    },
    "id": "fIjcQFmL0Lbb",
    "outputId": "938c0afb-54c3-477e-8286-a35a028b3e1a",
    "slideshow": {
     "slide_type": "skip"
    }
   },
   "outputs": [
    {
     "data": {
      "text/plain": [
       "object    86\n",
       "dtype: int64"
      ]
     },
     "execution_count": 19,
     "metadata": {},
     "output_type": "execute_result"
    }
   ],
   "source": [
    "df_raw.dtypes.value_counts()"
   ]
  },
  {
   "cell_type": "markdown",
   "metadata": {
    "id": "_cVSjvYxtSeN",
    "slideshow": {
     "slide_type": "slide"
    }
   },
   "source": [
    "### Explore relevant features"
   ]
  },
  {
   "cell_type": "markdown",
   "metadata": {
    "id": "u5xSZZn7tSeN",
    "slideshow": {
     "slide_type": "fragment"
    }
   },
   "source": [
    "- _misc_price_: label for the classification\n",
    "- _launch_announced_: year of the announcement\n",
    "- _network_technology_: 3G, 4G, 5G\n",
    "- **Float features**: display_size, battery\n",
    "- **Binary features**: display_type, memory_card_slot, sound_loudspeaker, sound_3.5mm_jack, comms_wlan, comms_nfc, battery_charging, body\n",
    "- **Multi column features**: display_resolution, memory_internal\n",
    "- **Camera features**: main_camera, selfie_camera\n"
   ]
  },
  {
   "cell_type": "code",
   "execution_count": 20,
   "metadata": {
    "id": "VwU2wdX6tSeO",
    "slideshow": {
     "slide_type": "skip"
    }
   },
   "outputs": [],
   "source": [
    "df_copy = df_raw.copy()"
   ]
  },
  {
   "cell_type": "markdown",
   "metadata": {
    "id": "xzp8KKLqtSeO",
    "slideshow": {
     "slide_type": "subslide"
    }
   },
   "source": [
    "#### Explore the launch_announced column"
   ]
  },
  {
   "cell_type": "markdown",
   "metadata": {
    "id": "Nu9UdFgPtSeO",
    "slideshow": {
     "slide_type": "fragment"
    }
   },
   "source": [
    "There are 91 values which are NaN. However, these samples belongs to two distinct categories:\n",
    "\n",
    "- 82 samples don't have any price, so without a proper label they must be dropped.\n",
    "- 9 samples have a price, but carefully looking at the \"launch_status\", only two of them have been \"discontinued\", while the remaining ones have been \"cancelled\"."
   ]
  },
  {
   "cell_type": "markdown",
   "metadata": {
    "slideshow": {
     "slide_type": "skip"
    }
   },
   "source": [
    "Nonetheless, these 91 samples can be easily dropped, because only for 2 of them the launch year could be found, but a quick online search doesn't provide any results."
   ]
  },
  {
   "cell_type": "code",
   "execution_count": 24,
   "metadata": {
    "slideshow": {
     "slide_type": "skip"
    }
   },
   "outputs": [],
   "source": [
    "def extract_year(df: pd.DataFrame, feat_col: str, only_na=True):\n",
    "    # pattern to extract year\n",
    "    pat_year = r\"([\\d]{4})\"\n",
    "    # year series\n",
    "    ser_year = df_copy[feat_col]\n",
    "    \n",
    "    ser_year = util_preprocess.DataTransformer.process_float_feature(ser_year, pat_year)\n",
    "    if only_na:\n",
    "        return df.loc[ser_year.isna()]\n",
    "    return df.loc[ser_year.notna()]"
   ]
  },
  {
   "cell_type": "code",
   "execution_count": 60,
   "metadata": {
    "slideshow": {
     "slide_type": "fragment"
    }
   },
   "outputs": [
    {
     "data": {
      "text/html": [
       "<div>\n",
       "<style scoped>\n",
       "    .dataframe tbody tr th:only-of-type {\n",
       "        vertical-align: middle;\n",
       "    }\n",
       "\n",
       "    .dataframe tbody tr th {\n",
       "        vertical-align: top;\n",
       "    }\n",
       "\n",
       "    .dataframe thead th {\n",
       "        text-align: right;\n",
       "    }\n",
       "</style>\n",
       "<table border=\"1\" class=\"dataframe\">\n",
       "  <thead>\n",
       "    <tr style=\"text-align: right;\">\n",
       "      <th></th>\n",
       "      <th>oem</th>\n",
       "      <th>model</th>\n",
       "      <th>launch_announced</th>\n",
       "      <th>launch_status</th>\n",
       "      <th>misc_price</th>\n",
       "    </tr>\n",
       "  </thead>\n",
       "  <tbody>\n",
       "    <tr>\n",
       "      <th>853</th>\n",
       "      <td>Xiaomi</td>\n",
       "      <td>Mi Max 4</td>\n",
       "      <td>Not announced yet</td>\n",
       "      <td>Cancelled</td>\n",
       "      <td>About 300 EUR</td>\n",
       "    </tr>\n",
       "    <tr>\n",
       "      <th>854</th>\n",
       "      <td>Xiaomi</td>\n",
       "      <td>Mi Max 4 Pro</td>\n",
       "      <td>Not announced yet</td>\n",
       "      <td>Cancelled</td>\n",
       "      <td>About 350 EUR</td>\n",
       "    </tr>\n",
       "    <tr>\n",
       "      <th>1642</th>\n",
       "      <td>Coolpad</td>\n",
       "      <td>3632</td>\n",
       "      <td>Not announced yet</td>\n",
       "      <td>Cancelled</td>\n",
       "      <td>About 100 EUR</td>\n",
       "    </tr>\n",
       "    <tr>\n",
       "      <th>2610</th>\n",
       "      <td>Asus</td>\n",
       "      <td>Z801</td>\n",
       "      <td>V1</td>\n",
       "      <td>Discontinued</td>\n",
       "      <td>About 260 EUR</td>\n",
       "    </tr>\n",
       "    <tr>\n",
       "      <th>4915</th>\n",
       "      <td>Lenovo</td>\n",
       "      <td>ideapad</td>\n",
       "      <td>V1</td>\n",
       "      <td>Cancelled</td>\n",
       "      <td>About 130 EUR</td>\n",
       "    </tr>\n",
       "    <tr>\n",
       "      <th>5584</th>\n",
       "      <td>Meizu</td>\n",
       "      <td>PRO 5 mini</td>\n",
       "      <td>Not announced yet</td>\n",
       "      <td>Cancelled</td>\n",
       "      <td>About 360 EUR</td>\n",
       "    </tr>\n",
       "    <tr>\n",
       "      <th>8975</th>\n",
       "      <td>Samsung</td>\n",
       "      <td>Galaxy On5 (2016)</td>\n",
       "      <td>Not announced yet</td>\n",
       "      <td>Cancelled</td>\n",
       "      <td>About 220 EUR</td>\n",
       "    </tr>\n",
       "    <tr>\n",
       "      <th>10059</th>\n",
       "      <td>Vodafone</td>\n",
       "      <td>830i</td>\n",
       "      <td>V1</td>\n",
       "      <td>Discontinued</td>\n",
       "      <td>About 170 EUR</td>\n",
       "    </tr>\n",
       "    <tr>\n",
       "      <th>10233</th>\n",
       "      <td>Xiaomi</td>\n",
       "      <td>Redmi Pro 2</td>\n",
       "      <td>Not announced yet</td>\n",
       "      <td>Cancelled</td>\n",
       "      <td>About 210 EUR</td>\n",
       "    </tr>\n",
       "  </tbody>\n",
       "</table>\n",
       "</div>"
      ],
      "text/plain": [
       "            oem              model   launch_announced launch_status  \\\n",
       "853      Xiaomi           Mi Max 4  Not announced yet     Cancelled   \n",
       "854      Xiaomi       Mi Max 4 Pro  Not announced yet     Cancelled   \n",
       "1642    Coolpad               3632  Not announced yet     Cancelled   \n",
       "2610       Asus               Z801                 V1  Discontinued   \n",
       "4915     Lenovo            ideapad                 V1     Cancelled   \n",
       "5584      Meizu         PRO 5 mini  Not announced yet     Cancelled   \n",
       "8975    Samsung  Galaxy On5 (2016)  Not announced yet     Cancelled   \n",
       "10059  Vodafone               830i                 V1  Discontinued   \n",
       "10233    Xiaomi        Redmi Pro 2  Not announced yet     Cancelled   \n",
       "\n",
       "          misc_price  \n",
       "853    About 300 EUR  \n",
       "854    About 350 EUR  \n",
       "1642   About 100 EUR  \n",
       "2610   About 260 EUR  \n",
       "4915   About 130 EUR  \n",
       "5584   About 360 EUR  \n",
       "8975   About 220 EUR  \n",
       "10059  About 170 EUR  \n",
       "10233  About 210 EUR  "
      ]
     },
     "execution_count": 60,
     "metadata": {},
     "output_type": "execute_result"
    }
   ],
   "source": [
    "cols = [\"oem\", \"model\", \"launch_announced\", \"launch_status\", \"misc_price\"]\n",
    "df_year_na = extract_year(df_copy, \"launch_announced\").dropna(subset=\"misc_price\")\n",
    "df_year_na[cols]"
   ]
  },
  {
   "cell_type": "markdown",
   "metadata": {
    "id": "3bAoawxWHMbm",
    "slideshow": {
     "slide_type": "subslide"
    }
   },
   "source": [
    "#### Explore the misc_price column"
   ]
  },
  {
   "cell_type": "markdown",
   "metadata": {
    "id": "1JpoJDCPtSeP",
    "slideshow": {
     "slide_type": "fragment"
    }
   },
   "source": [
    "There are only 6537 valid price rows. For most of the models the currency available is EURO, but for the others a suitable conversion rate should be found to estimate the actual price in EURO. This could be difficult due to different [purchasing power parities](https://data.oecd.org/conversion/purchasing-power-parities-ppp.htm) and the region market (Europe, India, USA), but after some observations they are estimated as follows:\n",
    "\n",
    "- INR -> EUR: a linear regression model is fitted on some of the available data to find the conversion rate. A comparison with the median rate and an [average rate retrieved online](https://www.ecb.europa.eu/stats/policy_and_exchange_rates/euro_reference_exchange_rates/html/eurofxref-graph-inr.en.html) shows that the one estimated is the most accurate.\n",
    "- USD -> EUR: some prices are outliers, i.e. shows a conversion rate too much higher or smaller that a \"real\" rate (e.g. 0.40 or 2), for this reason even a linear regression isn't suitable because too much sensible to these values in the training dataset. The best result is achieved with the Huber regressor.\n",
    "- GBP -> EUR: few samples are available to estimate the price, so the only way to compute the price in EURO is to use the [online rate](https://www.ecb.europa.eu/stats/policy_and_exchange_rates/euro_reference_exchange_rates/html/eurofxref-graph-gbp.en.html)."
   ]
  },
  {
   "cell_type": "code",
   "execution_count": 178,
   "metadata": {
    "colab": {
     "base_uri": "https://localhost:8080/"
    },
    "id": "FfAL2as9HMbm",
    "outputId": "09b7908d-79cb-4ac4-9d23-3e7a3b586348",
    "slideshow": {
     "slide_type": "skip"
    }
   },
   "outputs": [
    {
     "name": "stdout",
     "output_type": "stream",
     "text": [
      "Number of valid 'misc_price' rows: 6527\n"
     ]
    }
   ],
   "source": [
    "misc_price = df_copy[\"misc_price\"]\n",
    "to_replace = {\n",
    "    \"<e2><80><89>\": \" \",\n",
    "    \"<e2><82><ac>\": \"EUR\",\n",
    "    \"<e2><82><B9>\": \"INR\",\n",
    "    \"<c2><a3>\": \"GBP\",\n",
    "    \"€\": \"EUR\",\n",
    "    \"\\$\": \"USD\",\n",
    "    \"£\": \"GBP\",\n",
    "    \"\\u2009\": \" \",\n",
    "    \"(,)(?=[\\d]{3})\": \"\",\n",
    "}\n",
    "for k, v in to_replace.items():\n",
    "    misc_price = misc_price.str.replace(k, v, regex=True, flags=re.IGNORECASE)\n",
    "\n",
    "print(f\"Number of valid 'misc_price' rows: {misc_price.count()}\")"
   ]
  },
  {
   "cell_type": "code",
   "execution_count": 174,
   "metadata": {
    "slideshow": {
     "slide_type": "skip"
    }
   },
   "outputs": [
    {
     "name": "stdout",
     "output_type": "stream",
     "text": [
      "Shape of USD: (60,)\n",
      "Shape of GBP: (57,)\n",
      "Shape of EUR: (40,)\n"
     ]
    }
   ],
   "source": [
    "tmp = misc_price[misc_price.str.contains(\"INR\", na=False)]\n",
    "tmp_u = tmp[tmp.str.contains(\"USD\", na=False)]\n",
    "tmp_g = tmp[tmp.str.contains(\"GBP\", na=False)]\n",
    "tmp_e = tmp[tmp.str.contains(\"EUR\", na=False)]\n",
    "tmp_gu = tmp_g.index.union(tmp_u.index).difference(tmp_e.index)\n",
    "print(f\"Shape of USD: {tmp_u.shape}\")\n",
    "print(f\"Shape of GBP: {tmp_g.shape}\")\n",
    "print(f\"Shape of EUR: {tmp_e.shape}\")\n",
    "# misc_price.loc[tmp_gu]"
   ]
  },
  {
   "cell_type": "markdown",
   "metadata": {
    "slideshow": {
     "slide_type": "subslide"
    }
   },
   "source": [
    "Conversion rate between USD and EUR.\n"
   ]
  },
  {
   "cell_type": "markdown",
   "metadata": {
    "id": "KYMAqvlEtSeT",
    "slideshow": {
     "slide_type": "fragment"
    }
   },
   "source": [
    "The presence of some outliers denotes that a linear regression model might not fit correctly some prices, because the training process could be drifted by \"outlier\" conversion rates.\n",
    "\n",
    "It's better to estimate the prices with a regression less sensible to outliers, i.e. the Huber Regressor."
   ]
  },
  {
   "cell_type": "code",
   "execution_count": 179,
   "metadata": {
    "id": "7CThoe0htSeT",
    "outputId": "4a990195-281c-4066-8133-b8173c5d485c",
    "slideshow": {
     "slide_type": "skip"
    }
   },
   "outputs": [
    {
     "name": "stdout",
     "output_type": "stream",
     "text": [
      "Number of prices: 164\n",
      "Year coverage: [2019. 2020. 2018.]\n"
     ]
    }
   ],
   "source": [
    "curr = \"USD\"\n",
    "prices_ext, conversion_rate = util_preprocess.extract_prices_rate(curr, misc_price)\n",
    "\n",
    "# add the year to the conversion rate\n",
    "conv_rate_year = pd.concat(\n",
    "    [conversion_rate, ser_year.loc[conversion_rate.index]], axis=1\n",
    ").sort_values(\"conversion_rate\")\n",
    "print(f\"Year coverage: {conv_rate_year['launch_announced'].unique()}\")"
   ]
  },
  {
   "cell_type": "code",
   "execution_count": 180,
   "metadata": {
    "slideshow": {
     "slide_type": "fragment"
    }
   },
   "outputs": [
    {
     "data": {
      "image/png": "[encoded data removed]",
      "text/plain": [
       "<Figure size 640x480 with 1 Axes>"
      ]
     },
     "metadata": {},
     "output_type": "display_data"
    }
   ],
   "source": [
    "conversion_rate.plot.box(whis=1.5)\n",
    "plt.show()"
   ]
  },
  {
   "cell_type": "code",
   "execution_count": 181,
   "metadata": {
    "id": "RJq6-v5OtSeU",
    "outputId": "99fdb20f-2f48-4d0c-e18d-3cc069462374",
    "slideshow": {
     "slide_type": "skip"
    }
   },
   "outputs": [
    {
     "name": "stdout",
     "output_type": "stream",
     "text": [
      "Lower bound: 0.47\n",
      "Upper bound: 1.52\n",
      "Number of outliers: 11\n"
     ]
    },
    {
     "data": {
      "text/html": [
       "<div>\n",
       "<style scoped>\n",
       "    .dataframe tbody tr th:only-of-type {\n",
       "        vertical-align: middle;\n",
       "    }\n",
       "\n",
       "    .dataframe tbody tr th {\n",
       "        vertical-align: top;\n",
       "    }\n",
       "\n",
       "    .dataframe thead th {\n",
       "        text-align: right;\n",
       "    }\n",
       "</style>\n",
       "<table border=\"1\" class=\"dataframe\">\n",
       "  <thead>\n",
       "    <tr style=\"text-align: right;\">\n",
       "      <th></th>\n",
       "      <th>conversion_rate</th>\n",
       "      <th>eur</th>\n",
       "      <th>usd</th>\n",
       "    </tr>\n",
       "  </thead>\n",
       "  <tbody>\n",
       "    <tr>\n",
       "      <th>1493</th>\n",
       "      <td>0.437331</td>\n",
       "      <td>997.14</td>\n",
       "      <td>436.08</td>\n",
       "    </tr>\n",
       "    <tr>\n",
       "      <th>1567</th>\n",
       "      <td>0.452106</td>\n",
       "      <td>1172.27</td>\n",
       "      <td>529.99</td>\n",
       "    </tr>\n",
       "    <tr>\n",
       "      <th>1278</th>\n",
       "      <td>1.518330</td>\n",
       "      <td>92.20</td>\n",
       "      <td>139.99</td>\n",
       "    </tr>\n",
       "    <tr>\n",
       "      <th>395</th>\n",
       "      <td>1.518330</td>\n",
       "      <td>92.20</td>\n",
       "      <td>139.99</td>\n",
       "    </tr>\n",
       "    <tr>\n",
       "      <th>426</th>\n",
       "      <td>1.615594</td>\n",
       "      <td>587.40</td>\n",
       "      <td>949.00</td>\n",
       "    </tr>\n",
       "    <tr>\n",
       "      <th>1309</th>\n",
       "      <td>1.615594</td>\n",
       "      <td>587.40</td>\n",
       "      <td>949.00</td>\n",
       "    </tr>\n",
       "    <tr>\n",
       "      <th>1311</th>\n",
       "      <td>1.643097</td>\n",
       "      <td>419.33</td>\n",
       "      <td>689.00</td>\n",
       "    </tr>\n",
       "    <tr>\n",
       "      <th>428</th>\n",
       "      <td>1.643097</td>\n",
       "      <td>419.33</td>\n",
       "      <td>689.00</td>\n",
       "    </tr>\n",
       "    <tr>\n",
       "      <th>447</th>\n",
       "      <td>1.821494</td>\n",
       "      <td>279.99</td>\n",
       "      <td>510.00</td>\n",
       "    </tr>\n",
       "    <tr>\n",
       "      <th>1330</th>\n",
       "      <td>1.821494</td>\n",
       "      <td>279.99</td>\n",
       "      <td>510.00</td>\n",
       "    </tr>\n",
       "    <tr>\n",
       "      <th>1491</th>\n",
       "      <td>1.829560</td>\n",
       "      <td>1590.00</td>\n",
       "      <td>2909.00</td>\n",
       "    </tr>\n",
       "  </tbody>\n",
       "</table>\n",
       "</div>"
      ],
      "text/plain": [
       "      conversion_rate      eur      usd\n",
       "1493         0.437331   997.14   436.08\n",
       "1567         0.452106  1172.27   529.99\n",
       "1278         1.518330    92.20   139.99\n",
       "395          1.518330    92.20   139.99\n",
       "426          1.615594   587.40   949.00\n",
       "1309         1.615594   587.40   949.00\n",
       "1311         1.643097   419.33   689.00\n",
       "428          1.643097   419.33   689.00\n",
       "447          1.821494   279.99   510.00\n",
       "1330         1.821494   279.99   510.00\n",
       "1491         1.829560  1590.00  2909.00"
      ]
     },
     "execution_count": 181,
     "metadata": {},
     "output_type": "execute_result"
    }
   ],
   "source": [
    "df_concat = pd.concat([conversion_rate, prices_ext.loc[conversion_rate.index]], axis=1)\n",
    "util_data.compute_outlier(df_concat, \"conversion_rate\").sort_values(by=\"conversion_rate\")"
   ]
  },
  {
   "cell_type": "code",
   "execution_count": 182,
   "metadata": {
    "slideshow": {
     "slide_type": "skip"
    }
   },
   "outputs": [
    {
     "name": "stdout",
     "output_type": "stream",
     "text": [
      "Fitting 5 folds for each of 20 candidates, totalling 100 fits\n"
     ]
    },
    {
     "name": "stderr",
     "output_type": "stream",
     "text": [
      "C:\\Users\\andre\\miniconda3\\envs\\master-aiii\\lib\\site-packages\\sklearn\\model_selection\\_validation.py:378: FitFailedWarning: \n",
      "3 fits failed out of a total of 100.\n",
      "The score on these train-test partitions for these parameters will be set to nan.\n",
      "If these failures are not expected, you can try to debug them by setting error_score='raise'.\n",
      "\n",
      "Below are more details about the failures:\n",
      "--------------------------------------------------------------------------------\n",
      "3 fits failed with the following error:\n",
      "Traceback (most recent call last):\n",
      "  File \"C:\\Users\\andre\\miniconda3\\envs\\master-aiii\\lib\\site-packages\\sklearn\\model_selection\\_validation.py\", line 686, in _fit_and_score\n",
      "    estimator.fit(X_train, y_train, **fit_params)\n",
      "  File \"C:\\Users\\andre\\miniconda3\\envs\\master-aiii\\lib\\site-packages\\sklearn\\linear_model\\_huber.py\", line 338, in fit\n",
      "    raise ValueError(\n",
      "ValueError: HuberRegressor convergence failed: l-BFGS-b solver terminated with ABNORMAL_TERMINATION_IN_LNSRCH\n",
      "\n",
      "  warnings.warn(some_fits_failed_message, FitFailedWarning)\n",
      "C:\\Users\\andre\\miniconda3\\envs\\master-aiii\\lib\\site-packages\\sklearn\\model_selection\\_search.py:952: UserWarning: One or more of the test scores are non-finite: [-122.91685876 -123.55655481 -122.95563558 -122.97286107           nan\n",
      " -122.87400136 -122.91686402 -122.86721964 -122.87400136 -122.99461154\n",
      " -123.22395757 -122.86723054 -122.91686402           nan           nan\n",
      " -122.86722017 -122.95564469 -122.8740072  -122.87399625 -122.91686402]\n",
      "  warnings.warn(\n",
      "C:\\Users\\andre\\miniconda3\\envs\\master-aiii\\lib\\site-packages\\sklearn\\model_selection\\_search.py:952: UserWarning: One or more of the test scores are non-finite: [0.08923249 0.06338554 0.08663894 0.08815421        nan 0.08917868\n",
      " 0.08923222 0.09129604 0.08917868 0.08945082 0.07666049 0.09129551\n",
      " 0.08923222        nan        nan 0.09129602 0.0866381  0.08917846\n",
      " 0.08917887 0.08923222]\n",
      "  warnings.warn(\n"
     ]
    },
    {
     "data": {
      "text/html": [
       "<style>#sk-container-id-2 {color: black;background-color: white;}#sk-container-id-2 pre{padding: 0;}#sk-container-id-2 div.sk-toggleable {background-color: white;}#sk-container-id-2 label.sk-toggleable__label {cursor: pointer;display: block;width: 100%;margin-bottom: 0;padding: 0.3em;box-sizing: border-box;text-align: center;}#sk-container-id-2 label.sk-toggleable__label-arrow:before {content: \"▸\";float: left;margin-right: 0.25em;color: #696969;}#sk-container-id-2 label.sk-toggleable__label-arrow:hover:before {color: black;}#sk-container-id-2 div.sk-estimator:hover label.sk-toggleable__label-arrow:before {color: black;}#sk-container-id-2 div.sk-toggleable__content {max-height: 0;max-width: 0;overflow: hidden;text-align: left;background-color: #f0f8ff;}#sk-container-id-2 div.sk-toggleable__content pre {margin: 0.2em;color: black;border-radius: 0.25em;background-color: #f0f8ff;}#sk-container-id-2 input.sk-toggleable__control:checked~div.sk-toggleable__content {max-height: 200px;max-width: 100%;overflow: auto;}#sk-container-id-2 input.sk-toggleable__control:checked~label.sk-toggleable__label-arrow:before {content: \"▾\";}#sk-container-id-2 div.sk-estimator input.sk-toggleable__control:checked~label.sk-toggleable__label {background-color: #d4ebff;}#sk-container-id-2 div.sk-label input.sk-toggleable__control:checked~label.sk-toggleable__label {background-color: #d4ebff;}#sk-container-id-2 input.sk-hidden--visually {border: 0;clip: rect(1px 1px 1px 1px);clip: rect(1px, 1px, 1px, 1px);height: 1px;margin: -1px;overflow: hidden;padding: 0;position: absolute;width: 1px;}#sk-container-id-2 div.sk-estimator {font-family: monospace;background-color: #f0f8ff;border: 1px dotted black;border-radius: 0.25em;box-sizing: border-box;margin-bottom: 0.5em;}#sk-container-id-2 div.sk-estimator:hover {background-color: #d4ebff;}#sk-container-id-2 div.sk-parallel-item::after {content: \"\";width: 100%;border-bottom: 1px solid gray;flex-grow: 1;}#sk-container-id-2 div.sk-label:hover label.sk-toggleable__label {background-color: #d4ebff;}#sk-container-id-2 div.sk-serial::before {content: \"\";position: absolute;border-left: 1px solid gray;box-sizing: border-box;top: 0;bottom: 0;left: 50%;z-index: 0;}#sk-container-id-2 div.sk-serial {display: flex;flex-direction: column;align-items: center;background-color: white;padding-right: 0.2em;padding-left: 0.2em;position: relative;}#sk-container-id-2 div.sk-item {position: relative;z-index: 1;}#sk-container-id-2 div.sk-parallel {display: flex;align-items: stretch;justify-content: center;background-color: white;position: relative;}#sk-container-id-2 div.sk-item::before, #sk-container-id-2 div.sk-parallel-item::before {content: \"\";position: absolute;border-left: 1px solid gray;box-sizing: border-box;top: 0;bottom: 0;left: 50%;z-index: -1;}#sk-container-id-2 div.sk-parallel-item {display: flex;flex-direction: column;z-index: 1;position: relative;background-color: white;}#sk-container-id-2 div.sk-parallel-item:first-child::after {align-self: flex-end;width: 50%;}#sk-container-id-2 div.sk-parallel-item:last-child::after {align-self: flex-start;width: 50%;}#sk-container-id-2 div.sk-parallel-item:only-child::after {width: 0;}#sk-container-id-2 div.sk-dashed-wrapped {border: 1px dashed gray;margin: 0 0.4em 0.5em 0.4em;box-sizing: border-box;padding-bottom: 0.4em;background-color: white;}#sk-container-id-2 div.sk-label label {font-family: monospace;font-weight: bold;display: inline-block;line-height: 1.2em;}#sk-container-id-2 div.sk-label-container {text-align: center;}#sk-container-id-2 div.sk-container {/* jupyter's `normalize.less` sets `[hidden] { display: none; }` but bootstrap.min.css set `[hidden] { display: none !important; }` so we also need the `!important` here to be able to override the default hidden behavior on the sphinx rendered scikit-learn.org. See: https://github.com/scikit-learn/scikit-learn/issues/21755 */display: inline-block !important;position: relative;}#sk-container-id-2 div.sk-text-repr-fallback {display: none;}</style><div id=\"sk-container-id-2\" class=\"sk-top-container\"><div class=\"sk-text-repr-fallback\"><pre>RandomizedSearchCV(cv=5, estimator=HuberRegressor(), n_iter=20, n_jobs=-1,\n",
       "                   param_distributions={&#x27;alpha&#x27;: array([0.0001    , 0.00535789, 0.01061579, 0.01587368, 0.02113158,\n",
       "       0.02638947, 0.03164737, 0.03690526, 0.04216316, 0.04742105,\n",
       "       0.05267895, 0.05793684, 0.06319474, 0.06845263, 0.07371053,\n",
       "       0.07896842, 0.08422632, 0.08948421, 0.09474211, 0.1       ]),\n",
       "                                        &#x27;epsilon&#x27;: array([1.        , 1.11111111, 1.22222222, 1.33333333, 1.44444444,\n",
       "       1.55555556, 1.66666667, 1.77777778, 1.88888889, 2.        ]),\n",
       "                                        &#x27;fit_intercept&#x27;: [False],\n",
       "                                        &#x27;max_iter&#x27;: [100],\n",
       "                                        &#x27;tol&#x27;: array([1.e-05, 2.e-05, 3.e-05, 4.e-05, 5.e-05, 6.e-05, 7.e-05, 8.e-05,\n",
       "       9.e-05, 1.e-04])},\n",
       "                   refit=&#x27;r2&#x27;, scoring=[&#x27;neg_root_mean_squared_error&#x27;, &#x27;r2&#x27;],\n",
       "                   verbose=2)</pre><b>In a Jupyter environment, please rerun this cell to show the HTML representation or trust the notebook. <br />On GitHub, the HTML representation is unable to render, please try loading this page with nbviewer.org.</b></div><div class=\"sk-container\" hidden><div class=\"sk-item sk-dashed-wrapped\"><div class=\"sk-label-container\"><div class=\"sk-label sk-toggleable\"><input class=\"sk-toggleable__control sk-hidden--visually\" id=\"sk-estimator-id-4\" type=\"checkbox\" ><label for=\"sk-estimator-id-4\" class=\"sk-toggleable__label sk-toggleable__label-arrow\">RandomizedSearchCV</label><div class=\"sk-toggleable__content\"><pre>RandomizedSearchCV(cv=5, estimator=HuberRegressor(), n_iter=20, n_jobs=-1,\n",
       "                   param_distributions={&#x27;alpha&#x27;: array([0.0001    , 0.00535789, 0.01061579, 0.01587368, 0.02113158,\n",
       "       0.02638947, 0.03164737, 0.03690526, 0.04216316, 0.04742105,\n",
       "       0.05267895, 0.05793684, 0.06319474, 0.06845263, 0.07371053,\n",
       "       0.07896842, 0.08422632, 0.08948421, 0.09474211, 0.1       ]),\n",
       "                                        &#x27;epsilon&#x27;: array([1.        , 1.11111111, 1.22222222, 1.33333333, 1.44444444,\n",
       "       1.55555556, 1.66666667, 1.77777778, 1.88888889, 2.        ]),\n",
       "                                        &#x27;fit_intercept&#x27;: [False],\n",
       "                                        &#x27;max_iter&#x27;: [100],\n",
       "                                        &#x27;tol&#x27;: array([1.e-05, 2.e-05, 3.e-05, 4.e-05, 5.e-05, 6.e-05, 7.e-05, 8.e-05,\n",
       "       9.e-05, 1.e-04])},\n",
       "                   refit=&#x27;r2&#x27;, scoring=[&#x27;neg_root_mean_squared_error&#x27;, &#x27;r2&#x27;],\n",
       "                   verbose=2)</pre></div></div></div><div class=\"sk-parallel\"><div class=\"sk-parallel-item\"><div class=\"sk-item\"><div class=\"sk-label-container\"><div class=\"sk-label sk-toggleable\"><input class=\"sk-toggleable__control sk-hidden--visually\" id=\"sk-estimator-id-5\" type=\"checkbox\" ><label for=\"sk-estimator-id-5\" class=\"sk-toggleable__label sk-toggleable__label-arrow\">estimator: HuberRegressor</label><div class=\"sk-toggleable__content\"><pre>HuberRegressor()</pre></div></div></div><div class=\"sk-serial\"><div class=\"sk-item\"><div class=\"sk-estimator sk-toggleable\"><input class=\"sk-toggleable__control sk-hidden--visually\" id=\"sk-estimator-id-6\" type=\"checkbox\" ><label for=\"sk-estimator-id-6\" class=\"sk-toggleable__label sk-toggleable__label-arrow\">HuberRegressor</label><div class=\"sk-toggleable__content\"><pre>HuberRegressor()</pre></div></div></div></div></div></div></div></div></div></div>"
      ],
      "text/plain": [
       "RandomizedSearchCV(cv=5, estimator=HuberRegressor(), n_iter=20, n_jobs=-1,\n",
       "                   param_distributions={'alpha': array([0.0001    , 0.00535789, 0.01061579, 0.01587368, 0.02113158,\n",
       "       0.02638947, 0.03164737, 0.03690526, 0.04216316, 0.04742105,\n",
       "       0.05267895, 0.05793684, 0.06319474, 0.06845263, 0.07371053,\n",
       "       0.07896842, 0.08422632, 0.08948421, 0.09474211, 0.1       ]),\n",
       "                                        'epsilon': array([1.        , 1.11111111, 1.22222222, 1.33333333, 1.44444444,\n",
       "       1.55555556, 1.66666667, 1.77777778, 1.88888889, 2.        ]),\n",
       "                                        'fit_intercept': [False],\n",
       "                                        'max_iter': [100],\n",
       "                                        'tol': array([1.e-05, 2.e-05, 3.e-05, 4.e-05, 5.e-05, 6.e-05, 7.e-05, 8.e-05,\n",
       "       9.e-05, 1.e-04])},\n",
       "                   refit='r2', scoring=['neg_root_mean_squared_error', 'r2'],\n",
       "                   verbose=2)"
      ]
     },
     "execution_count": 182,
     "metadata": {},
     "output_type": "execute_result"
    }
   ],
   "source": [
    "from sklearn.model_selection import RandomizedSearchCV\n",
    "\n",
    "X, y = prices_ext[\"eur\"].values.reshape(-1, 1), prices_ext[curr.lower()].values\n",
    "\n",
    "params = {\n",
    "    \"epsilon\": np.linspace(1, 2, num=10),\n",
    "    \"max_iter\": [100],\n",
    "    \"alpha\": np.linspace(0.0001, 0.1, num=20),\n",
    "    \"fit_intercept\": [False],\n",
    "    \"tol\": np.linspace(1e-5, 1e-4, num=10)\n",
    "}\n",
    "scoring = [\"neg_root_mean_squared_error\", \"r2\"]\n",
    "rscv = RandomizedSearchCV(HuberRegressor(), params, n_iter=20, scoring=scoring, n_jobs=-1,\n",
    "                          refit=\"r2\", cv=5, verbose=2, error_score=np.nan)\n",
    "rscv.fit(X, y)"
   ]
  },
  {
   "cell_type": "code",
   "execution_count": 183,
   "metadata": {
    "slideshow": {
     "slide_type": "skip"
    }
   },
   "outputs": [
    {
     "data": {
      "text/plain": [
       "mean_fit_time                                                                       0.019202\n",
       "std_fit_time                                                                        0.003191\n",
       "mean_score_time                                                                     0.001796\n",
       "std_score_time                                                                      0.000397\n",
       "param_tol                                                                            0.00004\n",
       "param_max_iter                                                                           100\n",
       "param_fit_intercept                                                                    False\n",
       "param_epsilon                                                                       1.666667\n",
       "param_alpha                                                                         0.015874\n",
       "params                                     {'tol': 4e-05, 'max_iter': 100, 'fit_intercept...\n",
       "split0_test_neg_root_mean_squared_error                                           -27.140825\n",
       "split1_test_neg_root_mean_squared_error                                           -42.348072\n",
       "split2_test_neg_root_mean_squared_error                                           -79.991376\n",
       "split3_test_neg_root_mean_squared_error                                          -157.745617\n",
       "split4_test_neg_root_mean_squared_error                                          -307.110208\n",
       "mean_test_neg_root_mean_squared_error                                             -122.86722\n",
       "std_test_neg_root_mean_squared_error                                              102.613055\n",
       "rank_test_neg_root_mean_squared_error                                                      1\n",
       "split0_test_r2                                                                      0.049963\n",
       "split1_test_r2                                                                     -0.037762\n",
       "split2_test_r2                                                                     -0.104717\n",
       "split3_test_r2                                                                      0.029724\n",
       "split4_test_r2                                                                      0.519272\n",
       "mean_test_r2                                                                        0.091296\n",
       "std_test_r2                                                                         0.220789\n",
       "rank_test_r2                                                                               1\n",
       "Name: 7, dtype: object"
      ]
     },
     "execution_count": 183,
     "metadata": {},
     "output_type": "execute_result"
    }
   ],
   "source": [
    "pd.DataFrame(rscv.cv_results_).sort_values(by=\"std_test_r2\").iloc[0]"
   ]
  },
  {
   "cell_type": "code",
   "execution_count": 194,
   "metadata": {
    "id": "Az0kdpditSeU",
    "outputId": "2fc3ab7f-100a-46b9-f6bf-65f44d87a6ad",
    "slideshow": {
     "slide_type": "subslide"
    }
   },
   "outputs": [
    {
     "name": "stdout",
     "output_type": "stream",
     "text": [
      "median coefficients: [0.94851752]\n",
      "median RMSE: 112.84\n",
      "median r2-score: 0.78\n",
      "median MAE: 62.66\n",
      "\n",
      "linear regressor coefficients: [0.92678468]\n",
      "linear regressor RMSE: 112.54\n",
      "linear regressor r2-score: 0.78\n",
      "linear regressor MAE: 62.26\n",
      "\n",
      "online_rate coefficients: [0.92]\n",
      "online_rate RMSE: 112.61\n",
      "online_rate r2-score: 0.78\n",
      "online_rate MAE: 62.40\n",
      "\n"
     ]
    }
   ],
   "source": [
    "X, y = prices_ext[\"eur\"].values.reshape(-1, 1), prices_ext[curr.lower()].values\n",
    "\n",
    "model_median = util_models.FixedLinearRegressor(\n",
    "    conversion_rate.median(), fit_intercept=False\n",
    ")\n",
    "model_fit = HuberRegressor(fit_intercept=False, tol=0.00004, alpha=0.015, epsilon=1.67)\n",
    "model_rate = util_models.FixedLinearRegressor(1.14 - 0.22, fit_intercept=False)\n",
    "\n",
    "models = [model_median, model_fit, model_rate]\n",
    "names = [\"median\", \"linear regressor\", \"online_rate\"]\n",
    "X_test, y_test, y_preds = util_models.compare_models(X, y, models, names, rng=rng)"
   ]
  },
  {
   "cell_type": "code",
   "execution_count": 195,
   "metadata": {
    "slideshow": {
     "slide_type": "skip"
    }
   },
   "outputs": [
    {
     "data": {
      "image/png": "[encoded data removed]",
      "text/plain": [
       "<Figure size 800x600 with 1 Axes>"
      ]
     },
     "metadata": {},
     "output_type": "display_data"
    }
   ],
   "source": [
    "# plot the data\n",
    "util_plot.plot_compare_models(\n",
    "    X_test, y_test, y_preds, names, f\"EUR/{curr} conversion rates\"\n",
    ")"
   ]
  },
  {
   "cell_type": "markdown",
   "metadata": {
    "id": "SQVUY8M4tSeU",
    "slideshow": {
     "slide_type": "subslide"
    }
   },
   "source": [
    "Conversion rate between GBP and EUR"
   ]
  },
  {
   "cell_type": "markdown",
   "metadata": {
    "slideshow": {
     "slide_type": "fragment"
    }
   },
   "source": [
    "The number of samples to retrieve the correct exchange rate is to low (# samples=3). For this reason we decided to use the one retrieved online, which is more accurate, that is 0.89"
   ]
  },
  {
   "cell_type": "code",
   "execution_count": 198,
   "metadata": {},
   "outputs": [
    {
     "name": "stdout",
     "output_type": "stream",
     "text": [
      "Number of prices: 3\n"
     ]
    }
   ],
   "source": [
    "curr = \"GBP\"\n",
    "prices_ext, conversion_rate = util_preprocess.extract_prices_rate(curr, misc_price)"
   ]
  },
  {
   "cell_type": "code",
   "execution_count": 206,
   "metadata": {
    "id": "7SvXXI3KtSeU",
    "outputId": "84344033-10e8-492d-d725-59fa5dec96eb",
    "slideshow": {
     "slide_type": "skip"
    }
   },
   "outputs": [
    {
     "name": "stdout",
     "output_type": "stream",
     "text": [
      "Number of prices: 187\n",
      "Year coverage: [2019. 2020. 2018.]\n"
     ]
    },
    {
     "data": {
      "image/png": "[encoded data removed]",
      "text/plain": [
       "<Figure size 640x480 with 1 Axes>"
      ]
     },
     "metadata": {},
     "output_type": "display_data"
    }
   ],
   "source": [
    "curr = \"GBP\"\n",
    "prices_ext, conversion_rate = util_preprocess.extract_prices_rate(curr, misc_price)\n",
    "\n",
    "# add the year to the conversion rate\n",
    "conv_rate_year = pd.concat(\n",
    "    [conversion_rate, ser_year.loc[conversion_rate.index]], axis=1\n",
    ").sort_values(\"conversion_rate\")\n",
    "print(f\"Year coverage: {conv_rate_year['launch_announced'].unique()}\")\n",
    "\n",
    "conversion_rate.plot.box(whis=1.5)\n",
    "plt.show()"
   ]
  },
  {
   "cell_type": "code",
   "execution_count": 201,
   "metadata": {
    "id": "UQ-reTBStSeV",
    "outputId": "09f67dea-e25b-44df-90bc-a90fcf3536ae",
    "scrolled": false,
    "slideshow": {
     "slide_type": "skip"
    }
   },
   "outputs": [
    {
     "name": "stdout",
     "output_type": "stream",
     "text": [
      "median coefficients: [1.07924074]\n",
      "median RMSE: 97.97\n",
      "median r2-score: 0.80\n",
      "median MAE: 68.30\n",
      "\n",
      "online_rate coefficients: [0.87]\n",
      "online_rate RMSE: 72.22\n",
      "online_rate r2-score: 0.89\n",
      "online_rate MAE: 40.54\n",
      "\n"
     ]
    },
    {
     "data": {
      "image/png": "[encoded data removed]",
      "text/plain": [
       "<Figure size 800x600 with 1 Axes>"
      ]
     },
     "metadata": {},
     "output_type": "display_data"
    }
   ],
   "source": [
    "X, y = prices_ext[\"eur\"].values.reshape(-1, 1), prices_ext[curr.lower()].values\n",
    "\n",
    "model_median = util_models.FixedLinearRegressor(\n",
    "    conversion_rate.median(), fit_intercept=False\n",
    ")\n",
    "model_rate = util_models.FixedLinearRegressor(0.87, fit_intercept=False)\n",
    "\n",
    "models = [model_median, model_rate]\n",
    "names = [\"median\", \"online_rate\"]\n",
    "X_test, y_test, y_preds = util_models.compare_models(X, y, models, names, rng=rng)\n",
    "\n",
    "# plot the data\n",
    "util_plot.plot_compare_models(\n",
    "    X_test, y_test, y_preds, names, f\"EUR/{curr} conversion rates\"\n",
    ")"
   ]
  },
  {
   "cell_type": "markdown",
   "metadata": {
    "id": "3VSdqB1mtSeQ",
    "slideshow": {
     "slide_type": "subslide"
    }
   },
   "source": [
    "Conversion rate between INR and EUR"
   ]
  },
  {
   "cell_type": "code",
   "execution_count": 62,
   "metadata": {
    "id": "1UIFbnx6tSeR",
    "outputId": "567fabaf-7509-46c4-8470-225762ae1e87",
    "slideshow": {
     "slide_type": "skip"
    }
   },
   "outputs": [
    {
     "name": "stdout",
     "output_type": "stream",
     "text": [
      "Number of prices: 40\n",
      "Year coverage: [2020. 2019.]\n"
     ]
    }
   ],
   "source": [
    "curr = \"INR\"\n",
    "prices_ext, conversion_rate = util_preprocess.extract_prices_rate(curr, misc_price)\n",
    "\n",
    "# add the year to the conversion rate\n",
    "conv_rate_year = pd.concat(\n",
    "    [conversion_rate, ser_year.loc[conversion_rate.index]], axis=1\n",
    ").sort_values(\"conversion_rate\")\n",
    "print(f\"Year coverage: {conv_rate_year['launch_announced'].unique()}\")"
   ]
  },
  {
   "cell_type": "code",
   "execution_count": 63,
   "metadata": {
    "slideshow": {
     "slide_type": "skip"
    }
   },
   "outputs": [
    {
     "name": "stdout",
     "output_type": "stream",
     "text": [
      "count     40.000000\n",
      "mean      86.192011\n",
      "std       13.368410\n",
      "min       59.136201\n",
      "25%       75.602269\n",
      "50%       87.047122\n",
      "75%       96.436554\n",
      "max      110.067915\n",
      "Name: conversion_rate, dtype: float64\n"
     ]
    }
   ],
   "source": [
    "print(conversion_rate.describe())"
   ]
  },
  {
   "cell_type": "code",
   "execution_count": 66,
   "metadata": {
    "slideshow": {
     "slide_type": "fragment"
    }
   },
   "outputs": [
    {
     "data": {
      "image/png": "[encoded data removed]",
      "text/plain": [
       "<Figure size 800x800 with 2 Axes>"
      ]
     },
     "metadata": {},
     "output_type": "display_data"
    }
   ],
   "source": [
    "util_plot.plot_series_distribution(conversion_rate, \"Conversion rate distribution\")"
   ]
  },
  {
   "cell_type": "markdown",
   "metadata": {
    "id": "OPopsCRPtSeR",
    "slideshow": {
     "slide_type": "skip"
    }
   },
   "source": [
    "A small standard deviation for the estimator and the absence of outliers denotes that the price pairs can be correctly estimated by a linear regressor."
   ]
  },
  {
   "cell_type": "code",
   "execution_count": 37,
   "metadata": {
    "slideshow": {
     "slide_type": "skip"
    }
   },
   "outputs": [],
   "source": [
    "_, bins = np.histogram(conversion_rate, bins=\"doane\")"
   ]
  },
  {
   "cell_type": "code",
   "execution_count": 58,
   "metadata": {
    "id": "ozEwWAhOtSeR",
    "outputId": "50b0cea4-702c-4304-8c86-f0af25e48b83",
    "slideshow": {
     "slide_type": "skip"
    }
   },
   "outputs": [
    {
     "data": {
      "text/plain": [
       "count       5.000000\n",
       "mean     4800.251960\n",
       "std      2893.992371\n",
       "min      1594.641510\n",
       "25%      3282.819489\n",
       "50%      4679.948133\n",
       "75%      5079.642571\n",
       "max      9364.208094\n",
       "dtype: float64"
      ]
     },
     "execution_count": 58,
     "metadata": {},
     "output_type": "execute_result"
    }
   ],
   "source": [
    "X, y = prices_ext[\"eur\"].values.reshape(-1, 1), prices_ext[curr.lower()].values\n",
    "idx = rng.permutation(X.shape[0])\n",
    "X, y = X[idx], y[idx]\n",
    "\n",
    "model_fit = LinearRegression(fit_intercept=False)\n",
    "\n",
    "scores = -cross_val_score(model_fit, X, y, cv=5, scoring=\"neg_mean_absolute_error\")\n",
    "pd.Series(scores).describe()"
   ]
  },
  {
   "cell_type": "code",
   "execution_count": 52,
   "metadata": {
    "id": "gLy_2aMItSeS",
    "outputId": "ff6474fe-5526-4375-b65e-e3be5450c5d6",
    "scrolled": true,
    "slideshow": {
     "slide_type": "skip"
    }
   },
   "outputs": [
    {
     "name": "stdout",
     "output_type": "stream",
     "text": [
      "median coefficients: [87.04712214]\n",
      "median RMSE: 4220.15\n",
      "median r2-score: 0.93\n",
      "median MAE: 3555.36\n",
      "\n",
      "linear regressor coefficients: [91.2907155]\n",
      "linear regressor RMSE: 4881.77\n",
      "linear regressor r2-score: 0.90\n",
      "linear regressor MAE: 3743.25\n",
      "\n",
      "online_rate coefficients: [81.749]\n",
      "online_rate RMSE: 4041.50\n",
      "online_rate r2-score: 0.93\n",
      "online_rate MAE: 3512.91\n",
      "\n"
     ]
    },
    {
     "data": {
      "image/png": "[encoded data removed]",
      "text/plain": [
       "<Figure size 800x600 with 1 Axes>"
      ]
     },
     "metadata": {},
     "output_type": "display_data"
    }
   ],
   "source": [
    "X, y = prices_ext[\"eur\"].values.reshape(-1, 1), prices_ext[curr.lower()].values\n",
    "\n",
    "model_median = util_models.FixedLinearRegressor(\n",
    "    conversion_rate.median(), fit_intercept=False\n",
    ")\n",
    "model_linear = LinearRegression(fit_intercept=False)\n",
    "model_rate = util_models.FixedLinearRegressor(81.749, fit_intercept=False)\n",
    "\n",
    "models = [model_median, model_linear, model_rate]\n",
    "names = [\"median\", \"linear regressor\", \"online_rate\"]\n",
    "X_test, y_test, y_preds = util_models.compare_models(X, y, models, names, rng=rng)\n",
    "\n",
    "# plot the data\n",
    "util_plot.plot_compare_models(\n",
    "    X_test, y_test, y_preds, names, f\"EUR/{curr} conversion rate\"\n",
    ")"
   ]
  },
  {
   "cell_type": "markdown",
   "metadata": {
    "id": "JFpUuz1CtSeV"
   },
   "source": [
    "#### Float features: display_size and battery\n",
    "\n",
    "- display_size: contains the display in inches.\n",
    "- battery: contains the battery capacity in mAh.\n"
   ]
  },
  {
   "cell_type": "code",
   "execution_count": null,
   "metadata": {
    "id": "d1nwXo_PtSeV",
    "outputId": "70e2dbdb-181f-47f9-e910-2dd29c39a079"
   },
   "outputs": [
    {
     "data": {
      "text/html": [
       "<div>\n",
       "<style scoped>\n",
       "    .dataframe tbody tr th:only-of-type {\n",
       "        vertical-align: middle;\n",
       "    }\n",
       "\n",
       "    .dataframe tbody tr th {\n",
       "        vertical-align: top;\n",
       "    }\n",
       "\n",
       "    .dataframe thead th {\n",
       "        text-align: right;\n",
       "    }\n",
       "</style>\n",
       "<table border=\"1\" class=\"dataframe\">\n",
       "  <thead>\n",
       "    <tr style=\"text-align: right;\">\n",
       "      <th></th>\n",
       "      <th>display_size</th>\n",
       "      <th>battery</th>\n",
       "    </tr>\n",
       "  </thead>\n",
       "  <tbody>\n",
       "    <tr>\n",
       "      <th>0</th>\n",
       "      <td>NaN</td>\n",
       "      <td>Removable Li-Ion battery</td>\n",
       "    </tr>\n",
       "    <tr>\n",
       "      <th>1</th>\n",
       "      <td>3.5 inches, 34.9 cm</td>\n",
       "      <td>Removable Li-Ion 1500 mAh battery</td>\n",
       "    </tr>\n",
       "    <tr>\n",
       "      <th>2</th>\n",
       "      <td>3.2 inches, 30.5 cm (~46.3% screen-to-body ratio)</td>\n",
       "      <td>Removable Li-Po 1230 mAh battery</td>\n",
       "    </tr>\n",
       "    <tr>\n",
       "      <th>3</th>\n",
       "      <td>2.8 inches, 24.3 cm (~43.7% screen-to-body ratio)</td>\n",
       "      <td>Removable Li-Ion 1500 mAh battery</td>\n",
       "    </tr>\n",
       "    <tr>\n",
       "      <th>4</th>\n",
       "      <td>6.3 inches, 98.0 cm (~81.3% screen-to-body ratio)</td>\n",
       "      <td>Non-removable Li-Po 3700 mAh battery</td>\n",
       "    </tr>\n",
       "    <tr>\n",
       "      <th>5</th>\n",
       "      <td>5.7 inches, 80.7 cm (~79.8% screen-to-body ratio)</td>\n",
       "      <td>Non-removable Li-Po 2800 mAh battery</td>\n",
       "    </tr>\n",
       "  </tbody>\n",
       "</table>\n",
       "</div>"
      ],
      "text/plain": [
       "                                        display_size  \\\n",
       "0                                                NaN   \n",
       "1                                3.5 inches, 34.9 cm   \n",
       "2  3.2 inches, 30.5 cm (~46.3% screen-to-body ratio)   \n",
       "3  2.8 inches, 24.3 cm (~43.7% screen-to-body ratio)   \n",
       "4  6.3 inches, 98.0 cm (~81.3% screen-to-body ratio)   \n",
       "5  5.7 inches, 80.7 cm (~79.8% screen-to-body ratio)   \n",
       "\n",
       "                                battery  \n",
       "0              Removable Li-Ion battery  \n",
       "1     Removable Li-Ion 1500 mAh battery  \n",
       "2      Removable Li-Po 1230 mAh battery  \n",
       "3     Removable Li-Ion 1500 mAh battery  \n",
       "4  Non-removable Li-Po 3700 mAh battery  \n",
       "5  Non-removable Li-Po 2800 mAh battery  "
      ]
     },
     "execution_count": 35,
     "metadata": {},
     "output_type": "execute_result"
    }
   ],
   "source": [
    "df_copy.loc[0:5, [\"display_size\", \"battery\"]]\n"
   ]
  },
  {
   "cell_type": "markdown",
   "metadata": {
    "id": "sAN_JUtctSeW"
   },
   "source": [
    "#### Binary features\n",
    "\n",
    "- display_type: extract whether the display is OLED or LCD\n",
    "- memory_card_slot: the device contains a slot for a microSD is contained\n",
    "- sound_loudspeaker: the speaker is stereo or mono\n",
    "- sound_3.5mm_jack: the device has a 3.5mm jack\n",
    "- comms_wlan: the technology of the wlan chipset, i.e. 2.4GHz or 5Ghz\n",
    "- comms_nfc: the device supports the nfc\n",
    "- battery_charging: extract whether the device has support for fast-charging\n",
    "- body: extract whether the device is waterproof\n",
    "\n",
    "For some of these features (display_type, comms_wlan, battery_charging, body) each feature is changed from the original one to extract more relevant information about the devices.\n"
   ]
  },
  {
   "cell_type": "markdown",
   "metadata": {
    "id": "2jK_qn0StSeW"
   },
   "source": [
    "The \"display_type\" feature contains the keyword OLED, which depicts different display device technology, such as P-OLED, AMOLED or Super Retina. Otherwise the feature corresponds to a LCD display technology.\n"
   ]
  },
  {
   "cell_type": "code",
   "execution_count": null,
   "metadata": {
    "id": "ACd3mNz3tSeW",
    "outputId": "c3bb91e1-3d11-4ea7-cb06-9986a923066a"
   },
   "outputs": [
    {
     "data": {
      "text/html": [
       "<div>\n",
       "<style scoped>\n",
       "    .dataframe tbody tr th:only-of-type {\n",
       "        vertical-align: middle;\n",
       "    }\n",
       "\n",
       "    .dataframe tbody tr th {\n",
       "        vertical-align: top;\n",
       "    }\n",
       "\n",
       "    .dataframe thead th {\n",
       "        text-align: right;\n",
       "    }\n",
       "</style>\n",
       "<table border=\"1\" class=\"dataframe\">\n",
       "  <thead>\n",
       "    <tr style=\"text-align: right;\">\n",
       "      <th></th>\n",
       "      <th>display_type</th>\n",
       "    </tr>\n",
       "  </thead>\n",
       "  <tbody>\n",
       "    <tr>\n",
       "      <th>0</th>\n",
       "      <td>Monochrome graphic</td>\n",
       "    </tr>\n",
       "    <tr>\n",
       "      <th>1</th>\n",
       "      <td>TFT resistive touchscreen, 65K colors</td>\n",
       "    </tr>\n",
       "    <tr>\n",
       "      <th>2</th>\n",
       "      <td>TFT capacitive touchscreen, 256K colors</td>\n",
       "    </tr>\n",
       "    <tr>\n",
       "      <th>3</th>\n",
       "      <td>TFT capacitive touchscreen, 256K colors</td>\n",
       "    </tr>\n",
       "    <tr>\n",
       "      <th>4</th>\n",
       "      <td>P-OLED capacitive touchscreen, 16M colors</td>\n",
       "    </tr>\n",
       "    <tr>\n",
       "      <th>5</th>\n",
       "      <td>P-OLED capacitive touchscreen, 16M colors</td>\n",
       "    </tr>\n",
       "  </tbody>\n",
       "</table>\n",
       "</div>"
      ],
      "text/plain": [
       "                                display_type\n",
       "0                         Monochrome graphic\n",
       "1      TFT resistive touchscreen, 65K colors\n",
       "2    TFT capacitive touchscreen, 256K colors\n",
       "3    TFT capacitive touchscreen, 256K colors\n",
       "4  P-OLED capacitive touchscreen, 16M colors\n",
       "5  P-OLED capacitive touchscreen, 16M colors"
      ]
     },
     "execution_count": 36,
     "metadata": {},
     "output_type": "execute_result"
    }
   ],
   "source": [
    "df_copy.loc[0:5, [\"display_type\"]]\n"
   ]
  },
  {
   "cell_type": "markdown",
   "metadata": {
    "id": "-9CJHWjrtSeW"
   },
   "source": [
    "The \"comms_wlan\" feature contains the different [IEEE 802.11 standard](https://en.wikipedia.org/wiki/IEEE_802.11) supported. To distinguish whether the device supports the 5GHz or only the 2.4GHz depends on the standard adopted: the former is supported if at least one of \"a\" or \"ac\" generations is present in the feature.\n"
   ]
  },
  {
   "cell_type": "code",
   "execution_count": null,
   "metadata": {
    "id": "m9t-vTcJtSeW",
    "outputId": "1ae44aab-8cd9-4358-f5e7-e208303c12d1"
   },
   "outputs": [
    {
     "data": {
      "text/html": [
       "<div>\n",
       "<style scoped>\n",
       "    .dataframe tbody tr th:only-of-type {\n",
       "        vertical-align: middle;\n",
       "    }\n",
       "\n",
       "    .dataframe tbody tr th {\n",
       "        vertical-align: top;\n",
       "    }\n",
       "\n",
       "    .dataframe thead th {\n",
       "        text-align: right;\n",
       "    }\n",
       "</style>\n",
       "<table border=\"1\" class=\"dataframe\">\n",
       "  <thead>\n",
       "    <tr style=\"text-align: right;\">\n",
       "      <th></th>\n",
       "      <th>comms_wlan</th>\n",
       "    </tr>\n",
       "  </thead>\n",
       "  <tbody>\n",
       "    <tr>\n",
       "      <th>0</th>\n",
       "      <td>No</td>\n",
       "    </tr>\n",
       "    <tr>\n",
       "      <th>1</th>\n",
       "      <td>Wi-Fi 802.11b/g</td>\n",
       "    </tr>\n",
       "    <tr>\n",
       "      <th>2</th>\n",
       "      <td>Wi-Fi 802.11 b/g</td>\n",
       "    </tr>\n",
       "    <tr>\n",
       "      <th>3</th>\n",
       "      <td>Wi-Fi 802.11 b/g</td>\n",
       "    </tr>\n",
       "    <tr>\n",
       "      <th>4</th>\n",
       "      <td>Wi-Fi 802.11 a/b/g/n/ac, dual-band, Wi-Fi Direct, DLNA, hotspot</td>\n",
       "    </tr>\n",
       "    <tr>\n",
       "      <th>5</th>\n",
       "      <td>Wi-Fi 802.11 a/b/g/n/ac, dual-band, Wi-Fi Direct, DLNA, hotspot</td>\n",
       "    </tr>\n",
       "  </tbody>\n",
       "</table>\n",
       "</div>"
      ],
      "text/plain": [
       "                                                        comms_wlan\n",
       "0                                                               No\n",
       "1                                                  Wi-Fi 802.11b/g\n",
       "2                                                 Wi-Fi 802.11 b/g\n",
       "3                                                 Wi-Fi 802.11 b/g\n",
       "4  Wi-Fi 802.11 a/b/g/n/ac, dual-band, Wi-Fi Direct, DLNA, hotspot\n",
       "5  Wi-Fi 802.11 a/b/g/n/ac, dual-band, Wi-Fi Direct, DLNA, hotspot"
      ]
     },
     "execution_count": 30,
     "metadata": {},
     "output_type": "execute_result"
    }
   ],
   "source": [
    "df_copy.loc[0:5, [\"comms_wlan\"]]\n"
   ]
  },
  {
   "cell_type": "markdown",
   "metadata": {
    "id": "ok2hGrAwtSeW"
   },
   "source": [
    "When the \"battery_charging\" feature contains the keyword wireless the device supports any type of wireless charging (QI, Power Delivery), otherwise only a wired charging is possible.\n"
   ]
  },
  {
   "cell_type": "code",
   "execution_count": null,
   "metadata": {
    "id": "3holxTE_tSeX",
    "outputId": "08469266-0cc2-433f-9a35-f97837b0b045"
   },
   "outputs": [
    {
     "data": {
      "text/html": [
       "<div>\n",
       "<style scoped>\n",
       "    .dataframe tbody tr th:only-of-type {\n",
       "        vertical-align: middle;\n",
       "    }\n",
       "\n",
       "    .dataframe tbody tr th {\n",
       "        vertical-align: top;\n",
       "    }\n",
       "\n",
       "    .dataframe thead th {\n",
       "        text-align: right;\n",
       "    }\n",
       "</style>\n",
       "<table border=\"1\" class=\"dataframe\">\n",
       "  <thead>\n",
       "    <tr style=\"text-align: right;\">\n",
       "      <th></th>\n",
       "      <th>battery_charging</th>\n",
       "    </tr>\n",
       "  </thead>\n",
       "  <tbody>\n",
       "    <tr>\n",
       "      <th>0</th>\n",
       "      <td>&lt;NA&gt;</td>\n",
       "    </tr>\n",
       "    <tr>\n",
       "      <th>1</th>\n",
       "      <td>&lt;NA&gt;</td>\n",
       "    </tr>\n",
       "    <tr>\n",
       "      <th>2</th>\n",
       "      <td>&lt;NA&gt;</td>\n",
       "    </tr>\n",
       "    <tr>\n",
       "      <th>3</th>\n",
       "      <td>&lt;NA&gt;</td>\n",
       "    </tr>\n",
       "    <tr>\n",
       "      <th>4</th>\n",
       "      <td>Fast charging 18W  USB Power Delivery 2.0  QI wireless charging</td>\n",
       "    </tr>\n",
       "    <tr>\n",
       "      <th>5</th>\n",
       "      <td>Fast charging 18W  USB Power Delivery 2.0  QI wireless charging</td>\n",
       "    </tr>\n",
       "  </tbody>\n",
       "</table>\n",
       "</div>"
      ],
      "text/plain": [
       "                                                  battery_charging\n",
       "0                                                             <NA>\n",
       "1                                                             <NA>\n",
       "2                                                             <NA>\n",
       "3                                                             <NA>\n",
       "4  Fast charging 18W  USB Power Delivery 2.0  QI wireless charging\n",
       "5  Fast charging 18W  USB Power Delivery 2.0  QI wireless charging"
      ]
     },
     "execution_count": 31,
     "metadata": {},
     "output_type": "execute_result"
    }
   ],
   "source": [
    "df_copy.loc[0:5, [\"battery_charging\"]]\n"
   ]
  },
  {
   "cell_type": "markdown",
   "metadata": {
    "id": "YrxEmsyetSeX"
   },
   "source": [
    "The \"body\" feature might contain the keywords \"IP6x\", \"splash\" or \"water\" when the device is waterproof, a characteristic important for expensive devices.\n"
   ]
  },
  {
   "cell_type": "code",
   "execution_count": null,
   "metadata": {
    "id": "BMOabbIetSeX",
    "outputId": "aa8ae056-f983-4d9c-8e93-7b28c53a1897"
   },
   "outputs": [
    {
     "data": {
      "text/html": [
       "<div>\n",
       "<style scoped>\n",
       "    .dataframe tbody tr th:only-of-type {\n",
       "        vertical-align: middle;\n",
       "    }\n",
       "\n",
       "    .dataframe tbody tr th {\n",
       "        vertical-align: top;\n",
       "    }\n",
       "\n",
       "    .dataframe thead th {\n",
       "        text-align: right;\n",
       "    }\n",
       "</style>\n",
       "<table border=\"1\" class=\"dataframe\">\n",
       "  <thead>\n",
       "    <tr style=\"text-align: right;\">\n",
       "      <th></th>\n",
       "      <th>body</th>\n",
       "    </tr>\n",
       "  </thead>\n",
       "  <tbody>\n",
       "    <tr>\n",
       "      <th>0</th>\n",
       "      <td>&lt;NA&gt;</td>\n",
       "    </tr>\n",
       "    <tr>\n",
       "      <th>1</th>\n",
       "      <td>&lt;NA&gt;</td>\n",
       "    </tr>\n",
       "    <tr>\n",
       "      <th>2</th>\n",
       "      <td>&lt;NA&gt;</td>\n",
       "    </tr>\n",
       "    <tr>\n",
       "      <th>3</th>\n",
       "      <td>Trackball</td>\n",
       "    </tr>\n",
       "    <tr>\n",
       "      <th>4</th>\n",
       "      <td>IP68 dust/water resistant (up to 1.5m for 30 mins)</td>\n",
       "    </tr>\n",
       "    <tr>\n",
       "      <th>5</th>\n",
       "      <td>IP68 dust/water resistant (up to 1.5m for 30 mins)</td>\n",
       "    </tr>\n",
       "  </tbody>\n",
       "</table>\n",
       "</div>"
      ],
      "text/plain": [
       "                                                 body\n",
       "0                                                <NA>\n",
       "1                                                <NA>\n",
       "2                                                <NA>\n",
       "3                                           Trackball\n",
       "4  IP68 dust/water resistant (up to 1.5m for 30 mins)\n",
       "5  IP68 dust/water resistant (up to 1.5m for 30 mins)"
      ]
     },
     "execution_count": 32,
     "metadata": {},
     "output_type": "execute_result"
    }
   ],
   "source": [
    "df_copy.loc[0:5, [\"body\"]]\n"
   ]
  },
  {
   "cell_type": "markdown",
   "metadata": {
    "id": "yD7KBU7ktSeX"
   },
   "source": [
    "The remaining binary features usually contains the word \"Yes\" to describe the presence of the feature or in some case they explictly mention the feature.\n"
   ]
  },
  {
   "cell_type": "code",
   "execution_count": null,
   "metadata": {
    "id": "zuGpw8jntSeX",
    "outputId": "58e7fe04-4f24-4e94-ad6e-9eefc91f8b2a"
   },
   "outputs": [
    {
     "data": {
      "text/html": [
       "<div>\n",
       "<style scoped>\n",
       "    .dataframe tbody tr th:only-of-type {\n",
       "        vertical-align: middle;\n",
       "    }\n",
       "\n",
       "    .dataframe tbody tr th {\n",
       "        vertical-align: top;\n",
       "    }\n",
       "\n",
       "    .dataframe thead th {\n",
       "        text-align: right;\n",
       "    }\n",
       "</style>\n",
       "<table border=\"1\" class=\"dataframe\">\n",
       "  <thead>\n",
       "    <tr style=\"text-align: right;\">\n",
       "      <th></th>\n",
       "      <th>memory_card_slot</th>\n",
       "      <th>sound_loudspeaker</th>\n",
       "      <th>sound_3.5mm_jack</th>\n",
       "      <th>comms_nfc</th>\n",
       "    </tr>\n",
       "  </thead>\n",
       "  <tbody>\n",
       "    <tr>\n",
       "      <th>0</th>\n",
       "      <td>No</td>\n",
       "      <td>No</td>\n",
       "      <td>No</td>\n",
       "      <td>&lt;NA&gt;</td>\n",
       "    </tr>\n",
       "    <tr>\n",
       "      <th>1</th>\n",
       "      <td>microSDHC (dedicated slot)</td>\n",
       "      <td>Yes</td>\n",
       "      <td>Yes</td>\n",
       "      <td>&lt;NA&gt;</td>\n",
       "    </tr>\n",
       "    <tr>\n",
       "      <th>2</th>\n",
       "      <td>microSDHC (dedicated slot)</td>\n",
       "      <td>Yes</td>\n",
       "      <td>Yes</td>\n",
       "      <td>&lt;NA&gt;</td>\n",
       "    </tr>\n",
       "    <tr>\n",
       "      <th>3</th>\n",
       "      <td>microSDHC (dedicated slot)</td>\n",
       "      <td>Yes</td>\n",
       "      <td>Yes</td>\n",
       "      <td>&lt;NA&gt;</td>\n",
       "    </tr>\n",
       "    <tr>\n",
       "      <th>4</th>\n",
       "      <td>No</td>\n",
       "      <td>Yes, with stereo speakers</td>\n",
       "      <td>No</td>\n",
       "      <td>Yes</td>\n",
       "    </tr>\n",
       "    <tr>\n",
       "      <th>5</th>\n",
       "      <td>No</td>\n",
       "      <td>Yes, with stereo speakers</td>\n",
       "      <td>No</td>\n",
       "      <td>Yes</td>\n",
       "    </tr>\n",
       "  </tbody>\n",
       "</table>\n",
       "</div>"
      ],
      "text/plain": [
       "             memory_card_slot          sound_loudspeaker sound_3.5mm_jack  \\\n",
       "0                          No                         No               No   \n",
       "1  microSDHC (dedicated slot)                        Yes              Yes   \n",
       "2  microSDHC (dedicated slot)                        Yes              Yes   \n",
       "3  microSDHC (dedicated slot)                        Yes              Yes   \n",
       "4                          No  Yes, with stereo speakers               No   \n",
       "5                          No  Yes, with stereo speakers               No   \n",
       "\n",
       "  comms_nfc  \n",
       "0      <NA>  \n",
       "1      <NA>  \n",
       "2      <NA>  \n",
       "3      <NA>  \n",
       "4       Yes  \n",
       "5       Yes  "
      ]
     },
     "execution_count": 33,
     "metadata": {},
     "output_type": "execute_result"
    }
   ],
   "source": [
    "df_copy.loc[\n",
    "    0:5, [\"memory_card_slot\", \"sound_loudspeaker\", \"sound_3.5mm_jack\", \"comms_nfc\"]\n",
    "]\n"
   ]
  },
  {
   "cell_type": "markdown",
   "metadata": {
    "id": "W4YalrrPtSeY"
   },
   "source": [
    "#### Multi column features: display_resolution and memory_internal\n",
    "\n",
    "- display_resolution: contains the resolution of the display in pixels, both for the width and the height. If at least one of the two values is smaller than 1000, then the value is dropped because it's too small to be a smartphone display. Pheraps it could be a smartwatch display or an old smartphone.\n",
    "- memory_internal: contains the internal memory of the device in GB, both for the RAM and the ROM. When the device has at least one capacity expressed in MB, then the value is dropped because it's too small to be relevant.\n"
   ]
  },
  {
   "cell_type": "code",
   "execution_count": null,
   "metadata": {
    "id": "fr_fJt4atSeY",
    "outputId": "8c08784d-0ed3-4c01-9893-0efb83865fc6"
   },
   "outputs": [
    {
     "data": {
      "text/html": [
       "<div>\n",
       "<style scoped>\n",
       "    .dataframe tbody tr th:only-of-type {\n",
       "        vertical-align: middle;\n",
       "    }\n",
       "\n",
       "    .dataframe tbody tr th {\n",
       "        vertical-align: top;\n",
       "    }\n",
       "\n",
       "    .dataframe thead th {\n",
       "        text-align: right;\n",
       "    }\n",
       "</style>\n",
       "<table border=\"1\" class=\"dataframe\">\n",
       "  <thead>\n",
       "    <tr style=\"text-align: right;\">\n",
       "      <th></th>\n",
       "      <th>display_resolution</th>\n",
       "      <th>memory_internal</th>\n",
       "    </tr>\n",
       "  </thead>\n",
       "  <tbody>\n",
       "    <tr>\n",
       "      <th>0</th>\n",
       "      <td>6 lines</td>\n",
       "      <td>&lt;NA&gt;</td>\n",
       "    </tr>\n",
       "    <tr>\n",
       "      <th>1</th>\n",
       "      <td>480 x 800 pixels, 5:3 ratio (~267 ppi density)</td>\n",
       "      <td>4GB 512MB RAM</td>\n",
       "    </tr>\n",
       "    <tr>\n",
       "      <th>2</th>\n",
       "      <td>320 x 480 pixels, 3:2 ratio (~180 ppi density)</td>\n",
       "      <td>256MB RAM</td>\n",
       "    </tr>\n",
       "    <tr>\n",
       "      <th>3</th>\n",
       "      <td>240 x 320 pixels, 4:3 ratio (~143 ppi density)</td>\n",
       "      <td>256MB RAM, 512MB</td>\n",
       "    </tr>\n",
       "    <tr>\n",
       "      <th>4</th>\n",
       "      <td>1440 x 3040 pixels, 19:9 ratio (~537 ppi density)</td>\n",
       "      <td>64GB 6GB RAM, 128GB 6GB RAM</td>\n",
       "    </tr>\n",
       "    <tr>\n",
       "      <th>5</th>\n",
       "      <td>1080 x 2280 pixels, 19:9 ratio (~444 ppi density)</td>\n",
       "      <td>64GB 6GB RAM, 128GB 6GB RAM</td>\n",
       "    </tr>\n",
       "  </tbody>\n",
       "</table>\n",
       "</div>"
      ],
      "text/plain": [
       "                                  display_resolution  \\\n",
       "0                                            6 lines   \n",
       "1     480 x 800 pixels, 5:3 ratio (~267 ppi density)   \n",
       "2     320 x 480 pixels, 3:2 ratio (~180 ppi density)   \n",
       "3     240 x 320 pixels, 4:3 ratio (~143 ppi density)   \n",
       "4  1440 x 3040 pixels, 19:9 ratio (~537 ppi density)   \n",
       "5  1080 x 2280 pixels, 19:9 ratio (~444 ppi density)   \n",
       "\n",
       "               memory_internal  \n",
       "0                         <NA>  \n",
       "1                4GB 512MB RAM  \n",
       "2                    256MB RAM  \n",
       "3             256MB RAM, 512MB  \n",
       "4  64GB 6GB RAM, 128GB 6GB RAM  \n",
       "5  64GB 6GB RAM, 128GB 6GB RAM  "
      ]
     },
     "execution_count": 34,
     "metadata": {},
     "output_type": "execute_result"
    }
   ],
   "source": [
    "df_copy.loc[0:5, [\"display_resolution\", \"memory_internal\"]]\n"
   ]
  },
  {
   "cell_type": "markdown",
   "metadata": {
    "id": "y75iJrpFtSeY"
   },
   "source": [
    "#### Network technology\n",
    "\n",
    "The \"network_technology\" feature contains the different network technologies supported by the device. The most important ones are:\n",
    "\n",
    "- 5G: the device supports the 5G network\n",
    "- 4G: the device supports the 4G network, usually described as LTE.\n",
    "- 3G: the device supports the 3G network, usually described as UMTS or HSPA.\n",
    "\n",
    "The other technologies are less important, such as GSM, CDMA, EVDO or even devices with no network support are dropped.\n"
   ]
  },
  {
   "cell_type": "code",
   "execution_count": null,
   "metadata": {
    "id": "BnAfR5SwtSeY",
    "outputId": "df42a13b-f905-429e-cab6-561408808bfc"
   },
   "outputs": [
    {
     "data": {
      "text/plain": [
       "0                               GSM\n",
       "1                        GSM / HSPA\n",
       "2                        GSM / HSPA\n",
       "3                        GSM / HSPA\n",
       "4    GSM / CDMA / HSPA / EVDO / LTE\n",
       "5    GSM / CDMA / HSPA / EVDO / LTE\n",
       "Name: network_technology, dtype: string"
      ]
     },
     "execution_count": 35,
     "metadata": {},
     "output_type": "execute_result"
    }
   ],
   "source": [
    "df_copy.loc[0:5, \"network_technology\"]\n"
   ]
  },
  {
   "cell_type": "markdown",
   "metadata": {
    "id": "ifN2lALYtSeZ"
   },
   "source": [
    "#### Camera features: main_camera and selfie_camera\n",
    "\n",
    "Each feature is split into different columns, each one describing a different setup of the camera in the device. The columns are named as \"main_camera_single\", \"main_camera_dual\", etc. The number of columns is variable, depending on the number of cameras present in the device.\n",
    "\n",
    "Only one column for both \"main\" and \"selfie\" camera is filled (e.g. \"main_camera_single\" and \"selfie_camera_dual\" are filled), while the other columns are filled with NaN values. In this way the resolution of only the principal camera is considered, while the other ones are ignored. In addition, the number of cameras is extracted both for the main and the selfie cameras.\n"
   ]
  },
  {
   "cell_type": "code",
   "execution_count": null,
   "metadata": {
    "id": "ozhwN3KbtSeZ",
    "outputId": "c5db9ab0-70f8-452e-c160-93d32f466d51"
   },
   "outputs": [
    {
     "data": {
      "text/html": [
       "<div>\n",
       "<style scoped>\n",
       "    .dataframe tbody tr th:only-of-type {\n",
       "        vertical-align: middle;\n",
       "    }\n",
       "\n",
       "    .dataframe tbody tr th {\n",
       "        vertical-align: top;\n",
       "    }\n",
       "\n",
       "    .dataframe thead th {\n",
       "        text-align: right;\n",
       "    }\n",
       "</style>\n",
       "<table border=\"1\" class=\"dataframe\">\n",
       "  <thead>\n",
       "    <tr style=\"text-align: right;\">\n",
       "      <th></th>\n",
       "      <th>main_camera_single</th>\n",
       "      <th>main_camera_dual</th>\n",
       "      <th>main_camera_quad</th>\n",
       "      <th>main_camera_triple</th>\n",
       "      <th>main_camera_five</th>\n",
       "      <th>main_camera_dual_or_triple</th>\n",
       "    </tr>\n",
       "  </thead>\n",
       "  <tbody>\n",
       "    <tr>\n",
       "      <th>0</th>\n",
       "      <td>&lt;NA&gt;</td>\n",
       "      <td>&lt;NA&gt;</td>\n",
       "      <td>&lt;NA&gt;</td>\n",
       "      <td>&lt;NA&gt;</td>\n",
       "      <td>&lt;NA&gt;</td>\n",
       "      <td>&lt;NA&gt;</td>\n",
       "    </tr>\n",
       "    <tr>\n",
       "      <th>1</th>\n",
       "      <td>5 MP, AF</td>\n",
       "      <td>&lt;NA&gt;</td>\n",
       "      <td>&lt;NA&gt;</td>\n",
       "      <td>&lt;NA&gt;</td>\n",
       "      <td>&lt;NA&gt;</td>\n",
       "      <td>&lt;NA&gt;</td>\n",
       "    </tr>\n",
       "    <tr>\n",
       "      <th>2</th>\n",
       "      <td>5 MP, AF</td>\n",
       "      <td>&lt;NA&gt;</td>\n",
       "      <td>&lt;NA&gt;</td>\n",
       "      <td>&lt;NA&gt;</td>\n",
       "      <td>&lt;NA&gt;</td>\n",
       "      <td>&lt;NA&gt;</td>\n",
       "    </tr>\n",
       "    <tr>\n",
       "      <th>3</th>\n",
       "      <td>2 MP, AF</td>\n",
       "      <td>&lt;NA&gt;</td>\n",
       "      <td>&lt;NA&gt;</td>\n",
       "      <td>&lt;NA&gt;</td>\n",
       "      <td>&lt;NA&gt;</td>\n",
       "      <td>&lt;NA&gt;</td>\n",
       "    </tr>\n",
       "    <tr>\n",
       "      <th>4</th>\n",
       "      <td>&lt;NA&gt;</td>\n",
       "      <td>12.2 MP, f/1.7, 27mm (wide), 1/2.55\", 1.4&lt;c2&gt;&lt;b5&gt;m, dual pixel PDAF, OIS  16 MP, f/2.4, 50mm (telephoto), 1/3.6\", 1.0&lt;c2&gt;&lt;b5&gt;m, PDAF, OIS, 2x optical zoom</td>\n",
       "      <td>&lt;NA&gt;</td>\n",
       "      <td>&lt;NA&gt;</td>\n",
       "      <td>&lt;NA&gt;</td>\n",
       "      <td>&lt;NA&gt;</td>\n",
       "    </tr>\n",
       "    <tr>\n",
       "      <th>5</th>\n",
       "      <td>&lt;NA&gt;</td>\n",
       "      <td>12.2 MP, f/1.7, 27mm (wide), 1/2.55\", 1.4&lt;c2&gt;&lt;b5&gt;m, dual pixel PDAF, OIS  16 MP, f/2.4, 50mm (telephoto), 1/3.6\", 1.0&lt;c2&gt;&lt;b5&gt;m, PDAF, OIS, 2x optical zoom</td>\n",
       "      <td>&lt;NA&gt;</td>\n",
       "      <td>&lt;NA&gt;</td>\n",
       "      <td>&lt;NA&gt;</td>\n",
       "      <td>&lt;NA&gt;</td>\n",
       "    </tr>\n",
       "  </tbody>\n",
       "</table>\n",
       "</div>"
      ],
      "text/plain": [
       "  main_camera_single  \\\n",
       "0               <NA>   \n",
       "1           5 MP, AF   \n",
       "2           5 MP, AF   \n",
       "3           2 MP, AF   \n",
       "4               <NA>   \n",
       "5               <NA>   \n",
       "\n",
       "                                                                                                                                             main_camera_dual  \\\n",
       "0                                                                                                                                                        <NA>   \n",
       "1                                                                                                                                                        <NA>   \n",
       "2                                                                                                                                                        <NA>   \n",
       "3                                                                                                                                                        <NA>   \n",
       "4  12.2 MP, f/1.7, 27mm (wide), 1/2.55\", 1.4<c2><b5>m, dual pixel PDAF, OIS  16 MP, f/2.4, 50mm (telephoto), 1/3.6\", 1.0<c2><b5>m, PDAF, OIS, 2x optical zoom   \n",
       "5  12.2 MP, f/1.7, 27mm (wide), 1/2.55\", 1.4<c2><b5>m, dual pixel PDAF, OIS  16 MP, f/2.4, 50mm (telephoto), 1/3.6\", 1.0<c2><b5>m, PDAF, OIS, 2x optical zoom   \n",
       "\n",
       "  main_camera_quad main_camera_triple main_camera_five  \\\n",
       "0             <NA>               <NA>             <NA>   \n",
       "1             <NA>               <NA>             <NA>   \n",
       "2             <NA>               <NA>             <NA>   \n",
       "3             <NA>               <NA>             <NA>   \n",
       "4             <NA>               <NA>             <NA>   \n",
       "5             <NA>               <NA>             <NA>   \n",
       "\n",
       "  main_camera_dual_or_triple  \n",
       "0                       <NA>  \n",
       "1                       <NA>  \n",
       "2                       <NA>  \n",
       "3                       <NA>  \n",
       "4                       <NA>  \n",
       "5                       <NA>  "
      ]
     },
     "execution_count": 36,
     "metadata": {},
     "output_type": "execute_result"
    }
   ],
   "source": [
    "df_copy.loc[\n",
    "    0:5,\n",
    "    [\n",
    "        \"main_camera_single\",\n",
    "        \"main_camera_dual\",\n",
    "        \"main_camera_quad\",\n",
    "        \"main_camera_triple\",\n",
    "        \"main_camera_five\",\n",
    "        \"main_camera_dual_or_triple\",\n",
    "    ],\n",
    "]\n"
   ]
  },
  {
   "cell_type": "code",
   "execution_count": null,
   "metadata": {
    "id": "e1bSwYjLtSeZ",
    "outputId": "5db4a088-0d74-489e-9e57-930b0e73f02e"
   },
   "outputs": [
    {
     "data": {
      "text/html": [
       "<div>\n",
       "<style scoped>\n",
       "    .dataframe tbody tr th:only-of-type {\n",
       "        vertical-align: middle;\n",
       "    }\n",
       "\n",
       "    .dataframe tbody tr th {\n",
       "        vertical-align: top;\n",
       "    }\n",
       "\n",
       "    .dataframe thead th {\n",
       "        text-align: right;\n",
       "    }\n",
       "</style>\n",
       "<table border=\"1\" class=\"dataframe\">\n",
       "  <thead>\n",
       "    <tr style=\"text-align: right;\">\n",
       "      <th></th>\n",
       "      <th>selfie_camera_single</th>\n",
       "      <th>selfie_camera_dual</th>\n",
       "      <th>selfie_camera_triple</th>\n",
       "    </tr>\n",
       "  </thead>\n",
       "  <tbody>\n",
       "    <tr>\n",
       "      <th>0</th>\n",
       "      <td>&lt;NA&gt;</td>\n",
       "      <td>&lt;NA&gt;</td>\n",
       "      <td>&lt;NA&gt;</td>\n",
       "    </tr>\n",
       "    <tr>\n",
       "      <th>1</th>\n",
       "      <td>&lt;NA&gt;</td>\n",
       "      <td>&lt;NA&gt;</td>\n",
       "      <td>&lt;NA&gt;</td>\n",
       "    </tr>\n",
       "    <tr>\n",
       "      <th>2</th>\n",
       "      <td>&lt;NA&gt;</td>\n",
       "      <td>&lt;NA&gt;</td>\n",
       "      <td>&lt;NA&gt;</td>\n",
       "    </tr>\n",
       "    <tr>\n",
       "      <th>3</th>\n",
       "      <td>&lt;NA&gt;</td>\n",
       "      <td>&lt;NA&gt;</td>\n",
       "      <td>&lt;NA&gt;</td>\n",
       "    </tr>\n",
       "    <tr>\n",
       "      <th>4</th>\n",
       "      <td>&lt;NA&gt;</td>\n",
       "      <td>8 MP, f/2.0, 22mm (wide), 1.22&lt;c2&gt;&lt;b5&gt;m, no AF  TOF 3D, (depth/biometrics sensor)</td>\n",
       "      <td>&lt;NA&gt;</td>\n",
       "    </tr>\n",
       "    <tr>\n",
       "      <th>5</th>\n",
       "      <td>&lt;NA&gt;</td>\n",
       "      <td>8 MP, f/2.0, 22mm (wide), 1.22&lt;c2&gt;&lt;b5&gt;m, no AF  TOF 3D, (depth/biometrics sensor)</td>\n",
       "      <td>&lt;NA&gt;</td>\n",
       "    </tr>\n",
       "  </tbody>\n",
       "</table>\n",
       "</div>"
      ],
      "text/plain": [
       "  selfie_camera_single  \\\n",
       "0                 <NA>   \n",
       "1                 <NA>   \n",
       "2                 <NA>   \n",
       "3                 <NA>   \n",
       "4                 <NA>   \n",
       "5                 <NA>   \n",
       "\n",
       "                                                                  selfie_camera_dual  \\\n",
       "0                                                                               <NA>   \n",
       "1                                                                               <NA>   \n",
       "2                                                                               <NA>   \n",
       "3                                                                               <NA>   \n",
       "4  8 MP, f/2.0, 22mm (wide), 1.22<c2><b5>m, no AF  TOF 3D, (depth/biometrics sensor)   \n",
       "5  8 MP, f/2.0, 22mm (wide), 1.22<c2><b5>m, no AF  TOF 3D, (depth/biometrics sensor)   \n",
       "\n",
       "  selfie_camera_triple  \n",
       "0                 <NA>  \n",
       "1                 <NA>  \n",
       "2                 <NA>  \n",
       "3                 <NA>  \n",
       "4                 <NA>  \n",
       "5                 <NA>  "
      ]
     },
     "execution_count": 37,
     "metadata": {},
     "output_type": "execute_result"
    }
   ],
   "source": [
    "df_copy.loc[0:5, [\"selfie_camera_single\", \"selfie_camera_dual\", \"selfie_camera_triple\"]]\n"
   ]
  },
  {
   "cell_type": "markdown",
   "metadata": {
    "id": "1cc9Y23uHMbq"
   },
   "source": [
    "## Preprocessing\n",
    "\n",
    "We preprocess the data in order to make it suitable for the task. The preprocessing steps are the following:\n",
    "\n",
    "- Drop the columns which are not relevant for the task.\n",
    "- Process each feature in order to make it suitable for the task, as described in the previous section. If the preprocessing results in a NaN value in the feature, then the sample is dropped.\n",
    "- For some feature, such as binary features, the NaN values are replaced to depict the absence of the feature. The other features are dropped if they contain NaN values because the value cannot be estimated.\n",
    "\n",
    "Meny samples are dropped, but mostly because they are old devices, which are not relevant for the task, for example if the display resolution is smaller than 1000 pixels or if the internal memory is smaller than 1GB.\n",
    "\n",
    "The final dataset contains 2154 samples.\n"
   ]
  },
  {
   "cell_type": "code",
   "execution_count": 90,
   "metadata": {
    "id": "2hRKCy2UtSeZ"
   },
   "outputs": [],
   "source": [
    "filter_condition = [\n",
    "    (\"launch_announced\", lambda x: x >= 2014),\n",
    "    (\"display_size\", lambda x: (x >= 4) & (x <= 7.5)),\n",
    "    (\"display_height\", lambda x: x >= 512),\n",
    "    (\"display_width\", lambda x: x >= 512),\n",
    "    (\"num_main_camera\", lambda x: x <= 4),\n",
    "    (\"memory_rom_gb\", lambda x: x <= 256),\n",
    "    (\"memory_ram_gb\", lambda x: x <= 32),\n",
    "    (\"battery\", lambda x: x>= 1000),\n",
    "    (\"misc_price\", lambda x: x <= 2000),\n",
    "]"
   ]
  },
  {
   "cell_type": "markdown",
   "metadata": {
    "id": "xTolW29DtSea"
   },
   "source": [
    "The dataset is filtered to keep only the samples which satisfy the following conditions:\n",
    "\n",
    "- display_size in (4, 7.5)\n",
    "- display_height and display_width > 512\n",
    "\n",
    "With these conditions the dataset is reduced but we can be sure that the samples are smartphones and recent."
   ]
  },
  {
   "cell_type": "code",
   "execution_count": 91,
   "metadata": {
    "colab": {
     "base_uri": "https://localhost:8080/"
    },
    "id": "i7bm9FBbtSea",
    "outputId": "cff6338e-3da6-458f-c586-f257ba6b243a"
   },
   "outputs": [
    {
     "name": "stdout",
     "output_type": "stream",
     "text": [
      "The dataframe has 2159 rows and 22 columns.\n"
     ]
    }
   ],
   "source": [
    "preprocess = util_preprocess.GSMArenaPreprocess(\"gsmarena.json\")\n",
    "df = preprocess(df_raw, filter_condition, verbose=False)\n",
    "\n",
    "print(f\"The dataframe has {df.shape[0]} rows and {df.shape[1]} columns.\")"
   ]
  },
  {
   "cell_type": "markdown",
   "metadata": {
    "id": "lbNHuSiAtSea"
   },
   "source": [
    "Instead of simply removing duplicates, we keep only one duplicated sample by considering the median price. This is done because the price is the target of the task and we want to avoid that the model is biased towards the most expensive device.\n",
    "\n",
    "Other techniques for detecting duplicates are possible, such as clustering or PCA, but the median price is a simple and effective way to remove duplicates.\n"
   ]
  },
  {
   "cell_type": "code",
   "execution_count": 92,
   "metadata": {
    "colab": {
     "base_uri": "https://localhost:8080/"
    },
    "id": "EIvThxMnuHF2",
    "outputId": "d18bbc68-b562-4f6c-b0c2-079afa0289c7"
   },
   "outputs": [
    {
     "name": "stdout",
     "output_type": "stream",
     "text": [
      "The dataframe has 2159 rows and 22 columns.\n",
      "Number of duplicated rows: 182\n",
      "The dataframe after removing duplicates has 1729 rows\n",
      "The dataframe after adding duplicates has 1911 rows\n"
     ]
    }
   ],
   "source": [
    "# Show duplicated rows\n",
    "def get_dup_rows(df: pd.DataFrame, drop_cols):\n",
    "    dup_cols = df.columns.drop(drop_cols).to_list()\n",
    "    dup_rows = df[df.duplicated(subset=dup_cols, keep=False)].copy()\n",
    "    return dup_rows, dup_rows.groupby(dup_cols)\n",
    "\n",
    "\n",
    "df_duplicates, df_groups = get_dup_rows(df, [\"misc_price\", \"launch_announced\", \"oem_model\"])\n",
    "\n",
    "print(f\"The dataframe has {df.shape[0]} rows and {df.shape[1]} columns.\")\n",
    "print(f\"Number of duplicated rows: {df_groups.ngroups}\")\n",
    "\n",
    "# remove dupliates rows which are then substitued\n",
    "df = df.drop(df_duplicates.index).reset_index(drop=True)\n",
    "print(f\"The dataframe after removing duplicates has {df.shape[0]} rows\")\n",
    "\n",
    "# add duplicated rows by joining the rows and replacing with the median price\n",
    "for key, item in df_groups:\n",
    "    el = item.iloc[0, :].copy()\n",
    "    el.misc_price = item.misc_price.median()\n",
    "    el.launch_announced = item.launch_announced.median()\n",
    "\n",
    "    # define the oem and model\n",
    "    oem_model = item.oem_model.unique()\n",
    "    if len(oem_model) > 1:\n",
    "        oem_model = \" - \".join(oem_model)\n",
    "    else:\n",
    "        oem = oem[0]\n",
    "\n",
    "    el.oem_model = oem_model\n",
    "    \n",
    "    df = pd.concat([df, el.to_frame().T], axis=0)\n",
    "\n",
    "df = df.reset_index(drop=True)\n",
    "print(f\"The dataframe after adding duplicates has {df.shape[0]} rows\")\n"
   ]
  },
  {
   "cell_type": "code",
   "execution_count": 93,
   "metadata": {
    "id": "yYY2J5nLtSeb"
   },
   "outputs": [],
   "source": [
    "# save the dataframe\n",
    "df.to_csv(\"data/processed/gsm.csv\", index=True)"
   ]
  }
 ],
 "metadata": {
  "celltoolbar": "Slideshow",
  "colab": {
   "collapsed_sections": [
    "tETAOV0DJV6d"
   ],
   "provenance": []
  },
  "kernelspec": {
   "display_name": "Python 3 (ipykernel)",
   "language": "python",
   "name": "python3"
  },
  "language_info": {
   "codemirror_mode": {
    "name": "ipython",
    "version": 3
   },
   "file_extension": ".py",
   "mimetype": "text/x-python",
   "name": "python",
   "nbconvert_exporter": "python",
   "pygments_lexer": "ipython3",
   "version": "3.9.16"
  }
 },
 "nbformat": 4,
 "nbformat_minor": 1
}
