{
 "cells": [
  {
   "cell_type": "code",
   "execution_count": 1,
   "metadata": {},
   "outputs": [],
   "source": [
    "%load_ext autoreload\n",
    "%autoreload 2"
   ]
  },
  {
   "cell_type": "code",
   "execution_count": 2,
   "metadata": {},
   "outputs": [],
   "source": [
    "import configparser\n",
    "import os\n",
    "\n",
    "from utils import util_data, util_preprocess\n"
   ]
  },
  {
   "cell_type": "code",
   "execution_count": 3,
   "metadata": {},
   "outputs": [
    {
     "data": {
      "text/plain": [
       "['config.ini']"
      ]
     },
     "execution_count": 3,
     "metadata": {},
     "output_type": "execute_result"
    }
   ],
   "source": [
    "config = configparser.ConfigParser()\n",
    "config.read(\"config.ini\")\n"
   ]
  },
  {
   "cell_type": "code",
   "execution_count": 4,
   "metadata": {},
   "outputs": [
    {
     "name": "stdout",
     "output_type": "stream",
     "text": [
      "File gsm.csv already exists. Skip download.\n"
     ]
    }
   ],
   "source": [
    "ds_conf = config[\"GSMARENA_DS\"]\n",
    "# Download the training and test datasets\n",
    "dh = util_data.DownloadHelper(\n",
    "    ds_conf[\"url\"], ds_conf[\"name\"], ds_conf[\"mode\"], quiet=False\n",
    ")\n",
    "\n",
    "dh.download()"
   ]
  },
  {
   "cell_type": "code",
   "execution_count": 12,
   "metadata": {},
   "outputs": [
    {
     "name": "stdout",
     "output_type": "stream",
     "text": [
      "Removing unwanted columns and duplicates...\n",
      "Shape before removing unwanted columns and duplicates: (10679, 86)\n",
      "Shape after removing unwanted columns and duplicates: (9919, 24)\n",
      "\n",
      "Preprocessing misc_price...\n",
      "Number of rows before extracting valid misc_price: 9919\n",
      "Number of rows after removing null values in misc_price: 6246\n",
      "Number of rows extracted: 136\n",
      "Number of rows extracted: 5866\n",
      "Number of rows extracted: 71\n",
      "Number of rows extracted: 71\n",
      "Number of rows extracted: 7\n",
      "Number of rows extracted: 0\n",
      "Number of rows without value: 95\n",
      "Number of rows after extracting valid misc_price: 6151\n",
      "\n",
      "Preprocessing launch_announced...\n",
      "Number of rows before extracting valid launch_announced: 6151\n",
      "Number of rows after removing null values in launch_announced: 6151\n",
      "Number of rows extracted: 6142\n",
      "Number of rows without a value: 9\n",
      "Number of rows after extracting valid launch_announced: 6142\n",
      "\n",
      "Preprocessing display_size...\n",
      "Number of rows before extracting valid display_size: 6142\n",
      "Number of rows after removing null values in display_size: 6065\n",
      "Number of rows extracted: 6054\n",
      "Number of rows without a value: 11\n",
      "Number of rows after extracting valid display_size: 6054\n",
      "\n",
      "Preprocessing display_type...\n",
      "Number of rows before extracting valid display_type: 6054\n",
      "Number of rows after removing null values in display_type: 6054\n",
      "Number of rows after extracting valid has_oled_display: 6054\n",
      "\n",
      "Preprocessing display_resolution...\n",
      "Number of rows before extracting valid display_resolution: 6054\n",
      "Number of rows after removing null values in display_resolution: 6047\n",
      "Number of rows without a value: 0\n",
      "Number of rows after extracting valid ['display_width', 'display_height']: 6027\n",
      "\n",
      "Preprocessing memory_card_slot...\n",
      "Number of rows before extracting valid memory_card_slot: 6027\n",
      "Number of rows after removing null values in memory_card_slot: 6027\n",
      "Number of rows after extracting valid has_memory_card_slot: 6027\n",
      "\n",
      "Preprocessing sound_loudspeaker...\n",
      "Number of rows before extracting valid sound_loudspeaker: 6027\n",
      "Number of rows after removing null values in sound_loudspeaker: 6027\n",
      "Number of rows after extracting valid has_stereo_speakers: 6027\n",
      "\n",
      "Preprocessing sound_3.5mm_jack...\n",
      "Number of rows before extracting valid sound_3.5mm_jack: 6027\n",
      "Number of rows after removing null values in sound_3.5mm_jack: 6027\n",
      "Number of rows after extracting valid has_3.5mm_jack: 6027\n",
      "\n",
      "Preprocessing comms_wlan...\n",
      "Number of rows before extracting valid comms_wlan: 6027\n",
      "Number of rows after removing null values in comms_wlan: 6027\n",
      "Number of rows after extracting valid has_wlan_5ghz: 6027\n",
      "\n",
      "Preprocessing comms_nfc...\n",
      "Number of rows before extracting valid comms_nfc: 6027\n",
      "Number of rows after removing null values in comms_nfc: 6027\n",
      "Number of rows after extracting valid has_nfc: 6027\n",
      "\n",
      "Preprocessing memory_internal...\n",
      "Number of rows before extracting valid memory_internal: 6027\n",
      "Number of rows after removing null values in memory_internal: 5622\n",
      "Number of rows without a value: 0\n",
      "Number of rows after extracting valid ['memory_rom_gb', 'memory_ram_gb']: 3212\n",
      "\n",
      "Preprocessing network_technology...\n",
      "Number of rows before extracting valid network_technology: 3212\n",
      "Number of rows after removing null values in network_technology: 3212\n",
      "Number of rows extracted: 101\n",
      "Number of rows extracted: 2220\n",
      "Number of rows extracted: 0\n",
      "Number of rows extracted: 704\n",
      "Number of rows without value: 187\n",
      "Number of rows after extracting valid network_technology: 3025\n",
      "\n",
      "Preprocessing battery...\n",
      "Number of rows before extracting valid battery: 3025\n",
      "Number of rows after removing null values in battery: 3018\n",
      "Number of rows extracted: 2984\n",
      "Number of rows without a value: 34\n",
      "Number of rows after extracting valid battery: 2984\n",
      "\n",
      "Preprocessing battery_charging...\n",
      "Number of rows before extracting valid battery_charging: 2984\n",
      "Number of rows after removing null values in battery_charging: 2984\n",
      "Number of rows after extracting valid has_wireless_charging: 2984\n",
      "\n",
      "Preprocessing body...\n",
      "Number of rows before extracting valid body: 2984\n",
      "Number of rows after removing null values in body: 2984\n",
      "Number of rows after extracting valid is_waterproof: 2984\n",
      "\n",
      "Preprocessing main_camera_cols...\n",
      "Number of rows before extracting valid main_camera_cols: 2984\n",
      "Number of rows after removing null values in main_camera_cols: 2982\n",
      "Number of rows extracted: 2249\n",
      "Number of rows extracted: 382\n",
      "Number of rows extracted: 192\n",
      "Number of rows extracted: 142\n",
      "Number of rows extracted: 4\n",
      "Number of rows extracted: 2\n",
      "Number of rows without value: main_camera_resolution    11\n",
      "num_main_camera           11\n",
      "dtype: int64\n",
      "Number of rows after extracting valid ['main_camera_resolution', 'num_main_camera']: 2971\n",
      "\n",
      "Preprocessing selfie_camera_cols...\n",
      "Number of rows before extracting valid selfie_camera_cols: 2971\n",
      "Number of rows after removing null values in selfie_camera_cols: 2942\n",
      "Number of rows extracted: 2558\n",
      "Number of rows extracted: 88\n",
      "Number of rows extracted: 1\n",
      "Number of rows without value: selfie_camera_resolution    295\n",
      "num_selfie_camera           295\n",
      "dtype: int64\n",
      "Number of rows after extracting valid ['selfie_camera_resolution', 'num_selfie_camera']: 2647\n",
      "\n"
     ]
    }
   ],
   "source": [
    "df = dh.read_csv(low_memory=False, sep=\",\")\n",
    "preprocess = util_preprocess.GSMArenaPreprocess(df)\n",
    "df = preprocess.preprocess()"
   ]
  },
  {
   "cell_type": "code",
   "execution_count": 13,
   "metadata": {},
   "outputs": [
    {
     "name": "stdout",
     "output_type": "stream",
     "text": [
      "The dataframe has 2647 rows and 21 columns.\n"
     ]
    }
   ],
   "source": [
    "print(f\"The dataframe has {df.shape[0]} rows and {df.shape[1]} columns.\")"
   ]
  },
  {
   "attachments": {},
   "cell_type": "markdown",
   "metadata": {},
   "source": [
    "Filter conditions for recent mobile phones\n",
    "\n",
    "- launch_announced >= 2014\n",
    "- display_size in (4, 7.5)\n",
    "- display_height and display_width > 512"
   ]
  },
  {
   "cell_type": "code",
   "execution_count": 14,
   "metadata": {},
   "outputs": [
    {
     "name": "stdout",
     "output_type": "stream",
     "text": [
      "Removing unwanted rows and duplicates...\n",
      "Shape before removing unwanted rows and duplicates: (2647, 21)\n",
      "Shape after removing unwanted rows and duplicates: (1973, 21)\n",
      "\n"
     ]
    }
   ],
   "source": [
    "filter_condition = {\n",
    "    \"launch_announced\": lambda x: x >= 2014,\n",
    "    \"display_size\": lambda x: x >= 4,\n",
    "    \"display_size\": lambda x: x <= 7.5,\n",
    "    \"display_height\": lambda x: x >= 512,\n",
    "    \"display_width\": lambda x: x >= 512,\n",
    "}\n",
    "df = preprocess.filter_unwanted_rows(filter_condition)"
   ]
  },
  {
   "cell_type": "code",
   "execution_count": 15,
   "metadata": {},
   "outputs": [
    {
     "name": "stdout",
     "output_type": "stream",
     "text": [
      "The dataframe has 1973 rows and 21 columns.\n"
     ]
    }
   ],
   "source": [
    "print(f\"The dataframe has {df.shape[0]} rows and {df.shape[1]} columns.\")"
   ]
  },
  {
   "cell_type": "code",
   "execution_count": 16,
   "metadata": {},
   "outputs": [],
   "source": [
    "out_path = os.path.join(\"data\", \"processed\", ds_conf[\"name\"])\n",
    "df.to_csv(out_path, index=False)"
   ]
  }
 ],
 "metadata": {
  "kernelspec": {
   "display_name": "master-aiii",
   "language": "python",
   "name": "python3"
  },
  "language_info": {
   "codemirror_mode": {
    "name": "ipython",
    "version": 3
   },
   "file_extension": ".py",
   "mimetype": "text/x-python",
   "name": "python",
   "nbconvert_exporter": "python",
   "pygments_lexer": "ipython3",
   "version": "3.9.16"
  },
  "orig_nbformat": 4
 },
 "nbformat": 4,
 "nbformat_minor": 2
}
