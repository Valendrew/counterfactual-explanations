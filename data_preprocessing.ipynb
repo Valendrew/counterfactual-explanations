{
 "cells": [
  {
   "cell_type": "code",
   "execution_count": 1,
   "metadata": {
    "id": "BeBJWOaYHMbZ",
    "slideshow": {
     "slide_type": "skip"
    }
   },
   "outputs": [],
   "source": [
    "%load_ext autoreload\n",
    "%autoreload 2\n",
    "%matplotlib inline"
   ]
  },
  {
   "cell_type": "markdown",
   "metadata": {
    "id": "Qwnv3DBTCZZP",
    "slideshow": {
     "slide_type": "slide"
    }
   },
   "source": [
    "# Preprocessing"
   ]
  },
  {
   "cell_type": "markdown",
   "metadata": {
    "id": "ZjAmPTP1Mg6E",
    "slideshow": {
     "slide_type": "skip"
    }
   },
   "source": [
    "## Installation and import of the needed libraries\n"
   ]
  },
  {
   "cell_type": "code",
   "execution_count": 2,
   "metadata": {
    "colab": {
     "base_uri": "https://localhost:8080/"
    },
    "id": "oYnJw3nRtWjx",
    "outputId": "2771b510-ae60-4858-d747-7c73655d7b9e",
    "slideshow": {
     "slide_type": "skip"
    }
   },
   "outputs": [
    {
     "name": "stdout",
     "output_type": "stream",
     "text": [
      "Currently not running in a Colab environment\n"
     ]
    }
   ],
   "source": [
    "COLAB_ENV = (\n",
    "    \"google.colab\" in str(get_ipython())\n",
    "    if hasattr(__builtins__, \"__IPYTHON__\")\n",
    "    else False\n",
    ")\n",
    "print(f\"Currently {'not ' if not COLAB_ENV else ''}running in a Colab environment\")\n"
   ]
  },
  {
   "cell_type": "markdown",
   "metadata": {
    "id": "PlR3PcJbC84d",
    "slideshow": {
     "slide_type": "skip"
    }
   },
   "source": [
    "### Installation (mandatory on Colab)\n",
    "\n",
    "First of all we clone the Github repository in order to have all the needed files to perform our analysis.\n",
    "\n",
    "This is needed only if the current notebook isn't executed directly from the repository folder (e.g. Google Colab)\n"
   ]
  },
  {
   "cell_type": "code",
   "execution_count": 3,
   "metadata": {
    "colab": {
     "base_uri": "https://localhost:8080/"
    },
    "id": "bXnBmuobMi-Q",
    "outputId": "bc57fb44-aadb-4abb-cac6-f61156d9f607",
    "slideshow": {
     "slide_type": "skip"
    }
   },
   "outputs": [],
   "source": [
    "if COLAB_ENV:\n",
    "    !mkdir my_repo\n",
    "    !git clone https://github.com/Valendrew/counterfactual-explanations.git my_repo\n",
    "    %cd my_repo\n",
    "    !pip install -r requirements.txt -q"
   ]
  },
  {
   "cell_type": "markdown",
   "metadata": {
    "id": "YCxP1Q5-HMbi",
    "slideshow": {
     "slide_type": "skip"
    }
   },
   "source": [
    "### Import and configuration setup\n"
   ]
  },
  {
   "cell_type": "code",
   "execution_count": 4,
   "metadata": {
    "colab": {
     "base_uri": "https://localhost:8080/"
    },
    "id": "QZR9pR0LSjbE",
    "outputId": "fbdbf73e-53f4-429b-d089-1f3bb474b31f",
    "slideshow": {
     "slide_type": "skip"
    }
   },
   "outputs": [],
   "source": [
    "# python modules\n",
    "import configparser\n",
    "import re\n",
    "\n",
    "# 3rd party modules\n",
    "import numpy as np\n",
    "import pandas as pd\n",
    "import matplotlib.pyplot as plt\n",
    "from sklearn.linear_model import LinearRegression, HuberRegressor\n",
    "from sklearn.model_selection import cross_val_score\n",
    "from sklearn.model_selection import RandomizedSearchCV\n",
    "\n",
    "# user modules\n",
    "from utils import util_data, util_preprocess, util_plot, util_models"
   ]
  },
  {
   "cell_type": "markdown",
   "metadata": {
    "id": "zmh5RLDwSRwx",
    "slideshow": {
     "slide_type": "skip"
    }
   },
   "source": [
    "In order to manage the randomness we wrote the following cell to make the experiments reproducible, check the following [link](https://scikit-learn.org/stable/common_pitfalls.html#controlling-randomness).\n",
    "\n",
    "A numpy Random Generator object is constructed for controlling randomness: necessary for robust results in estimator performance with cross-validation.\n"
   ]
  },
  {
   "cell_type": "code",
   "execution_count": 5,
   "metadata": {
    "id": "5I7sSu9aSY3D",
    "slideshow": {
     "slide_type": "skip"
    }
   },
   "outputs": [],
   "source": [
    "def set_default_randomness(seed: int):\n",
    "    rng = np.random.RandomState(seed)\n",
    "    return rng\n",
    "\n",
    "\n",
    "SEED = 42\n",
    "rng = set_default_randomness(SEED)"
   ]
  },
  {
   "cell_type": "markdown",
   "metadata": {
    "id": "CcWgPz39UFd_",
    "slideshow": {
     "slide_type": "skip"
    }
   },
   "source": [
    "Moreover we import the configuration file to have all the parameters along the notebook.\n"
   ]
  },
  {
   "cell_type": "code",
   "execution_count": 6,
   "metadata": {
    "colab": {
     "base_uri": "https://localhost:8080/"
    },
    "id": "P0trduHkUG3S",
    "outputId": "ad4aa90e-7d18-4afb-9d60-2998fc599a4a",
    "slideshow": {
     "slide_type": "skip"
    }
   },
   "outputs": [
    {
     "data": {
      "text/plain": [
       "['config.ini']"
      ]
     },
     "execution_count": 6,
     "metadata": {},
     "output_type": "execute_result"
    }
   ],
   "source": [
    "config = configparser.ConfigParser()\n",
    "config.read(\"config.ini\")"
   ]
  },
  {
   "cell_type": "code",
   "execution_count": 7,
   "metadata": {
    "colab": {
     "base_uri": "https://localhost:8080/"
    },
    "id": "-8tIL4WpMteF",
    "outputId": "e836dd86-e039-4b27-ccfa-ba3def199e2b",
    "slideshow": {
     "slide_type": "skip"
    }
   },
   "outputs": [
    {
     "name": "stdout",
     "output_type": "stream",
     "text": [
      "File gsm.csv already exists. Skip download.\n"
     ]
    }
   ],
   "source": [
    "ds_conf = config[\"GSMARENA_DS\"]\n",
    "# Download the training and test datasets\n",
    "download_helper = util_data.DownloadHelper(\n",
    "    ds_conf[\"url\"], ds_conf[\"name\"], ds_conf[\"mode\"], quiet=False\n",
    ")\n",
    "\n",
    "download_helper.download()"
   ]
  },
  {
   "cell_type": "code",
   "execution_count": 8,
   "metadata": {
    "id": "9RjANCWpOq90",
    "slideshow": {
     "slide_type": "skip"
    }
   },
   "outputs": [],
   "source": [
    "df_raw = download_helper.read_csv(low_memory=False, sep=\",\")"
   ]
  },
  {
   "cell_type": "markdown",
   "metadata": {
    "id": "tETAOV0DJV6d",
    "slideshow": {
     "slide_type": "subslide"
    }
   },
   "source": [
    "## Exploration of scraped data"
   ]
  },
  {
   "cell_type": "markdown",
   "metadata": {
    "slideshow": {
     "slide_type": "fragment"
    }
   },
   "source": [
    "For the project we use the GSMArena Mobile Phone Devices dataset ([Kaggle link](https://www.kaggle.com/datasets/msainani/gsmarena-mobile-devices)).\n",
    "\n",
    "The dataset contains information about different characteristics of the smartphones (e.g. RAM, cores, ...) and the target variable is the price range of the device. The list has been scraped from [GSMArena](gsmarena.com), a well-known website that provides information and specification about smartphones and other electronic devices."
   ]
  },
  {
   "cell_type": "markdown",
   "metadata": {
    "slideshow": {
     "slide_type": "subslide"
    }
   },
   "source": [
    "Dataset information"
   ]
  },
  {
   "cell_type": "markdown",
   "metadata": {
    "id": "8DoMLVVA4EHS",
    "slideshow": {
     "slide_type": "fragment"
    }
   },
   "source": [
    "The dataset has 10679 samples with 86 features. The features are a mix of numerical and categorical data, but some of them are redundant or not useful for our analysis (e.g. battery tests, network bands supported, ...). \n",
    "\n",
    "Moreover, some of the features are not well formatted (e.g. the price is a string with the currency symbol), thus we need to perform some preprocessing to make the dataset usable for our analysis and to extract the most useful features."
   ]
  },
  {
   "cell_type": "code",
   "execution_count": 13,
   "metadata": {
    "colab": {
     "base_uri": "https://localhost:8080/",
     "height": 393
    },
    "id": "GKfO-zuZ0ykr",
    "outputId": "a73b8bea-bec0-4303-bcb6-4de338807899",
    "slideshow": {
     "slide_type": "fragment"
    }
   },
   "outputs": [
    {
     "data": {
      "text/html": [
       "<div>\n",
       "<style scoped>\n",
       "    .dataframe tbody tr th:only-of-type {\n",
       "        vertical-align: middle;\n",
       "    }\n",
       "\n",
       "    .dataframe tbody tr th {\n",
       "        vertical-align: top;\n",
       "    }\n",
       "\n",
       "    .dataframe thead th {\n",
       "        text-align: right;\n",
       "    }\n",
       "</style>\n",
       "<table border=\"1\" class=\"dataframe\">\n",
       "  <thead>\n",
       "    <tr style=\"text-align: right;\">\n",
       "      <th></th>\n",
       "      <th>oem</th>\n",
       "      <th>model</th>\n",
       "      <th>network_technology</th>\n",
       "      <th>network_2g_bands</th>\n",
       "      <th>network_gprs</th>\n",
       "      <th>network_edge</th>\n",
       "      <th>launch_announced</th>\n",
       "      <th>launch_status</th>\n",
       "      <th>body_dimensions</th>\n",
       "      <th>body_weight</th>\n",
       "      <th>...</th>\n",
       "      <th>main_camera_dual_or_triple</th>\n",
       "      <th>battery_music_play</th>\n",
       "      <th>selfie_camera_triple</th>\n",
       "      <th>main_camera_v1</th>\n",
       "      <th>selfie_camera</th>\n",
       "      <th>camera</th>\n",
       "      <th>main_camera</th>\n",
       "      <th>network</th>\n",
       "      <th>battery_talk_time</th>\n",
       "      <th>battery_stand.by</th>\n",
       "    </tr>\n",
       "  </thead>\n",
       "  <tbody>\n",
       "    <tr>\n",
       "      <th>3158</th>\n",
       "      <td>Celkon</td>\n",
       "      <td>Millennia Everest</td>\n",
       "      <td>GSM / HSPA</td>\n",
       "      <td>GSM 900 / 1800 - SIM 1 &amp; SIM 2</td>\n",
       "      <td>Yes</td>\n",
       "      <td>Yes</td>\n",
       "      <td>2015, August</td>\n",
       "      <td>Available. Released 2015, August</td>\n",
       "      <td>157 x 78 x 9.1 mm (6.18 x 3.07 x 0.36 in)</td>\n",
       "      <td>-</td>\n",
       "      <td>...</td>\n",
       "      <td>NaN</td>\n",
       "      <td>NaN</td>\n",
       "      <td>NaN</td>\n",
       "      <td>NaN</td>\n",
       "      <td>NaN</td>\n",
       "      <td>NaN</td>\n",
       "      <td>NaN</td>\n",
       "      <td>NaN</td>\n",
       "      <td>NaN</td>\n",
       "      <td>NaN</td>\n",
       "    </tr>\n",
       "    <tr>\n",
       "      <th>3657</th>\n",
       "      <td>Gionee</td>\n",
       "      <td>Elife E6</td>\n",
       "      <td>GSM / HSPA</td>\n",
       "      <td>GSM 850 / 900 / 1800 / 1900</td>\n",
       "      <td>Class 12</td>\n",
       "      <td>Class 12</td>\n",
       "      <td>2013. Released 2013</td>\n",
       "      <td>Discontinued</td>\n",
       "      <td>142.5 x 69.4 x 7.9 mm (5.61 x 2.73 x 0.31 in)</td>\n",
       "      <td>-</td>\n",
       "      <td>...</td>\n",
       "      <td>NaN</td>\n",
       "      <td>NaN</td>\n",
       "      <td>NaN</td>\n",
       "      <td>NaN</td>\n",
       "      <td>NaN</td>\n",
       "      <td>NaN</td>\n",
       "      <td>NaN</td>\n",
       "      <td>NaN</td>\n",
       "      <td>NaN</td>\n",
       "      <td>NaN</td>\n",
       "    </tr>\n",
       "    <tr>\n",
       "      <th>4403</th>\n",
       "      <td>i-mobile</td>\n",
       "      <td>903</td>\n",
       "      <td>GSM</td>\n",
       "      <td>GSM 900 / 1800 / 1900</td>\n",
       "      <td>Class 10</td>\n",
       "      <td>No</td>\n",
       "      <td>2007, May. Released 2007, May</td>\n",
       "      <td>Discontinued</td>\n",
       "      <td>106 x 47 x 17 mm (4.17 x 1.85 x 0.67 in)</td>\n",
       "      <td>88 g (3.10 oz)</td>\n",
       "      <td>...</td>\n",
       "      <td>NaN</td>\n",
       "      <td>NaN</td>\n",
       "      <td>NaN</td>\n",
       "      <td>NaN</td>\n",
       "      <td>No</td>\n",
       "      <td>NaN</td>\n",
       "      <td>NaN</td>\n",
       "      <td>NaN</td>\n",
       "      <td>Up to 2 h</td>\n",
       "      <td>Up to 200 h</td>\n",
       "    </tr>\n",
       "  </tbody>\n",
       "</table>\n",
       "<p>3 rows × 86 columns</p>\n",
       "</div>"
      ],
      "text/plain": [
       "           oem              model network_technology  \\\n",
       "3158    Celkon  Millennia Everest         GSM / HSPA   \n",
       "3657    Gionee           Elife E6         GSM / HSPA   \n",
       "4403  i-mobile                903                GSM   \n",
       "\n",
       "                    network_2g_bands network_gprs network_edge  \\\n",
       "3158  GSM 900 / 1800 - SIM 1 & SIM 2          Yes          Yes   \n",
       "3657     GSM 850 / 900 / 1800 / 1900     Class 12     Class 12   \n",
       "4403           GSM 900 / 1800 / 1900     Class 10           No   \n",
       "\n",
       "                   launch_announced                     launch_status  \\\n",
       "3158                   2015, August  Available. Released 2015, August   \n",
       "3657            2013. Released 2013                      Discontinued   \n",
       "4403  2007, May. Released 2007, May                      Discontinued   \n",
       "\n",
       "                                    body_dimensions     body_weight  ...  \\\n",
       "3158      157 x 78 x 9.1 mm (6.18 x 3.07 x 0.36 in)               -  ...   \n",
       "3657  142.5 x 69.4 x 7.9 mm (5.61 x 2.73 x 0.31 in)               -  ...   \n",
       "4403       106 x 47 x 17 mm (4.17 x 1.85 x 0.67 in)  88 g (3.10 oz)  ...   \n",
       "\n",
       "     main_camera_dual_or_triple battery_music_play selfie_camera_triple  \\\n",
       "3158                        NaN                NaN                  NaN   \n",
       "3657                        NaN                NaN                  NaN   \n",
       "4403                        NaN                NaN                  NaN   \n",
       "\n",
       "     main_camera_v1 selfie_camera camera main_camera network  \\\n",
       "3158            NaN           NaN    NaN         NaN     NaN   \n",
       "3657            NaN           NaN    NaN         NaN     NaN   \n",
       "4403            NaN            No    NaN         NaN     NaN   \n",
       "\n",
       "     battery_talk_time battery_stand.by  \n",
       "3158               NaN              NaN  \n",
       "3657               NaN              NaN  \n",
       "4403         Up to 2 h      Up to 200 h  \n",
       "\n",
       "[3 rows x 86 columns]"
      ]
     },
     "execution_count": 13,
     "metadata": {},
     "output_type": "execute_result"
    }
   ],
   "source": [
    "df_raw.sample(3)"
   ]
  },
  {
   "cell_type": "code",
   "execution_count": 10,
   "metadata": {
    "colab": {
     "base_uri": "https://localhost:8080/"
    },
    "id": "atmzrDaoHMbl",
    "outputId": "df887a31-f069-48f3-d35f-3512cc2bd137",
    "slideshow": {
     "slide_type": "skip"
    }
   },
   "outputs": [
    {
     "name": "stdout",
     "output_type": "stream",
     "text": [
      "Number of rows: 10668\n",
      "Number of columns: 86\n"
     ]
    }
   ],
   "source": [
    "print(f\"Number of rows: {df_raw.shape[0]}\")\n",
    "print(f\"Number of columns: {df_raw.shape[1]}\")"
   ]
  },
  {
   "cell_type": "code",
   "execution_count": 11,
   "metadata": {
    "colab": {
     "base_uri": "https://localhost:8080/"
    },
    "id": "q583kKVEHMbl",
    "outputId": "66b6e375-692f-4c1a-8fbd-767d84af39f9",
    "slideshow": {
     "slide_type": "skip"
    }
   },
   "outputs": [
    {
     "name": "stdout",
     "output_type": "stream",
     "text": [
      "Columns:\n",
      "Index(['oem', 'model', 'network_technology', 'network_2g_bands',\n",
      "       'network_gprs', 'network_edge', 'launch_announced', 'launch_status',\n",
      "       'body_dimensions', 'body_weight', 'body_sim', 'display_type',\n",
      "       'display_size', 'display_resolution', 'display', 'memory_card_slot',\n",
      "       'memory_phonebook', 'memory_call_records', 'sound_loudspeaker',\n",
      "       'sound_alert_types', 'sound_3.5mm_jack', 'comms_wlan',\n",
      "       'comms_bluetooth', 'comms_gps', 'comms_radio', 'comms_usb',\n",
      "       'features_sensors', 'features_messaging', 'features_browser',\n",
      "       'features_clock', 'features_alarm', 'features_games', 'features_java',\n",
      "       'features', 'misc_colors', 'network_3g_bands', 'network_speed',\n",
      "       'platform_os', 'platform_chipset', 'platform_cpu', 'platform_gpu',\n",
      "       'memory_internal', 'main_camera_single', 'main_camera_video',\n",
      "       'misc_price', 'main_camera_features', 'body', 'network_4g_bands',\n",
      "       'body_build', 'display_protection', 'memory', 'main_camera_dual',\n",
      "       'selfie_camera_dual', 'selfie_camera_features', 'selfie_camera_video',\n",
      "       'comms_nfc', 'battery_charging', 'misc_models', 'tests_performance',\n",
      "       'tests_camera', 'tests_loudspeaker', 'tests_audio_quality',\n",
      "       'tests_battery_life', 'tests_display', 'selfie_camera_single',\n",
      "       'comms_infrared_port', 'network_5g_bands', 'main_camera_quad',\n",
      "       'main_camera_triple', 'sound', 'misc_sar_eu', 'main_camera_five',\n",
      "       'features_languages', 'body_keyboard', 'misc_sar', 'battery',\n",
      "       'main_camera_dual_or_triple', 'battery_music_play',\n",
      "       'selfie_camera_triple', 'main_camera_v1', 'selfie_camera', 'camera',\n",
      "       'main_camera', 'network', 'battery_talk_time', 'battery_stand.by'],\n",
      "      dtype='object')\n"
     ]
    }
   ],
   "source": [
    "print(f\"Columns:\\n{df_raw.columns}\")"
   ]
  },
  {
   "cell_type": "code",
   "execution_count": 12,
   "metadata": {
    "colab": {
     "base_uri": "https://localhost:8080/"
    },
    "id": "fIjcQFmL0Lbb",
    "outputId": "938c0afb-54c3-477e-8286-a35a028b3e1a",
    "slideshow": {
     "slide_type": "skip"
    }
   },
   "outputs": [
    {
     "data": {
      "text/plain": [
       "object    86\n",
       "dtype: int64"
      ]
     },
     "execution_count": 12,
     "metadata": {},
     "output_type": "execute_result"
    }
   ],
   "source": [
    "df_raw.dtypes.value_counts()"
   ]
  },
  {
   "cell_type": "markdown",
   "metadata": {
    "id": "_cVSjvYxtSeN",
    "slideshow": {
     "slide_type": "slide"
    }
   },
   "source": [
    "### Explore relevant features"
   ]
  },
  {
   "cell_type": "markdown",
   "metadata": {
    "id": "u5xSZZn7tSeN",
    "slideshow": {
     "slide_type": "fragment"
    }
   },
   "source": [
    "- _misc_price_: label for the classification task\n",
    "- _launch_announced_: year of the announcement of the device (used only for filtering)\n",
    "- _network_technology_: 3G, 4G, 5G support\n",
    "- **Numerical features**: display_size, battery\n",
    "- **Binary features**: display_type, memory_card_slot, sound_loudspeaker, sound_3.5mm_jack, comms_wlan, comms_nfc, battery_charging, body\n",
    "- **Multi column features**: display_resolution, memory_internal\n",
    "- **Camera features**: main_camera, selfie_camera\n"
   ]
  },
  {
   "cell_type": "code",
   "execution_count": 15,
   "metadata": {
    "id": "VwU2wdX6tSeO",
    "slideshow": {
     "slide_type": "skip"
    }
   },
   "outputs": [],
   "source": [
    "df_copy = df_raw.copy()"
   ]
  },
  {
   "cell_type": "markdown",
   "metadata": {
    "id": "xzp8KKLqtSeO",
    "slideshow": {
     "slide_type": "skip"
    }
   },
   "source": [
    "#### Explore the launch_announced column"
   ]
  },
  {
   "cell_type": "markdown",
   "metadata": {
    "id": "Nu9UdFgPtSeO",
    "slideshow": {
     "slide_type": "skip"
    }
   },
   "source": [
    "There are 91 values which are NaN. However, these samples belongs to two distinct categories:\n",
    "\n",
    "- 82 samples don't have any price, so without a proper label they must be dropped.\n",
    "- 9 samples have a price, but carefully looking at the \"launch_status\", only two of them have been \"discontinued\", while the remaining ones have been \"cancelled\"."
   ]
  },
  {
   "cell_type": "markdown",
   "metadata": {
    "slideshow": {
     "slide_type": "skip"
    }
   },
   "source": [
    "Nonetheless, these 91 samples can be easily dropped, because only for 2 of them the launch year could be found, but a quick online search doesn't provide any results."
   ]
  },
  {
   "cell_type": "code",
   "execution_count": 16,
   "metadata": {
    "slideshow": {
     "slide_type": "skip"
    }
   },
   "outputs": [],
   "source": [
    "def extract_year(df: pd.DataFrame, feat_col: str):\n",
    "    # pattern to extract year\n",
    "    pat_year = r\"([\\d]{4})\"\n",
    "    # year series\n",
    "    ser_year = df_copy[feat_col]\n",
    "    \n",
    "    ser_year = util_preprocess.DataTransformer.process_float_feature(ser_year, pat_year)\n",
    "    return ser_year"
   ]
  },
  {
   "cell_type": "code",
   "execution_count": 17,
   "metadata": {
    "slideshow": {
     "slide_type": "skip"
    }
   },
   "outputs": [
    {
     "name": "stdout",
     "output_type": "stream",
     "text": [
      "Number of missing values: 91\n"
     ]
    }
   ],
   "source": [
    "ser_year = extract_year(df_copy, \"launch_announced\")\n",
    "print(f\"Number of missing values: {ser_year.isna().sum()}\")"
   ]
  },
  {
   "cell_type": "code",
   "execution_count": 18,
   "metadata": {
    "slideshow": {
     "slide_type": "skip"
    }
   },
   "outputs": [
    {
     "data": {
      "text/html": [
       "<div>\n",
       "<style scoped>\n",
       "    .dataframe tbody tr th:only-of-type {\n",
       "        vertical-align: middle;\n",
       "    }\n",
       "\n",
       "    .dataframe tbody tr th {\n",
       "        vertical-align: top;\n",
       "    }\n",
       "\n",
       "    .dataframe thead th {\n",
       "        text-align: right;\n",
       "    }\n",
       "</style>\n",
       "<table border=\"1\" class=\"dataframe\">\n",
       "  <thead>\n",
       "    <tr style=\"text-align: right;\">\n",
       "      <th></th>\n",
       "      <th>oem</th>\n",
       "      <th>model</th>\n",
       "      <th>launch_announced</th>\n",
       "      <th>launch_status</th>\n",
       "      <th>misc_price</th>\n",
       "    </tr>\n",
       "  </thead>\n",
       "  <tbody>\n",
       "    <tr>\n",
       "      <th>853</th>\n",
       "      <td>Xiaomi</td>\n",
       "      <td>Mi Max 4</td>\n",
       "      <td>Not announced yet</td>\n",
       "      <td>Cancelled</td>\n",
       "      <td>About 300 EUR</td>\n",
       "    </tr>\n",
       "    <tr>\n",
       "      <th>854</th>\n",
       "      <td>Xiaomi</td>\n",
       "      <td>Mi Max 4 Pro</td>\n",
       "      <td>Not announced yet</td>\n",
       "      <td>Cancelled</td>\n",
       "      <td>About 350 EUR</td>\n",
       "    </tr>\n",
       "    <tr>\n",
       "      <th>1642</th>\n",
       "      <td>Coolpad</td>\n",
       "      <td>3632</td>\n",
       "      <td>Not announced yet</td>\n",
       "      <td>Cancelled</td>\n",
       "      <td>About 100 EUR</td>\n",
       "    </tr>\n",
       "    <tr>\n",
       "      <th>2610</th>\n",
       "      <td>Asus</td>\n",
       "      <td>Z801</td>\n",
       "      <td>V1</td>\n",
       "      <td>Discontinued</td>\n",
       "      <td>About 260 EUR</td>\n",
       "    </tr>\n",
       "    <tr>\n",
       "      <th>4915</th>\n",
       "      <td>Lenovo</td>\n",
       "      <td>ideapad</td>\n",
       "      <td>V1</td>\n",
       "      <td>Cancelled</td>\n",
       "      <td>About 130 EUR</td>\n",
       "    </tr>\n",
       "    <tr>\n",
       "      <th>5584</th>\n",
       "      <td>Meizu</td>\n",
       "      <td>PRO 5 mini</td>\n",
       "      <td>Not announced yet</td>\n",
       "      <td>Cancelled</td>\n",
       "      <td>About 360 EUR</td>\n",
       "    </tr>\n",
       "    <tr>\n",
       "      <th>8975</th>\n",
       "      <td>Samsung</td>\n",
       "      <td>Galaxy On5 (2016)</td>\n",
       "      <td>Not announced yet</td>\n",
       "      <td>Cancelled</td>\n",
       "      <td>About 220 EUR</td>\n",
       "    </tr>\n",
       "    <tr>\n",
       "      <th>10059</th>\n",
       "      <td>Vodafone</td>\n",
       "      <td>830i</td>\n",
       "      <td>V1</td>\n",
       "      <td>Discontinued</td>\n",
       "      <td>About 170 EUR</td>\n",
       "    </tr>\n",
       "    <tr>\n",
       "      <th>10233</th>\n",
       "      <td>Xiaomi</td>\n",
       "      <td>Redmi Pro 2</td>\n",
       "      <td>Not announced yet</td>\n",
       "      <td>Cancelled</td>\n",
       "      <td>About 210 EUR</td>\n",
       "    </tr>\n",
       "  </tbody>\n",
       "</table>\n",
       "</div>"
      ],
      "text/plain": [
       "            oem              model   launch_announced launch_status  \\\n",
       "853      Xiaomi           Mi Max 4  Not announced yet     Cancelled   \n",
       "854      Xiaomi       Mi Max 4 Pro  Not announced yet     Cancelled   \n",
       "1642    Coolpad               3632  Not announced yet     Cancelled   \n",
       "2610       Asus               Z801                 V1  Discontinued   \n",
       "4915     Lenovo            ideapad                 V1     Cancelled   \n",
       "5584      Meizu         PRO 5 mini  Not announced yet     Cancelled   \n",
       "8975    Samsung  Galaxy On5 (2016)  Not announced yet     Cancelled   \n",
       "10059  Vodafone               830i                 V1  Discontinued   \n",
       "10233    Xiaomi        Redmi Pro 2  Not announced yet     Cancelled   \n",
       "\n",
       "          misc_price  \n",
       "853    About 300 EUR  \n",
       "854    About 350 EUR  \n",
       "1642   About 100 EUR  \n",
       "2610   About 260 EUR  \n",
       "4915   About 130 EUR  \n",
       "5584   About 360 EUR  \n",
       "8975   About 220 EUR  \n",
       "10059  About 170 EUR  \n",
       "10233  About 210 EUR  "
      ]
     },
     "execution_count": 18,
     "metadata": {},
     "output_type": "execute_result"
    }
   ],
   "source": [
    "cols = [\"oem\", \"model\", \"launch_announced\", \"launch_status\", \"misc_price\"]\n",
    "df_copy.loc[ser_year.isna(), cols].dropna(subset=\"misc_price\")"
   ]
  },
  {
   "cell_type": "markdown",
   "metadata": {
    "id": "3bAoawxWHMbm",
    "slideshow": {
     "slide_type": "subslide"
    }
   },
   "source": [
    "#### Explore the misc_price column"
   ]
  },
  {
   "cell_type": "markdown",
   "metadata": {
    "id": "1JpoJDCPtSeP",
    "slideshow": {
     "slide_type": "fragment"
    }
   },
   "source": [
    "There are only 6527 valid price rows, while the remaining ones are NaN values, so they must be dropped.\n",
    "\n",
    "For most of the models the currency available is the *EUR*, but for the remaining ones (*USD*, *INR*, *GBP*) a suitable conversion rate should be found to estimate the actual price in EUR, otherwise the price could be misleading for the classification task given that the price range for most of the samples is in euros.\n",
    "\n",
    "However, finding a suitable conversion rate for each region market is non trivial (e.g. difference [purchasing power parities](https://data.oecd.org/conversion/purchasing-power-parities-ppp.htm)), so we decided to compute conversion rates for all smartphones wherever the currency is both in *EUR* and *USD/INR/GBP*, then training a model to predict the price in EUR and compare the errors with two other approaches:\n",
    "- An online conversion rate, retrieved from [here](https://www.ecb.europa.eu/stats/policy_and_exchange_rates/euro_reference_exchange_rates/html/index.en.html) in the span of the sample years (usually 1/2 years).\n",
    "- The median conversion rate among the selected samples."
   ]
  },
  {
   "cell_type": "code",
   "execution_count": 47,
   "metadata": {
    "colab": {
     "base_uri": "https://localhost:8080/"
    },
    "id": "FfAL2as9HMbm",
    "outputId": "09b7908d-79cb-4ac4-9d23-3e7a3b586348",
    "slideshow": {
     "slide_type": "skip"
    }
   },
   "outputs": [
    {
     "name": "stdout",
     "output_type": "stream",
     "text": [
      "Number of valid 'misc_price' rows: 6527\n"
     ]
    }
   ],
   "source": [
    "misc_price = df_copy[\"misc_price\"]\n",
    "to_replace = {\n",
    "    \"<e2><80><89>\": \" \",\n",
    "    \"<e2><82><ac>\": \"EUR\",\n",
    "    \"<e2><82><B9>\": \"INR\",\n",
    "    \"<c2><a3>\": \"GBP\",\n",
    "    \"€\": \"EUR\",\n",
    "    \"\\$\": \"USD\",\n",
    "    \"£\": \"GBP\",\n",
    "    \"\" \"\\u2009\": \" \",\n",
    "    \"(,)(?=[\\d]{3})\": \"\",\n",
    "}\n",
    "for k, v in to_replace.items():\n",
    "    misc_price = misc_price.str.replace(k, v, regex=True, flags=re.IGNORECASE)\n",
    "\n",
    "print(f\"Number of valid 'misc_price' rows: {misc_price.count()}\")"
   ]
  },
  {
   "cell_type": "markdown",
   "metadata": {
    "slideshow": {
     "slide_type": "subslide"
    }
   },
   "source": [
    "Conversion rate between USD and EUR."
   ]
  },
  {
   "cell_type": "markdown",
   "metadata": {
    "slideshow": {
     "slide_type": "fragment"
    }
   },
   "source": [
    "The conversion rate retrieved from the European Central Bank is *0.8694*, from which the VAT is [multiplied](https://www.adventurespedia.com/post/why-doesnt-the-u-s-include-tax-in-prices/#:~:text=The%20U.S.%20does%20not%20include,to%20the%20price%20in%20America.) to obtain the actual conversion rate, that is *1.0606*, while the median conversion rate is *1.0757*.\n",
    "\n",
    "To estimate the conversion rate between USD and EUR we can use a linear regression model, but given the fact that some prices are outliers (e.g. rate higher than 1.70), we need a more robust model, so we use the Huber regressor."
   ]
  },
  {
   "cell_type": "code",
   "execution_count": 102,
   "metadata": {
    "id": "7CThoe0htSeT",
    "outputId": "4a990195-281c-4066-8133-b8173c5d485c",
    "slideshow": {
     "slide_type": "skip"
    }
   },
   "outputs": [
    {
     "name": "stdout",
     "output_type": "stream",
     "text": [
      "Number of prices: 164\n"
     ]
    }
   ],
   "source": [
    "curr = \"USD\"\n",
    "prices_ext, conversion_rate = util_preprocess.extract_prices_rate(curr, misc_price)\n",
    "\n",
    "# add the year to the conversion rate\n",
    "conv_rate_year = pd.concat([conversion_rate, ser_year.loc[conversion_rate.index]], axis=1)"
   ]
  },
  {
   "cell_type": "code",
   "execution_count": 103,
   "metadata": {
    "slideshow": {
     "slide_type": "fragment"
    }
   },
   "outputs": [
    {
     "name": "stdout",
     "output_type": "stream",
     "text": [
      "Year coverage: [2018. 2019. 2020.]\n"
     ]
    },
    {
     "data": {
      "image/png": "[encoded data removed]",
      "text/plain": [
       "<Figure size 400x300 with 1 Axes>"
      ]
     },
     "metadata": {},
     "output_type": "display_data"
    }
   ],
   "source": [
    "print(f\"Year coverage: {conv_rate_year['launch_announced'].sort_values().unique()}\")\n",
    "conversion_rate.hist(figsize=(4, 3))\n",
    "plt.tight_layout()"
   ]
  },
  {
   "cell_type": "code",
   "execution_count": 104,
   "metadata": {
    "id": "RJq6-v5OtSeU",
    "outputId": "99fdb20f-2f48-4d0c-e18d-3cc069462374",
    "slideshow": {
     "slide_type": "skip"
    }
   },
   "outputs": [
    {
     "name": "stdout",
     "output_type": "stream",
     "text": [
      "Lower bound: 0.55\n",
      "Upper bound: 1.56\n",
      "Number of outliers: 8\n"
     ]
    },
    {
     "data": {
      "text/html": [
       "<div>\n",
       "<style scoped>\n",
       "    .dataframe tbody tr th:only-of-type {\n",
       "        vertical-align: middle;\n",
       "    }\n",
       "\n",
       "    .dataframe tbody tr th {\n",
       "        vertical-align: top;\n",
       "    }\n",
       "\n",
       "    .dataframe thead th {\n",
       "        text-align: right;\n",
       "    }\n",
       "</style>\n",
       "<table border=\"1\" class=\"dataframe\">\n",
       "  <thead>\n",
       "    <tr style=\"text-align: right;\">\n",
       "      <th></th>\n",
       "      <th>conversion_rate</th>\n",
       "      <th>eur</th>\n",
       "      <th>usd</th>\n",
       "    </tr>\n",
       "  </thead>\n",
       "  <tbody>\n",
       "    <tr>\n",
       "      <th>169</th>\n",
       "      <td>1.589414</td>\n",
       "      <td>526.08</td>\n",
       "      <td>330.99</td>\n",
       "    </tr>\n",
       "    <tr>\n",
       "      <th>1052</th>\n",
       "      <td>1.589414</td>\n",
       "      <td>526.08</td>\n",
       "      <td>330.99</td>\n",
       "    </tr>\n",
       "    <tr>\n",
       "      <th>1385</th>\n",
       "      <td>1.717929</td>\n",
       "      <td>749.00</td>\n",
       "      <td>435.99</td>\n",
       "    </tr>\n",
       "    <tr>\n",
       "      <th>502</th>\n",
       "      <td>1.717929</td>\n",
       "      <td>749.00</td>\n",
       "      <td>435.99</td>\n",
       "    </tr>\n",
       "    <tr>\n",
       "      <th>184</th>\n",
       "      <td>1.972696</td>\n",
       "      <td>578.00</td>\n",
       "      <td>293.00</td>\n",
       "    </tr>\n",
       "    <tr>\n",
       "      <th>1067</th>\n",
       "      <td>1.972696</td>\n",
       "      <td>578.00</td>\n",
       "      <td>293.00</td>\n",
       "    </tr>\n",
       "    <tr>\n",
       "      <th>1567</th>\n",
       "      <td>2.211872</td>\n",
       "      <td>1172.27</td>\n",
       "      <td>529.99</td>\n",
       "    </tr>\n",
       "    <tr>\n",
       "      <th>1493</th>\n",
       "      <td>2.286599</td>\n",
       "      <td>997.14</td>\n",
       "      <td>436.08</td>\n",
       "    </tr>\n",
       "  </tbody>\n",
       "</table>\n",
       "</div>"
      ],
      "text/plain": [
       "      conversion_rate      eur     usd\n",
       "169          1.589414   526.08  330.99\n",
       "1052         1.589414   526.08  330.99\n",
       "1385         1.717929   749.00  435.99\n",
       "502          1.717929   749.00  435.99\n",
       "184          1.972696   578.00  293.00\n",
       "1067         1.972696   578.00  293.00\n",
       "1567         2.211872  1172.27  529.99\n",
       "1493         2.286599   997.14  436.08"
      ]
     },
     "execution_count": 104,
     "metadata": {},
     "output_type": "execute_result"
    }
   ],
   "source": [
    "df_concat = pd.concat([conversion_rate, prices_ext.loc[conversion_rate.index]], axis=1)\n",
    "util_data.compute_outlier(df_concat, \"conversion_rate\").sort_values(by=\"conversion_rate\")"
   ]
  },
  {
   "cell_type": "code",
   "execution_count": 159,
   "metadata": {
    "slideshow": {
     "slide_type": "skip"
    }
   },
   "outputs": [
    {
     "name": "stdout",
     "output_type": "stream",
     "text": [
      "Fitting 5 folds for each of 100 candidates, totalling 500 fits\n"
     ]
    },
    {
     "data": {
      "text/html": [
       "<style>#sk-container-id-17 {color: black;background-color: white;}#sk-container-id-17 pre{padding: 0;}#sk-container-id-17 div.sk-toggleable {background-color: white;}#sk-container-id-17 label.sk-toggleable__label {cursor: pointer;display: block;width: 100%;margin-bottom: 0;padding: 0.3em;box-sizing: border-box;text-align: center;}#sk-container-id-17 label.sk-toggleable__label-arrow:before {content: \"▸\";float: left;margin-right: 0.25em;color: #696969;}#sk-container-id-17 label.sk-toggleable__label-arrow:hover:before {color: black;}#sk-container-id-17 div.sk-estimator:hover label.sk-toggleable__label-arrow:before {color: black;}#sk-container-id-17 div.sk-toggleable__content {max-height: 0;max-width: 0;overflow: hidden;text-align: left;background-color: #f0f8ff;}#sk-container-id-17 div.sk-toggleable__content pre {margin: 0.2em;color: black;border-radius: 0.25em;background-color: #f0f8ff;}#sk-container-id-17 input.sk-toggleable__control:checked~div.sk-toggleable__content {max-height: 200px;max-width: 100%;overflow: auto;}#sk-container-id-17 input.sk-toggleable__control:checked~label.sk-toggleable__label-arrow:before {content: \"▾\";}#sk-container-id-17 div.sk-estimator input.sk-toggleable__control:checked~label.sk-toggleable__label {background-color: #d4ebff;}#sk-container-id-17 div.sk-label input.sk-toggleable__control:checked~label.sk-toggleable__label {background-color: #d4ebff;}#sk-container-id-17 input.sk-hidden--visually {border: 0;clip: rect(1px 1px 1px 1px);clip: rect(1px, 1px, 1px, 1px);height: 1px;margin: -1px;overflow: hidden;padding: 0;position: absolute;width: 1px;}#sk-container-id-17 div.sk-estimator {font-family: monospace;background-color: #f0f8ff;border: 1px dotted black;border-radius: 0.25em;box-sizing: border-box;margin-bottom: 0.5em;}#sk-container-id-17 div.sk-estimator:hover {background-color: #d4ebff;}#sk-container-id-17 div.sk-parallel-item::after {content: \"\";width: 100%;border-bottom: 1px solid gray;flex-grow: 1;}#sk-container-id-17 div.sk-label:hover label.sk-toggleable__label {background-color: #d4ebff;}#sk-container-id-17 div.sk-serial::before {content: \"\";position: absolute;border-left: 1px solid gray;box-sizing: border-box;top: 0;bottom: 0;left: 50%;z-index: 0;}#sk-container-id-17 div.sk-serial {display: flex;flex-direction: column;align-items: center;background-color: white;padding-right: 0.2em;padding-left: 0.2em;position: relative;}#sk-container-id-17 div.sk-item {position: relative;z-index: 1;}#sk-container-id-17 div.sk-parallel {display: flex;align-items: stretch;justify-content: center;background-color: white;position: relative;}#sk-container-id-17 div.sk-item::before, #sk-container-id-17 div.sk-parallel-item::before {content: \"\";position: absolute;border-left: 1px solid gray;box-sizing: border-box;top: 0;bottom: 0;left: 50%;z-index: -1;}#sk-container-id-17 div.sk-parallel-item {display: flex;flex-direction: column;z-index: 1;position: relative;background-color: white;}#sk-container-id-17 div.sk-parallel-item:first-child::after {align-self: flex-end;width: 50%;}#sk-container-id-17 div.sk-parallel-item:last-child::after {align-self: flex-start;width: 50%;}#sk-container-id-17 div.sk-parallel-item:only-child::after {width: 0;}#sk-container-id-17 div.sk-dashed-wrapped {border: 1px dashed gray;margin: 0 0.4em 0.5em 0.4em;box-sizing: border-box;padding-bottom: 0.4em;background-color: white;}#sk-container-id-17 div.sk-label label {font-family: monospace;font-weight: bold;display: inline-block;line-height: 1.2em;}#sk-container-id-17 div.sk-label-container {text-align: center;}#sk-container-id-17 div.sk-container {/* jupyter's `normalize.less` sets `[hidden] { display: none; }` but bootstrap.min.css set `[hidden] { display: none !important; }` so we also need the `!important` here to be able to override the default hidden behavior on the sphinx rendered scikit-learn.org. See: https://github.com/scikit-learn/scikit-learn/issues/21755 */display: inline-block !important;position: relative;}#sk-container-id-17 div.sk-text-repr-fallback {display: none;}</style><div id=\"sk-container-id-17\" class=\"sk-top-container\"><div class=\"sk-text-repr-fallback\"><pre>RandomizedSearchCV(cv=5, estimator=HuberRegressor(), n_iter=100, n_jobs=-1,\n",
       "                   param_distributions={&#x27;alpha&#x27;: array([0.0001    , 0.00535789, 0.01061579, 0.01587368, 0.02113158,\n",
       "       0.02638947, 0.03164737, 0.03690526, 0.04216316, 0.04742105,\n",
       "       0.05267895, 0.05793684, 0.06319474, 0.06845263, 0.07371053,\n",
       "       0.07896842, 0.08422632, 0.08948421, 0.09474211, 0.1       ]),\n",
       "                                        &#x27;epsilon&#x27;: array([1.        , 1.11111111, 1.22222222, 1.33333333, 1.44444444,\n",
       "       1.55555556, 1.66666667, 1.77777778, 1.88888889, 2.        ]),\n",
       "                                        &#x27;fit_intercept&#x27;: [False],\n",
       "                                        &#x27;max_iter&#x27;: [100],\n",
       "                                        &#x27;tol&#x27;: array([1.e-05, 2.e-05, 3.e-05, 4.e-05, 5.e-05, 6.e-05, 7.e-05, 8.e-05,\n",
       "       9.e-05, 1.e-04])},\n",
       "                   refit=&#x27;r2&#x27;, scoring=[&#x27;neg_mean_absolute_error&#x27;, &#x27;r2&#x27;],\n",
       "                   verbose=2)</pre><b>In a Jupyter environment, please rerun this cell to show the HTML representation or trust the notebook. <br />On GitHub, the HTML representation is unable to render, please try loading this page with nbviewer.org.</b></div><div class=\"sk-container\" hidden><div class=\"sk-item sk-dashed-wrapped\"><div class=\"sk-label-container\"><div class=\"sk-label sk-toggleable\"><input class=\"sk-toggleable__control sk-hidden--visually\" id=\"sk-estimator-id-49\" type=\"checkbox\" ><label for=\"sk-estimator-id-49\" class=\"sk-toggleable__label sk-toggleable__label-arrow\">RandomizedSearchCV</label><div class=\"sk-toggleable__content\"><pre>RandomizedSearchCV(cv=5, estimator=HuberRegressor(), n_iter=100, n_jobs=-1,\n",
       "                   param_distributions={&#x27;alpha&#x27;: array([0.0001    , 0.00535789, 0.01061579, 0.01587368, 0.02113158,\n",
       "       0.02638947, 0.03164737, 0.03690526, 0.04216316, 0.04742105,\n",
       "       0.05267895, 0.05793684, 0.06319474, 0.06845263, 0.07371053,\n",
       "       0.07896842, 0.08422632, 0.08948421, 0.09474211, 0.1       ]),\n",
       "                                        &#x27;epsilon&#x27;: array([1.        , 1.11111111, 1.22222222, 1.33333333, 1.44444444,\n",
       "       1.55555556, 1.66666667, 1.77777778, 1.88888889, 2.        ]),\n",
       "                                        &#x27;fit_intercept&#x27;: [False],\n",
       "                                        &#x27;max_iter&#x27;: [100],\n",
       "                                        &#x27;tol&#x27;: array([1.e-05, 2.e-05, 3.e-05, 4.e-05, 5.e-05, 6.e-05, 7.e-05, 8.e-05,\n",
       "       9.e-05, 1.e-04])},\n",
       "                   refit=&#x27;r2&#x27;, scoring=[&#x27;neg_mean_absolute_error&#x27;, &#x27;r2&#x27;],\n",
       "                   verbose=2)</pre></div></div></div><div class=\"sk-parallel\"><div class=\"sk-parallel-item\"><div class=\"sk-item\"><div class=\"sk-label-container\"><div class=\"sk-label sk-toggleable\"><input class=\"sk-toggleable__control sk-hidden--visually\" id=\"sk-estimator-id-50\" type=\"checkbox\" ><label for=\"sk-estimator-id-50\" class=\"sk-toggleable__label sk-toggleable__label-arrow\">estimator: HuberRegressor</label><div class=\"sk-toggleable__content\"><pre>HuberRegressor()</pre></div></div></div><div class=\"sk-serial\"><div class=\"sk-item\"><div class=\"sk-estimator sk-toggleable\"><input class=\"sk-toggleable__control sk-hidden--visually\" id=\"sk-estimator-id-51\" type=\"checkbox\" ><label for=\"sk-estimator-id-51\" class=\"sk-toggleable__label sk-toggleable__label-arrow\">HuberRegressor</label><div class=\"sk-toggleable__content\"><pre>HuberRegressor()</pre></div></div></div></div></div></div></div></div></div></div>"
      ],
      "text/plain": [
       "RandomizedSearchCV(cv=5, estimator=HuberRegressor(), n_iter=100, n_jobs=-1,\n",
       "                   param_distributions={'alpha': array([0.0001    , 0.00535789, 0.01061579, 0.01587368, 0.02113158,\n",
       "       0.02638947, 0.03164737, 0.03690526, 0.04216316, 0.04742105,\n",
       "       0.05267895, 0.05793684, 0.06319474, 0.06845263, 0.07371053,\n",
       "       0.07896842, 0.08422632, 0.08948421, 0.09474211, 0.1       ]),\n",
       "                                        'epsilon': array([1.        , 1.11111111, 1.22222222, 1.33333333, 1.44444444,\n",
       "       1.55555556, 1.66666667, 1.77777778, 1.88888889, 2.        ]),\n",
       "                                        'fit_intercept': [False],\n",
       "                                        'max_iter': [100],\n",
       "                                        'tol': array([1.e-05, 2.e-05, 3.e-05, 4.e-05, 5.e-05, 6.e-05, 7.e-05, 8.e-05,\n",
       "       9.e-05, 1.e-04])},\n",
       "                   refit='r2', scoring=['neg_mean_absolute_error', 'r2'],\n",
       "                   verbose=2)"
      ]
     },
     "execution_count": 159,
     "metadata": {},
     "output_type": "execute_result"
    }
   ],
   "source": [
    "# split in train and test\n",
    "# train, test = util_data.split_train_test(prices_ext, test_size=0.2, rng=rng)\n",
    "X_train, y_train = train[curr.lower()].values.reshape(-1, 1), train[\"eur\"].values\n",
    "X_test, y_test = test[curr.lower()].values.reshape(-1, 1), test[\"eur\"].values\n",
    "\n",
    "params = {\n",
    "    \"epsilon\": np.linspace(1, 2, num=10),\n",
    "    \"max_iter\": [100],\n",
    "    \"alpha\": np.linspace(0.0001, 0.1, num=20),\n",
    "    \"fit_intercept\": [False],\n",
    "    \"tol\": np.linspace(1e-5, 1e-4, num=10)\n",
    "}\n",
    "scoring = [\"neg_mean_absolute_error\", \"r2\"]\n",
    "rscv = RandomizedSearchCV(HuberRegressor(), params, n_iter=100, scoring=scoring, n_jobs=-1,\n",
    "                          refit=\"r2\", cv=5, verbose=2, error_score=np.nan)\n",
    "rscv.fit(X_train, y_train)"
   ]
  },
  {
   "cell_type": "code",
   "execution_count": 166,
   "metadata": {
    "slideshow": {
     "slide_type": "skip"
    }
   },
   "outputs": [
    {
     "data": {
      "text/html": [
       "<div>\n",
       "<style scoped>\n",
       "    .dataframe tbody tr th:only-of-type {\n",
       "        vertical-align: middle;\n",
       "    }\n",
       "\n",
       "    .dataframe tbody tr th {\n",
       "        vertical-align: top;\n",
       "    }\n",
       "\n",
       "    .dataframe thead th {\n",
       "        text-align: right;\n",
       "    }\n",
       "</style>\n",
       "<table border=\"1\" class=\"dataframe\">\n",
       "  <thead>\n",
       "    <tr style=\"text-align: right;\">\n",
       "      <th></th>\n",
       "      <th>std_test_r2</th>\n",
       "      <th>mean_test_r2</th>\n",
       "      <th>mean_test_neg_mean_absolute_error</th>\n",
       "      <th>std_test_neg_mean_absolute_error</th>\n",
       "    </tr>\n",
       "  </thead>\n",
       "  <tbody>\n",
       "    <tr>\n",
       "      <th>87</th>\n",
       "      <td>0.194146</td>\n",
       "      <td>0.681986</td>\n",
       "      <td>-86.483241</td>\n",
       "      <td>25.509428</td>\n",
       "    </tr>\n",
       "    <tr>\n",
       "      <th>15</th>\n",
       "      <td>0.194146</td>\n",
       "      <td>0.681986</td>\n",
       "      <td>-86.483253</td>\n",
       "      <td>25.509419</td>\n",
       "    </tr>\n",
       "    <tr>\n",
       "      <th>53</th>\n",
       "      <td>0.194146</td>\n",
       "      <td>0.681986</td>\n",
       "      <td>-86.483253</td>\n",
       "      <td>25.509419</td>\n",
       "    </tr>\n",
       "    <tr>\n",
       "      <th>16</th>\n",
       "      <td>0.194146</td>\n",
       "      <td>0.681986</td>\n",
       "      <td>-86.483276</td>\n",
       "      <td>25.509399</td>\n",
       "    </tr>\n",
       "    <tr>\n",
       "      <th>58</th>\n",
       "      <td>0.194146</td>\n",
       "      <td>0.681986</td>\n",
       "      <td>-86.483276</td>\n",
       "      <td>25.509399</td>\n",
       "    </tr>\n",
       "  </tbody>\n",
       "</table>\n",
       "</div>"
      ],
      "text/plain": [
       "    std_test_r2  mean_test_r2  mean_test_neg_mean_absolute_error  \\\n",
       "87     0.194146      0.681986                         -86.483241   \n",
       "15     0.194146      0.681986                         -86.483253   \n",
       "53     0.194146      0.681986                         -86.483253   \n",
       "16     0.194146      0.681986                         -86.483276   \n",
       "58     0.194146      0.681986                         -86.483276   \n",
       "\n",
       "    std_test_neg_mean_absolute_error  \n",
       "87                         25.509428  \n",
       "15                         25.509419  \n",
       "53                         25.509419  \n",
       "16                         25.509399  \n",
       "58                         25.509399  "
      ]
     },
     "execution_count": 166,
     "metadata": {},
     "output_type": "execute_result"
    }
   ],
   "source": [
    "usd_results = pd.DataFrame(rscv.cv_results_).sort_values(\"rank_test_neg_mean_absolute_error\")\n",
    "usd_sorted_r2= usd_results.sort_values(by=\"std_test_r2\")\n",
    "usd_sorted_rmse = usd_results.sort_values(by=\"std_test_neg_mean_absolute_error\")\n",
    "cols = [\"std_test_r2\", \"mean_test_r2\", \"mean_test_neg_mean_absolute_error\", \"std_test_neg_mean_absolute_error\"]\n",
    "usd_results.iloc[:5][cols]"
   ]
  },
  {
   "cell_type": "code",
   "execution_count": 161,
   "metadata": {
    "slideshow": {
     "slide_type": "skip"
    }
   },
   "outputs": [],
   "source": [
    "def print_best_n_search(df: pd.DataFrame, n: int, metrics: dict):\n",
    "    for i in range(n):\n",
    "        print(f\"BEST {i+1} SEARCH:\")\n",
    "        for name, metric in metrics.items():\n",
    "            print(f\"STD {name}: {df.iloc[i][f'std_test_{metric}']}\")\n",
    "            print(f\"MEAN {name}: {df.iloc[i][f'mean_test_{metric}']}\")\n",
    "            print(f\"Rank {name}: {df.iloc[i][f'rank_test_{metric}']}\", end=\"\\n\\n\")\n",
    "        print(\"---\")"
   ]
  },
  {
   "cell_type": "code",
   "execution_count": 167,
   "metadata": {
    "slideshow": {
     "slide_type": "skip"
    }
   },
   "outputs": [
    {
     "name": "stdout",
     "output_type": "stream",
     "text": [
      "---BEST R2---\n",
      "BEST 1 SEARCH:\n",
      "STD R2: 0.1778767023446916\n",
      "MEAN R2: 0.6924911185895026\n",
      "Rank R2: 1\n",
      "\n",
      "STD MAE: 25.571544872898752\n",
      "MEAN MAE: -87.05065615293589\n",
      "Rank MAE: 100\n",
      "\n",
      "---\n",
      "BEST 2 SEARCH:\n",
      "STD R2: 0.17787671308010156\n",
      "MEAN R2: 0.6924911146526791\n",
      "Rank R2: 2\n",
      "\n",
      "STD MAE: 25.57154503719598\n",
      "MEAN MAE: -87.05065477317567\n",
      "Rank MAE: 99\n",
      "\n",
      "---\n",
      "BEST 3 SEARCH:\n",
      "STD R2: 0.1778767362508994\n",
      "MEAN R2: 0.692491097064998\n",
      "Rank R2: 3\n",
      "\n",
      "STD MAE: 25.571545056966254\n",
      "MEAN MAE: -87.05065381259355\n",
      "Rank MAE: 98\n",
      "\n",
      "---\n",
      "---BEST RMSE---\n",
      "BEST 1 SEARCH:\n",
      "STD R2: 0.17908882646446458\n",
      "MEAN R2: 0.6883626019911133\n",
      "Rank R2: 87\n",
      "\n",
      "STD MAE: 24.99210275598061\n",
      "MEAN MAE: -86.69142956165892\n",
      "Rank MAE: 71\n",
      "\n",
      "---\n",
      "BEST 2 SEARCH:\n",
      "STD R2: 0.1790887444312414\n",
      "MEAN R2: 0.6883629400261851\n",
      "Rank R2: 85\n",
      "\n",
      "STD MAE: 24.992151307179476\n",
      "MEAN MAE: -86.6913682323731\n",
      "Rank MAE: 70\n",
      "\n",
      "---\n",
      "BEST 3 SEARCH:\n",
      "STD R2: 0.1790886046921912\n",
      "MEAN R2: 0.6883632294935613\n",
      "Rank R2: 82\n",
      "\n",
      "STD MAE: 24.992172539469667\n",
      "MEAN MAE: -86.69133516300691\n",
      "Rank MAE: 69\n",
      "\n",
      "---\n"
     ]
    }
   ],
   "source": [
    "metrics = {\"R2\": \"r2\", \"MAE\": \"neg_mean_absolute_error\"}\n",
    "print(f\"---BEST R2---\")\n",
    "print_best_n_search(usd_sorted_r2, 3, metrics)\n",
    "print(f\"---BEST MAE---\")\n",
    "print_best_n_search(usd_sorted_rmse, 3, metrics)"
   ]
  },
  {
   "cell_type": "markdown",
   "metadata": {
    "slideshow": {
     "slide_type": "subslide"
    }
   },
   "source": [
    "Results"
   ]
  },
  {
   "cell_type": "markdown",
   "metadata": {
    "slideshow": {
     "slide_type": "fragment"
    }
   },
   "source": [
    "The results shows that the conversion rate of the Huber regressor is approximately *1.058*, similar to the conversion rate retrieved from the European Central Bank, thus we decided to use the latter."
   ]
  },
  {
   "cell_type": "code",
   "execution_count": 177,
   "metadata": {
    "slideshow": {
     "slide_type": "skip"
    }
   },
   "outputs": [],
   "source": [
    "rate_train = train[\"eur\"] / train[curr.lower()]\n",
    "\n",
    "model_median = util_models.FixedLinearRegressor(\n",
    "    rate_train.median(), fit_intercept=False\n",
    ")\n",
    "model_fit = HuberRegressor(**usd_results.iloc[0][\"params\"])\n",
    "model_rate = util_models.FixedLinearRegressor(0.8694*1.22, fit_intercept=False)\n",
    "\n",
    "models = [model_median, model_fit, model_rate]\n",
    "names = [\"median\", \"linear regressor\", \"online_rate\"]"
   ]
  },
  {
   "cell_type": "code",
   "execution_count": 179,
   "metadata": {
    "id": "Az0kdpditSeU",
    "outputId": "2fc3ab7f-100a-46b9-f6bf-65f44d87a6ad",
    "slideshow": {
     "slide_type": "fragment"
    }
   },
   "outputs": [
    {
     "name": "stdout",
     "output_type": "stream",
     "text": [
      "median coefficients: [1.07572383]\n",
      "median RMSE: 97.70\n",
      "median r2-score: 0.85\n",
      "median MAE: 58.81\n",
      "\n",
      "linear regressor coefficients: [1.05882697]\n",
      "linear regressor RMSE: 95.16\n",
      "linear regressor r2-score: 0.86\n",
      "linear regressor MAE: 57.22\n",
      "\n",
      "online_rate coefficients: [1.060668]\n",
      "online_rate RMSE: 95.42\n",
      "online_rate r2-score: 0.86\n",
      "online_rate MAE: 57.40\n",
      "\n"
     ]
    }
   ],
   "source": [
    "y_preds = util_models.compare_models(X_train, y_train, X_test, y_test, models, names)"
   ]
  },
  {
   "cell_type": "code",
   "execution_count": 176,
   "metadata": {
    "slideshow": {
     "slide_type": "skip"
    }
   },
   "outputs": [
    {
     "data": {
      "image/png": "[encoded data removed]",
      "text/plain": [
       "<Figure size 800x600 with 1 Axes>"
      ]
     },
     "metadata": {},
     "output_type": "display_data"
    }
   ],
   "source": [
    "# plot the data\n",
    "util_plot.plot_compare_models(\n",
    "    X_test, y_test, y_preds, names, f\"{curr}/EUR conversion rates\"\n",
    ")"
   ]
  },
  {
   "cell_type": "markdown",
   "metadata": {
    "id": "SQVUY8M4tSeU",
    "slideshow": {
     "slide_type": "subslide"
    }
   },
   "source": [
    "Conversion rate between GBP and EUR"
   ]
  },
  {
   "cell_type": "markdown",
   "metadata": {
    "slideshow": {
     "slide_type": "fragment"
    }
   },
   "source": [
    "The conversion rate retrieved from the ECB *1.1315*, while the median conversion rate is *1.0792*.\n",
    "\n",
    "To estimate the conversion rate between GBP and EUR we still perform regression with the Huber regressor model (outliers are still present)."
   ]
  },
  {
   "cell_type": "code",
   "execution_count": 193,
   "metadata": {
    "slideshow": {
     "slide_type": "skip"
    }
   },
   "outputs": [
    {
     "name": "stdout",
     "output_type": "stream",
     "text": [
      "Number of prices: 187\n"
     ]
    }
   ],
   "source": [
    "curr = \"GBP\"\n",
    "prices_ext, conversion_rate = util_preprocess.extract_prices_rate(curr, misc_price, first_eur=False)\n",
    "\n",
    "# add the year to the conversion rate\n",
    "conv_rate_year = pd.concat([conversion_rate, ser_year.loc[conversion_rate.index]], axis=1)"
   ]
  },
  {
   "cell_type": "code",
   "execution_count": 199,
   "metadata": {
    "slideshow": {
     "slide_type": "fragment"
    }
   },
   "outputs": [
    {
     "name": "stdout",
     "output_type": "stream",
     "text": [
      "Year coverage: [2018. 2019. 2020.]\n"
     ]
    },
    {
     "data": {
      "image/png": "[encoded data removed]",
      "text/plain": [
       "<Figure size 400x300 with 1 Axes>"
      ]
     },
     "metadata": {},
     "output_type": "display_data"
    }
   ],
   "source": [
    "print(f\"Year coverage: {conv_rate_year['launch_announced'].sort_values().unique()}\")\n",
    "conversion_rate.hist(figsize=(4, 3))\n",
    "plt.tight_layout()"
   ]
  },
  {
   "cell_type": "code",
   "execution_count": 200,
   "metadata": {
    "slideshow": {
     "slide_type": "skip"
    }
   },
   "outputs": [
    {
     "name": "stdout",
     "output_type": "stream",
     "text": [
      "Lower bound: 0.76\n",
      "Upper bound: 1.39\n",
      "Number of outliers: 16\n"
     ]
    },
    {
     "data": {
      "text/html": [
       "<div>\n",
       "<style scoped>\n",
       "    .dataframe tbody tr th:only-of-type {\n",
       "        vertical-align: middle;\n",
       "    }\n",
       "\n",
       "    .dataframe tbody tr th {\n",
       "        vertical-align: top;\n",
       "    }\n",
       "\n",
       "    .dataframe thead th {\n",
       "        text-align: right;\n",
       "    }\n",
       "</style>\n",
       "<table border=\"1\" class=\"dataframe\">\n",
       "  <thead>\n",
       "    <tr style=\"text-align: right;\">\n",
       "      <th></th>\n",
       "      <th>conversion_rate</th>\n",
       "      <th>gbp</th>\n",
       "      <th>eur</th>\n",
       "    </tr>\n",
       "  </thead>\n",
       "  <tbody>\n",
       "    <tr>\n",
       "      <th>184</th>\n",
       "      <td>0.680000</td>\n",
       "      <td>850.00</td>\n",
       "      <td>578.00</td>\n",
       "    </tr>\n",
       "    <tr>\n",
       "      <th>1067</th>\n",
       "      <td>0.680000</td>\n",
       "      <td>850.00</td>\n",
       "      <td>578.00</td>\n",
       "    </tr>\n",
       "    <tr>\n",
       "      <th>1500</th>\n",
       "      <td>0.759422</td>\n",
       "      <td>283.11</td>\n",
       "      <td>215.00</td>\n",
       "    </tr>\n",
       "    <tr>\n",
       "      <th>962</th>\n",
       "      <td>1.408325</td>\n",
       "      <td>528.99</td>\n",
       "      <td>744.99</td>\n",
       "    </tr>\n",
       "    <tr>\n",
       "      <th>79</th>\n",
       "      <td>1.408325</td>\n",
       "      <td>528.99</td>\n",
       "      <td>744.99</td>\n",
       "    </tr>\n",
       "    <tr>\n",
       "      <th>1502</th>\n",
       "      <td>1.408451</td>\n",
       "      <td>119.99</td>\n",
       "      <td>169.00</td>\n",
       "    </tr>\n",
       "    <tr>\n",
       "      <th>847</th>\n",
       "      <td>1.428587</td>\n",
       "      <td>279.99</td>\n",
       "      <td>399.99</td>\n",
       "    </tr>\n",
       "    <tr>\n",
       "      <th>820</th>\n",
       "      <td>1.438857</td>\n",
       "      <td>555.99</td>\n",
       "      <td>799.99</td>\n",
       "    </tr>\n",
       "    <tr>\n",
       "      <th>511</th>\n",
       "      <td>1.453978</td>\n",
       "      <td>204.90</td>\n",
       "      <td>297.92</td>\n",
       "    </tr>\n",
       "    <tr>\n",
       "      <th>1394</th>\n",
       "      <td>1.453978</td>\n",
       "      <td>204.90</td>\n",
       "      <td>297.92</td>\n",
       "    </tr>\n",
       "    <tr>\n",
       "      <th>1191</th>\n",
       "      <td>1.640974</td>\n",
       "      <td>195.00</td>\n",
       "      <td>319.99</td>\n",
       "    </tr>\n",
       "    <tr>\n",
       "      <th>308</th>\n",
       "      <td>1.640974</td>\n",
       "      <td>195.00</td>\n",
       "      <td>319.99</td>\n",
       "    </tr>\n",
       "    <tr>\n",
       "      <th>389</th>\n",
       "      <td>1.646507</td>\n",
       "      <td>64.98</td>\n",
       "      <td>106.99</td>\n",
       "    </tr>\n",
       "    <tr>\n",
       "      <th>1272</th>\n",
       "      <td>1.646507</td>\n",
       "      <td>64.98</td>\n",
       "      <td>106.99</td>\n",
       "    </tr>\n",
       "    <tr>\n",
       "      <th>298</th>\n",
       "      <td>36.537102</td>\n",
       "      <td>42.99</td>\n",
       "      <td>1570.73</td>\n",
       "    </tr>\n",
       "    <tr>\n",
       "      <th>1181</th>\n",
       "      <td>36.537102</td>\n",
       "      <td>42.99</td>\n",
       "      <td>1570.73</td>\n",
       "    </tr>\n",
       "  </tbody>\n",
       "</table>\n",
       "</div>"
      ],
      "text/plain": [
       "      conversion_rate     gbp      eur\n",
       "184          0.680000  850.00   578.00\n",
       "1067         0.680000  850.00   578.00\n",
       "1500         0.759422  283.11   215.00\n",
       "962          1.408325  528.99   744.99\n",
       "79           1.408325  528.99   744.99\n",
       "1502         1.408451  119.99   169.00\n",
       "847          1.428587  279.99   399.99\n",
       "820          1.438857  555.99   799.99\n",
       "511          1.453978  204.90   297.92\n",
       "1394         1.453978  204.90   297.92\n",
       "1191         1.640974  195.00   319.99\n",
       "308          1.640974  195.00   319.99\n",
       "389          1.646507   64.98   106.99\n",
       "1272         1.646507   64.98   106.99\n",
       "298         36.537102   42.99  1570.73\n",
       "1181        36.537102   42.99  1570.73"
      ]
     },
     "execution_count": 200,
     "metadata": {},
     "output_type": "execute_result"
    }
   ],
   "source": [
    "df_concat = pd.concat([conversion_rate, prices_ext.loc[conversion_rate.index]], axis=1)\n",
    "util_data.compute_outlier(df_concat, \"conversion_rate\").sort_values(by=\"conversion_rate\")"
   ]
  },
  {
   "cell_type": "code",
   "execution_count": 201,
   "metadata": {
    "id": "7SvXXI3KtSeU",
    "outputId": "84344033-10e8-492d-d725-59fa5dec96eb",
    "slideshow": {
     "slide_type": "skip"
    }
   },
   "outputs": [
    {
     "data": {
      "image/png": "[encoded data removed]",
      "text/plain": [
       "<Figure size 640x480 with 1 Axes>"
      ]
     },
     "metadata": {},
     "output_type": "display_data"
    }
   ],
   "source": [
    "conversion_rate.plot.box(whis=1.5)\n",
    "plt.tight_layout()"
   ]
  },
  {
   "cell_type": "code",
   "execution_count": 222,
   "metadata": {
    "slideshow": {
     "slide_type": "skip"
    }
   },
   "outputs": [
    {
     "name": "stdout",
     "output_type": "stream",
     "text": [
      "Fitting 5 folds for each of 100 candidates, totalling 500 fits\n"
     ]
    },
    {
     "data": {
      "text/html": [
       "<style>#sk-container-id-27 {color: black;background-color: white;}#sk-container-id-27 pre{padding: 0;}#sk-container-id-27 div.sk-toggleable {background-color: white;}#sk-container-id-27 label.sk-toggleable__label {cursor: pointer;display: block;width: 100%;margin-bottom: 0;padding: 0.3em;box-sizing: border-box;text-align: center;}#sk-container-id-27 label.sk-toggleable__label-arrow:before {content: \"▸\";float: left;margin-right: 0.25em;color: #696969;}#sk-container-id-27 label.sk-toggleable__label-arrow:hover:before {color: black;}#sk-container-id-27 div.sk-estimator:hover label.sk-toggleable__label-arrow:before {color: black;}#sk-container-id-27 div.sk-toggleable__content {max-height: 0;max-width: 0;overflow: hidden;text-align: left;background-color: #f0f8ff;}#sk-container-id-27 div.sk-toggleable__content pre {margin: 0.2em;color: black;border-radius: 0.25em;background-color: #f0f8ff;}#sk-container-id-27 input.sk-toggleable__control:checked~div.sk-toggleable__content {max-height: 200px;max-width: 100%;overflow: auto;}#sk-container-id-27 input.sk-toggleable__control:checked~label.sk-toggleable__label-arrow:before {content: \"▾\";}#sk-container-id-27 div.sk-estimator input.sk-toggleable__control:checked~label.sk-toggleable__label {background-color: #d4ebff;}#sk-container-id-27 div.sk-label input.sk-toggleable__control:checked~label.sk-toggleable__label {background-color: #d4ebff;}#sk-container-id-27 input.sk-hidden--visually {border: 0;clip: rect(1px 1px 1px 1px);clip: rect(1px, 1px, 1px, 1px);height: 1px;margin: -1px;overflow: hidden;padding: 0;position: absolute;width: 1px;}#sk-container-id-27 div.sk-estimator {font-family: monospace;background-color: #f0f8ff;border: 1px dotted black;border-radius: 0.25em;box-sizing: border-box;margin-bottom: 0.5em;}#sk-container-id-27 div.sk-estimator:hover {background-color: #d4ebff;}#sk-container-id-27 div.sk-parallel-item::after {content: \"\";width: 100%;border-bottom: 1px solid gray;flex-grow: 1;}#sk-container-id-27 div.sk-label:hover label.sk-toggleable__label {background-color: #d4ebff;}#sk-container-id-27 div.sk-serial::before {content: \"\";position: absolute;border-left: 1px solid gray;box-sizing: border-box;top: 0;bottom: 0;left: 50%;z-index: 0;}#sk-container-id-27 div.sk-serial {display: flex;flex-direction: column;align-items: center;background-color: white;padding-right: 0.2em;padding-left: 0.2em;position: relative;}#sk-container-id-27 div.sk-item {position: relative;z-index: 1;}#sk-container-id-27 div.sk-parallel {display: flex;align-items: stretch;justify-content: center;background-color: white;position: relative;}#sk-container-id-27 div.sk-item::before, #sk-container-id-27 div.sk-parallel-item::before {content: \"\";position: absolute;border-left: 1px solid gray;box-sizing: border-box;top: 0;bottom: 0;left: 50%;z-index: -1;}#sk-container-id-27 div.sk-parallel-item {display: flex;flex-direction: column;z-index: 1;position: relative;background-color: white;}#sk-container-id-27 div.sk-parallel-item:first-child::after {align-self: flex-end;width: 50%;}#sk-container-id-27 div.sk-parallel-item:last-child::after {align-self: flex-start;width: 50%;}#sk-container-id-27 div.sk-parallel-item:only-child::after {width: 0;}#sk-container-id-27 div.sk-dashed-wrapped {border: 1px dashed gray;margin: 0 0.4em 0.5em 0.4em;box-sizing: border-box;padding-bottom: 0.4em;background-color: white;}#sk-container-id-27 div.sk-label label {font-family: monospace;font-weight: bold;display: inline-block;line-height: 1.2em;}#sk-container-id-27 div.sk-label-container {text-align: center;}#sk-container-id-27 div.sk-container {/* jupyter's `normalize.less` sets `[hidden] { display: none; }` but bootstrap.min.css set `[hidden] { display: none !important; }` so we also need the `!important` here to be able to override the default hidden behavior on the sphinx rendered scikit-learn.org. See: https://github.com/scikit-learn/scikit-learn/issues/21755 */display: inline-block !important;position: relative;}#sk-container-id-27 div.sk-text-repr-fallback {display: none;}</style><div id=\"sk-container-id-27\" class=\"sk-top-container\"><div class=\"sk-text-repr-fallback\"><pre>RandomizedSearchCV(cv=5, estimator=HuberRegressor(), n_iter=100, n_jobs=-1,\n",
       "                   param_distributions={&#x27;alpha&#x27;: array([0.0001    , 0.00535789, 0.01061579, 0.01587368, 0.02113158,\n",
       "       0.02638947, 0.03164737, 0.03690526, 0.04216316, 0.04742105,\n",
       "       0.05267895, 0.05793684, 0.06319474, 0.06845263, 0.07371053,\n",
       "       0.07896842, 0.08422632, 0.08948421, 0.09474211, 0.1       ]),\n",
       "                                        &#x27;epsilon&#x27;: array([1.        , 1.11111111, 1.22222222, 1.33333333, 1.44444444,\n",
       "       1.55555556, 1.66666667, 1.77777778, 1.88888889, 2.        ]),\n",
       "                                        &#x27;fit_intercept&#x27;: [False],\n",
       "                                        &#x27;max_iter&#x27;: [100],\n",
       "                                        &#x27;tol&#x27;: array([1.e-05, 2.e-05, 3.e-05, 4.e-05, 5.e-05, 6.e-05, 7.e-05, 8.e-05,\n",
       "       9.e-05, 1.e-04])},\n",
       "                   refit=&#x27;r2&#x27;, scoring=[&#x27;neg_mean_absolute_error&#x27;, &#x27;r2&#x27;],\n",
       "                   verbose=2)</pre><b>In a Jupyter environment, please rerun this cell to show the HTML representation or trust the notebook. <br />On GitHub, the HTML representation is unable to render, please try loading this page with nbviewer.org.</b></div><div class=\"sk-container\" hidden><div class=\"sk-item sk-dashed-wrapped\"><div class=\"sk-label-container\"><div class=\"sk-label sk-toggleable\"><input class=\"sk-toggleable__control sk-hidden--visually\" id=\"sk-estimator-id-79\" type=\"checkbox\" ><label for=\"sk-estimator-id-79\" class=\"sk-toggleable__label sk-toggleable__label-arrow\">RandomizedSearchCV</label><div class=\"sk-toggleable__content\"><pre>RandomizedSearchCV(cv=5, estimator=HuberRegressor(), n_iter=100, n_jobs=-1,\n",
       "                   param_distributions={&#x27;alpha&#x27;: array([0.0001    , 0.00535789, 0.01061579, 0.01587368, 0.02113158,\n",
       "       0.02638947, 0.03164737, 0.03690526, 0.04216316, 0.04742105,\n",
       "       0.05267895, 0.05793684, 0.06319474, 0.06845263, 0.07371053,\n",
       "       0.07896842, 0.08422632, 0.08948421, 0.09474211, 0.1       ]),\n",
       "                                        &#x27;epsilon&#x27;: array([1.        , 1.11111111, 1.22222222, 1.33333333, 1.44444444,\n",
       "       1.55555556, 1.66666667, 1.77777778, 1.88888889, 2.        ]),\n",
       "                                        &#x27;fit_intercept&#x27;: [False],\n",
       "                                        &#x27;max_iter&#x27;: [100],\n",
       "                                        &#x27;tol&#x27;: array([1.e-05, 2.e-05, 3.e-05, 4.e-05, 5.e-05, 6.e-05, 7.e-05, 8.e-05,\n",
       "       9.e-05, 1.e-04])},\n",
       "                   refit=&#x27;r2&#x27;, scoring=[&#x27;neg_mean_absolute_error&#x27;, &#x27;r2&#x27;],\n",
       "                   verbose=2)</pre></div></div></div><div class=\"sk-parallel\"><div class=\"sk-parallel-item\"><div class=\"sk-item\"><div class=\"sk-label-container\"><div class=\"sk-label sk-toggleable\"><input class=\"sk-toggleable__control sk-hidden--visually\" id=\"sk-estimator-id-80\" type=\"checkbox\" ><label for=\"sk-estimator-id-80\" class=\"sk-toggleable__label sk-toggleable__label-arrow\">estimator: HuberRegressor</label><div class=\"sk-toggleable__content\"><pre>HuberRegressor()</pre></div></div></div><div class=\"sk-serial\"><div class=\"sk-item\"><div class=\"sk-estimator sk-toggleable\"><input class=\"sk-toggleable__control sk-hidden--visually\" id=\"sk-estimator-id-81\" type=\"checkbox\" ><label for=\"sk-estimator-id-81\" class=\"sk-toggleable__label sk-toggleable__label-arrow\">HuberRegressor</label><div class=\"sk-toggleable__content\"><pre>HuberRegressor()</pre></div></div></div></div></div></div></div></div></div></div>"
      ],
      "text/plain": [
       "RandomizedSearchCV(cv=5, estimator=HuberRegressor(), n_iter=100, n_jobs=-1,\n",
       "                   param_distributions={'alpha': array([0.0001    , 0.00535789, 0.01061579, 0.01587368, 0.02113158,\n",
       "       0.02638947, 0.03164737, 0.03690526, 0.04216316, 0.04742105,\n",
       "       0.05267895, 0.05793684, 0.06319474, 0.06845263, 0.07371053,\n",
       "       0.07896842, 0.08422632, 0.08948421, 0.09474211, 0.1       ]),\n",
       "                                        'epsilon': array([1.        , 1.11111111, 1.22222222, 1.33333333, 1.44444444,\n",
       "       1.55555556, 1.66666667, 1.77777778, 1.88888889, 2.        ]),\n",
       "                                        'fit_intercept': [False],\n",
       "                                        'max_iter': [100],\n",
       "                                        'tol': array([1.e-05, 2.e-05, 3.e-05, 4.e-05, 5.e-05, 6.e-05, 7.e-05, 8.e-05,\n",
       "       9.e-05, 1.e-04])},\n",
       "                   refit='r2', scoring=['neg_mean_absolute_error', 'r2'],\n",
       "                   verbose=2)"
      ]
     },
     "execution_count": 222,
     "metadata": {},
     "output_type": "execute_result"
    }
   ],
   "source": [
    "# split in train and test\n",
    "train, test = util_data.split_train_test(prices_ext, test_size=0.2, rng=rng)\n",
    "X_train, y_train = train[curr.lower()].values.reshape(-1, 1), train[\"eur\"].values\n",
    "X_test, y_test = test[curr.lower()].values.reshape(-1, 1), test[\"eur\"].values\n",
    "\n",
    "params = {\n",
    "    \"epsilon\": np.linspace(1, 2, num=10),\n",
    "    \"max_iter\": [100],\n",
    "    \"alpha\": np.linspace(0.0001, 0.1, num=20),\n",
    "    \"fit_intercept\": [False],\n",
    "    \"tol\": np.linspace(1e-5, 1e-4, num=10)\n",
    "}\n",
    "scoring = [\"neg_mean_absolute_error\", \"r2\"]\n",
    "rscv = RandomizedSearchCV(HuberRegressor(), params, n_iter=100, scoring=scoring, n_jobs=-1,\n",
    "                          refit=\"r2\", cv=5, verbose=2, error_score=np.nan)\n",
    "rscv.fit(X_train, y_train)"
   ]
  },
  {
   "cell_type": "code",
   "execution_count": 211,
   "metadata": {
    "slideshow": {
     "slide_type": "skip"
    }
   },
   "outputs": [
    {
     "data": {
      "text/html": [
       "<div>\n",
       "<style scoped>\n",
       "    .dataframe tbody tr th:only-of-type {\n",
       "        vertical-align: middle;\n",
       "    }\n",
       "\n",
       "    .dataframe tbody tr th {\n",
       "        vertical-align: top;\n",
       "    }\n",
       "\n",
       "    .dataframe thead th {\n",
       "        text-align: right;\n",
       "    }\n",
       "</style>\n",
       "<table border=\"1\" class=\"dataframe\">\n",
       "  <thead>\n",
       "    <tr style=\"text-align: right;\">\n",
       "      <th></th>\n",
       "      <th>std_test_r2</th>\n",
       "      <th>mean_test_r2</th>\n",
       "      <th>mean_test_neg_mean_absolute_error</th>\n",
       "      <th>std_test_neg_mean_absolute_error</th>\n",
       "    </tr>\n",
       "  </thead>\n",
       "  <tbody>\n",
       "    <tr>\n",
       "      <th>22</th>\n",
       "      <td>0.440197</td>\n",
       "      <td>0.718153</td>\n",
       "      <td>-58.003204</td>\n",
       "      <td>20.585625</td>\n",
       "    </tr>\n",
       "    <tr>\n",
       "      <th>7</th>\n",
       "      <td>0.440197</td>\n",
       "      <td>0.718153</td>\n",
       "      <td>-58.003205</td>\n",
       "      <td>20.585623</td>\n",
       "    </tr>\n",
       "    <tr>\n",
       "      <th>15</th>\n",
       "      <td>0.440197</td>\n",
       "      <td>0.718153</td>\n",
       "      <td>-58.003205</td>\n",
       "      <td>20.585623</td>\n",
       "    </tr>\n",
       "    <tr>\n",
       "      <th>74</th>\n",
       "      <td>0.440197</td>\n",
       "      <td>0.718153</td>\n",
       "      <td>-58.003210</td>\n",
       "      <td>20.585624</td>\n",
       "    </tr>\n",
       "    <tr>\n",
       "      <th>87</th>\n",
       "      <td>0.440197</td>\n",
       "      <td>0.718153</td>\n",
       "      <td>-58.003211</td>\n",
       "      <td>20.585605</td>\n",
       "    </tr>\n",
       "  </tbody>\n",
       "</table>\n",
       "</div>"
      ],
      "text/plain": [
       "    std_test_r2  mean_test_r2  mean_test_neg_mean_absolute_error  \\\n",
       "22     0.440197      0.718153                         -58.003204   \n",
       "7      0.440197      0.718153                         -58.003205   \n",
       "15     0.440197      0.718153                         -58.003205   \n",
       "74     0.440197      0.718153                         -58.003210   \n",
       "87     0.440197      0.718153                         -58.003211   \n",
       "\n",
       "    std_test_neg_mean_absolute_error  \n",
       "22                         20.585625  \n",
       "7                          20.585623  \n",
       "15                         20.585623  \n",
       "74                         20.585624  \n",
       "87                         20.585605  "
      ]
     },
     "execution_count": 211,
     "metadata": {},
     "output_type": "execute_result"
    }
   ],
   "source": [
    "gbp_results = pd.DataFrame(rscv.cv_results_).sort_values(by=\"rank_test_neg_mean_absolute_error\")\n",
    "gbp_sorted_r2= gbp_results.sort_values(by=\"std_test_r2\")\n",
    "gbp_sorted_rmse = gbp_results.sort_values(by=\"std_test_neg_mean_absolute_error\")\n",
    "gbp_results.iloc[:5][cols]"
   ]
  },
  {
   "cell_type": "code",
   "execution_count": 225,
   "metadata": {
    "slideshow": {
     "slide_type": "skip"
    }
   },
   "outputs": [
    {
     "name": "stdout",
     "output_type": "stream",
     "text": [
      "---BEST R2---\n",
      "BEST 1 SEARCH:\n",
      "STD R2: 0.439241409264153\n",
      "MEAN R2: 0.7178813901401159\n",
      "Rank R2: 61\n",
      "\n",
      "STD MAE: 20.326537064320508\n",
      "MEAN MAE: -58.369182725078545\n",
      "Rank MAE: 74\n",
      "\n",
      "---\n",
      "BEST 2 SEARCH:\n",
      "STD R2: 0.43924141284589513\n",
      "MEAN R2: 0.7178813650013284\n",
      "Rank R2: 62\n",
      "\n",
      "STD MAE: 20.32654584400644\n",
      "MEAN MAE: -58.36918777903164\n",
      "Rank MAE: 75\n",
      "\n",
      "---\n",
      "BEST 3 SEARCH:\n",
      "STD R2: 0.43924141437120595\n",
      "MEAN R2: 0.7178813542350674\n",
      "Rank R2: 63\n",
      "\n",
      "STD MAE: 20.326549608846896\n",
      "MEAN MAE: -58.369189944910886\n",
      "Rank MAE: 76\n",
      "\n",
      "---\n",
      "---BEST MAE---\n",
      "BEST 1 SEARCH:\n",
      "STD R2: 0.4398075685382518\n",
      "MEAN R2: 0.7182998386397993\n",
      "Rank R2: 27\n",
      "\n",
      "STD MAE: 20.09657490084541\n",
      "MEAN MAE: -58.15045998673715\n",
      "Rank MAE: 47\n",
      "\n",
      "---\n",
      "BEST 2 SEARCH:\n",
      "STD R2: 0.4398075685382518\n",
      "MEAN R2: 0.7182998386397993\n",
      "Rank R2: 27\n",
      "\n",
      "STD MAE: 20.09657490084541\n",
      "MEAN MAE: -58.15045998673715\n",
      "Rank MAE: 47\n",
      "\n",
      "---\n",
      "BEST 3 SEARCH:\n",
      "STD R2: 0.4398075698624437\n",
      "MEAN R2: 0.7182998373527785\n",
      "Rank R2: 29\n",
      "\n",
      "STD MAE: 20.09657585705557\n",
      "MEAN MAE: -58.15046002677116\n",
      "Rank MAE: 49\n",
      "\n",
      "---\n"
     ]
    }
   ],
   "source": [
    "print(f\"---BEST R2---\")\n",
    "print_best_n_search(gbp_sorted_r2, 3, metrics)\n",
    "print(f\"---BEST MAE---\")\n",
    "print_best_n_search(gbp_sorted_rmse, 3, metrics)"
   ]
  },
  {
   "cell_type": "markdown",
   "metadata": {
    "slideshow": {
     "slide_type": "subslide"
    }
   },
   "source": [
    "Results"
   ]
  },
  {
   "cell_type": "markdown",
   "metadata": {
    "slideshow": {
     "slide_type": "fragment"
    }
   },
   "source": [
    "The results shows that the conversion rate of the Huber regressor is *1.0458*, which is the similar as the median conversion rate, however we chose the former."
   ]
  },
  {
   "cell_type": "code",
   "execution_count": 226,
   "metadata": {
    "slideshow": {
     "slide_type": "skip"
    }
   },
   "outputs": [],
   "source": [
    "rate_train = train[\"eur\"] / train[curr.lower()]\n",
    "\n",
    "model_median = util_models.FixedLinearRegressor(\n",
    "    rate_train.median(), fit_intercept=False\n",
    ")\n",
    "model_fit = HuberRegressor(**gbp_results.iloc[0][\"params\"])\n",
    "model_rate = util_models.FixedLinearRegressor(1.1315, fit_intercept=False)\n",
    "\n",
    "models = [model_median, model_fit, model_rate]\n",
    "names = [\"median\", \"linear regressor\", \"online_rate\"]"
   ]
  },
  {
   "cell_type": "code",
   "execution_count": 227,
   "metadata": {
    "id": "UQ-reTBStSeV",
    "outputId": "09f67dea-e25b-44df-90bc-a90fcf3536ae",
    "scrolled": false,
    "slideshow": {
     "slide_type": "fragment"
    }
   },
   "outputs": [
    {
     "name": "stdout",
     "output_type": "stream",
     "text": [
      "median coefficients: [1.07927112]\n",
      "median RMSE: 254.09\n",
      "median r2-score: 0.40\n",
      "median MAE: 78.58\n",
      "\n",
      "linear regressor coefficients: [1.04589785]\n",
      "linear regressor RMSE: 254.94\n",
      "linear regressor r2-score: 0.40\n",
      "linear regressor MAE: 78.40\n",
      "\n",
      "online_rate coefficients: [1.1315]\n",
      "online_rate RMSE: 254.48\n",
      "online_rate r2-score: 0.40\n",
      "online_rate MAE: 82.58\n",
      "\n"
     ]
    }
   ],
   "source": [
    "y_preds = util_models.compare_models(X_train, y_train, X_test, y_test, models, names)"
   ]
  },
  {
   "cell_type": "code",
   "execution_count": 228,
   "metadata": {
    "slideshow": {
     "slide_type": "skip"
    }
   },
   "outputs": [
    {
     "data": {
      "image/png": "[encoded data removed]",
      "text/plain": [
       "<Figure size 800x600 with 1 Axes>"
      ]
     },
     "metadata": {},
     "output_type": "display_data"
    }
   ],
   "source": [
    "# plot the data\n",
    "util_plot.plot_compare_models(\n",
    "    X_test, y_test, y_preds, names, f\"{curr}/EUR conversion rates\"\n",
    ")"
   ]
  },
  {
   "cell_type": "markdown",
   "metadata": {
    "id": "3VSdqB1mtSeQ",
    "slideshow": {
     "slide_type": "subslide"
    }
   },
   "source": [
    "Conversion rate between INR and EUR"
   ]
  },
  {
   "cell_type": "markdown",
   "metadata": {
    "slideshow": {
     "slide_type": "fragment"
    }
   },
   "source": [
    "The conversion rate retrieved from the ECB *0.01268*, while the median conversion rate is *0.0114*.\n",
    "\n",
    "To estimate the conversion rate between INR and EUR we perform linear regression (outliers aren't present)."
   ]
  },
  {
   "cell_type": "code",
   "execution_count": 233,
   "metadata": {
    "id": "1UIFbnx6tSeR",
    "outputId": "567fabaf-7509-46c4-8470-225762ae1e87",
    "slideshow": {
     "slide_type": "skip"
    }
   },
   "outputs": [
    {
     "name": "stdout",
     "output_type": "stream",
     "text": [
      "Number of prices: 40\n"
     ]
    }
   ],
   "source": [
    "curr = \"INR\"\n",
    "prices_ext, conversion_rate = util_preprocess.extract_prices_rate(curr, misc_price)\n",
    "\n",
    "# add the year to the conversion rate\n",
    "conv_rate_year = pd.concat([conversion_rate, ser_year.loc[conversion_rate.index]], axis=1)"
   ]
  },
  {
   "cell_type": "code",
   "execution_count": 234,
   "metadata": {
    "slideshow": {
     "slide_type": "fragment"
    }
   },
   "outputs": [
    {
     "name": "stdout",
     "output_type": "stream",
     "text": [
      "Year coverage: [2019. 2020.]\n"
     ]
    },
    {
     "data": {
      "image/png": "[encoded data removed]",
      "text/plain": [
       "<Figure size 400x300 with 1 Axes>"
      ]
     },
     "metadata": {},
     "output_type": "display_data"
    }
   ],
   "source": [
    "print(f\"Year coverage: {conv_rate_year['launch_announced'].sort_values().unique()}\")\n",
    "conversion_rate.hist(figsize=(4, 3))\n",
    "plt.tight_layout()"
   ]
  },
  {
   "cell_type": "code",
   "execution_count": 235,
   "metadata": {
    "slideshow": {
     "slide_type": "skip"
    }
   },
   "outputs": [
    {
     "name": "stdout",
     "output_type": "stream",
     "text": [
      "Lower bound: 0.01\n",
      "Upper bound: 0.02\n",
      "Number of outliers: 0\n"
     ]
    },
    {
     "data": {
      "text/html": [
       "<div>\n",
       "<style scoped>\n",
       "    .dataframe tbody tr th:only-of-type {\n",
       "        vertical-align: middle;\n",
       "    }\n",
       "\n",
       "    .dataframe tbody tr th {\n",
       "        vertical-align: top;\n",
       "    }\n",
       "\n",
       "    .dataframe thead th {\n",
       "        text-align: right;\n",
       "    }\n",
       "</style>\n",
       "<table border=\"1\" class=\"dataframe\">\n",
       "  <thead>\n",
       "    <tr style=\"text-align: right;\">\n",
       "      <th></th>\n",
       "      <th>conversion_rate</th>\n",
       "      <th>eur</th>\n",
       "      <th>inr</th>\n",
       "    </tr>\n",
       "  </thead>\n",
       "  <tbody>\n",
       "  </tbody>\n",
       "</table>\n",
       "</div>"
      ],
      "text/plain": [
       "Empty DataFrame\n",
       "Columns: [conversion_rate, eur, inr]\n",
       "Index: []"
      ]
     },
     "execution_count": 235,
     "metadata": {},
     "output_type": "execute_result"
    }
   ],
   "source": [
    "df_concat = pd.concat([conversion_rate, prices_ext.loc[conversion_rate.index]], axis=1)\n",
    "util_data.compute_outlier(df_concat, \"conversion_rate\").sort_values(by=\"conversion_rate\")"
   ]
  },
  {
   "cell_type": "code",
   "execution_count": 236,
   "metadata": {
    "slideshow": {
     "slide_type": "skip"
    }
   },
   "outputs": [
    {
     "data": {
      "image/png": "[encoded data removed]",
      "text/plain": [
       "<Figure size 640x480 with 1 Axes>"
      ]
     },
     "metadata": {},
     "output_type": "display_data"
    }
   ],
   "source": [
    "conversion_rate.plot.box(whis=1.5)\n",
    "plt.tight_layout()"
   ]
  },
  {
   "cell_type": "markdown",
   "metadata": {
    "slideshow": {
     "slide_type": "subslide"
    }
   },
   "source": [
    "Results"
   ]
  },
  {
   "cell_type": "markdown",
   "metadata": {
    "slideshow": {
     "slide_type": "fragment"
    }
   },
   "source": [
    "The results shows that the conversion rate of the linear regression is the worst (probably due to few samples available), thus we opt for the median rate which gave the best results in the chosen metrics."
   ]
  },
  {
   "cell_type": "code",
   "execution_count": 249,
   "metadata": {
    "slideshow": {
     "slide_type": "skip"
    }
   },
   "outputs": [],
   "source": [
    "train, test = util_data.split_train_test(prices_ext, test_size=0.2, rng=rng)\n",
    "X_train, y_train = train[curr.lower()].values.reshape(-1, 1), train[\"eur\"].values\n",
    "X_test, y_test = test[curr.lower()].values.reshape(-1, 1), test[\"eur\"].values\n",
    "\n",
    "rate_train = train[\"eur\"] / train[curr.lower()]\n",
    "\n",
    "model_median = util_models.FixedLinearRegressor(\n",
    "    conversion_rate.median(), fit_intercept=False\n",
    ")\n",
    "model_linear = LinearRegression(fit_intercept=False)\n",
    "model_rate = util_models.FixedLinearRegressor(0.01268, fit_intercept=False)\n",
    "\n",
    "models = [model_median, model_fit, model_rate]\n",
    "names = [\"median\", \"linear regressor\", \"online_rate\"]"
   ]
  },
  {
   "cell_type": "code",
   "execution_count": 250,
   "metadata": {
    "slideshow": {
     "slide_type": "fragment"
    }
   },
   "outputs": [
    {
     "name": "stdout",
     "output_type": "stream",
     "text": [
      "median coefficients: [0.01148827]\n",
      "median RMSE: 34.01\n",
      "median r2-score: 0.71\n",
      "median MAE: 28.51\n",
      "\n",
      "linear regressor coefficients: [0.01086622]\n",
      "linear regressor RMSE: 38.09\n",
      "linear regressor r2-score: 0.64\n",
      "linear regressor MAE: 31.54\n",
      "\n",
      "online_rate coefficients: [0.01268]\n",
      "online_rate RMSE: 35.03\n",
      "online_rate r2-score: 0.70\n",
      "online_rate MAE: 31.87\n",
      "\n"
     ]
    }
   ],
   "source": [
    "y_preds = util_models.compare_models(X_train, y_train, X_test, y_test, models, names)"
   ]
  },
  {
   "cell_type": "code",
   "execution_count": 252,
   "metadata": {
    "slideshow": {
     "slide_type": "skip"
    }
   },
   "outputs": [
    {
     "data": {
      "image/png": "[encoded data removed]",
      "text/plain": [
       "<Figure size 800x600 with 1 Axes>"
      ]
     },
     "metadata": {},
     "output_type": "display_data"
    }
   ],
   "source": [
    "# plot the data\n",
    "util_plot.plot_compare_models(\n",
    "    X_test, y_test, y_preds, names, f\"{curr}/EUR conversion rates\"\n",
    ")"
   ]
  },
  {
   "cell_type": "markdown",
   "metadata": {
    "id": "JFpUuz1CtSeV",
    "slideshow": {
     "slide_type": "subslide"
    }
   },
   "source": [
    "#### Continuous features"
   ]
  },
  {
   "cell_type": "markdown",
   "metadata": {
    "slideshow": {
     "slide_type": "fragment"
    }
   },
   "source": [
    "The disply size measure the diagonal of the screen in inches, while the battery capacity is measured in mAh."
   ]
  },
  {
   "cell_type": "code",
   "execution_count": 294,
   "metadata": {
    "id": "d1nwXo_PtSeV",
    "outputId": "70e2dbdb-181f-47f9-e910-2dd29c39a079",
    "slideshow": {
     "slide_type": "fragment"
    }
   },
   "outputs": [
    {
     "data": {
      "text/html": [
       "<div>\n",
       "<style scoped>\n",
       "    .dataframe tbody tr th:only-of-type {\n",
       "        vertical-align: middle;\n",
       "    }\n",
       "\n",
       "    .dataframe tbody tr th {\n",
       "        vertical-align: top;\n",
       "    }\n",
       "\n",
       "    .dataframe thead th {\n",
       "        text-align: right;\n",
       "    }\n",
       "</style>\n",
       "<table border=\"1\" class=\"dataframe\">\n",
       "  <thead>\n",
       "    <tr style=\"text-align: right;\">\n",
       "      <th></th>\n",
       "      <th>display_size</th>\n",
       "      <th>battery</th>\n",
       "    </tr>\n",
       "  </thead>\n",
       "  <tbody>\n",
       "    <tr>\n",
       "      <th>0</th>\n",
       "      <td>NaN</td>\n",
       "      <td>Removable Li-Ion battery</td>\n",
       "    </tr>\n",
       "    <tr>\n",
       "      <th>1</th>\n",
       "      <td>3.5 inches, 34.9 cm</td>\n",
       "      <td>Removable Li-Ion 1500 mAh battery</td>\n",
       "    </tr>\n",
       "    <tr>\n",
       "      <th>2</th>\n",
       "      <td>3.2 inches, 30.5 cm (~46.3% screen-to-body ratio)</td>\n",
       "      <td>Removable Li-Po 1230 mAh battery</td>\n",
       "    </tr>\n",
       "    <tr>\n",
       "      <th>3</th>\n",
       "      <td>2.8 inches, 24.3 cm (~43.7% screen-to-body ratio)</td>\n",
       "      <td>Removable Li-Ion 1500 mAh battery</td>\n",
       "    </tr>\n",
       "    <tr>\n",
       "      <th>4</th>\n",
       "      <td>6.3 inches, 98.0 cm (~81.3% screen-to-body ratio)</td>\n",
       "      <td>Non-removable Li-Po 3700 mAh battery</td>\n",
       "    </tr>\n",
       "  </tbody>\n",
       "</table>\n",
       "</div>"
      ],
      "text/plain": [
       "                                        display_size  \\\n",
       "0                                                NaN   \n",
       "1                                3.5 inches, 34.9 cm   \n",
       "2  3.2 inches, 30.5 cm (~46.3% screen-to-body ratio)   \n",
       "3  2.8 inches, 24.3 cm (~43.7% screen-to-body ratio)   \n",
       "4  6.3 inches, 98.0 cm (~81.3% screen-to-body ratio)   \n",
       "\n",
       "                                battery  \n",
       "0              Removable Li-Ion battery  \n",
       "1     Removable Li-Ion 1500 mAh battery  \n",
       "2      Removable Li-Po 1230 mAh battery  \n",
       "3     Removable Li-Ion 1500 mAh battery  \n",
       "4  Non-removable Li-Po 3700 mAh battery  "
      ]
     },
     "execution_count": 294,
     "metadata": {},
     "output_type": "execute_result"
    }
   ],
   "source": [
    "df_copy[[\"display_size\", \"battery\"]].head()"
   ]
  },
  {
   "cell_type": "markdown",
   "metadata": {
    "id": "sAN_JUtctSeW",
    "slideshow": {
     "slide_type": "subslide"
    }
   },
   "source": [
    "#### Binary features"
   ]
  },
  {
   "cell_type": "markdown",
   "metadata": {
    "slideshow": {
     "slide_type": "fragment"
    }
   },
   "source": [
    "These are *display_type*, *memory_card_slot*, *sound_loudspeaker*, *sound_3.5mm_jack*, *comms_wlan*, *comms_nfc*, *battery_charging* and *body*. \n",
    "\n",
    "These features are currently strings, but a more interesting representation is a binary one, so we can extract more relevant information from them."
   ]
  },
  {
   "cell_type": "markdown",
   "metadata": {
    "slideshow": {
     "slide_type": "fragment"
    }
   },
   "source": [
    "- display_type: the display has the OLED technology\n",
    "- comms_wlan: the technology of the wlan chipset, i.e. 2.4GHz or 5Ghz\n",
    "- battery_charging: extract whether the device has support for fast-charging\n",
    "- body: extract whether the device is waterproof\n",
    "- memory_card_slot: the device contains a slot for a microSD\n",
    "- sound_loudspeaker: the speaker is stereo or mono\n",
    "- sound_3.5mm_jack: the device has a 3.5mm jack\n",
    "- comms_nfc: the device supports the nfc"
   ]
  },
  {
   "cell_type": "markdown",
   "metadata": {
    "slideshow": {
     "slide_type": "subslide"
    }
   },
   "source": [
    "Display type"
   ]
  },
  {
   "cell_type": "markdown",
   "metadata": {
    "id": "2jK_qn0StSeW",
    "slideshow": {
     "slide_type": "fragment"
    }
   },
   "source": [
    "The *display_type* feature sometimes contains the keyword OLED, which depicts different display device technology, such as P-OLED, AMOLED or Super Retina. Otherwise the feature corresponds to a more general and worse technology, such as LCD or TFT.\n"
   ]
  },
  {
   "cell_type": "code",
   "execution_count": 295,
   "metadata": {
    "id": "ACd3mNz3tSeW",
    "outputId": "c3bb91e1-3d11-4ea7-cb06-9986a923066a",
    "slideshow": {
     "slide_type": "fragment"
    }
   },
   "outputs": [
    {
     "data": {
      "text/html": [
       "<div>\n",
       "<style scoped>\n",
       "    .dataframe tbody tr th:only-of-type {\n",
       "        vertical-align: middle;\n",
       "    }\n",
       "\n",
       "    .dataframe tbody tr th {\n",
       "        vertical-align: top;\n",
       "    }\n",
       "\n",
       "    .dataframe thead th {\n",
       "        text-align: right;\n",
       "    }\n",
       "</style>\n",
       "<table border=\"1\" class=\"dataframe\">\n",
       "  <thead>\n",
       "    <tr style=\"text-align: right;\">\n",
       "      <th></th>\n",
       "      <th>display_type</th>\n",
       "    </tr>\n",
       "  </thead>\n",
       "  <tbody>\n",
       "    <tr>\n",
       "      <th>0</th>\n",
       "      <td>Monochrome graphic</td>\n",
       "    </tr>\n",
       "    <tr>\n",
       "      <th>1</th>\n",
       "      <td>TFT resistive touchscreen, 65K colors</td>\n",
       "    </tr>\n",
       "    <tr>\n",
       "      <th>2</th>\n",
       "      <td>TFT capacitive touchscreen, 256K colors</td>\n",
       "    </tr>\n",
       "    <tr>\n",
       "      <th>3</th>\n",
       "      <td>TFT capacitive touchscreen, 256K colors</td>\n",
       "    </tr>\n",
       "    <tr>\n",
       "      <th>4</th>\n",
       "      <td>P-OLED capacitive touchscreen, 16M colors</td>\n",
       "    </tr>\n",
       "  </tbody>\n",
       "</table>\n",
       "</div>"
      ],
      "text/plain": [
       "                                display_type\n",
       "0                         Monochrome graphic\n",
       "1      TFT resistive touchscreen, 65K colors\n",
       "2    TFT capacitive touchscreen, 256K colors\n",
       "3    TFT capacitive touchscreen, 256K colors\n",
       "4  P-OLED capacitive touchscreen, 16M colors"
      ]
     },
     "execution_count": 295,
     "metadata": {},
     "output_type": "execute_result"
    }
   ],
   "source": [
    "df_copy[[\"display_type\"]].head()"
   ]
  },
  {
   "cell_type": "markdown",
   "metadata": {
    "slideshow": {
     "slide_type": "subslide"
    }
   },
   "source": [
    "Wireless connectivity"
   ]
  },
  {
   "cell_type": "markdown",
   "metadata": {
    "id": "-9CJHWjrtSeW",
    "slideshow": {
     "slide_type": "fragment"
    }
   },
   "source": [
    "The *comms_wlan* feature contains the different [IEEE 802.11 standard](https://en.wikipedia.org/wiki/IEEE_802.11) supported. To distinguish whether the device supports the 5GHz or only the 2.4GHz depends on the standard adopted: the former is supported if at least one of \"a\" or \"ac\" generations is present in the feature."
   ]
  },
  {
   "cell_type": "code",
   "execution_count": 291,
   "metadata": {
    "id": "m9t-vTcJtSeW",
    "outputId": "1ae44aab-8cd9-4358-f5e7-e208303c12d1",
    "slideshow": {
     "slide_type": "fragment"
    }
   },
   "outputs": [
    {
     "data": {
      "text/html": [
       "<div>\n",
       "<style scoped>\n",
       "    .dataframe tbody tr th:only-of-type {\n",
       "        vertical-align: middle;\n",
       "    }\n",
       "\n",
       "    .dataframe tbody tr th {\n",
       "        vertical-align: top;\n",
       "    }\n",
       "\n",
       "    .dataframe thead th {\n",
       "        text-align: right;\n",
       "    }\n",
       "</style>\n",
       "<table border=\"1\" class=\"dataframe\">\n",
       "  <thead>\n",
       "    <tr style=\"text-align: right;\">\n",
       "      <th></th>\n",
       "      <th>comms_wlan</th>\n",
       "    </tr>\n",
       "  </thead>\n",
       "  <tbody>\n",
       "    <tr>\n",
       "      <th>0</th>\n",
       "      <td>No</td>\n",
       "    </tr>\n",
       "    <tr>\n",
       "      <th>1</th>\n",
       "      <td>Wi-Fi 802.11b/g</td>\n",
       "    </tr>\n",
       "    <tr>\n",
       "      <th>2</th>\n",
       "      <td>Wi-Fi 802.11 b/g</td>\n",
       "    </tr>\n",
       "    <tr>\n",
       "      <th>3</th>\n",
       "      <td>Wi-Fi 802.11 b/g</td>\n",
       "    </tr>\n",
       "    <tr>\n",
       "      <th>4</th>\n",
       "      <td>Wi-Fi 802.11 a/b/g/n/ac, dual-band, Wi-Fi Dire...</td>\n",
       "    </tr>\n",
       "  </tbody>\n",
       "</table>\n",
       "</div>"
      ],
      "text/plain": [
       "                                          comms_wlan\n",
       "0                                                 No\n",
       "1                                    Wi-Fi 802.11b/g\n",
       "2                                   Wi-Fi 802.11 b/g\n",
       "3                                   Wi-Fi 802.11 b/g\n",
       "4  Wi-Fi 802.11 a/b/g/n/ac, dual-band, Wi-Fi Dire..."
      ]
     },
     "execution_count": 291,
     "metadata": {},
     "output_type": "execute_result"
    }
   ],
   "source": [
    "df_copy[[\"comms_wlan\"]].head()"
   ]
  },
  {
   "cell_type": "markdown",
   "metadata": {
    "slideshow": {
     "slide_type": "subslide"
    }
   },
   "source": [
    "Wireless charging"
   ]
  },
  {
   "cell_type": "markdown",
   "metadata": {
    "id": "ok2hGrAwtSeW",
    "slideshow": {
     "slide_type": "fragment"
    }
   },
   "source": [
    "When the *battery_charging* feature contains the keyword wireless the device supports any type of wireless charging (QI), otherwise only a wired charging is possible.\n"
   ]
  },
  {
   "cell_type": "code",
   "execution_count": 296,
   "metadata": {
    "id": "3holxTE_tSeX",
    "outputId": "08469266-0cc2-433f-9a35-f97837b0b045",
    "slideshow": {
     "slide_type": "fragment"
    }
   },
   "outputs": [
    {
     "data": {
      "text/html": [
       "<div>\n",
       "<style scoped>\n",
       "    .dataframe tbody tr th:only-of-type {\n",
       "        vertical-align: middle;\n",
       "    }\n",
       "\n",
       "    .dataframe tbody tr th {\n",
       "        vertical-align: top;\n",
       "    }\n",
       "\n",
       "    .dataframe thead th {\n",
       "        text-align: right;\n",
       "    }\n",
       "</style>\n",
       "<table border=\"1\" class=\"dataframe\">\n",
       "  <thead>\n",
       "    <tr style=\"text-align: right;\">\n",
       "      <th></th>\n",
       "      <th>battery_charging</th>\n",
       "    </tr>\n",
       "  </thead>\n",
       "  <tbody>\n",
       "    <tr>\n",
       "      <th>0</th>\n",
       "      <td>NaN</td>\n",
       "    </tr>\n",
       "    <tr>\n",
       "      <th>1</th>\n",
       "      <td>NaN</td>\n",
       "    </tr>\n",
       "    <tr>\n",
       "      <th>2</th>\n",
       "      <td>NaN</td>\n",
       "    </tr>\n",
       "    <tr>\n",
       "      <th>3</th>\n",
       "      <td>NaN</td>\n",
       "    </tr>\n",
       "    <tr>\n",
       "      <th>4</th>\n",
       "      <td>Fast charging 18W  USB Power Delivery 2.0  QI ...</td>\n",
       "    </tr>\n",
       "  </tbody>\n",
       "</table>\n",
       "</div>"
      ],
      "text/plain": [
       "                                    battery_charging\n",
       "0                                                NaN\n",
       "1                                                NaN\n",
       "2                                                NaN\n",
       "3                                                NaN\n",
       "4  Fast charging 18W  USB Power Delivery 2.0  QI ..."
      ]
     },
     "execution_count": 296,
     "metadata": {},
     "output_type": "execute_result"
    }
   ],
   "source": [
    "df_copy[[\"battery_charging\"]].head()"
   ]
  },
  {
   "cell_type": "markdown",
   "metadata": {
    "slideshow": {
     "slide_type": "subslide"
    }
   },
   "source": [
    "Water resistence"
   ]
  },
  {
   "cell_type": "markdown",
   "metadata": {
    "id": "YrxEmsyetSeX",
    "slideshow": {
     "slide_type": "fragment"
    }
   },
   "source": [
    "The *body* feature might contain the keywords \"IP6x\", \"splash\" or \"water\" when the device is waterproof, a characteristic important for expensive devices.\n"
   ]
  },
  {
   "cell_type": "code",
   "execution_count": 297,
   "metadata": {
    "id": "BMOabbIetSeX",
    "outputId": "aa8ae056-f983-4d9c-8e93-7b28c53a1897",
    "slideshow": {
     "slide_type": "fragment"
    }
   },
   "outputs": [
    {
     "data": {
      "text/html": [
       "<div>\n",
       "<style scoped>\n",
       "    .dataframe tbody tr th:only-of-type {\n",
       "        vertical-align: middle;\n",
       "    }\n",
       "\n",
       "    .dataframe tbody tr th {\n",
       "        vertical-align: top;\n",
       "    }\n",
       "\n",
       "    .dataframe thead th {\n",
       "        text-align: right;\n",
       "    }\n",
       "</style>\n",
       "<table border=\"1\" class=\"dataframe\">\n",
       "  <thead>\n",
       "    <tr style=\"text-align: right;\">\n",
       "      <th></th>\n",
       "      <th>body</th>\n",
       "    </tr>\n",
       "  </thead>\n",
       "  <tbody>\n",
       "    <tr>\n",
       "      <th>0</th>\n",
       "      <td>NaN</td>\n",
       "    </tr>\n",
       "    <tr>\n",
       "      <th>1</th>\n",
       "      <td>NaN</td>\n",
       "    </tr>\n",
       "    <tr>\n",
       "      <th>2</th>\n",
       "      <td>NaN</td>\n",
       "    </tr>\n",
       "    <tr>\n",
       "      <th>3</th>\n",
       "      <td>Trackball</td>\n",
       "    </tr>\n",
       "    <tr>\n",
       "      <th>4</th>\n",
       "      <td>IP68 dust/water resistant (up to 1.5m for 30 m...</td>\n",
       "    </tr>\n",
       "  </tbody>\n",
       "</table>\n",
       "</div>"
      ],
      "text/plain": [
       "                                                body\n",
       "0                                                NaN\n",
       "1                                                NaN\n",
       "2                                                NaN\n",
       "3                                          Trackball\n",
       "4  IP68 dust/water resistant (up to 1.5m for 30 m..."
      ]
     },
     "execution_count": 297,
     "metadata": {},
     "output_type": "execute_result"
    }
   ],
   "source": [
    "df_copy[[\"body\"]].head()"
   ]
  },
  {
   "cell_type": "markdown",
   "metadata": {
    "slideshow": {
     "slide_type": "subslide"
    }
   },
   "source": [
    "Miscellaneous"
   ]
  },
  {
   "cell_type": "markdown",
   "metadata": {
    "id": "yD7KBU7ktSeX",
    "slideshow": {
     "slide_type": "fragment"
    }
   },
   "source": [
    "The remaining binary features usually contains the word \"Yes\" to describe the presence of the feature or in some case they explictly mention the feature.\n"
   ]
  },
  {
   "cell_type": "code",
   "execution_count": 298,
   "metadata": {
    "id": "zuGpw8jntSeX",
    "outputId": "58e7fe04-4f24-4e94-ad6e-9eefc91f8b2a",
    "slideshow": {
     "slide_type": "fragment"
    }
   },
   "outputs": [
    {
     "data": {
      "text/html": [
       "<div>\n",
       "<style scoped>\n",
       "    .dataframe tbody tr th:only-of-type {\n",
       "        vertical-align: middle;\n",
       "    }\n",
       "\n",
       "    .dataframe tbody tr th {\n",
       "        vertical-align: top;\n",
       "    }\n",
       "\n",
       "    .dataframe thead th {\n",
       "        text-align: right;\n",
       "    }\n",
       "</style>\n",
       "<table border=\"1\" class=\"dataframe\">\n",
       "  <thead>\n",
       "    <tr style=\"text-align: right;\">\n",
       "      <th></th>\n",
       "      <th>memory_card_slot</th>\n",
       "      <th>sound_loudspeaker</th>\n",
       "      <th>sound_3.5mm_jack</th>\n",
       "      <th>comms_nfc</th>\n",
       "    </tr>\n",
       "  </thead>\n",
       "  <tbody>\n",
       "    <tr>\n",
       "      <th>0</th>\n",
       "      <td>No</td>\n",
       "      <td>No</td>\n",
       "      <td>No</td>\n",
       "      <td>NaN</td>\n",
       "    </tr>\n",
       "    <tr>\n",
       "      <th>1</th>\n",
       "      <td>microSDHC (dedicated slot)</td>\n",
       "      <td>Yes</td>\n",
       "      <td>Yes</td>\n",
       "      <td>NaN</td>\n",
       "    </tr>\n",
       "    <tr>\n",
       "      <th>2</th>\n",
       "      <td>microSDHC (dedicated slot)</td>\n",
       "      <td>Yes</td>\n",
       "      <td>Yes</td>\n",
       "      <td>NaN</td>\n",
       "    </tr>\n",
       "    <tr>\n",
       "      <th>3</th>\n",
       "      <td>microSDHC (dedicated slot)</td>\n",
       "      <td>Yes</td>\n",
       "      <td>Yes</td>\n",
       "      <td>NaN</td>\n",
       "    </tr>\n",
       "    <tr>\n",
       "      <th>4</th>\n",
       "      <td>No</td>\n",
       "      <td>Yes, with stereo speakers</td>\n",
       "      <td>No</td>\n",
       "      <td>Yes</td>\n",
       "    </tr>\n",
       "  </tbody>\n",
       "</table>\n",
       "</div>"
      ],
      "text/plain": [
       "             memory_card_slot          sound_loudspeaker sound_3.5mm_jack  \\\n",
       "0                          No                         No               No   \n",
       "1  microSDHC (dedicated slot)                        Yes              Yes   \n",
       "2  microSDHC (dedicated slot)                        Yes              Yes   \n",
       "3  microSDHC (dedicated slot)                        Yes              Yes   \n",
       "4                          No  Yes, with stereo speakers               No   \n",
       "\n",
       "  comms_nfc  \n",
       "0       NaN  \n",
       "1       NaN  \n",
       "2       NaN  \n",
       "3       NaN  \n",
       "4       Yes  "
      ]
     },
     "execution_count": 298,
     "metadata": {},
     "output_type": "execute_result"
    }
   ],
   "source": [
    "df_copy[[\"memory_card_slot\", \"sound_loudspeaker\", \"sound_3.5mm_jack\", \"comms_nfc\"]].head()\n"
   ]
  },
  {
   "cell_type": "markdown",
   "metadata": {
    "id": "W4YalrrPtSeY",
    "slideshow": {
     "slide_type": "subslide"
    }
   },
   "source": [
    "#### Multi column features"
   ]
  },
  {
   "cell_type": "markdown",
   "metadata": {
    "slideshow": {
     "slide_type": "fragment"
    }
   },
   "source": [
    "The *display_resolution* feature contains the resolution of the display in pixels, both for the width and the height. If at least one of the two values is smaller than 1000, then the value is dropped because it's too small to be a smartphone display (smartwatch or an old smartphone).\n",
    "\n",
    "For the *memory_internal*, it represents the internal memory of the device in GB, both for the RAM and the ROM. When the device has at least one capacity expressed in MB, then the value is dropped because it's too small to be relevant.\n"
   ]
  },
  {
   "cell_type": "code",
   "execution_count": 300,
   "metadata": {
    "id": "fr_fJt4atSeY",
    "outputId": "8c08784d-0ed3-4c01-9893-0efb83865fc6",
    "slideshow": {
     "slide_type": "fragment"
    }
   },
   "outputs": [
    {
     "data": {
      "text/html": [
       "<div>\n",
       "<style scoped>\n",
       "    .dataframe tbody tr th:only-of-type {\n",
       "        vertical-align: middle;\n",
       "    }\n",
       "\n",
       "    .dataframe tbody tr th {\n",
       "        vertical-align: top;\n",
       "    }\n",
       "\n",
       "    .dataframe thead th {\n",
       "        text-align: right;\n",
       "    }\n",
       "</style>\n",
       "<table border=\"1\" class=\"dataframe\">\n",
       "  <thead>\n",
       "    <tr style=\"text-align: right;\">\n",
       "      <th></th>\n",
       "      <th>display_resolution</th>\n",
       "      <th>memory_internal</th>\n",
       "    </tr>\n",
       "  </thead>\n",
       "  <tbody>\n",
       "    <tr>\n",
       "      <th>0</th>\n",
       "      <td>6 lines</td>\n",
       "      <td>NaN</td>\n",
       "    </tr>\n",
       "    <tr>\n",
       "      <th>1</th>\n",
       "      <td>480 x 800 pixels, 5:3 ratio (~267 ppi density)</td>\n",
       "      <td>4GB 512MB RAM</td>\n",
       "    </tr>\n",
       "    <tr>\n",
       "      <th>2</th>\n",
       "      <td>320 x 480 pixels, 3:2 ratio (~180 ppi density)</td>\n",
       "      <td>256MB RAM</td>\n",
       "    </tr>\n",
       "    <tr>\n",
       "      <th>3</th>\n",
       "      <td>240 x 320 pixels, 4:3 ratio (~143 ppi density)</td>\n",
       "      <td>256MB RAM, 512MB</td>\n",
       "    </tr>\n",
       "    <tr>\n",
       "      <th>4</th>\n",
       "      <td>1440 x 3040 pixels, 19:9 ratio (~537 ppi density)</td>\n",
       "      <td>64GB 6GB RAM, 128GB 6GB RAM</td>\n",
       "    </tr>\n",
       "  </tbody>\n",
       "</table>\n",
       "</div>"
      ],
      "text/plain": [
       "                                  display_resolution  \\\n",
       "0                                            6 lines   \n",
       "1     480 x 800 pixels, 5:3 ratio (~267 ppi density)   \n",
       "2     320 x 480 pixels, 3:2 ratio (~180 ppi density)   \n",
       "3     240 x 320 pixels, 4:3 ratio (~143 ppi density)   \n",
       "4  1440 x 3040 pixels, 19:9 ratio (~537 ppi density)   \n",
       "\n",
       "               memory_internal  \n",
       "0                          NaN  \n",
       "1                4GB 512MB RAM  \n",
       "2                    256MB RAM  \n",
       "3             256MB RAM, 512MB  \n",
       "4  64GB 6GB RAM, 128GB 6GB RAM  "
      ]
     },
     "execution_count": 300,
     "metadata": {},
     "output_type": "execute_result"
    }
   ],
   "source": [
    "df_copy[[\"display_resolution\", \"memory_internal\"]].head()"
   ]
  },
  {
   "cell_type": "markdown",
   "metadata": {
    "id": "y75iJrpFtSeY",
    "slideshow": {
     "slide_type": "subslide"
    }
   },
   "source": [
    "#### Network technology"
   ]
  },
  {
   "cell_type": "markdown",
   "metadata": {
    "slideshow": {
     "slide_type": "fragment"
    }
   },
   "source": [
    "The *network_technology* feature contains the different network technologies supported by the device. The most important ones are:\n",
    "\n",
    "- 5G: the device supports the 5G network\n",
    "- 4G: the device supports the 4G network, usually described as LTE.\n",
    "- 3G: the device supports the 3G network, usually described as UMTS or HSPA.\n",
    "\n",
    "The other technologies are less important, such as GSM, CDMA, EVDO or even devices with no network support are dropped.\n"
   ]
  },
  {
   "cell_type": "code",
   "execution_count": 301,
   "metadata": {
    "id": "BnAfR5SwtSeY",
    "outputId": "df42a13b-f905-429e-cab6-561408808bfc",
    "slideshow": {
     "slide_type": "fragment"
    }
   },
   "outputs": [
    {
     "data": {
      "text/html": [
       "<div>\n",
       "<style scoped>\n",
       "    .dataframe tbody tr th:only-of-type {\n",
       "        vertical-align: middle;\n",
       "    }\n",
       "\n",
       "    .dataframe tbody tr th {\n",
       "        vertical-align: top;\n",
       "    }\n",
       "\n",
       "    .dataframe thead th {\n",
       "        text-align: right;\n",
       "    }\n",
       "</style>\n",
       "<table border=\"1\" class=\"dataframe\">\n",
       "  <thead>\n",
       "    <tr style=\"text-align: right;\">\n",
       "      <th></th>\n",
       "      <th>network_technology</th>\n",
       "    </tr>\n",
       "  </thead>\n",
       "  <tbody>\n",
       "    <tr>\n",
       "      <th>0</th>\n",
       "      <td>GSM</td>\n",
       "    </tr>\n",
       "    <tr>\n",
       "      <th>1</th>\n",
       "      <td>GSM / HSPA</td>\n",
       "    </tr>\n",
       "    <tr>\n",
       "      <th>2</th>\n",
       "      <td>GSM / HSPA</td>\n",
       "    </tr>\n",
       "    <tr>\n",
       "      <th>3</th>\n",
       "      <td>GSM / HSPA</td>\n",
       "    </tr>\n",
       "    <tr>\n",
       "      <th>4</th>\n",
       "      <td>GSM / CDMA / HSPA / EVDO / LTE</td>\n",
       "    </tr>\n",
       "  </tbody>\n",
       "</table>\n",
       "</div>"
      ],
      "text/plain": [
       "               network_technology\n",
       "0                             GSM\n",
       "1                      GSM / HSPA\n",
       "2                      GSM / HSPA\n",
       "3                      GSM / HSPA\n",
       "4  GSM / CDMA / HSPA / EVDO / LTE"
      ]
     },
     "execution_count": 301,
     "metadata": {},
     "output_type": "execute_result"
    }
   ],
   "source": [
    "df_copy[[\"network_technology\"]].head()\n"
   ]
  },
  {
   "cell_type": "markdown",
   "metadata": {
    "id": "ifN2lALYtSeZ",
    "slideshow": {
     "slide_type": "subslide"
    }
   },
   "source": [
    "#### Camera features"
   ]
  },
  {
   "cell_type": "markdown",
   "metadata": {
    "slideshow": {
     "slide_type": "fragment"
    }
   },
   "source": [
    "Each feature is split into different columns, each one describing a different setup of the camera(s) in the device. The columns are named as *main_camera_single*, *main_camera_dual*, etc. The number of columns is variable, depending on the number of cameras present in the device.\n",
    "\n",
    "Only one column for both \"main\" and \"selfie\" camera is filled (e.g. *main_camera_single* and *selfie_camera_dual* are filled), while the other columns are filled with NaN values. In this way the resolution of only the principal camera is considered, while the other ones are ignored. In addition, the number of cameras is extracted both for the main and the selfie cameras."
   ]
  },
  {
   "cell_type": "markdown",
   "metadata": {
    "slideshow": {
     "slide_type": "subslide"
    }
   },
   "source": [
    "Main camera"
   ]
  },
  {
   "cell_type": "code",
   "execution_count": 302,
   "metadata": {
    "id": "ozhwN3KbtSeZ",
    "outputId": "c5db9ab0-70f8-452e-c160-93d32f466d51",
    "slideshow": {
     "slide_type": "fragment"
    }
   },
   "outputs": [
    {
     "data": {
      "text/html": [
       "<div>\n",
       "<style scoped>\n",
       "    .dataframe tbody tr th:only-of-type {\n",
       "        vertical-align: middle;\n",
       "    }\n",
       "\n",
       "    .dataframe tbody tr th {\n",
       "        vertical-align: top;\n",
       "    }\n",
       "\n",
       "    .dataframe thead th {\n",
       "        text-align: right;\n",
       "    }\n",
       "</style>\n",
       "<table border=\"1\" class=\"dataframe\">\n",
       "  <thead>\n",
       "    <tr style=\"text-align: right;\">\n",
       "      <th></th>\n",
       "      <th>main_camera_single</th>\n",
       "      <th>main_camera_dual</th>\n",
       "      <th>main_camera_quad</th>\n",
       "      <th>main_camera_triple</th>\n",
       "      <th>main_camera_five</th>\n",
       "      <th>main_camera_dual_or_triple</th>\n",
       "    </tr>\n",
       "  </thead>\n",
       "  <tbody>\n",
       "    <tr>\n",
       "      <th>0</th>\n",
       "      <td>NaN</td>\n",
       "      <td>NaN</td>\n",
       "      <td>NaN</td>\n",
       "      <td>NaN</td>\n",
       "      <td>NaN</td>\n",
       "      <td>NaN</td>\n",
       "    </tr>\n",
       "    <tr>\n",
       "      <th>1</th>\n",
       "      <td>5 MP, AF</td>\n",
       "      <td>NaN</td>\n",
       "      <td>NaN</td>\n",
       "      <td>NaN</td>\n",
       "      <td>NaN</td>\n",
       "      <td>NaN</td>\n",
       "    </tr>\n",
       "    <tr>\n",
       "      <th>2</th>\n",
       "      <td>5 MP, AF</td>\n",
       "      <td>NaN</td>\n",
       "      <td>NaN</td>\n",
       "      <td>NaN</td>\n",
       "      <td>NaN</td>\n",
       "      <td>NaN</td>\n",
       "    </tr>\n",
       "    <tr>\n",
       "      <th>3</th>\n",
       "      <td>2 MP, AF</td>\n",
       "      <td>NaN</td>\n",
       "      <td>NaN</td>\n",
       "      <td>NaN</td>\n",
       "      <td>NaN</td>\n",
       "      <td>NaN</td>\n",
       "    </tr>\n",
       "    <tr>\n",
       "      <th>4</th>\n",
       "      <td>NaN</td>\n",
       "      <td>12.2 MP, f/1.7, 27mm (wide), 1/2.55\", 1.4&lt;c2&gt;&lt;...</td>\n",
       "      <td>NaN</td>\n",
       "      <td>NaN</td>\n",
       "      <td>NaN</td>\n",
       "      <td>NaN</td>\n",
       "    </tr>\n",
       "  </tbody>\n",
       "</table>\n",
       "</div>"
      ],
      "text/plain": [
       "  main_camera_single                                   main_camera_dual  \\\n",
       "0                NaN                                                NaN   \n",
       "1           5 MP, AF                                                NaN   \n",
       "2           5 MP, AF                                                NaN   \n",
       "3           2 MP, AF                                                NaN   \n",
       "4                NaN  12.2 MP, f/1.7, 27mm (wide), 1/2.55\", 1.4<c2><...   \n",
       "\n",
       "  main_camera_quad main_camera_triple main_camera_five  \\\n",
       "0              NaN                NaN              NaN   \n",
       "1              NaN                NaN              NaN   \n",
       "2              NaN                NaN              NaN   \n",
       "3              NaN                NaN              NaN   \n",
       "4              NaN                NaN              NaN   \n",
       "\n",
       "  main_camera_dual_or_triple  \n",
       "0                        NaN  \n",
       "1                        NaN  \n",
       "2                        NaN  \n",
       "3                        NaN  \n",
       "4                        NaN  "
      ]
     },
     "execution_count": 302,
     "metadata": {},
     "output_type": "execute_result"
    }
   ],
   "source": [
    "main_cols = [\"main_camera_single\", \"main_camera_dual\", \"main_camera_quad\", \"main_camera_triple\", \"main_camera_five\", \"main_camera_dual_or_triple\"]\n",
    "df_copy[main_cols].head()"
   ]
  },
  {
   "cell_type": "markdown",
   "metadata": {
    "slideshow": {
     "slide_type": "subslide"
    }
   },
   "source": [
    "Selfie camera"
   ]
  },
  {
   "cell_type": "code",
   "execution_count": 303,
   "metadata": {
    "id": "e1bSwYjLtSeZ",
    "outputId": "5db4a088-0d74-489e-9e57-930b0e73f02e",
    "slideshow": {
     "slide_type": "fragment"
    }
   },
   "outputs": [
    {
     "data": {
      "text/html": [
       "<div>\n",
       "<style scoped>\n",
       "    .dataframe tbody tr th:only-of-type {\n",
       "        vertical-align: middle;\n",
       "    }\n",
       "\n",
       "    .dataframe tbody tr th {\n",
       "        vertical-align: top;\n",
       "    }\n",
       "\n",
       "    .dataframe thead th {\n",
       "        text-align: right;\n",
       "    }\n",
       "</style>\n",
       "<table border=\"1\" class=\"dataframe\">\n",
       "  <thead>\n",
       "    <tr style=\"text-align: right;\">\n",
       "      <th></th>\n",
       "      <th>selfie_camera_single</th>\n",
       "      <th>selfie_camera_dual</th>\n",
       "      <th>selfie_camera_triple</th>\n",
       "    </tr>\n",
       "  </thead>\n",
       "  <tbody>\n",
       "    <tr>\n",
       "      <th>0</th>\n",
       "      <td>NaN</td>\n",
       "      <td>NaN</td>\n",
       "      <td>NaN</td>\n",
       "    </tr>\n",
       "    <tr>\n",
       "      <th>1</th>\n",
       "      <td>NaN</td>\n",
       "      <td>NaN</td>\n",
       "      <td>NaN</td>\n",
       "    </tr>\n",
       "    <tr>\n",
       "      <th>2</th>\n",
       "      <td>NaN</td>\n",
       "      <td>NaN</td>\n",
       "      <td>NaN</td>\n",
       "    </tr>\n",
       "    <tr>\n",
       "      <th>3</th>\n",
       "      <td>NaN</td>\n",
       "      <td>NaN</td>\n",
       "      <td>NaN</td>\n",
       "    </tr>\n",
       "    <tr>\n",
       "      <th>4</th>\n",
       "      <td>NaN</td>\n",
       "      <td>8 MP, f/2.0, 22mm (wide), 1.22&lt;c2&gt;&lt;b5&gt;m, no AF...</td>\n",
       "      <td>NaN</td>\n",
       "    </tr>\n",
       "  </tbody>\n",
       "</table>\n",
       "</div>"
      ],
      "text/plain": [
       "  selfie_camera_single                                 selfie_camera_dual  \\\n",
       "0                  NaN                                                NaN   \n",
       "1                  NaN                                                NaN   \n",
       "2                  NaN                                                NaN   \n",
       "3                  NaN                                                NaN   \n",
       "4                  NaN  8 MP, f/2.0, 22mm (wide), 1.22<c2><b5>m, no AF...   \n",
       "\n",
       "  selfie_camera_triple  \n",
       "0                  NaN  \n",
       "1                  NaN  \n",
       "2                  NaN  \n",
       "3                  NaN  \n",
       "4                  NaN  "
      ]
     },
     "execution_count": 303,
     "metadata": {},
     "output_type": "execute_result"
    }
   ],
   "source": [
    "selfie_cols = [\"selfie_camera_single\", \"selfie_camera_dual\", \"selfie_camera_triple\"]\n",
    "df_copy[selfie_cols].head()"
   ]
  },
  {
   "cell_type": "markdown",
   "metadata": {
    "id": "1cc9Y23uHMbq",
    "slideshow": {
     "slide_type": "slide"
    }
   },
   "source": [
    "## Preprocessing\n"
   ]
  },
  {
   "cell_type": "markdown",
   "metadata": {
    "slideshow": {
     "slide_type": "fragment"
    }
   },
   "source": [
    "We preprocess the data in order to make it suitable for the task. The preprocessing steps are the following:\n",
    "\n",
    "- Drop the columns which are not relevant for the task.\n",
    "- Process each feature in order to make it suitable for the task, as described in the previous section.\n",
    "- For some features, such as binary features, the NaN values are replaced to depict the absence of the feature. The samples where the NaN values in the features cannot be estimated are dropped.\n",
    "\n",
    "Many samples are dropped, but mostly because they are old devices, which are not relevant for the task, for example if the display resolution is smaller than 1000 pixels or if the internal memory is smaller than 1GB.\n",
    "\n",
    "The final dataset contains 2159 samples and 22 features."
   ]
  },
  {
   "cell_type": "code",
   "execution_count": 9,
   "metadata": {
    "id": "2hRKCy2UtSeZ",
    "slideshow": {
     "slide_type": "skip"
    }
   },
   "outputs": [],
   "source": [
    "filter_condition = [\n",
    "    (\"launch_announced\", lambda x: x >= 2014),\n",
    "    (\"display_size\", lambda x: (x >= 4) & (x <= 7.5)),\n",
    "    (\"display_height\", lambda x: x >= 512),\n",
    "    (\"display_width\", lambda x: x >= 512),\n",
    "    (\"num_main_camera\", lambda x: x <= 4),\n",
    "    (\"memory_rom_gb\", lambda x: x <= 256),\n",
    "    (\"memory_ram_gb\", lambda x: x <= 32),\n",
    "    (\"battery\", lambda x: x>= 1000),\n",
    "    (\"misc_price\", lambda x: x <= 2000),\n",
    "]"
   ]
  },
  {
   "cell_type": "markdown",
   "metadata": {
    "slideshow": {
     "slide_type": "skip"
    }
   },
   "source": [
    "Filtering"
   ]
  },
  {
   "cell_type": "markdown",
   "metadata": {
    "id": "xTolW29DtSea",
    "slideshow": {
     "slide_type": "skip"
    }
   },
   "source": [
    "The dataset is filtered to keep only the samples which satisfy the following conditions:\n",
    "\n",
    "- *launch_announced* greater or equal than 2014;\n",
    "- *display_size* between 4 inches and 7.5 inches;\n",
    "- *display_height* and *display_width* greater or equal than 512 pixels;\n",
    "- *num_main_camera* lower or equal than 4;\n",
    "- *battery* greater or equal than 1000 mAh\n",
    "- *misc_price* lower than 2000€.\n",
    "\n",
    "With these conditions the dataset is reduced but we can be sure that the samples are smartphones and the most recent."
   ]
  },
  {
   "cell_type": "code",
   "execution_count": 13,
   "metadata": {
    "colab": {
     "base_uri": "https://localhost:8080/"
    },
    "id": "i7bm9FBbtSea",
    "outputId": "cff6338e-3da6-458f-c586-f257ba6b243a",
    "slideshow": {
     "slide_type": "skip"
    }
   },
   "outputs": [
    {
     "name": "stdout",
     "output_type": "stream",
     "text": [
      "The dataframe has 2159 rows and 22 columns.\n"
     ]
    }
   ],
   "source": [
    "preprocess = util_preprocess.GSMArenaPreprocess(\"gsmarena.json\")\n",
    "df = preprocess(df_raw, filter_condition, verbose=False)\n",
    "\n",
    "print(f\"The dataframe has {df.shape[0]} rows and {df.shape[1]} columns.\")"
   ]
  },
  {
   "cell_type": "markdown",
   "metadata": {
    "slideshow": {
     "slide_type": "subslide"
    }
   },
   "source": [
    "Final dataset"
   ]
  },
  {
   "cell_type": "markdown",
   "metadata": {
    "id": "lbNHuSiAtSea",
    "slideshow": {
     "slide_type": "fragment"
    }
   },
   "source": [
    "Instead of simply removing duplicates, we keep only one duplicated sample by considering the median price. This is done because the price is the target of the task and we want to avoid that the model is biased towards the most expensive device.\n",
    "\n",
    "Other techniques for detecting duplicates are possible, such as clustering or PCA, but the median price is a simple and effective way to remove duplicates.\n",
    "\n",
    "We end up with 1911 samples which can be used for the classification task."
   ]
  },
  {
   "cell_type": "code",
   "execution_count": 14,
   "metadata": {
    "colab": {
     "base_uri": "https://localhost:8080/"
    },
    "id": "EIvThxMnuHF2",
    "outputId": "d18bbc68-b562-4f6c-b0c2-079afa0289c7",
    "slideshow": {
     "slide_type": "skip"
    }
   },
   "outputs": [
    {
     "name": "stdout",
     "output_type": "stream",
     "text": [
      "The dataframe has 2159 rows and 22 columns.\n",
      "Number of duplicated rows: 182\n",
      "The dataframe after removing duplicates has 1729 rows\n",
      "The dataframe after adding duplicates has 1911 rows\n"
     ]
    }
   ],
   "source": [
    "# Show duplicated rows\n",
    "def get_dup_rows(df: pd.DataFrame, drop_cols):\n",
    "    dup_cols = df.columns.drop(drop_cols).to_list()\n",
    "    dup_rows = df[df.duplicated(subset=dup_cols, keep=False)].copy()\n",
    "    return dup_rows, dup_rows.groupby(dup_cols)\n",
    "\n",
    "\n",
    "df_duplicates, df_groups = get_dup_rows(df, [\"misc_price\", \"launch_announced\", \"oem_model\"])\n",
    "\n",
    "print(f\"The dataframe has {df.shape[0]} rows and {df.shape[1]} columns.\")\n",
    "print(f\"Number of duplicated rows: {df_groups.ngroups}\")\n",
    "\n",
    "# remove dupliates rows which are then substitued\n",
    "df = df.drop(df_duplicates.index).reset_index(drop=True)\n",
    "print(f\"The dataframe after removing duplicates has {df.shape[0]} rows\")\n",
    "\n",
    "# add duplicated rows by joining the rows and replacing with the median price\n",
    "for key, item in df_groups:\n",
    "    el = item.iloc[0, :].copy()\n",
    "    el.misc_price = item.misc_price.median()\n",
    "    el.launch_announced = item.launch_announced.max()\n",
    "\n",
    "    # define the oem and model\n",
    "    oem_model = item.oem_model.unique()\n",
    "    if len(oem_model) > 1:\n",
    "        oem_model = \" - \".join(oem_model)\n",
    "    else:\n",
    "        oem = oem[0]\n",
    "\n",
    "    el.oem_model = oem_model\n",
    "    \n",
    "    df = pd.concat([df, el.to_frame().T], axis=0)\n",
    "\n",
    "df = df.reset_index(drop=True)\n",
    "print(f\"The dataframe after adding duplicates has {df.shape[0]} rows\")\n"
   ]
  },
  {
   "cell_type": "code",
   "execution_count": 15,
   "metadata": {
    "id": "yYY2J5nLtSeb",
    "slideshow": {
     "slide_type": "skip"
    }
   },
   "outputs": [],
   "source": [
    "# save the dataframe\n",
    "df.to_csv(\"data/processed/gsm.csv\", index=True)"
   ]
  }
 ],
 "metadata": {
  "celltoolbar": "Slideshow",
  "colab": {
   "collapsed_sections": [
    "tETAOV0DJV6d"
   ],
   "provenance": []
  },
  "kernelspec": {
   "display_name": "Python 3 (ipykernel)",
   "language": "python",
   "name": "python3"
  },
  "language_info": {
   "codemirror_mode": {
    "name": "ipython",
    "version": 3
   },
   "file_extension": ".py",
   "mimetype": "text/x-python",
   "name": "python",
   "nbconvert_exporter": "python",
   "pygments_lexer": "ipython3",
   "version": "3.9.16"
  }
 },
 "nbformat": 4,
 "nbformat_minor": 1
}
