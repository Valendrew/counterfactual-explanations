{
 "cells": [
  {
   "cell_type": "code",
   "execution_count": 2,
   "metadata": {},
   "outputs": [],
   "source": [
    "import configparser\n",
    "import os\n",
    "\n",
    "from utils import util_data, util_preprocess\n"
   ]
  },
  {
   "cell_type": "code",
   "execution_count": 3,
   "metadata": {},
   "outputs": [
    {
     "data": {
      "text/plain": [
       "['config.ini']"
      ]
     },
     "execution_count": 3,
     "metadata": {},
     "output_type": "execute_result"
    }
   ],
   "source": [
    "config = configparser.ConfigParser()\n",
    "config.read(\"config.ini\")\n"
   ]
  },
  {
   "cell_type": "code",
   "execution_count": 4,
   "metadata": {},
   "outputs": [
    {
     "name": "stdout",
     "output_type": "stream",
     "text": [
      "File gsm.csv already exists. Skip download.\n"
     ]
    }
   ],
   "source": [
    "ds_conf = config[\"GSMARENA_DS\"]\n",
    "# Download the training and test datasets\n",
    "dh = util_data.DownloadHelper(\n",
    "    ds_conf[\"url\"], ds_conf[\"name\"], ds_conf[\"mode\"], quiet=False\n",
    ")\n",
    "\n",
    "dh.download()"
   ]
  },
  {
   "cell_type": "code",
   "execution_count": 25,
   "metadata": {},
   "outputs": [
    {
     "data": {
      "text/plain": [
       "<module 'utils.util_preprocess' from 'c:\\\\Users\\\\andre\\\\Documents\\\\ai-master\\\\counterfactual-explanations\\\\utils\\\\util_preprocess.py'>"
      ]
     },
     "execution_count": 25,
     "metadata": {},
     "output_type": "execute_result"
    }
   ],
   "source": [
    "from importlib import reload\n",
    "reload(util_preprocess)"
   ]
  },
  {
   "cell_type": "code",
   "execution_count": 26,
   "metadata": {},
   "outputs": [],
   "source": [
    "df = dh.read_csv(low_memory=False, sep=\",\")\n",
    "df = (\n",
    "    df.pipe(util_preprocess.filter_unwanted_columns)\n",
    "    .pipe(util_preprocess.preprocess_feature, \"misc_price\")\n",
    "    .pipe(util_preprocess.preprocess_feature, \"launch_announced\")\n",
    "    .pipe(util_preprocess.preprocess_feature, \"display_size\")\n",
    "    .pipe(util_preprocess.preprocess_feature, \"display_type\")\n",
    "    .pipe(util_preprocess.preprocess_feature, \"display_resolution\")\n",
    "    .pipe(util_preprocess.preprocess_feature, \"memory_card_slot\")\n",
    "    .pipe(util_preprocess.preprocess_feature, \"sound_loudspeaker\")\n",
    "    .pipe(util_preprocess.preprocess_feature, \"sound_3.5mm_jack\")\n",
    "    .pipe(util_preprocess.preprocess_feature, \"comms_wlan\")\n",
    "    .pipe(util_preprocess.preprocess_feature, \"comms_nfc\")\n",
    "    .pipe(util_preprocess.preprocess_feature, \"memory_internal\")\n",
    "    .pipe(util_preprocess.preprocess_feature, \"network_technology\")\n",
    "    .pipe(util_preprocess.preprocess_feature, \"battery\")\n",
    "    .pipe(util_preprocess.preprocess_feature, \"battery_charging\")\n",
    "    .pipe(util_preprocess.preprocess_feature, \"body\")\n",
    "    .pipe(util_preprocess.preprocess_feature, \"main_camera_cols\")\n",
    "    .pipe(util_preprocess.preprocess_feature, \"selfie_camera_cols\")    \n",
    ")\n"
   ]
  },
  {
   "cell_type": "code",
   "execution_count": 523,
   "metadata": {},
   "outputs": [
    {
     "name": "stdout",
     "output_type": "stream",
     "text": [
      "The dataframe has 2647 rows and 21 columns.\n"
     ]
    }
   ],
   "source": [
    "print(f\"The dataframe has {df.shape[0]} rows and {df.shape[1]} columns.\")"
   ]
  },
  {
   "attachments": {},
   "cell_type": "markdown",
   "metadata": {},
   "source": [
    "Filter conditions for recent mobile phones\n",
    "\n",
    "- launch_announced >= 2014\n",
    "- display_size in (4, 7.5)\n",
    "- display_height and display_width > 512"
   ]
  },
  {
   "cell_type": "code",
   "execution_count": 521,
   "metadata": {},
   "outputs": [
    {
     "name": "stderr",
     "output_type": "stream",
     "text": [
      "Removing unwanted rows and duplicates...\n",
      "Shape before removing unwanted rows and duplicates: (2647, 21)\n",
      "Shape after removing unwanted rows and duplicates: (1973, 21)\n",
      "\n"
     ]
    }
   ],
   "source": [
    "filter_condition = {\n",
    "    \"launch_announced\": lambda x: x >= 2014,\n",
    "    \"display_size\": lambda x: x >= 4,\n",
    "    \"display_size\": lambda x: x <= 7.5,\n",
    "    \"display_height\": lambda x: x >= 512,\n",
    "    \"display_width\": lambda x: x >= 512,\n",
    "}\n",
    "df = util_preprocess.filter_unwanted_rows(df, filter_condition)"
   ]
  },
  {
   "cell_type": "code",
   "execution_count": 532,
   "metadata": {},
   "outputs": [],
   "source": [
    "out_path = os.path.join(\"data\", \"processed\", ds_conf[\"name\"])\n",
    "df.to_csv(out_path, index=False)"
   ]
  }
 ],
 "metadata": {
  "kernelspec": {
   "display_name": "master-aiii",
   "language": "python",
   "name": "python3"
  },
  "language_info": {
   "codemirror_mode": {
    "name": "ipython",
    "version": 3
   },
   "file_extension": ".py",
   "mimetype": "text/x-python",
   "name": "python",
   "nbconvert_exporter": "python",
   "pygments_lexer": "ipython3",
   "version": "3.9.16"
  },
  "orig_nbformat": 4
 },
 "nbformat": 4,
 "nbformat_minor": 2
}
