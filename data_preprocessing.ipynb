{
 "cells": [
  {
   "cell_type": "code",
   "execution_count": 526,
   "metadata": {},
   "outputs": [],
   "source": [
    "import configparser\n",
    "import os\n",
    "\n",
    "from utils import util_data, util_preprocess\n"
   ]
  },
  {
   "cell_type": "code",
   "execution_count": 4,
   "metadata": {},
   "outputs": [
    {
     "data": {
      "text/plain": [
       "['config.ini']"
      ]
     },
     "execution_count": 4,
     "metadata": {},
     "output_type": "execute_result"
    }
   ],
   "source": [
    "config = configparser.ConfigParser()\n",
    "config.read(\"config.ini\")\n"
   ]
  },
  {
   "cell_type": "code",
   "execution_count": 530,
   "metadata": {},
   "outputs": [
    {
     "name": "stdout",
     "output_type": "stream",
     "text": [
      "File gsm.csv already exists. Skip download.\n"
     ]
    }
   ],
   "source": [
    "ds_conf = config[\"GSMARENA_DS\"]\n",
    "# Download the training and test datasets\n",
    "dh = util_data.DownloadHelper(\n",
    "    ds_conf[\"url\"], ds_conf[\"name\"], ds_conf[\"mode\"], quiet=False\n",
    ")\n",
    "\n",
    "dh.download()"
   ]
  },
  {
   "cell_type": "code",
   "execution_count": 527,
   "metadata": {},
   "outputs": [
    {
     "name": "stderr",
     "output_type": "stream",
     "text": [
      "Removing unwanted columns and duplicates...\n",
      "Shape before removing unwanted columns and duplicates: (10679, 86)\n",
      "Shape after removing unwanted columns and duplicates: (9919, 24)\n",
      "\n",
      "Number of rows before extracting valid misc_price: 9919\n",
      "Number of rows after extracting valid misc_price: 6151\n",
      "\n",
      "Number of rows before extracting valid launch_announced: 6151\n",
      "Number of rows after extracting valid launch_announced: 6142\n",
      "\n",
      "Number of rows before extracting valid display_size: 6142\n",
      "Number of rows after extracting valid display_size: 6054\n",
      "\n",
      "Number of rows before extracting valid display_type: 6054\n",
      "Number of rows after extracting valid has_oled_display: 6054\n",
      "\n",
      "Number of rows before extracting valid display_resolution: 6054\n",
      "Number of rows after extracting valid ['display_width', 'display_height']: 6027\n",
      "\n",
      "Number of rows before extracting valid memory_card_slot: 6027\n",
      "Number of rows after extracting valid has_memory_card_slot: 6027\n",
      "\n",
      "Number of rows before extracting valid sound_loudspeaker: 6027\n",
      "Number of rows after extracting valid has_stereo_speakers: 6027\n",
      "\n",
      "Number of rows before extracting valid sound_3.5mm_jack: 6027\n",
      "Number of rows after extracting valid has_3.5mm_jack: 5999\n",
      "\n",
      "Number of rows before extracting valid comms_wlan: 5999\n",
      "Number of rows after extracting valid has_wlan_5ghz: 5999\n",
      "\n",
      "Number of rows before extracting valid comms_nfc: 5999\n",
      "Number of rows after extracting valid has_nfc: 5999\n",
      "\n",
      "Number of rows before extracting valid memory_internal: 5999\n",
      "Number of rows after extracting valid ['memory_rom_gb', 'memory_ram_gb']: 3211\n",
      "\n",
      "Number of rows before extracting valid network_technology: 3211\n",
      "Number of rows after extracting valid network_technology: 3024\n",
      "\n",
      "Number of rows before extracting valid battery: 3024\n",
      "Number of rows after extracting valid battery: 2983\n",
      "\n",
      "Number of rows before extracting valid battery_charging: 2983\n",
      "Number of rows after extracting valid has_wireless_charging: 2983\n",
      "\n",
      "Number of rows before extracting valid body: 2983\n",
      "Number of rows after extracting valid is_waterproof: 2983\n",
      "\n",
      "Number of rows before extracting valid main_camera_cols: 2983\n",
      "Number of rows after extracting valid ['main_camera_resolution', 'num_main_camera']: 2970\n",
      "\n",
      "Number of rows before extracting valid selfie_camera_cols: 2970\n",
      "Number of rows after extracting valid ['selfie_camera_resolution', 'num_selfie_camera']: 2647\n",
      "\n"
     ]
    }
   ],
   "source": [
    "df = dh.read_csv(low_memory=False)\n",
    "df = (\n",
    "    df.pipe(util_preprocess.filter_unwanted_columns)\n",
    "    .pipe(util_preprocess.preprocess_feature, \"misc_price\")\n",
    "    .pipe(util_preprocess.preprocess_feature, \"launch_announced\")\n",
    "    .pipe(util_preprocess.preprocess_feature, \"display_size\")\n",
    "    .pipe(util_preprocess.preprocess_feature, \"display_type\")\n",
    "    .pipe(util_preprocess.preprocess_feature, \"display_resolution\")\n",
    "    .pipe(util_preprocess.preprocess_feature, \"memory_card_slot\")\n",
    "    .pipe(util_preprocess.preprocess_feature, \"sound_loudspeaker\")\n",
    "    .pipe(util_preprocess.preprocess_feature, \"sound_3.5mm_jack\")\n",
    "    .pipe(util_preprocess.preprocess_feature, \"comms_wlan\")\n",
    "    .pipe(util_preprocess.preprocess_feature, \"comms_nfc\")\n",
    "    .pipe(util_preprocess.preprocess_feature, \"memory_internal\")\n",
    "    .pipe(util_preprocess.preprocess_feature, \"network_technology\")\n",
    "    .pipe(util_preprocess.preprocess_feature, \"battery\")\n",
    "    .pipe(util_preprocess.preprocess_feature, \"battery_charging\")\n",
    "    .pipe(util_preprocess.preprocess_feature, \"body\")\n",
    "    .pipe(util_preprocess.preprocess_feature, \"main_camera_cols\")\n",
    "    .pipe(util_preprocess.preprocess_feature, \"selfie_camera_cols\")    \n",
    ")\n"
   ]
  },
  {
   "cell_type": "code",
   "execution_count": 523,
   "metadata": {},
   "outputs": [
    {
     "name": "stdout",
     "output_type": "stream",
     "text": [
      "The dataframe has 2647 rows and 21 columns.\n"
     ]
    }
   ],
   "source": [
    "print(f\"The dataframe has {df.shape[0]} rows and {df.shape[1]} columns.\")"
   ]
  },
  {
   "attachments": {},
   "cell_type": "markdown",
   "metadata": {},
   "source": [
    "Filter conditions for recent mobile phones\n",
    "\n",
    "- launch_announced >= 2014\n",
    "- display_size in (4, 7.5)\n",
    "- display_height and display_width > 512"
   ]
  },
  {
   "cell_type": "code",
   "execution_count": 521,
   "metadata": {},
   "outputs": [
    {
     "name": "stderr",
     "output_type": "stream",
     "text": [
      "Removing unwanted rows and duplicates...\n",
      "Shape before removing unwanted rows and duplicates: (2647, 21)\n",
      "Shape after removing unwanted rows and duplicates: (1973, 21)\n",
      "\n"
     ]
    }
   ],
   "source": [
    "filter_condition = {\n",
    "    \"launch_announced\": lambda x: x >= 2014,\n",
    "    \"display_size\": lambda x: x >= 4,\n",
    "    \"display_size\": lambda x: x <= 7.5,\n",
    "    \"display_height\": lambda x: x >= 512,\n",
    "    \"display_width\": lambda x: x >= 512,\n",
    "}\n",
    "df = util_preprocess.filter_unwanted_rows(df, filter_condition)"
   ]
  },
  {
   "cell_type": "code",
   "execution_count": 532,
   "metadata": {},
   "outputs": [],
   "source": [
    "out_path = os.path.join(\"data\", \"processed\", ds_conf[\"name\"])\n",
    "df.to_csv(out_path, index=False)"
   ]
  }
 ],
 "metadata": {
  "kernelspec": {
   "display_name": "master-aiii",
   "language": "python",
   "name": "python3"
  },
  "language_info": {
   "codemirror_mode": {
    "name": "ipython",
    "version": 3
   },
   "file_extension": ".py",
   "mimetype": "text/x-python",
   "name": "python",
   "nbconvert_exporter": "python",
   "pygments_lexer": "ipython3",
   "version": "3.9.16"
  },
  "orig_nbformat": 4
 },
 "nbformat": 4,
 "nbformat_minor": 2
}
