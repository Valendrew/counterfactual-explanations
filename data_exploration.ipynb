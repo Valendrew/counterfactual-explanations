{
  "nbformat": 4,
  "nbformat_minor": 0,
  "metadata": {
    "colab": {
      "provenance": [],
      "collapsed_sections": [
        "ZjAmPTP1Mg6E"
      ]
    },
    "kernelspec": {
      "name": "python3",
      "display_name": "Python 3"
    },
    "language_info": {
      "name": "python"
    }
  },
  "cells": [
    {
      "cell_type": "markdown",
      "source": [
        "# Counterfactual explanation for Mobile Price Classification dataset"
      ],
      "metadata": {
        "id": "Qwnv3DBTCZZP"
      }
    },
    {
      "cell_type": "markdown",
      "source": [
        "TODO: explain the task and something about counterfactual explanation."
      ],
      "metadata": {
        "id": "QCZ7d6sUMQtu"
      }
    },
    {
      "cell_type": "markdown",
      "source": [
        "## Installation and import of the needed libraries"
      ],
      "metadata": {
        "id": "ZjAmPTP1Mg6E"
      }
    },
    {
      "cell_type": "markdown",
      "source": [
        "First of all we clone the Github repository in order to have all the needed files to perform our analysis."
      ],
      "metadata": {
        "id": "PlR3PcJbC84d"
      }
    },
    {
      "cell_type": "code",
      "source": [
        "!mkdir my_repo\n",
        "!git clone https://github.com/Valendrew/counterfactual-explanations.git my_repo"
      ],
      "metadata": {
        "id": "bXnBmuobMi-Q",
        "colab": {
          "base_uri": "https://localhost:8080/"
        },
        "outputId": "d2914a5d-7121-47db-d7cf-7306e454b4a9"
      },
      "execution_count": 1,
      "outputs": [
        {
          "output_type": "stream",
          "name": "stdout",
          "text": [
            "Cloning into 'my_repo'...\n",
            "remote: Enumerating objects: 30, done.\u001b[K\n",
            "remote: Counting objects: 100% (30/30), done.\u001b[K\n",
            "remote: Compressing objects: 100% (21/21), done.\u001b[K\n",
            "remote: Total 30 (delta 10), reused 27 (delta 7), pack-reused 0\u001b[K\n",
            "Unpacking objects: 100% (30/30), 6.23 KiB | 910.00 KiB/s, done.\n"
          ]
        }
      ]
    },
    {
      "cell_type": "markdown",
      "source": [
        "- OMLT, version 1.1\n",
        "- ONNX, version 1.12.0. A newer version is available (1.13.1) but it gives conflict error with TensorFlow. If the latter isn't needed, then the installed version can be upgraded."
      ],
      "metadata": {
        "id": "MU1S27fNI-18"
      }
    },
    {
      "cell_type": "markdown",
      "source": [
        "Then we can install all the libraries from the ```requirements.txt``` file."
      ],
      "metadata": {
        "id": "1qX0z2GkD4Id"
      }
    },
    {
      "cell_type": "code",
      "source": [
        "!pip install -r my_repo/requirements.txt -q"
      ],
      "metadata": {
        "id": "XkH6qUHTMAIH",
        "colab": {
          "base_uri": "https://localhost:8080/"
        },
        "outputId": "9405defc-8a67-4038-d7c3-11c75e7a4a06"
      },
      "execution_count": 2,
      "outputs": [
        {
          "output_type": "stream",
          "name": "stdout",
          "text": [
            "\u001b[2K     \u001b[90m━━━━━━━━━━━━━━━━━━━━━━━━━━━━━━━━━━━━━━━━\u001b[0m \u001b[32m13.1/13.1 MB\u001b[0m \u001b[31m76.3 MB/s\u001b[0m eta \u001b[36m0:00:00\u001b[0m\n",
            "\u001b[2K     \u001b[90m━━━━━━━━━━━━━━━━━━━━━━━━━━━━━━━━━━━━━━━━\u001b[0m \u001b[32m11.0/11.0 MB\u001b[0m \u001b[31m87.1 MB/s\u001b[0m eta \u001b[36m0:00:00\u001b[0m\n",
            "\u001b[2K     \u001b[90m━━━━━━━━━━━━━━━━━━━━━━━━━━━━━━━━━━━━━━━━\u001b[0m \u001b[32m49.6/49.6 KB\u001b[0m \u001b[31m5.1 MB/s\u001b[0m eta \u001b[36m0:00:00\u001b[0m\n",
            "\u001b[?25h"
          ]
        }
      ]
    },
    {
      "cell_type": "code",
      "source": [
        "# python modules\n",
        "import configparser\n",
        "import math\n",
        "\n",
        "# 3rd party modules\n",
        "import gdown\n",
        "import numpy as np\n",
        "import pandas as pd\n",
        "import seaborn as sns\n",
        "import matplotlib.pyplot as plt\n",
        "\n",
        "# user modules\n",
        "from my_repo.utils import util_data, util_plot, util_network"
      ],
      "metadata": {
        "id": "QZR9pR0LSjbE"
      },
      "execution_count": 6,
      "outputs": []
    },
    {
      "cell_type": "markdown",
      "source": [
        "In order to manage the randomness we wrote the following cell to make the experiments reproducible, check the following [link](https://scikit-learn.org/stable/common_pitfalls.html#controlling-randomness)."
      ],
      "metadata": {
        "id": "zmh5RLDwSRwx"
      }
    },
    {
      "cell_type": "code",
      "source": [
        "def set_default_randomness(seed: int):\n",
        "    rng = np.random.RandomState(seed)\n",
        "    return rng\n",
        "\n",
        "SEED = 42\n",
        "rng = set_default_randomness(SEED)"
      ],
      "metadata": {
        "id": "5I7sSu9aSY3D"
      },
      "execution_count": 4,
      "outputs": []
    },
    {
      "cell_type": "markdown",
      "source": [
        "Moreover we import the configuration file to have all the parameters along the notebook."
      ],
      "metadata": {
        "id": "CcWgPz39UFd_"
      }
    },
    {
      "cell_type": "code",
      "source": [
        "config = configparser.ConfigParser()\n",
        "config.read(\"my_repo/config.ini\")"
      ],
      "metadata": {
        "colab": {
          "base_uri": "https://localhost:8080/"
        },
        "id": "P0trduHkUG3S",
        "outputId": "fd2fb96c-6e0a-4432-b7c2-4041a460b8ff"
      },
      "execution_count": 5,
      "outputs": [
        {
          "output_type": "execute_result",
          "data": {
            "text/plain": [
              "['my_repo/config.ini']"
            ]
          },
          "metadata": {},
          "execution_count": 5
        }
      ]
    },
    {
      "cell_type": "markdown",
      "source": [
        "## Dataset exploration"
      ],
      "metadata": {
        "id": "tETAOV0DJV6d"
      }
    },
    {
      "cell_type": "markdown",
      "source": [
        "For the project we use the following dataset from Kaggle: [dataset](https://www.kaggle.com/datasets/iabhishekofficial/mobile-price-classification).\n",
        "\n",
        "It gives information about different characteristics of the smartphones (e.g. RAM, cores, ...) and the target variable is the price range of the device."
      ],
      "metadata": {
        "id": "8maFKN9eLOTG"
      }
    },
    {
      "cell_type": "code",
      "source": [
        "ds_conf = config[\"DATASET\"]\n",
        "# Download the training and test datasets\n",
        "util_data.download_helper(ds_conf[\"url_train\"], ds_conf[\"name_train\"], quiet=False)\n",
        "util_data.download_helper(ds_conf[\"url_test\"], ds_conf[\"name_test\"], quiet=False)"
      ],
      "metadata": {
        "id": "-8tIL4WpMteF"
      },
      "execution_count": null,
      "outputs": []
    },
    {
      "cell_type": "markdown",
      "source": [
        "After that we downloaded the two datasets we can load them as a dataframe to leverage Pandas built-in functions."
      ],
      "metadata": {
        "id": "xKKZwh_EONMM"
      }
    },
    {
      "cell_type": "code",
      "source": [
        "df_train = util_data.read_csv(ds_conf[\"name_train\"])\n",
        "df_train = util_data.read_csv(ds_conf[\"name_test\"])"
      ],
      "metadata": {
        "id": "9RjANCWpOq90"
      },
      "execution_count": null,
      "outputs": []
    }
  ]
}