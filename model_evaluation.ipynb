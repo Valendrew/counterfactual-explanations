{
 "cells": [
  {
   "cell_type": "code",
   "execution_count": 1,
   "metadata": {},
   "outputs": [],
   "source": [
    "%load_ext autoreload\n",
    "%autoreload 2"
   ]
  },
  {
   "attachments": {},
   "cell_type": "markdown",
   "metadata": {},
   "source": [
    "# Counterfactual explanations for the GSMarena dataset"
   ]
  },
  {
   "attachments": {},
   "cell_type": "markdown",
   "metadata": {},
   "source": [
    "### Installations\n",
    "\n",
    "Run the following cells to download the repository and install the required packages.\n",
    "\n",
    "This is needed only on Google Colab, if you are running this notebook locally, you can skip this step."
   ]
  },
  {
   "cell_type": "code",
   "execution_count": 2,
   "metadata": {},
   "outputs": [
    {
     "name": "stdout",
     "output_type": "stream",
     "text": [
      "Currently not running in a Colab environment\n"
     ]
    }
   ],
   "source": [
    "COLAB_ENV = \"google.colab\" in str(get_ipython()) if hasattr(__builtins__, \"__IPYTHON__\") else False\n",
    "print(f\"Currently {'not ' if not COLAB_ENV else ''}running in a Colab environment\")"
   ]
  },
  {
   "cell_type": "code",
   "execution_count": 3,
   "metadata": {},
   "outputs": [],
   "source": [
    "if COLAB_ENV:\n",
    "    !mkdir my_repo\n",
    "    !git clone https://github.com/Valendrew/counterfactual-explanations.git my_repo\n",
    "    %cd my_repo\n",
    "    !pip install -r requirements.txt -q"
   ]
  },
  {
   "attachments": {},
   "cell_type": "markdown",
   "metadata": {},
   "source": [
    "### Import of the libraries"
   ]
  },
  {
   "cell_type": "code",
   "execution_count": 4,
   "metadata": {},
   "outputs": [],
   "source": [
    "import numpy as np\n",
    "import pandas as pd"
   ]
  },
  {
   "cell_type": "code",
   "execution_count": 5,
   "metadata": {},
   "outputs": [],
   "source": [
    "def set_default_randomness(seed: int):\n",
    "    rng = np.random.RandomState(seed)\n",
    "    return rng\n",
    "\n",
    "\n",
    "SEED = 42\n",
    "rng = set_default_randomness(SEED)"
   ]
  },
  {
   "attachments": {},
   "cell_type": "markdown",
   "metadata": {},
   "source": [
    "## Evaluation on multi-class classification"
   ]
  },
  {
   "cell_type": "code",
   "execution_count": 17,
   "metadata": {},
   "outputs": [],
   "source": [
    "def change_dataframe(df, label: int):\n",
    "    df = df.copy()\n",
    "    df = df.T\n",
    "    df.insert(0, \"misc_price\", label)\n",
    "    return df"
   ]
  },
  {
   "cell_type": "code",
   "execution_count": 39,
   "metadata": {},
   "outputs": [
    {
     "name": "stdout",
     "output_type": "stream",
     "text": [
      "CF label: 1\n",
      "File name: low_to_medium\n",
      "CF label: 0\n",
      "File name: medium_to_low\n",
      "CF label: 2\n",
      "File name: medium_to_high\n",
      "CF label: 1\n",
      "File name: high_to_medium\n"
     ]
    }
   ],
   "source": [
    "concat_df = pd.DataFrame()\n",
    "for cf_label, file_name in zip([1, 0, 2, 1], [\"low_to_medium\", \"medium_to_low\", \"medium_to_high\", \"high_to_medium\"]):\n",
    "    print(f\"CF label: {cf_label}\")\n",
    "    print(f\"File name: {file_name}\")\n",
    "    df = pd.read_csv(f\"data/counterfactual/{file_name}.old.csv\", index_col=0)\n",
    "    df = change_dataframe(df, cf_label)\n",
    "\n",
    "    concat_df = pd.concat([concat_df, df], axis=0)\n",
    "\n",
    "# Cast numerical features to float\n",
    "cat_features = [\"display_resolution\", \"network_technology\"]\n",
    "num_features = concat_df.columns.drop(cat_features)\n",
    "concat_df[num_features] = concat_df[num_features].astype(float)\n",
    "\n",
    "# Round discrete features to integers\n",
    "round_columns = num_features.drop([\"misc_price\", \"misc_price_min\", \"misc_price_max\", \"display_size\", \"battery\"])\n",
    "concat_df[round_columns] = concat_df[round_columns].round(0).astype(int)\n",
    "\n",
    "# Round continuous features to 2 decimals\n",
    "round_columns = [\"display_size\", \"battery\"]\n",
    "concat_df[round_columns] = concat_df[round_columns].round(2)\n",
    "\n",
    "# Save to csv\n",
    "concat_df.to_csv(\"data/counterfactual/multiclass-two-objs.csv\")"
   ]
  },
  {
   "attachments": {},
   "cell_type": "markdown",
   "metadata": {},
   "source": [
    "## Evaluation on binary-class classification"
   ]
  }
 ],
 "metadata": {
  "kernelspec": {
   "display_name": "master-aiii",
   "language": "python",
   "name": "python3"
  },
  "language_info": {
   "codemirror_mode": {
    "name": "ipython",
    "version": 3
   },
   "file_extension": ".py",
   "mimetype": "text/x-python",
   "name": "python",
   "nbconvert_exporter": "python",
   "pygments_lexer": "ipython3",
   "version": "3.9.16"
  },
  "orig_nbformat": 4
 },
 "nbformat": 4,
 "nbformat_minor": 2
}
